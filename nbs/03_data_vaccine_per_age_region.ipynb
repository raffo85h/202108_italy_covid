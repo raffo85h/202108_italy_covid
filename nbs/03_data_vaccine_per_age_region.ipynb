{
 "cells": [
  {
   "cell_type": "code",
   "execution_count": 1,
   "metadata": {
    "scrolled": true
   },
   "outputs": [
    {
     "data": {
      "text/html": [
       "<style>.container { width:100% !important; }</style>"
      ],
      "text/plain": [
       "<IPython.core.display.HTML object>"
      ]
     },
     "metadata": {},
     "output_type": "display_data"
    }
   ],
   "source": [
    "from IPython.core.display import display, HTML\n",
    "display(HTML(\"<style>.container { width:100% !important; }</style>\"))"
   ]
  },
  {
   "cell_type": "code",
   "execution_count": 2,
   "metadata": {},
   "outputs": [],
   "source": [
    "import os\n",
    "import json\n",
    "import numpy as np\n",
    "import pandas as pd\n",
    "from scipy.constants import golden\n",
    "from datetime import datetime\n",
    "import matplotlib.pyplot as plt\n",
    "from matplotlib.ticker import FuncFormatter\n",
    "import seaborn as sns\n",
    "%matplotlib inline"
   ]
  },
  {
   "cell_type": "code",
   "execution_count": 3,
   "metadata": {},
   "outputs": [],
   "source": [
    "import altair as alt\n",
    "from vega_datasets import data\n",
    "import json\n",
    "\n",
    "import locale\n",
    "locale.setlocale(locale.LC_TIME, \"it_IT\")\n",
    "\n",
    "from pandas.plotting import register_matplotlib_converters\n",
    "register_matplotlib_converters()\n",
    "\n",
    "%config Completer. use_jedi = False"
   ]
  },
  {
   "cell_type": "code",
   "execution_count": 4,
   "metadata": {},
   "outputs": [],
   "source": [
    "BASE_PATH = '../../covid19-opendata-vaccini/dati'\n",
    "\n",
    "START_DATE = '2021-01-01'\n",
    "END_DATE = datetime.today().strftime('%Y-%m-%d')\n",
    "\n",
    "AGE_ORDER = ['12-19', '20-29', '30-39', '40-49', '50-59', '60-69', '70-79', '80-89', '90+']\n",
    "AGE_ORDER = ['12-19', '20-29', '30-39', '40-49', '50-59', '60-69', '70-79', '80+']\n",
    "\n",
    "FOOTNOTE = 'Grafico @RaffoRaffo85 | Dati aggiornati {}'.format(END_DATE)"
   ]
  },
  {
   "cell_type": "code",
   "execution_count": 5,
   "metadata": {},
   "outputs": [],
   "source": [
    "def get_dt_given_delta(dt, delta):\n",
    "    return (\n",
    "        pd.to_datetime(dt) - pd.Timedelta(days=delta)\n",
    "    ).strftime('%Y-%m-%d')\n",
    "def get_week_range(w):\n",
    "    return ' - '.join(pd.to_datetime(w).strftime('%b-%d'))\n",
    "\n",
    "LAST_1W = get_dt_given_delta(END_DATE, 7), get_dt_given_delta(END_DATE, 1)\n",
    "LAST_2W = get_dt_given_delta(END_DATE, 14), get_dt_given_delta(END_DATE, 8)\n",
    "\n",
    "LAST_1W_STR = get_week_range(LAST_1W)\n",
    "LAST_2W_STR = get_week_range(LAST_2W)"
   ]
  },
  {
   "cell_type": "code",
   "execution_count": 6,
   "metadata": {},
   "outputs": [],
   "source": [
    "def get_week_cohort(dt):\n",
    "    if LAST_1W[0] <= dt <= LAST_1W[1]:\n",
    "        return LAST_1W_STR\n",
    "    if LAST_2W[0] <= dt <= LAST_2W[1]:\n",
    "        return LAST_2W_STR\n",
    "    return 'rm'"
   ]
  },
  {
   "cell_type": "code",
   "execution_count": 7,
   "metadata": {},
   "outputs": [],
   "source": [
    "regions = alt.topo_feature(\n",
    "    'https://raw.githubusercontent.com/openpolis/geojson-italy/master/topojson/limits_IT_regions.topo.json',\n",
    "    'regions'\n",
    ")"
   ]
  },
  {
   "cell_type": "markdown",
   "metadata": {},
   "source": [
    "# Utils"
   ]
  },
  {
   "cell_type": "code",
   "execution_count": 8,
   "metadata": {},
   "outputs": [],
   "source": [
    "def extend_class(cls):\n",
    "    \"\"\"Source: https://gist.github.com/victorlei/5968685\"\"\"\n",
    "    return lambda f: (setattr(cls,f.__name__,f) or f)\n",
    "\n",
    "@extend_class(sns.FacetGrid)\n",
    "def set_xdates(self, start, end, fmt='%B-%Y', freq='MS'):\n",
    "    dt = pd.date_range(start, end, freq=freq)\n",
    "    self.set(xticks=dt, xticklabels=dt.map(lambda x: x.strftime(fmt)))\n",
    "    return self\n",
    "\n",
    "@extend_class(sns.FacetGrid)\n",
    "def set_suptitle(self, s, x=0, y=1.1, fontsize=18, ha='left'):\n",
    "    self.fig.suptitle(s, x=x, y=y, ha=ha, fontweight='bold', fontsize=fontsize)\n",
    "    return self\n",
    "\n",
    "@extend_class(sns.FacetGrid)\n",
    "def set_subtitle(self, s, x=0, y=1, c='darkgrey', fs=18, fw='bold', ha='left'):\n",
    "    if isinstance(c, int):\n",
    "        c = sns.color_palette('colorblind')[c]\n",
    "    g.fig.text(x, y, s, color=c, fontsize=fs, fontweight=fw, ha=ha)\n",
    "\n",
    "@extend_class(sns.FacetGrid)\n",
    "def set_formatter(self, axis='xaxis', denom=1e6, fmt='{}'):\n",
    "    if denom > 1:\n",
    "        f = lambda x, pos: fmt.format(int(x/denom))\n",
    "    else:\n",
    "        f = lambda x, pos: fmt.format(x)\n",
    "    for ax in self.axes.flat:\n",
    "        getattr(ax, axis).set_major_formatter(FuncFormatter(f))\n",
    "    return self\n",
    "\n",
    "@extend_class(sns.FacetGrid)\n",
    "def rm_y_axis(self):\n",
    "    [ax.tick_params(axis='y', which=u'both',length=0) for ax in self.axes.flat]\n",
    "    self.despine(left=True)\n",
    "    return self"
   ]
  },
  {
   "cell_type": "code",
   "execution_count": 9,
   "metadata": {},
   "outputs": [],
   "source": [
    "def collapse_to_80_plus(x):\n",
    "    if x == '90+':\n",
    "        return '80+'\n",
    "    if x == '80-89':\n",
    "        return '80+'\n",
    "    return x\n",
    "\n",
    "def get_complete_vacc(r):\n",
    "    if r.fornitore == 'Janssen':\n",
    "        return r.prima_dose\n",
    "    return r.seconda_dose\n",
    "\n",
    "def get_got_first_no_jansen(r):\n",
    "    if r.fornitore == 'Janssen':\n",
    "        return 0\n",
    "    return r.prima_dose\n",
    "\n",
    "def get_in_attesa_seconda(r):\n",
    "    if r.fornitore == 'Janssen':\n",
    "        return 0\n",
    "    return r.prima_dose - r.seconda_dose"
   ]
  },
  {
   "cell_type": "markdown",
   "metadata": {},
   "source": [
    "# Load data"
   ]
  },
  {
   "cell_type": "code",
   "execution_count": 10,
   "metadata": {},
   "outputs": [],
   "source": [
    "def get_trentino_region_nome_area(nome_area):\n",
    "    if 'bolzano' in nome_area.lower() or 'trento' in nome_area.lower():\n",
    "        return 'Trentino-Alto Adige/Südtirol'\n",
    "    if 'valle' in nome_area.lower():\n",
    "        return \"Valle d'Aosta\"\n",
    "    return nome_area\n",
    "def get_trentino_region_area(area):\n",
    "    if area in ['PAB', 'PAT']:\n",
    "        return 'TAA'\n",
    "    return area"
   ]
  },
  {
   "cell_type": "code",
   "execution_count": 11,
   "metadata": {},
   "outputs": [],
   "source": [
    "# Needed to get Lat/Long to try annotate text\n",
    "# def clean_friuli(x):\n",
    "#     if 'friuli' in x.lower():\n",
    "#         return 'Friuli-Venezia Giulia'\n",
    "#     return x\n",
    "# lat_long_df = (\n",
    "#     pd.read_csv('../../COVID-19/dati-regioni/dpc-covid19-ita-regioni.csv')\n",
    "#     [['denominazione_regione', 'lat', 'long']]\n",
    "#     .drop_duplicates()\n",
    "#     .assign(nome_area=lambda x: x.denominazione_regione.apply(get_trentino_region_nome_area))\n",
    "#     [['nome_area', 'lat', 'long']]\n",
    "#     .assign(nome_area=lambda x: x.nome_area.apply(clean_friuli))\n",
    "# )"
   ]
  },
  {
   "cell_type": "code",
   "execution_count": 12,
   "metadata": {},
   "outputs": [],
   "source": [
    "def clean_friuli(x):\n",
    "    if x.lower().startswith('friuli'):\n",
    "        return 'Friuli-Venezia Giulia'\n",
    "    return x"
   ]
  },
  {
   "cell_type": "code",
   "execution_count": 13,
   "metadata": {},
   "outputs": [
    {
     "data": {
      "text/html": [
       "<div>\n",
       "<style scoped>\n",
       "    .dataframe tbody tr th:only-of-type {\n",
       "        vertical-align: middle;\n",
       "    }\n",
       "\n",
       "    .dataframe tbody tr th {\n",
       "        vertical-align: top;\n",
       "    }\n",
       "\n",
       "    .dataframe thead th {\n",
       "        text-align: right;\n",
       "    }\n",
       "</style>\n",
       "<table border=\"1\" class=\"dataframe\">\n",
       "  <thead>\n",
       "    <tr style=\"text-align: right;\">\n",
       "      <th></th>\n",
       "      <th>nome_area</th>\n",
       "      <th>lat</th>\n",
       "      <th>long</th>\n",
       "    </tr>\n",
       "  </thead>\n",
       "  <tbody>\n",
       "    <tr>\n",
       "      <td>0</td>\n",
       "      <td>Abruzzo</td>\n",
       "      <td>42.351222</td>\n",
       "      <td>13.398438</td>\n",
       "    </tr>\n",
       "  </tbody>\n",
       "</table>\n",
       "</div>"
      ],
      "text/plain": [
       "  nome_area        lat       long\n",
       "0   Abruzzo  42.351222  13.398438"
      ]
     },
     "execution_count": 13,
     "metadata": {},
     "output_type": "execute_result"
    }
   ],
   "source": [
    "lat_long_df = (\n",
    "    pd.read_csv('../../COVID-19/dati-regioni/dpc-covid19-ita-regioni.csv')\n",
    "    [['denominazione_regione', 'lat', 'long']]\n",
    "    .drop_duplicates()\n",
    "    .assign(nome_area=lambda x: x.denominazione_regione.apply(get_trentino_region_nome_area))\n",
    "    [['nome_area', 'lat', 'long']]\n",
    "    .drop_duplicates('nome_area')\n",
    "    .assign(nome_area=lambda x: x.nome_area.apply(clean_friuli))\n",
    ")\n",
    "lat_long_df.head(1)"
   ]
  },
  {
   "cell_type": "code",
   "execution_count": 14,
   "metadata": {},
   "outputs": [],
   "source": [
    "regional_wow_df = (\n",
    "    pd.read_csv(os.path.join(BASE_PATH, 'somministrazioni-vaccini-latest.csv'))\n",
    "    .assign(nome_area=lambda x: x.nome_area.apply(get_trentino_region_nome_area))\n",
    "    .assign(area=lambda x: x.area.apply(get_trentino_region_area))\n",
    "    .assign(w_cohort=lambda x: x.data_somministrazione.apply(get_week_cohort))\n",
    "    .query('w_cohort!=\"rm\"')\n",
    "    .groupby(['codice_regione_ISTAT', 'nome_area', 'area', 'w_cohort'])\n",
    "    [['prima_dose', 'seconda_dose']]\n",
    "    .sum()\n",
    "    .reset_index()\n",
    "    .melt(['codice_regione_ISTAT', 'nome_area', 'area', 'w_cohort'])\n",
    "    .groupby(['codice_regione_ISTAT', 'nome_area', 'area', 'w_cohort'])\n",
    "    .sum().reset_index().rename(columns={'value': 'n_vaccini'})\n",
    "    .merge(\n",
    "        pd.read_csv(os.path.join(BASE_PATH, 'platea.csv'))\n",
    "        .assign(area=lambda x: x.area.apply(get_trentino_region_area))\n",
    "        .groupby('area')\n",
    "        .totale_popolazione.sum().reset_index(),\n",
    "        on=['area'], how='outer'\n",
    "    )\n",
    "    .assign(share_pop_getting_shot=lambda x: x.n_vaccini / x.totale_popolazione)\n",
    "    .rename(columns={'codice_regione_ISTAT': 'reg_istat_code_num'})\n",
    "    .drop(['n_vaccini', 'totale_popolazione'], axis=1)\n",
    "    .merge(lat_long_df, on='nome_area', how='left')\n",
    ")\n",
    "assert regional_wow_df.isnull().sum().sum() == 0"
   ]
  },
  {
   "cell_type": "code",
   "execution_count": 15,
   "metadata": {},
   "outputs": [],
   "source": [
    "regional_age_df = (\n",
    "    pd.read_csv(os.path.join(BASE_PATH, 'somministrazioni-vaccini-latest.csv'))\n",
    "    .assign(nome_area=lambda x: x.nome_area.apply(get_trentino_region_nome_area))\n",
    "    .assign(area=lambda x: x.area.apply(get_trentino_region_area))\n",
    "    .groupby(['fascia_anagrafica', 'codice_regione_ISTAT', 'nome_area', 'area', 'fornitore'])\n",
    "    [['prima_dose', 'seconda_dose']]\n",
    "    .sum()\n",
    "    .reset_index()\n",
    "    .assign(fascia_anagrafica=lambda x: x.fascia_anagrafica.apply(collapse_to_80_plus))\n",
    "    .assign(ciclo_completo=lambda x: x.apply(get_complete_vacc, axis=1))\n",
    "    .assign(solo_prima=lambda x: x.apply(get_got_first_no_jansen, axis=1))\n",
    "    .assign(in_attesa_seconda=lambda x: x.apply(get_in_attesa_seconda, axis=1))\n",
    "    .groupby(['fascia_anagrafica', 'area', 'codice_regione_ISTAT', 'nome_area'])\n",
    "    [['ciclo_completo', 'solo_prima', 'in_attesa_seconda']]\n",
    "    .sum().reset_index()\n",
    "    .merge(\n",
    "        pd.read_csv(os.path.join(BASE_PATH, 'platea.csv'))\n",
    "        .assign(area=lambda x: x.area.apply(get_trentino_region_area))\n",
    "        .groupby(['area', 'fascia_anagrafica'])\n",
    "        .totale_popolazione.sum().reset_index(),\n",
    "        on=['area', 'fascia_anagrafica'], how='outer'\n",
    "    )\n",
    "    .assign(share_ciclo_completo=lambda x: x.ciclo_completo / x.totale_popolazione)\n",
    "    .assign(share_solo_prima=lambda x: x.solo_prima / x.totale_popolazione)\n",
    "    .assign(share_solo_prima=lambda x: x.in_attesa_seconda / x.totale_popolazione)\n",
    "    .assign(share_missing=lambda x: 1 - x.share_ciclo_completo - x.share_solo_prima)\n",
    "    .rename(columns={'codice_regione_ISTAT': 'reg_istat_code_num'})\n",
    "    .merge(lat_long_df, on='nome_area', how='left')\n",
    ")\n",
    "assert regional_age_df.isnull().sum().sum() == 0"
   ]
  },
  {
   "cell_type": "code",
   "execution_count": 16,
   "metadata": {},
   "outputs": [],
   "source": [
    "REGIONS_SORTED = (\n",
    "    pd.read_csv(os.path.join(BASE_PATH, 'platea.csv'))\n",
    "    .assign(nome_area=lambda x: x.nome_area.apply(get_trentino_region_nome_area))\n",
    "    .assign(area=lambda x: x.area.apply(get_trentino_region_area))\n",
    "    .groupby(['area', 'nome_area'])\n",
    "    .totale_popolazione\n",
    "    .sum()\n",
    "    .sort_values(ascending=False)\n",
    "    .reset_index()\n",
    "    [['area', 'nome_area']]\n",
    "    .values\n",
    ")\n",
    "AREA_SORTED = [x[0] for x in REGIONS_SORTED]\n",
    "REGIONS_SORTED = [x[1] for x in REGIONS_SORTED]"
   ]
  },
  {
   "cell_type": "code",
   "execution_count": 17,
   "metadata": {},
   "outputs": [
    {
     "data": {
      "text/plain": [
       "0.761240054855868"
      ]
     },
     "execution_count": 17,
     "metadata": {},
     "output_type": "execute_result"
    }
   ],
   "source": [
    "share_vax_italy = (\n",
    "    regional_age_df[['ciclo_completo', 'totale_popolazione']]\n",
    "    .sum()\n",
    "    .to_frame()\n",
    "    .T\n",
    "    .assign(share_italy=lambda x: x.ciclo_completo / x.totale_popolazione)\n",
    "    .share_italy.values[0]\n",
    ")\n",
    "share_vax_italy"
   ]
  },
  {
   "cell_type": "code",
   "execution_count": 18,
   "metadata": {},
   "outputs": [],
   "source": [
    "def concat_age_share(r):\n",
    "    return r.fascia_anagrafica + ' | Media Italia: {:.0%}'.format(r.share_italy)\n",
    "\n",
    "italy_avg_per_age_df = (\n",
    "    regional_age_df\n",
    "    .groupby('fascia_anagrafica', as_index=False)\n",
    "    [['ciclo_completo', 'totale_popolazione']]\n",
    "    .sum()\n",
    "    .assign(share_italy=lambda x: x.ciclo_completo / x.totale_popolazione)\n",
    "    [['fascia_anagrafica', 'share_italy']]\n",
    "    .assign(cohort=lambda x: x.apply(concat_age_share, axis=1))\n",
    "    [['fascia_anagrafica', 'cohort']]\n",
    ")"
   ]
  },
  {
   "cell_type": "markdown",
   "metadata": {},
   "source": [
    "# Share vaccinated by age overall"
   ]
  },
  {
   "cell_type": "code",
   "execution_count": 19,
   "metadata": {},
   "outputs": [
    {
     "data": {
      "text/html": [
       "\n",
       "<div id=\"altair-viz-5e152091b12247488d546103fbd9042e\"></div>\n",
       "<script type=\"text/javascript\">\n",
       "  (function(spec, embedOpt){\n",
       "    let outputDiv = document.currentScript.previousElementSibling;\n",
       "    if (outputDiv.id !== \"altair-viz-5e152091b12247488d546103fbd9042e\") {\n",
       "      outputDiv = document.getElementById(\"altair-viz-5e152091b12247488d546103fbd9042e\");\n",
       "    }\n",
       "    const paths = {\n",
       "      \"vega\": \"https://cdn.jsdelivr.net/npm//vega@5?noext\",\n",
       "      \"vega-lib\": \"https://cdn.jsdelivr.net/npm//vega-lib?noext\",\n",
       "      \"vega-lite\": \"https://cdn.jsdelivr.net/npm//vega-lite@4.8.1?noext\",\n",
       "      \"vega-embed\": \"https://cdn.jsdelivr.net/npm//vega-embed@6?noext\",\n",
       "    };\n",
       "\n",
       "    function loadScript(lib) {\n",
       "      return new Promise(function(resolve, reject) {\n",
       "        var s = document.createElement('script');\n",
       "        s.src = paths[lib];\n",
       "        s.async = true;\n",
       "        s.onload = () => resolve(paths[lib]);\n",
       "        s.onerror = () => reject(`Error loading script: ${paths[lib]}`);\n",
       "        document.getElementsByTagName(\"head\")[0].appendChild(s);\n",
       "      });\n",
       "    }\n",
       "\n",
       "    function showError(err) {\n",
       "      outputDiv.innerHTML = `<div class=\"error\" style=\"color:red;\">${err}</div>`;\n",
       "      throw err;\n",
       "    }\n",
       "\n",
       "    function displayChart(vegaEmbed) {\n",
       "      vegaEmbed(outputDiv, spec, embedOpt)\n",
       "        .catch(err => showError(`Javascript Error: ${err.message}<br>This usually means there's a typo in your chart specification. See the javascript console for the full traceback.`));\n",
       "    }\n",
       "\n",
       "    if(typeof define === \"function\" && define.amd) {\n",
       "      requirejs.config({paths});\n",
       "      require([\"vega-embed\"], displayChart, err => showError(`Error loading script: ${err.message}`));\n",
       "    } else if (typeof vegaEmbed === \"function\") {\n",
       "      displayChart(vegaEmbed);\n",
       "    } else {\n",
       "      loadScript(\"vega\")\n",
       "        .then(() => loadScript(\"vega-lite\"))\n",
       "        .then(() => loadScript(\"vega-embed\"))\n",
       "        .catch(showError)\n",
       "        .then(() => displayChart(vegaEmbed));\n",
       "    }\n",
       "  })({\"config\": {\"view\": {\"continuousWidth\": 400, \"continuousHeight\": 300, \"strokeOpacity\": 0}}, \"data\": {\"name\": \"data-f6d700ec8d9d9af89d5ff5886098b858\"}, \"mark\": \"bar\", \"encoding\": {\"color\": {\"type\": \"nominal\", \"field\": \"Vaccino\", \"sort\": {\"field\": \"order\", \"order\": \"ascending\"}}, \"order\": {\"type\": \"quantitative\", \"field\": \"order\"}, \"tooltip\": [{\"type\": \"nominal\", \"field\": \"fascia_anagrafica\", \"title\": \"Fascia anagrafica\"}, {\"type\": \"nominal\", \"field\": \"Vaccino\", \"title\": \"Vaccino\"}, {\"type\": \"quantitative\", \"field\": \"value\", \"format\": \".1%\", \"title\": \"Popolazione vaccinata\"}], \"x\": {\"type\": \"quantitative\", \"axis\": {\"format\": \".0%\"}, \"field\": \"value\", \"stack\": \"zero\", \"title\": \"\"}, \"y\": {\"type\": \"nominal\", \"field\": \"fascia_anagrafica\", \"title\": \"\"}}, \"height\": 200, \"title\": {\"text\": \"Percentuale di popolazione per ciclo vaccinale per fascia anagrafica\", \"align\": \"left\", \"anchor\": \"start\", \"fontSize\": 18, \"subtitle\": [\"Grafico @RaffoRaffo85 | Dati aggiornati 2021-10-02\"], \"subtitleColor\": \"grey\", \"subtitleFontSize\": 16}, \"width\": 323.60679774997897, \"$schema\": \"https://vega.github.io/schema/vega-lite/v4.8.1.json\", \"datasets\": {\"data-f6d700ec8d9d9af89d5ff5886098b858\": [{\"fascia_anagrafica\": \"12-19\", \"variable\": \"share_ciclo_completo\", \"value\": 0.5800693417675236, \"Vaccino\": \"Completo\", \"order\": 1}, {\"fascia_anagrafica\": \"20-29\", \"variable\": \"share_ciclo_completo\", \"value\": 0.7297925456652459, \"Vaccino\": \"Completo\", \"order\": 1}, {\"fascia_anagrafica\": \"30-39\", \"variable\": \"share_ciclo_completo\", \"value\": 0.6848493715055431, \"Vaccino\": \"Completo\", \"order\": 1}, {\"fascia_anagrafica\": \"40-49\", \"variable\": \"share_ciclo_completo\", \"value\": 0.7136711294126538, \"Vaccino\": \"Completo\", \"order\": 1}, {\"fascia_anagrafica\": \"50-59\", \"variable\": \"share_ciclo_completo\", \"value\": 0.7716240339237019, \"Vaccino\": \"Completo\", \"order\": 1}, {\"fascia_anagrafica\": \"60-69\", \"variable\": \"share_ciclo_completo\", \"value\": 0.8308026254367851, \"Vaccino\": \"Completo\", \"order\": 1}, {\"fascia_anagrafica\": \"70-79\", \"variable\": \"share_ciclo_completo\", \"value\": 0.8734047337453086, \"Vaccino\": \"Completo\", \"order\": 1}, {\"fascia_anagrafica\": \"80+\", \"variable\": \"share_ciclo_completo\", \"value\": 0.9066933163266424, \"Vaccino\": \"Completo\", \"order\": 1}, {\"fascia_anagrafica\": \"12-19\", \"variable\": \"share_solo_prima\", \"value\": 0.08860545856803459, \"Vaccino\": \"In attesa seconda\", \"order\": 0}, {\"fascia_anagrafica\": \"20-29\", \"variable\": \"share_solo_prima\", \"value\": 0.0782350792165035, \"Vaccino\": \"In attesa seconda\", \"order\": 0}, {\"fascia_anagrafica\": \"30-39\", \"variable\": \"share_solo_prima\", \"value\": 0.07464648474640333, \"Vaccino\": \"In attesa seconda\", \"order\": 0}, {\"fascia_anagrafica\": \"40-49\", \"variable\": \"share_solo_prima\", \"value\": 0.055473263355121295, \"Vaccino\": \"In attesa seconda\", \"order\": 0}, {\"fascia_anagrafica\": \"50-59\", \"variable\": \"share_solo_prima\", \"value\": 0.04058336383796121, \"Vaccino\": \"In attesa seconda\", \"order\": 0}, {\"fascia_anagrafica\": \"60-69\", \"variable\": \"share_solo_prima\", \"value\": 0.024672714028992706, \"Vaccino\": \"In attesa seconda\", \"order\": 0}, {\"fascia_anagrafica\": \"70-79\", \"variable\": \"share_solo_prima\", \"value\": 0.01782136207690837, \"Vaccino\": \"In attesa seconda\", \"order\": 0}, {\"fascia_anagrafica\": \"80+\", \"variable\": \"share_solo_prima\", \"value\": 0.019527231525495792, \"Vaccino\": \"In attesa seconda\", \"order\": 0}, {\"fascia_anagrafica\": \"12-19\", \"variable\": \"share_missing\", \"value\": 0.33132519966444185, \"Vaccino\": \"Nessun vaccino\", \"order\": 2}, {\"fascia_anagrafica\": \"20-29\", \"variable\": \"share_missing\", \"value\": 0.1919723751182506, \"Vaccino\": \"Nessun vaccino\", \"order\": 2}, {\"fascia_anagrafica\": \"30-39\", \"variable\": \"share_missing\", \"value\": 0.2405041437480535, \"Vaccino\": \"Nessun vaccino\", \"order\": 2}, {\"fascia_anagrafica\": \"40-49\", \"variable\": \"share_missing\", \"value\": 0.23085560723222498, \"Vaccino\": \"Nessun vaccino\", \"order\": 2}, {\"fascia_anagrafica\": \"50-59\", \"variable\": \"share_missing\", \"value\": 0.18779260223833683, \"Vaccino\": \"Nessun vaccino\", \"order\": 2}, {\"fascia_anagrafica\": \"60-69\", \"variable\": \"share_missing\", \"value\": 0.1445246605342222, \"Vaccino\": \"Nessun vaccino\", \"order\": 2}, {\"fascia_anagrafica\": \"70-79\", \"variable\": \"share_missing\", \"value\": 0.1087739041777831, \"Vaccino\": \"Nessun vaccino\", \"order\": 2}, {\"fascia_anagrafica\": \"80+\", \"variable\": \"share_missing\", \"value\": 0.07377945214786186, \"Vaccino\": \"Nessun vaccino\", \"order\": 2}]}}, {\"mode\": \"vega-lite\"});\n",
       "</script>"
      ],
      "text/plain": [
       "alt.Chart(...)"
      ]
     },
     "execution_count": 19,
     "metadata": {},
     "output_type": "execute_result"
    }
   ],
   "source": [
    "# Share vaccinated by age overall\n",
    "str_rename = {'share_ciclo_completo': 'Completo', 'share_solo_prima': 'In attesa seconda', 'share_missing': 'Nessun vaccino'}.get\n",
    "order_rename = {'share_ciclo_completo': 1, 'share_solo_prima': 0, 'share_missing': 2}.get\n",
    "plt_share_vacc_overall_df = (\n",
    "    regional_age_df\n",
    "    .groupby('fascia_anagrafica')\n",
    "    [['ciclo_completo', 'solo_prima', 'in_attesa_seconda', 'totale_popolazione']]\n",
    "    .sum()\n",
    "    .reset_index()\n",
    "    .assign(share_solo_prima=lambda x: x.in_attesa_seconda/x.totale_popolazione)\n",
    "    .assign(share_ciclo_completo=lambda x: x.ciclo_completo/x.totale_popolazione)\n",
    "    .assign(share_missing=lambda x: 1 - x.share_solo_prima - x.share_ciclo_completo)\n",
    "    .melt(\n",
    "        id_vars=['fascia_anagrafica'],\n",
    "        value_vars=['share_ciclo_completo', 'share_solo_prima', 'share_missing']\n",
    "    )\n",
    "    .assign(Vaccino=lambda x: x.variable.apply(str_rename))\n",
    "    .assign(order=lambda x: x.variable.apply(order_rename))\n",
    ")\n",
    "plot_title = alt.TitleParams(\n",
    "    \"Percentuale di popolazione per ciclo vaccinale per fascia anagrafica\",\n",
    "    fontSize=18,\n",
    "    subtitle=[FOOTNOTE],\n",
    "    subtitleColor='grey', subtitleFontSize=16,\n",
    "    align='left', anchor='start'\n",
    ")\n",
    "(\n",
    "    alt.Chart(plt_share_vacc_overall_df, title=plot_title)\n",
    "    .mark_bar()\n",
    "    .encode(\n",
    "        x=alt.X('value:Q', stack='zero', axis=alt.Axis(format='.0%'), title=''),\n",
    "        y=alt.Y('fascia_anagrafica:N', title=''),\n",
    "        color=alt.Color('Vaccino:N', sort=alt.EncodingSortField('order', order='ascending')),\n",
    "        order='order',\n",
    "        tooltip=[\n",
    "            alt.Tooltip('fascia_anagrafica:N', title='Fascia anagrafica'),\n",
    "            alt.Tooltip('Vaccino:N', title='Vaccino'),\n",
    "            alt.Tooltip('value:Q', format='.1%', title='Popolazione vaccinata')\n",
    "        ]\n",
    "    )\n",
    "    .properties(width=200*golden, height=200)\n",
    "    .configure_view(strokeOpacity=0)\n",
    ")"
   ]
  },
  {
   "cell_type": "markdown",
   "metadata": {},
   "source": [
    "# Regional share"
   ]
  },
  {
   "cell_type": "code",
   "execution_count": 20,
   "metadata": {},
   "outputs": [
    {
     "data": {
      "text/html": [
       "\n",
       "<div id=\"altair-viz-30256c2c71354ce29ba51d5d89edf791\"></div>\n",
       "<script type=\"text/javascript\">\n",
       "  (function(spec, embedOpt){\n",
       "    let outputDiv = document.currentScript.previousElementSibling;\n",
       "    if (outputDiv.id !== \"altair-viz-30256c2c71354ce29ba51d5d89edf791\") {\n",
       "      outputDiv = document.getElementById(\"altair-viz-30256c2c71354ce29ba51d5d89edf791\");\n",
       "    }\n",
       "    const paths = {\n",
       "      \"vega\": \"https://cdn.jsdelivr.net/npm//vega@5?noext\",\n",
       "      \"vega-lib\": \"https://cdn.jsdelivr.net/npm//vega-lib?noext\",\n",
       "      \"vega-lite\": \"https://cdn.jsdelivr.net/npm//vega-lite@4.8.1?noext\",\n",
       "      \"vega-embed\": \"https://cdn.jsdelivr.net/npm//vega-embed@6?noext\",\n",
       "    };\n",
       "\n",
       "    function loadScript(lib) {\n",
       "      return new Promise(function(resolve, reject) {\n",
       "        var s = document.createElement('script');\n",
       "        s.src = paths[lib];\n",
       "        s.async = true;\n",
       "        s.onload = () => resolve(paths[lib]);\n",
       "        s.onerror = () => reject(`Error loading script: ${paths[lib]}`);\n",
       "        document.getElementsByTagName(\"head\")[0].appendChild(s);\n",
       "      });\n",
       "    }\n",
       "\n",
       "    function showError(err) {\n",
       "      outputDiv.innerHTML = `<div class=\"error\" style=\"color:red;\">${err}</div>`;\n",
       "      throw err;\n",
       "    }\n",
       "\n",
       "    function displayChart(vegaEmbed) {\n",
       "      vegaEmbed(outputDiv, spec, embedOpt)\n",
       "        .catch(err => showError(`Javascript Error: ${err.message}<br>This usually means there's a typo in your chart specification. See the javascript console for the full traceback.`));\n",
       "    }\n",
       "\n",
       "    if(typeof define === \"function\" && define.amd) {\n",
       "      requirejs.config({paths});\n",
       "      require([\"vega-embed\"], displayChart, err => showError(`Error loading script: ${err.message}`));\n",
       "    } else if (typeof vegaEmbed === \"function\") {\n",
       "      displayChart(vegaEmbed);\n",
       "    } else {\n",
       "      loadScript(\"vega\")\n",
       "        .then(() => loadScript(\"vega-lite\"))\n",
       "        .then(() => loadScript(\"vega-embed\"))\n",
       "        .catch(showError)\n",
       "        .then(() => displayChart(vegaEmbed));\n",
       "    }\n",
       "  })({\"config\": {\"view\": {\"continuousWidth\": 400, \"continuousHeight\": 300, \"strokeOpacity\": 0}}, \"data\": {\"name\": \"data-81791f37e7b2f22d0cc3a763bc1b3826\"}, \"mark\": \"bar\", \"encoding\": {\"color\": {\"type\": \"nominal\", \"field\": \"Vaccino\", \"sort\": {\"field\": \"order\", \"order\": \"ascending\"}}, \"facet\": {\"type\": \"nominal\", \"columns\": 7, \"field\": \"nome_area\", \"title\": \"\"}, \"order\": {\"type\": \"quantitative\", \"field\": \"order\"}, \"tooltip\": [{\"type\": \"nominal\", \"field\": \"fascia_anagrafica\", \"title\": \"Fascia anagrafica\"}, {\"type\": \"nominal\", \"field\": \"Vaccino\", \"title\": \"Vaccino\"}, {\"type\": \"quantitative\", \"field\": \"value\", \"format\": \".1%\", \"title\": \"Popolazione vaccinata\"}], \"x\": {\"type\": \"quantitative\", \"axis\": {\"format\": \".0%\"}, \"field\": \"value\", \"stack\": \"zero\", \"title\": \"\"}, \"y\": {\"type\": \"nominal\", \"field\": \"fascia_anagrafica\", \"title\": \"\"}}, \"height\": 120, \"title\": {\"text\": \"Percentuale di popolazione per ciclo vaccinale per fascia anagrafica\", \"align\": \"left\", \"anchor\": \"start\", \"fontSize\": 18, \"subtitle\": [\"Grafico @RaffoRaffo85 | Dati aggiornati 2021-10-02\"], \"subtitleColor\": \"grey\", \"subtitleFontSize\": 16}, \"width\": 120, \"$schema\": \"https://vega.github.io/schema/vega-lite/v4.8.1.json\", \"datasets\": {\"data-81791f37e7b2f22d0cc3a763bc1b3826\": [{\"fascia_anagrafica\": \"12-19\", \"nome_area\": \"Abruzzo\", \"variable\": \"share_ciclo_completo\", \"value\": 0.6015497165538864, \"Vaccino\": \"Completo\", \"order\": 1}, {\"fascia_anagrafica\": \"12-19\", \"nome_area\": \"Basilicata\", \"variable\": \"share_ciclo_completo\", \"value\": 0.6475199648325884, \"Vaccino\": \"Completo\", \"order\": 1}, {\"fascia_anagrafica\": \"12-19\", \"nome_area\": \"Calabria\", \"variable\": \"share_ciclo_completo\", \"value\": 0.529119660264977, \"Vaccino\": \"Completo\", \"order\": 1}, {\"fascia_anagrafica\": \"12-19\", \"nome_area\": \"Campania\", \"variable\": \"share_ciclo_completo\", \"value\": 0.5668306755982374, \"Vaccino\": \"Completo\", \"order\": 1}, {\"fascia_anagrafica\": \"12-19\", \"nome_area\": \"Emilia-Romagna\", \"variable\": \"share_ciclo_completo\", \"value\": 0.6091658776457652, \"Vaccino\": \"Completo\", \"order\": 1}, {\"fascia_anagrafica\": \"12-19\", \"nome_area\": \"Friuli-Venezia Giulia\", \"variable\": \"share_ciclo_completo\", \"value\": 0.5270028633202828, \"Vaccino\": \"Completo\", \"order\": 1}, {\"fascia_anagrafica\": \"12-19\", \"nome_area\": \"Lazio\", \"variable\": \"share_ciclo_completo\", \"value\": 0.5981063074386451, \"Vaccino\": \"Completo\", \"order\": 1}, {\"fascia_anagrafica\": \"12-19\", \"nome_area\": \"Liguria\", \"variable\": \"share_ciclo_completo\", \"value\": 0.5265357894433393, \"Vaccino\": \"Completo\", \"order\": 1}, {\"fascia_anagrafica\": \"12-19\", \"nome_area\": \"Lombardia\", \"variable\": \"share_ciclo_completo\", \"value\": 0.6520467321010062, \"Vaccino\": \"Completo\", \"order\": 1}, {\"fascia_anagrafica\": \"12-19\", \"nome_area\": \"Marche\", \"variable\": \"share_ciclo_completo\", \"value\": 0.5206131311969856, \"Vaccino\": \"Completo\", \"order\": 1}, {\"fascia_anagrafica\": \"12-19\", \"nome_area\": \"Molise\", \"variable\": \"share_ciclo_completo\", \"value\": 0.6578523686393131, \"Vaccino\": \"Completo\", \"order\": 1}, {\"fascia_anagrafica\": \"12-19\", \"nome_area\": \"Piemonte\", \"variable\": \"share_ciclo_completo\", \"value\": 0.505286957978105, \"Vaccino\": \"Completo\", \"order\": 1}, {\"fascia_anagrafica\": \"12-19\", \"nome_area\": \"Puglia\", \"variable\": \"share_ciclo_completo\", \"value\": 0.645456866383551, \"Vaccino\": \"Completo\", \"order\": 1}, {\"fascia_anagrafica\": \"12-19\", \"nome_area\": \"Sardegna\", \"variable\": \"share_ciclo_completo\", \"value\": 0.6701095948008738, \"Vaccino\": \"Completo\", \"order\": 1}, {\"fascia_anagrafica\": \"12-19\", \"nome_area\": \"Sicilia\", \"variable\": \"share_ciclo_completo\", \"value\": 0.5135454865184594, \"Vaccino\": \"Completo\", \"order\": 1}, {\"fascia_anagrafica\": \"12-19\", \"nome_area\": \"Trentino-Alto Adige/S\\u00fcdtirol\", \"variable\": \"share_ciclo_completo\", \"value\": 0.47943298739477086, \"Vaccino\": \"Completo\", \"order\": 1}, {\"fascia_anagrafica\": \"12-19\", \"nome_area\": \"Toscana\", \"variable\": \"share_ciclo_completo\", \"value\": 0.535473991411229, \"Vaccino\": \"Completo\", \"order\": 1}, {\"fascia_anagrafica\": \"12-19\", \"nome_area\": \"Umbria\", \"variable\": \"share_ciclo_completo\", \"value\": 0.5597075931457318, \"Vaccino\": \"Completo\", \"order\": 1}, {\"fascia_anagrafica\": \"12-19\", \"nome_area\": \"Valle d'Aosta\", \"variable\": \"share_ciclo_completo\", \"value\": 0.5375401069518717, \"Vaccino\": \"Completo\", \"order\": 1}, {\"fascia_anagrafica\": \"12-19\", \"nome_area\": \"Veneto\", \"variable\": \"share_ciclo_completo\", \"value\": 0.5600434333314099, \"Vaccino\": \"Completo\", \"order\": 1}, {\"fascia_anagrafica\": \"20-29\", \"nome_area\": \"Abruzzo\", \"variable\": \"share_ciclo_completo\", \"value\": 0.765319811546754, \"Vaccino\": \"Completo\", \"order\": 1}, {\"fascia_anagrafica\": \"20-29\", \"nome_area\": \"Basilicata\", \"variable\": \"share_ciclo_completo\", \"value\": 0.7269965354890291, \"Vaccino\": \"Completo\", \"order\": 1}, {\"fascia_anagrafica\": \"20-29\", \"nome_area\": \"Calabria\", \"variable\": \"share_ciclo_completo\", \"value\": 0.680449170446467, \"Vaccino\": \"Completo\", \"order\": 1}, {\"fascia_anagrafica\": \"20-29\", \"nome_area\": \"Campania\", \"variable\": \"share_ciclo_completo\", \"value\": 0.6844506084519075, \"Vaccino\": \"Completo\", \"order\": 1}, {\"fascia_anagrafica\": \"20-29\", \"nome_area\": \"Emilia-Romagna\", \"variable\": \"share_ciclo_completo\", \"value\": 0.7611053823566535, \"Vaccino\": \"Completo\", \"order\": 1}, {\"fascia_anagrafica\": \"20-29\", \"nome_area\": \"Friuli-Venezia Giulia\", \"variable\": \"share_ciclo_completo\", \"value\": 0.7436499644009653, \"Vaccino\": \"Completo\", \"order\": 1}, {\"fascia_anagrafica\": \"20-29\", \"nome_area\": \"Lazio\", \"variable\": \"share_ciclo_completo\", \"value\": 0.765672670012794, \"Vaccino\": \"Completo\", \"order\": 1}, {\"fascia_anagrafica\": \"20-29\", \"nome_area\": \"Liguria\", \"variable\": \"share_ciclo_completo\", \"value\": 0.7377183285430025, \"Vaccino\": \"Completo\", \"order\": 1}, {\"fascia_anagrafica\": \"20-29\", \"nome_area\": \"Lombardia\", \"variable\": \"share_ciclo_completo\", \"value\": 0.8094346772964606, \"Vaccino\": \"Completo\", \"order\": 1}, {\"fascia_anagrafica\": \"20-29\", \"nome_area\": \"Marche\", \"variable\": \"share_ciclo_completo\", \"value\": 0.7208333624539602, \"Vaccino\": \"Completo\", \"order\": 1}, {\"fascia_anagrafica\": \"20-29\", \"nome_area\": \"Molise\", \"variable\": \"share_ciclo_completo\", \"value\": 0.6786314675300417, \"Vaccino\": \"Completo\", \"order\": 1}, {\"fascia_anagrafica\": \"20-29\", \"nome_area\": \"Piemonte\", \"variable\": \"share_ciclo_completo\", \"value\": 0.6991030297121408, \"Vaccino\": \"Completo\", \"order\": 1}, {\"fascia_anagrafica\": \"20-29\", \"nome_area\": \"Puglia\", \"variable\": \"share_ciclo_completo\", \"value\": 0.7138274153303497, \"Vaccino\": \"Completo\", \"order\": 1}, {\"fascia_anagrafica\": \"20-29\", \"nome_area\": \"Sardegna\", \"variable\": \"share_ciclo_completo\", \"value\": 0.7440385836116248, \"Vaccino\": \"Completo\", \"order\": 1}, {\"fascia_anagrafica\": \"20-29\", \"nome_area\": \"Sicilia\", \"variable\": \"share_ciclo_completo\", \"value\": 0.6444457515090469, \"Vaccino\": \"Completo\", \"order\": 1}, {\"fascia_anagrafica\": \"20-29\", \"nome_area\": \"Trentino-Alto Adige/S\\u00fcdtirol\", \"variable\": \"share_ciclo_completo\", \"value\": 0.6799294931033303, \"Vaccino\": \"Completo\", \"order\": 1}, {\"fascia_anagrafica\": \"20-29\", \"nome_area\": \"Toscana\", \"variable\": \"share_ciclo_completo\", \"value\": 0.7286789704455722, \"Vaccino\": \"Completo\", \"order\": 1}, {\"fascia_anagrafica\": \"20-29\", \"nome_area\": \"Umbria\", \"variable\": \"share_ciclo_completo\", \"value\": 0.7239279467899044, \"Vaccino\": \"Completo\", \"order\": 1}, {\"fascia_anagrafica\": \"20-29\", \"nome_area\": \"Valle d'Aosta\", \"variable\": \"share_ciclo_completo\", \"value\": 0.6982233060442432, \"Vaccino\": \"Completo\", \"order\": 1}, {\"fascia_anagrafica\": \"20-29\", \"nome_area\": \"Veneto\", \"variable\": \"share_ciclo_completo\", \"value\": 0.7195877794119181, \"Vaccino\": \"Completo\", \"order\": 1}, {\"fascia_anagrafica\": \"30-39\", \"nome_area\": \"Abruzzo\", \"variable\": \"share_ciclo_completo\", \"value\": 0.6889055217228592, \"Vaccino\": \"Completo\", \"order\": 1}, {\"fascia_anagrafica\": \"30-39\", \"nome_area\": \"Basilicata\", \"variable\": \"share_ciclo_completo\", \"value\": 0.6951563216884054, \"Vaccino\": \"Completo\", \"order\": 1}, {\"fascia_anagrafica\": \"30-39\", \"nome_area\": \"Calabria\", \"variable\": \"share_ciclo_completo\", \"value\": 0.6370599914144667, \"Vaccino\": \"Completo\", \"order\": 1}, {\"fascia_anagrafica\": \"30-39\", \"nome_area\": \"Campania\", \"variable\": \"share_ciclo_completo\", \"value\": 0.6535397727352426, \"Vaccino\": \"Completo\", \"order\": 1}, {\"fascia_anagrafica\": \"30-39\", \"nome_area\": \"Emilia-Romagna\", \"variable\": \"share_ciclo_completo\", \"value\": 0.7087827804979813, \"Vaccino\": \"Completo\", \"order\": 1}, {\"fascia_anagrafica\": \"30-39\", \"nome_area\": \"Friuli-Venezia Giulia\", \"variable\": \"share_ciclo_completo\", \"value\": 0.6620438076145718, \"Vaccino\": \"Completo\", \"order\": 1}, {\"fascia_anagrafica\": \"30-39\", \"nome_area\": \"Lazio\", \"variable\": \"share_ciclo_completo\", \"value\": 0.739192748042864, \"Vaccino\": \"Completo\", \"order\": 1}, {\"fascia_anagrafica\": \"30-39\", \"nome_area\": \"Liguria\", \"variable\": \"share_ciclo_completo\", \"value\": 0.6703175974865518, \"Vaccino\": \"Completo\", \"order\": 1}, {\"fascia_anagrafica\": \"30-39\", \"nome_area\": \"Lombardia\", \"variable\": \"share_ciclo_completo\", \"value\": 0.736750753781418, \"Vaccino\": \"Completo\", \"order\": 1}, {\"fascia_anagrafica\": \"30-39\", \"nome_area\": \"Marche\", \"variable\": \"share_ciclo_completo\", \"value\": 0.6570594178968381, \"Vaccino\": \"Completo\", \"order\": 1}, {\"fascia_anagrafica\": \"30-39\", \"nome_area\": \"Molise\", \"variable\": \"share_ciclo_completo\", \"value\": 0.6523758691324544, \"Vaccino\": \"Completo\", \"order\": 1}, {\"fascia_anagrafica\": \"30-39\", \"nome_area\": \"Piemonte\", \"variable\": \"share_ciclo_completo\", \"value\": 0.641120267918705, \"Vaccino\": \"Completo\", \"order\": 1}, {\"fascia_anagrafica\": \"30-39\", \"nome_area\": \"Puglia\", \"variable\": \"share_ciclo_completo\", \"value\": 0.6960638932142943, \"Vaccino\": \"Completo\", \"order\": 1}, {\"fascia_anagrafica\": \"30-39\", \"nome_area\": \"Sardegna\", \"variable\": \"share_ciclo_completo\", \"value\": 0.6915881109452764, \"Vaccino\": \"Completo\", \"order\": 1}, {\"fascia_anagrafica\": \"30-39\", \"nome_area\": \"Sicilia\", \"variable\": \"share_ciclo_completo\", \"value\": 0.6163308931085631, \"Vaccino\": \"Completo\", \"order\": 1}, {\"fascia_anagrafica\": \"30-39\", \"nome_area\": \"Trentino-Alto Adige/S\\u00fcdtirol\", \"variable\": \"share_ciclo_completo\", \"value\": 0.6405543219014722, \"Vaccino\": \"Completo\", \"order\": 1}, {\"fascia_anagrafica\": \"30-39\", \"nome_area\": \"Toscana\", \"variable\": \"share_ciclo_completo\", \"value\": 0.6882905469737203, \"Vaccino\": \"Completo\", \"order\": 1}, {\"fascia_anagrafica\": \"30-39\", \"nome_area\": \"Umbria\", \"variable\": \"share_ciclo_completo\", \"value\": 0.7072114601986, \"Vaccino\": \"Completo\", \"order\": 1}, {\"fascia_anagrafica\": \"30-39\", \"nome_area\": \"Valle d'Aosta\", \"variable\": \"share_ciclo_completo\", \"value\": 0.647892965870854, \"Vaccino\": \"Completo\", \"order\": 1}, {\"fascia_anagrafica\": \"30-39\", \"nome_area\": \"Veneto\", \"variable\": \"share_ciclo_completo\", \"value\": 0.6625915566970856, \"Vaccino\": \"Completo\", \"order\": 1}, {\"fascia_anagrafica\": \"40-49\", \"nome_area\": \"Abruzzo\", \"variable\": \"share_ciclo_completo\", \"value\": 0.7204507325204903, \"Vaccino\": \"Completo\", \"order\": 1}, {\"fascia_anagrafica\": \"40-49\", \"nome_area\": \"Basilicata\", \"variable\": \"share_ciclo_completo\", \"value\": 0.760178159463388, \"Vaccino\": \"Completo\", \"order\": 1}, {\"fascia_anagrafica\": \"40-49\", \"nome_area\": \"Calabria\", \"variable\": \"share_ciclo_completo\", \"value\": 0.6903321521089084, \"Vaccino\": \"Completo\", \"order\": 1}, {\"fascia_anagrafica\": \"40-49\", \"nome_area\": \"Campania\", \"variable\": \"share_ciclo_completo\", \"value\": 0.708991872980921, \"Vaccino\": \"Completo\", \"order\": 1}, {\"fascia_anagrafica\": \"40-49\", \"nome_area\": \"Emilia-Romagna\", \"variable\": \"share_ciclo_completo\", \"value\": 0.7176767449870465, \"Vaccino\": \"Completo\", \"order\": 1}, {\"fascia_anagrafica\": \"40-49\", \"nome_area\": \"Friuli-Venezia Giulia\", \"variable\": \"share_ciclo_completo\", \"value\": 0.6574930742219895, \"Vaccino\": \"Completo\", \"order\": 1}, {\"fascia_anagrafica\": \"40-49\", \"nome_area\": \"Lazio\", \"variable\": \"share_ciclo_completo\", \"value\": 0.7625496359838437, \"Vaccino\": \"Completo\", \"order\": 1}, {\"fascia_anagrafica\": \"40-49\", \"nome_area\": \"Liguria\", \"variable\": \"share_ciclo_completo\", \"value\": 0.6821884498480243, \"Vaccino\": \"Completo\", \"order\": 1}, {\"fascia_anagrafica\": \"40-49\", \"nome_area\": \"Lombardia\", \"variable\": \"share_ciclo_completo\", \"value\": 0.736578333323752, \"Vaccino\": \"Completo\", \"order\": 1}, {\"fascia_anagrafica\": \"40-49\", \"nome_area\": \"Marche\", \"variable\": \"share_ciclo_completo\", \"value\": 0.6823483160791508, \"Vaccino\": \"Completo\", \"order\": 1}, {\"fascia_anagrafica\": \"40-49\", \"nome_area\": \"Molise\", \"variable\": \"share_ciclo_completo\", \"value\": 0.7750459444692793, \"Vaccino\": \"Completo\", \"order\": 1}, {\"fascia_anagrafica\": \"40-49\", \"nome_area\": \"Piemonte\", \"variable\": \"share_ciclo_completo\", \"value\": 0.660900589749438, \"Vaccino\": \"Completo\", \"order\": 1}, {\"fascia_anagrafica\": \"40-49\", \"nome_area\": \"Puglia\", \"variable\": \"share_ciclo_completo\", \"value\": 0.7626818335147466, \"Vaccino\": \"Completo\", \"order\": 1}, {\"fascia_anagrafica\": \"40-49\", \"nome_area\": \"Sardegna\", \"variable\": \"share_ciclo_completo\", \"value\": 0.7261515177130252, \"Vaccino\": \"Completo\", \"order\": 1}, {\"fascia_anagrafica\": \"40-49\", \"nome_area\": \"Sicilia\", \"variable\": \"share_ciclo_completo\", \"value\": 0.6704376902672454, \"Vaccino\": \"Completo\", \"order\": 1}, {\"fascia_anagrafica\": \"40-49\", \"nome_area\": \"Trentino-Alto Adige/S\\u00fcdtirol\", \"variable\": \"share_ciclo_completo\", \"value\": 0.6623107836570663, \"Vaccino\": \"Completo\", \"order\": 1}, {\"fascia_anagrafica\": \"40-49\", \"nome_area\": \"Toscana\", \"variable\": \"share_ciclo_completo\", \"value\": 0.7120034976740102, \"Vaccino\": \"Completo\", \"order\": 1}, {\"fascia_anagrafica\": \"40-49\", \"nome_area\": \"Umbria\", \"variable\": \"share_ciclo_completo\", \"value\": 0.7370301800454359, \"Vaccino\": \"Completo\", \"order\": 1}, {\"fascia_anagrafica\": \"40-49\", \"nome_area\": \"Valle d'Aosta\", \"variable\": \"share_ciclo_completo\", \"value\": 0.669256188764566, \"Vaccino\": \"Completo\", \"order\": 1}, {\"fascia_anagrafica\": \"40-49\", \"nome_area\": \"Veneto\", \"variable\": \"share_ciclo_completo\", \"value\": 0.6881802124821038, \"Vaccino\": \"Completo\", \"order\": 1}, {\"fascia_anagrafica\": \"50-59\", \"nome_area\": \"Abruzzo\", \"variable\": \"share_ciclo_completo\", \"value\": 0.7732622217110875, \"Vaccino\": \"Completo\", \"order\": 1}, {\"fascia_anagrafica\": \"50-59\", \"nome_area\": \"Basilicata\", \"variable\": \"share_ciclo_completo\", \"value\": 0.8065057807731146, \"Vaccino\": \"Completo\", \"order\": 1}, {\"fascia_anagrafica\": \"50-59\", \"nome_area\": \"Calabria\", \"variable\": \"share_ciclo_completo\", \"value\": 0.7408566079494443, \"Vaccino\": \"Completo\", \"order\": 1}, {\"fascia_anagrafica\": \"50-59\", \"nome_area\": \"Campania\", \"variable\": \"share_ciclo_completo\", \"value\": 0.7611269722856358, \"Vaccino\": \"Completo\", \"order\": 1}, {\"fascia_anagrafica\": \"50-59\", \"nome_area\": \"Emilia-Romagna\", \"variable\": \"share_ciclo_completo\", \"value\": 0.7873971609448643, \"Vaccino\": \"Completo\", \"order\": 1}, {\"fascia_anagrafica\": \"50-59\", \"nome_area\": \"Friuli-Venezia Giulia\", \"variable\": \"share_ciclo_completo\", \"value\": 0.7018101478747709, \"Vaccino\": \"Completo\", \"order\": 1}, {\"fascia_anagrafica\": \"50-59\", \"nome_area\": \"Lazio\", \"variable\": \"share_ciclo_completo\", \"value\": 0.8247801631099344, \"Vaccino\": \"Completo\", \"order\": 1}, {\"fascia_anagrafica\": \"50-59\", \"nome_area\": \"Liguria\", \"variable\": \"share_ciclo_completo\", \"value\": 0.745330183390107, \"Vaccino\": \"Completo\", \"order\": 1}, {\"fascia_anagrafica\": \"50-59\", \"nome_area\": \"Lombardia\", \"variable\": \"share_ciclo_completo\", \"value\": 0.7973801120509958, \"Vaccino\": \"Completo\", \"order\": 1}, {\"fascia_anagrafica\": \"50-59\", \"nome_area\": \"Marche\", \"variable\": \"share_ciclo_completo\", \"value\": 0.7447187336581641, \"Vaccino\": \"Completo\", \"order\": 1}, {\"fascia_anagrafica\": \"50-59\", \"nome_area\": \"Molise\", \"variable\": \"share_ciclo_completo\", \"value\": 0.8332940949853391, \"Vaccino\": \"Completo\", \"order\": 1}, {\"fascia_anagrafica\": \"50-59\", \"nome_area\": \"Piemonte\", \"variable\": \"share_ciclo_completo\", \"value\": 0.7296236697349341, \"Vaccino\": \"Completo\", \"order\": 1}, {\"fascia_anagrafica\": \"50-59\", \"nome_area\": \"Puglia\", \"variable\": \"share_ciclo_completo\", \"value\": 0.802475543191857, \"Vaccino\": \"Completo\", \"order\": 1}, {\"fascia_anagrafica\": \"50-59\", \"nome_area\": \"Sardegna\", \"variable\": \"share_ciclo_completo\", \"value\": 0.7795825975395301, \"Vaccino\": \"Completo\", \"order\": 1}, {\"fascia_anagrafica\": \"50-59\", \"nome_area\": \"Sicilia\", \"variable\": \"share_ciclo_completo\", \"value\": 0.7232611212171325, \"Vaccino\": \"Completo\", \"order\": 1}, {\"fascia_anagrafica\": \"50-59\", \"nome_area\": \"Trentino-Alto Adige/S\\u00fcdtirol\", \"variable\": \"share_ciclo_completo\", \"value\": 0.7100998018037036, \"Vaccino\": \"Completo\", \"order\": 1}, {\"fascia_anagrafica\": \"50-59\", \"nome_area\": \"Toscana\", \"variable\": \"share_ciclo_completo\", \"value\": 0.7725797553787356, \"Vaccino\": \"Completo\", \"order\": 1}, {\"fascia_anagrafica\": \"50-59\", \"nome_area\": \"Umbria\", \"variable\": \"share_ciclo_completo\", \"value\": 0.792762530620627, \"Vaccino\": \"Completo\", \"order\": 1}, {\"fascia_anagrafica\": \"50-59\", \"nome_area\": \"Valle d'Aosta\", \"variable\": \"share_ciclo_completo\", \"value\": 0.7373926395086609, \"Vaccino\": \"Completo\", \"order\": 1}, {\"fascia_anagrafica\": \"50-59\", \"nome_area\": \"Veneto\", \"variable\": \"share_ciclo_completo\", \"value\": 0.7554701081497978, \"Vaccino\": \"Completo\", \"order\": 1}, {\"fascia_anagrafica\": \"60-69\", \"nome_area\": \"Abruzzo\", \"variable\": \"share_ciclo_completo\", \"value\": 0.8361807524171532, \"Vaccino\": \"Completo\", \"order\": 1}, {\"fascia_anagrafica\": \"60-69\", \"nome_area\": \"Basilicata\", \"variable\": \"share_ciclo_completo\", \"value\": 0.8547346100324696, \"Vaccino\": \"Completo\", \"order\": 1}, {\"fascia_anagrafica\": \"60-69\", \"nome_area\": \"Calabria\", \"variable\": \"share_ciclo_completo\", \"value\": 0.817115785637641, \"Vaccino\": \"Completo\", \"order\": 1}, {\"fascia_anagrafica\": \"60-69\", \"nome_area\": \"Campania\", \"variable\": \"share_ciclo_completo\", \"value\": 0.8041997583982317, \"Vaccino\": \"Completo\", \"order\": 1}, {\"fascia_anagrafica\": \"60-69\", \"nome_area\": \"Emilia-Romagna\", \"variable\": \"share_ciclo_completo\", \"value\": 0.852606582625685, \"Vaccino\": \"Completo\", \"order\": 1}, {\"fascia_anagrafica\": \"60-69\", \"nome_area\": \"Friuli-Venezia Giulia\", \"variable\": \"share_ciclo_completo\", \"value\": 0.7702096615599328, \"Vaccino\": \"Completo\", \"order\": 1}, {\"fascia_anagrafica\": \"60-69\", \"nome_area\": \"Lazio\", \"variable\": \"share_ciclo_completo\", \"value\": 0.8769277072682724, \"Vaccino\": \"Completo\", \"order\": 1}, {\"fascia_anagrafica\": \"60-69\", \"nome_area\": \"Liguria\", \"variable\": \"share_ciclo_completo\", \"value\": 0.802922769833081, \"Vaccino\": \"Completo\", \"order\": 1}, {\"fascia_anagrafica\": \"60-69\", \"nome_area\": \"Lombardia\", \"variable\": \"share_ciclo_completo\", \"value\": 0.8355758917383004, \"Vaccino\": \"Completo\", \"order\": 1}, {\"fascia_anagrafica\": \"60-69\", \"nome_area\": \"Marche\", \"variable\": \"share_ciclo_completo\", \"value\": 0.8285600859133639, \"Vaccino\": \"Completo\", \"order\": 1}, {\"fascia_anagrafica\": \"60-69\", \"nome_area\": \"Molise\", \"variable\": \"share_ciclo_completo\", \"value\": 0.8860843005497862, \"Vaccino\": \"Completo\", \"order\": 1}, {\"fascia_anagrafica\": \"60-69\", \"nome_area\": \"Piemonte\", \"variable\": \"share_ciclo_completo\", \"value\": 0.7913781132926627, \"Vaccino\": \"Completo\", \"order\": 1}, {\"fascia_anagrafica\": \"60-69\", \"nome_area\": \"Puglia\", \"variable\": \"share_ciclo_completo\", \"value\": 0.8843198061241623, \"Vaccino\": \"Completo\", \"order\": 1}, {\"fascia_anagrafica\": \"60-69\", \"nome_area\": \"Sardegna\", \"variable\": \"share_ciclo_completo\", \"value\": 0.8415344018849633, \"Vaccino\": \"Completo\", \"order\": 1}, {\"fascia_anagrafica\": \"60-69\", \"nome_area\": \"Sicilia\", \"variable\": \"share_ciclo_completo\", \"value\": 0.7757184397556472, \"Vaccino\": \"Completo\", \"order\": 1}, {\"fascia_anagrafica\": \"60-69\", \"nome_area\": \"Trentino-Alto Adige/S\\u00fcdtirol\", \"variable\": \"share_ciclo_completo\", \"value\": 0.7895362757143307, \"Vaccino\": \"Completo\", \"order\": 1}, {\"fascia_anagrafica\": \"60-69\", \"nome_area\": \"Toscana\", \"variable\": \"share_ciclo_completo\", \"value\": 0.8564106405290304, \"Vaccino\": \"Completo\", \"order\": 1}, {\"fascia_anagrafica\": \"60-69\", \"nome_area\": \"Umbria\", \"variable\": \"share_ciclo_completo\", \"value\": 0.8622189477795432, \"Vaccino\": \"Completo\", \"order\": 1}, {\"fascia_anagrafica\": \"60-69\", \"nome_area\": \"Valle d'Aosta\", \"variable\": \"share_ciclo_completo\", \"value\": 0.7755757238994876, \"Vaccino\": \"Completo\", \"order\": 1}, {\"fascia_anagrafica\": \"60-69\", \"nome_area\": \"Veneto\", \"variable\": \"share_ciclo_completo\", \"value\": 0.8325169700393852, \"Vaccino\": \"Completo\", \"order\": 1}, {\"fascia_anagrafica\": \"70-79\", \"nome_area\": \"Abruzzo\", \"variable\": \"share_ciclo_completo\", \"value\": 0.8653333915549539, \"Vaccino\": \"Completo\", \"order\": 1}, {\"fascia_anagrafica\": \"70-79\", \"nome_area\": \"Basilicata\", \"variable\": \"share_ciclo_completo\", \"value\": 0.9276903773767011, \"Vaccino\": \"Completo\", \"order\": 1}, {\"fascia_anagrafica\": \"70-79\", \"nome_area\": \"Calabria\", \"variable\": \"share_ciclo_completo\", \"value\": 0.8307414241066385, \"Vaccino\": \"Completo\", \"order\": 1}, {\"fascia_anagrafica\": \"70-79\", \"nome_area\": \"Campania\", \"variable\": \"share_ciclo_completo\", \"value\": 0.8846927233882116, \"Vaccino\": \"Completo\", \"order\": 1}, {\"fascia_anagrafica\": \"70-79\", \"nome_area\": \"Emilia-Romagna\", \"variable\": \"share_ciclo_completo\", \"value\": 0.8911083717910474, \"Vaccino\": \"Completo\", \"order\": 1}, {\"fascia_anagrafica\": \"70-79\", \"nome_area\": \"Friuli-Venezia Giulia\", \"variable\": \"share_ciclo_completo\", \"value\": 0.8232647356636575, \"Vaccino\": \"Completo\", \"order\": 1}, {\"fascia_anagrafica\": \"70-79\", \"nome_area\": \"Lazio\", \"variable\": \"share_ciclo_completo\", \"value\": 0.9075831403561901, \"Vaccino\": \"Completo\", \"order\": 1}, {\"fascia_anagrafica\": \"70-79\", \"nome_area\": \"Liguria\", \"variable\": \"share_ciclo_completo\", \"value\": 0.8627586358057163, \"Vaccino\": \"Completo\", \"order\": 1}, {\"fascia_anagrafica\": \"70-79\", \"nome_area\": \"Lombardia\", \"variable\": \"share_ciclo_completo\", \"value\": 0.8732257657509083, \"Vaccino\": \"Completo\", \"order\": 1}, {\"fascia_anagrafica\": \"70-79\", \"nome_area\": \"Marche\", \"variable\": \"share_ciclo_completo\", \"value\": 0.9008144158009491, \"Vaccino\": \"Completo\", \"order\": 1}, {\"fascia_anagrafica\": \"70-79\", \"nome_area\": \"Molise\", \"variable\": \"share_ciclo_completo\", \"value\": 0.9143717031811268, \"Vaccino\": \"Completo\", \"order\": 1}, {\"fascia_anagrafica\": \"70-79\", \"nome_area\": \"Piemonte\", \"variable\": \"share_ciclo_completo\", \"value\": 0.8365887162309885, \"Vaccino\": \"Completo\", \"order\": 1}, {\"fascia_anagrafica\": \"70-79\", \"nome_area\": \"Puglia\", \"variable\": \"share_ciclo_completo\", \"value\": 0.919625780467319, \"Vaccino\": \"Completo\", \"order\": 1}, {\"fascia_anagrafica\": \"70-79\", \"nome_area\": \"Sardegna\", \"variable\": \"share_ciclo_completo\", \"value\": 0.881320732172221, \"Vaccino\": \"Completo\", \"order\": 1}, {\"fascia_anagrafica\": \"70-79\", \"nome_area\": \"Sicilia\", \"variable\": \"share_ciclo_completo\", \"value\": 0.8096922621782726, \"Vaccino\": \"Completo\", \"order\": 1}, {\"fascia_anagrafica\": \"70-79\", \"nome_area\": \"Trentino-Alto Adige/S\\u00fcdtirol\", \"variable\": \"share_ciclo_completo\", \"value\": 0.8365700536813693, \"Vaccino\": \"Completo\", \"order\": 1}, {\"fascia_anagrafica\": \"70-79\", \"nome_area\": \"Toscana\", \"variable\": \"share_ciclo_completo\", \"value\": 0.8922664370502491, \"Vaccino\": \"Completo\", \"order\": 1}, {\"fascia_anagrafica\": \"70-79\", \"nome_area\": \"Umbria\", \"variable\": \"share_ciclo_completo\", \"value\": 0.8879194699599603, \"Vaccino\": \"Completo\", \"order\": 1}, {\"fascia_anagrafica\": \"70-79\", \"nome_area\": \"Valle d'Aosta\", \"variable\": \"share_ciclo_completo\", \"value\": 0.8419800460475825, \"Vaccino\": \"Completo\", \"order\": 1}, {\"fascia_anagrafica\": \"70-79\", \"nome_area\": \"Veneto\", \"variable\": \"share_ciclo_completo\", \"value\": 0.8755419721418739, \"Vaccino\": \"Completo\", \"order\": 1}, {\"fascia_anagrafica\": \"80+\", \"nome_area\": \"Abruzzo\", \"variable\": \"share_ciclo_completo\", \"value\": 0.8070763469085872, \"Vaccino\": \"Completo\", \"order\": 1}, {\"fascia_anagrafica\": \"80+\", \"nome_area\": \"Basilicata\", \"variable\": \"share_ciclo_completo\", \"value\": 0.8598896939547962, \"Vaccino\": \"Completo\", \"order\": 1}, {\"fascia_anagrafica\": \"80+\", \"nome_area\": \"Calabria\", \"variable\": \"share_ciclo_completo\", \"value\": 0.7876361746211656, \"Vaccino\": \"Completo\", \"order\": 1}, {\"fascia_anagrafica\": \"80+\", \"nome_area\": \"Campania\", \"variable\": \"share_ciclo_completo\", \"value\": 0.8704804529487343, \"Vaccino\": \"Completo\", \"order\": 1}, {\"fascia_anagrafica\": \"80+\", \"nome_area\": \"Emilia-Romagna\", \"variable\": \"share_ciclo_completo\", \"value\": 0.9551085264614321, \"Vaccino\": \"Completo\", \"order\": 1}, {\"fascia_anagrafica\": \"80+\", \"nome_area\": \"Friuli-Venezia Giulia\", \"variable\": \"share_ciclo_completo\", \"value\": 0.9280557158943593, \"Vaccino\": \"Completo\", \"order\": 1}, {\"fascia_anagrafica\": \"80+\", \"nome_area\": \"Lazio\", \"variable\": \"share_ciclo_completo\", \"value\": 0.9416304661558574, \"Vaccino\": \"Completo\", \"order\": 1}, {\"fascia_anagrafica\": \"80+\", \"nome_area\": \"Liguria\", \"variable\": \"share_ciclo_completo\", \"value\": 0.9239102613325143, \"Vaccino\": \"Completo\", \"order\": 1}, {\"fascia_anagrafica\": \"80+\", \"nome_area\": \"Lombardia\", \"variable\": \"share_ciclo_completo\", \"value\": 0.936229433433648, \"Vaccino\": \"Completo\", \"order\": 1}, {\"fascia_anagrafica\": \"80+\", \"nome_area\": \"Marche\", \"variable\": \"share_ciclo_completo\", \"value\": 0.9228583211487271, \"Vaccino\": \"Completo\", \"order\": 1}, {\"fascia_anagrafica\": \"80+\", \"nome_area\": \"Molise\", \"variable\": \"share_ciclo_completo\", \"value\": 0.8736316214826243, \"Vaccino\": \"Completo\", \"order\": 1}, {\"fascia_anagrafica\": \"80+\", \"nome_area\": \"Piemonte\", \"variable\": \"share_ciclo_completo\", \"value\": 0.9113880390308634, \"Vaccino\": \"Completo\", \"order\": 1}, {\"fascia_anagrafica\": \"80+\", \"nome_area\": \"Puglia\", \"variable\": \"share_ciclo_completo\", \"value\": 0.9358836739852797, \"Vaccino\": \"Completo\", \"order\": 1}, {\"fascia_anagrafica\": \"80+\", \"nome_area\": \"Sardegna\", \"variable\": \"share_ciclo_completo\", \"value\": 0.8619998717619902, \"Vaccino\": \"Completo\", \"order\": 1}, {\"fascia_anagrafica\": \"80+\", \"nome_area\": \"Sicilia\", \"variable\": \"share_ciclo_completo\", \"value\": 0.7785797398143531, \"Vaccino\": \"Completo\", \"order\": 1}, {\"fascia_anagrafica\": \"80+\", \"nome_area\": \"Trentino-Alto Adige/S\\u00fcdtirol\", \"variable\": \"share_ciclo_completo\", \"value\": 0.8999861897527965, \"Vaccino\": \"Completo\", \"order\": 1}, {\"fascia_anagrafica\": \"80+\", \"nome_area\": \"Toscana\", \"variable\": \"share_ciclo_completo\", \"value\": 0.946243810565327, \"Vaccino\": \"Completo\", \"order\": 1}, {\"fascia_anagrafica\": \"80+\", \"nome_area\": \"Umbria\", \"variable\": \"share_ciclo_completo\", \"value\": 0.8807527244391202, \"Vaccino\": \"Completo\", \"order\": 1}, {\"fascia_anagrafica\": \"80+\", \"nome_area\": \"Valle d'Aosta\", \"variable\": \"share_ciclo_completo\", \"value\": 0.8866782894062147, \"Vaccino\": \"Completo\", \"order\": 1}, {\"fascia_anagrafica\": \"80+\", \"nome_area\": \"Veneto\", \"variable\": \"share_ciclo_completo\", \"value\": 0.9333819352600655, \"Vaccino\": \"Completo\", \"order\": 1}, {\"fascia_anagrafica\": \"12-19\", \"nome_area\": \"Abruzzo\", \"variable\": \"share_solo_prima\", \"value\": 0.08320753322706304, \"Vaccino\": \"In attesa seconda\", \"order\": 0}, {\"fascia_anagrafica\": \"12-19\", \"nome_area\": \"Basilicata\", \"variable\": \"share_solo_prima\", \"value\": 0.08559845654138276, \"Vaccino\": \"In attesa seconda\", \"order\": 0}, {\"fascia_anagrafica\": \"12-19\", \"nome_area\": \"Calabria\", \"variable\": \"share_solo_prima\", \"value\": 0.09675799985075538, \"Vaccino\": \"In attesa seconda\", \"order\": 0}, {\"fascia_anagrafica\": \"12-19\", \"nome_area\": \"Campania\", \"variable\": \"share_solo_prima\", \"value\": 0.07954630782302843, \"Vaccino\": \"In attesa seconda\", \"order\": 0}, {\"fascia_anagrafica\": \"12-19\", \"nome_area\": \"Emilia-Romagna\", \"variable\": \"share_solo_prima\", \"value\": 0.07829937998228521, \"Vaccino\": \"In attesa seconda\", \"order\": 0}, {\"fascia_anagrafica\": \"12-19\", \"nome_area\": \"Friuli-Venezia Giulia\", \"variable\": \"share_solo_prima\", \"value\": 0.08629696721790452, \"Vaccino\": \"In attesa seconda\", \"order\": 0}, {\"fascia_anagrafica\": \"12-19\", \"nome_area\": \"Lazio\", \"variable\": \"share_solo_prima\", \"value\": 0.07040937245635069, \"Vaccino\": \"In attesa seconda\", \"order\": 0}, {\"fascia_anagrafica\": \"12-19\", \"nome_area\": \"Liguria\", \"variable\": \"share_solo_prima\", \"value\": 0.0732412772540767, \"Vaccino\": \"In attesa seconda\", \"order\": 0}, {\"fascia_anagrafica\": \"12-19\", \"nome_area\": \"Lombardia\", \"variable\": \"share_solo_prima\", \"value\": 0.07086594351568183, \"Vaccino\": \"In attesa seconda\", \"order\": 0}, {\"fascia_anagrafica\": \"12-19\", \"nome_area\": \"Marche\", \"variable\": \"share_solo_prima\", \"value\": 0.07145826515359237, \"Vaccino\": \"In attesa seconda\", \"order\": 0}, {\"fascia_anagrafica\": \"12-19\", \"nome_area\": \"Molise\", \"variable\": \"share_solo_prima\", \"value\": 0.08815924281602186, \"Vaccino\": \"In attesa seconda\", \"order\": 0}, {\"fascia_anagrafica\": \"12-19\", \"nome_area\": \"Piemonte\", \"variable\": \"share_solo_prima\", \"value\": 0.13272309738760182, \"Vaccino\": \"In attesa seconda\", \"order\": 0}, {\"fascia_anagrafica\": \"12-19\", \"nome_area\": \"Puglia\", \"variable\": \"share_solo_prima\", \"value\": 0.08840928054597308, \"Vaccino\": \"In attesa seconda\", \"order\": 0}, {\"fascia_anagrafica\": \"12-19\", \"nome_area\": \"Sardegna\", \"variable\": \"share_solo_prima\", \"value\": 0.0883522389696809, \"Vaccino\": \"In attesa seconda\", \"order\": 0}, {\"fascia_anagrafica\": \"12-19\", \"nome_area\": \"Sicilia\", \"variable\": \"share_solo_prima\", \"value\": 0.08937438667168397, \"Vaccino\": \"In attesa seconda\", \"order\": 0}, {\"fascia_anagrafica\": \"12-19\", \"nome_area\": \"Trentino-Alto Adige/S\\u00fcdtirol\", \"variable\": \"share_solo_prima\", \"value\": 0.09434991759832524, \"Vaccino\": \"In attesa seconda\", \"order\": 0}, {\"fascia_anagrafica\": \"12-19\", \"nome_area\": \"Toscana\", \"variable\": \"share_solo_prima\", \"value\": 0.17287398327371992, \"Vaccino\": \"In attesa seconda\", \"order\": 0}, {\"fascia_anagrafica\": \"12-19\", \"nome_area\": \"Umbria\", \"variable\": \"share_solo_prima\", \"value\": 0.10705863857883981, \"Vaccino\": \"In attesa seconda\", \"order\": 0}, {\"fascia_anagrafica\": \"12-19\", \"nome_area\": \"Valle d'Aosta\", \"variable\": \"share_solo_prima\", \"value\": 0.07668449197860963, \"Vaccino\": \"In attesa seconda\", \"order\": 0}, {\"fascia_anagrafica\": \"12-19\", \"nome_area\": \"Veneto\", \"variable\": \"share_solo_prima\", \"value\": 0.07495659289644717, \"Vaccino\": \"In attesa seconda\", \"order\": 0}, {\"fascia_anagrafica\": \"20-29\", \"nome_area\": \"Abruzzo\", \"variable\": \"share_solo_prima\", \"value\": 0.06628603369799568, \"Vaccino\": \"In attesa seconda\", \"order\": 0}, {\"fascia_anagrafica\": \"20-29\", \"nome_area\": \"Basilicata\", \"variable\": \"share_solo_prima\", \"value\": 0.0634272008528027, \"Vaccino\": \"In attesa seconda\", \"order\": 0}, {\"fascia_anagrafica\": \"20-29\", \"nome_area\": \"Calabria\", \"variable\": \"share_solo_prima\", \"value\": 0.06753577042844412, \"Vaccino\": \"In attesa seconda\", \"order\": 0}, {\"fascia_anagrafica\": \"20-29\", \"nome_area\": \"Campania\", \"variable\": \"share_solo_prima\", \"value\": 0.06580468093946495, \"Vaccino\": \"In attesa seconda\", \"order\": 0}, {\"fascia_anagrafica\": \"20-29\", \"nome_area\": \"Emilia-Romagna\", \"variable\": \"share_solo_prima\", \"value\": 0.08619962896722862, \"Vaccino\": \"In attesa seconda\", \"order\": 0}, {\"fascia_anagrafica\": \"20-29\", \"nome_area\": \"Friuli-Venezia Giulia\", \"variable\": \"share_solo_prima\", \"value\": 0.08724999768837437, \"Vaccino\": \"In attesa seconda\", \"order\": 0}, {\"fascia_anagrafica\": \"20-29\", \"nome_area\": \"Lazio\", \"variable\": \"share_solo_prima\", \"value\": 0.06536042443925526, \"Vaccino\": \"In attesa seconda\", \"order\": 0}, {\"fascia_anagrafica\": \"20-29\", \"nome_area\": \"Liguria\", \"variable\": \"share_solo_prima\", \"value\": 0.0795858206205321, \"Vaccino\": \"In attesa seconda\", \"order\": 0}, {\"fascia_anagrafica\": \"20-29\", \"nome_area\": \"Lombardia\", \"variable\": \"share_solo_prima\", \"value\": 0.06931990439601864, \"Vaccino\": \"In attesa seconda\", \"order\": 0}, {\"fascia_anagrafica\": \"20-29\", \"nome_area\": \"Marche\", \"variable\": \"share_solo_prima\", \"value\": 0.0657660239161885, \"Vaccino\": \"In attesa seconda\", \"order\": 0}, {\"fascia_anagrafica\": \"20-29\", \"nome_area\": \"Molise\", \"variable\": \"share_solo_prima\", \"value\": 0.0753066434219538, \"Vaccino\": \"In attesa seconda\", \"order\": 0}, {\"fascia_anagrafica\": \"20-29\", \"nome_area\": \"Piemonte\", \"variable\": \"share_solo_prima\", \"value\": 0.10559387720281765, \"Vaccino\": \"In attesa seconda\", \"order\": 0}, {\"fascia_anagrafica\": \"20-29\", \"nome_area\": \"Puglia\", \"variable\": \"share_solo_prima\", \"value\": 0.07513040885126052, \"Vaccino\": \"In attesa seconda\", \"order\": 0}, {\"fascia_anagrafica\": \"20-29\", \"nome_area\": \"Sardegna\", \"variable\": \"share_solo_prima\", \"value\": 0.06576187453426434, \"Vaccino\": \"In attesa seconda\", \"order\": 0}, {\"fascia_anagrafica\": \"20-29\", \"nome_area\": \"Sicilia\", \"variable\": \"share_solo_prima\", \"value\": 0.07167145787535015, \"Vaccino\": \"In attesa seconda\", \"order\": 0}, {\"fascia_anagrafica\": \"20-29\", \"nome_area\": \"Trentino-Alto Adige/S\\u00fcdtirol\", \"variable\": \"share_solo_prima\", \"value\": 0.1020809802512236, \"Vaccino\": \"In attesa seconda\", \"order\": 0}, {\"fascia_anagrafica\": \"20-29\", \"nome_area\": \"Toscana\", \"variable\": \"share_solo_prima\", \"value\": 0.1262292229983753, \"Vaccino\": \"In attesa seconda\", \"order\": 0}, {\"fascia_anagrafica\": \"20-29\", \"nome_area\": \"Umbria\", \"variable\": \"share_solo_prima\", \"value\": 0.07901086415340032, \"Vaccino\": \"In attesa seconda\", \"order\": 0}, {\"fascia_anagrafica\": \"20-29\", \"nome_area\": \"Valle d'Aosta\", \"variable\": \"share_solo_prima\", \"value\": 0.07794809266678279, \"Vaccino\": \"In attesa seconda\", \"order\": 0}, {\"fascia_anagrafica\": \"20-29\", \"nome_area\": \"Veneto\", \"variable\": \"share_solo_prima\", \"value\": 0.08406087346538578, \"Vaccino\": \"In attesa seconda\", \"order\": 0}, {\"fascia_anagrafica\": \"30-39\", \"nome_area\": \"Abruzzo\", \"variable\": \"share_solo_prima\", \"value\": 0.06239580852583949, \"Vaccino\": \"In attesa seconda\", \"order\": 0}, {\"fascia_anagrafica\": \"30-39\", \"nome_area\": \"Basilicata\", \"variable\": \"share_solo_prima\", \"value\": 0.06320049813200498, \"Vaccino\": \"In attesa seconda\", \"order\": 0}, {\"fascia_anagrafica\": \"30-39\", \"nome_area\": \"Calabria\", \"variable\": \"share_solo_prima\", \"value\": 0.0683488946125778, \"Vaccino\": \"In attesa seconda\", \"order\": 0}, {\"fascia_anagrafica\": \"30-39\", \"nome_area\": \"Campania\", \"variable\": \"share_solo_prima\", \"value\": 0.06831969679329736, \"Vaccino\": \"In attesa seconda\", \"order\": 0}, {\"fascia_anagrafica\": \"30-39\", \"nome_area\": \"Emilia-Romagna\", \"variable\": \"share_solo_prima\", \"value\": 0.0851055561691353, \"Vaccino\": \"In attesa seconda\", \"order\": 0}, {\"fascia_anagrafica\": \"30-39\", \"nome_area\": \"Friuli-Venezia Giulia\", \"variable\": \"share_solo_prima\", \"value\": 0.08295676750414907, \"Vaccino\": \"In attesa seconda\", \"order\": 0}, {\"fascia_anagrafica\": \"30-39\", \"nome_area\": \"Lazio\", \"variable\": \"share_solo_prima\", \"value\": 0.05445728252917113, \"Vaccino\": \"In attesa seconda\", \"order\": 0}, {\"fascia_anagrafica\": \"30-39\", \"nome_area\": \"Liguria\", \"variable\": \"share_solo_prima\", \"value\": 0.07776147698573792, \"Vaccino\": \"In attesa seconda\", \"order\": 0}, {\"fascia_anagrafica\": \"30-39\", \"nome_area\": \"Lombardia\", \"variable\": \"share_solo_prima\", \"value\": 0.05978789862838889, \"Vaccino\": \"In attesa seconda\", \"order\": 0}, {\"fascia_anagrafica\": \"30-39\", \"nome_area\": \"Marche\", \"variable\": \"share_solo_prima\", \"value\": 0.06730413781206102, \"Vaccino\": \"In attesa seconda\", \"order\": 0}, {\"fascia_anagrafica\": \"30-39\", \"nome_area\": \"Molise\", \"variable\": \"share_solo_prima\", \"value\": 0.07945529557716165, \"Vaccino\": \"In attesa seconda\", \"order\": 0}, {\"fascia_anagrafica\": \"30-39\", \"nome_area\": \"Piemonte\", \"variable\": \"share_solo_prima\", \"value\": 0.09963992951811844, \"Vaccino\": \"In attesa seconda\", \"order\": 0}, {\"fascia_anagrafica\": \"30-39\", \"nome_area\": \"Puglia\", \"variable\": \"share_solo_prima\", \"value\": 0.0709953722408706, \"Vaccino\": \"In attesa seconda\", \"order\": 0}, {\"fascia_anagrafica\": \"30-39\", \"nome_area\": \"Sardegna\", \"variable\": \"share_solo_prima\", \"value\": 0.06897183090776939, \"Vaccino\": \"In attesa seconda\", \"order\": 0}, {\"fascia_anagrafica\": \"30-39\", \"nome_area\": \"Sicilia\", \"variable\": \"share_solo_prima\", \"value\": 0.07444341293467574, \"Vaccino\": \"In attesa seconda\", \"order\": 0}, {\"fascia_anagrafica\": \"30-39\", \"nome_area\": \"Trentino-Alto Adige/S\\u00fcdtirol\", \"variable\": \"share_solo_prima\", \"value\": 0.09221975491405543, \"Vaccino\": \"In attesa seconda\", \"order\": 0}, {\"fascia_anagrafica\": \"30-39\", \"nome_area\": \"Toscana\", \"variable\": \"share_solo_prima\", \"value\": 0.12107128771073926, \"Vaccino\": \"In attesa seconda\", \"order\": 0}, {\"fascia_anagrafica\": \"30-39\", \"nome_area\": \"Umbria\", \"variable\": \"share_solo_prima\", \"value\": 0.06882630636496825, \"Vaccino\": \"In attesa seconda\", \"order\": 0}, {\"fascia_anagrafica\": \"30-39\", \"nome_area\": \"Valle d'Aosta\", \"variable\": \"share_solo_prima\", \"value\": 0.07987502002884153, \"Vaccino\": \"In attesa seconda\", \"order\": 0}, {\"fascia_anagrafica\": \"30-39\", \"nome_area\": \"Veneto\", \"variable\": \"share_solo_prima\", \"value\": 0.08484238063596086, \"Vaccino\": \"In attesa seconda\", \"order\": 0}, {\"fascia_anagrafica\": \"40-49\", \"nome_area\": \"Abruzzo\", \"variable\": \"share_solo_prima\", \"value\": 0.046056357593956036, \"Vaccino\": \"In attesa seconda\", \"order\": 0}, {\"fascia_anagrafica\": \"40-49\", \"nome_area\": \"Basilicata\", \"variable\": \"share_solo_prima\", \"value\": 0.04423315419594874, \"Vaccino\": \"In attesa seconda\", \"order\": 0}, {\"fascia_anagrafica\": \"40-49\", \"nome_area\": \"Calabria\", \"variable\": \"share_solo_prima\", \"value\": 0.052686196585467096, \"Vaccino\": \"In attesa seconda\", \"order\": 0}, {\"fascia_anagrafica\": \"40-49\", \"nome_area\": \"Campania\", \"variable\": \"share_solo_prima\", \"value\": 0.05206869576554781, \"Vaccino\": \"In attesa seconda\", \"order\": 0}, {\"fascia_anagrafica\": \"40-49\", \"nome_area\": \"Emilia-Romagna\", \"variable\": \"share_solo_prima\", \"value\": 0.05942914476541324, \"Vaccino\": \"In attesa seconda\", \"order\": 0}, {\"fascia_anagrafica\": \"40-49\", \"nome_area\": \"Friuli-Venezia Giulia\", \"variable\": \"share_solo_prima\", \"value\": 0.056988418805178305, \"Vaccino\": \"In attesa seconda\", \"order\": 0}, {\"fascia_anagrafica\": \"40-49\", \"nome_area\": \"Lazio\", \"variable\": \"share_solo_prima\", \"value\": 0.04460021865972047, \"Vaccino\": \"In attesa seconda\", \"order\": 0}, {\"fascia_anagrafica\": \"40-49\", \"nome_area\": \"Liguria\", \"variable\": \"share_solo_prima\", \"value\": 0.05747355623100304, \"Vaccino\": \"In attesa seconda\", \"order\": 0}, {\"fascia_anagrafica\": \"40-49\", \"nome_area\": \"Lombardia\", \"variable\": \"share_solo_prima\", \"value\": 0.04333437450296925, \"Vaccino\": \"In attesa seconda\", \"order\": 0}, {\"fascia_anagrafica\": \"40-49\", \"nome_area\": \"Marche\", \"variable\": \"share_solo_prima\", \"value\": 0.04572094767712461, \"Vaccino\": \"In attesa seconda\", \"order\": 0}, {\"fascia_anagrafica\": \"40-49\", \"nome_area\": \"Molise\", \"variable\": \"share_solo_prima\", \"value\": 0.05411513435652908, \"Vaccino\": \"In attesa seconda\", \"order\": 0}, {\"fascia_anagrafica\": \"40-49\", \"nome_area\": \"Piemonte\", \"variable\": \"share_solo_prima\", \"value\": 0.07880160307582028, \"Vaccino\": \"In attesa seconda\", \"order\": 0}, {\"fascia_anagrafica\": \"40-49\", \"nome_area\": \"Puglia\", \"variable\": \"share_solo_prima\", \"value\": 0.04960929485284657, \"Vaccino\": \"In attesa seconda\", \"order\": 0}, {\"fascia_anagrafica\": \"40-49\", \"nome_area\": \"Sardegna\", \"variable\": \"share_solo_prima\", \"value\": 0.05351945997512408, \"Vaccino\": \"In attesa seconda\", \"order\": 0}, {\"fascia_anagrafica\": \"40-49\", \"nome_area\": \"Sicilia\", \"variable\": \"share_solo_prima\", \"value\": 0.0600632472084537, \"Vaccino\": \"In attesa seconda\", \"order\": 0}, {\"fascia_anagrafica\": \"40-49\", \"nome_area\": \"Trentino-Alto Adige/S\\u00fcdtirol\", \"variable\": \"share_solo_prima\", \"value\": 0.06658405894172806, \"Vaccino\": \"In attesa seconda\", \"order\": 0}, {\"fascia_anagrafica\": \"40-49\", \"nome_area\": \"Toscana\", \"variable\": \"share_solo_prima\", \"value\": 0.08954374745037492, \"Vaccino\": \"In attesa seconda\", \"order\": 0}, {\"fascia_anagrafica\": \"40-49\", \"nome_area\": \"Umbria\", \"variable\": \"share_solo_prima\", \"value\": 0.0541106466921603, \"Vaccino\": \"In attesa seconda\", \"order\": 0}, {\"fascia_anagrafica\": \"40-49\", \"nome_area\": \"Valle d'Aosta\", \"variable\": \"share_solo_prima\", \"value\": 0.05159719404023422, \"Vaccino\": \"In attesa seconda\", \"order\": 0}, {\"fascia_anagrafica\": \"40-49\", \"nome_area\": \"Veneto\", \"variable\": \"share_solo_prima\", \"value\": 0.05537192732504241, \"Vaccino\": \"In attesa seconda\", \"order\": 0}, {\"fascia_anagrafica\": \"50-59\", \"nome_area\": \"Abruzzo\", \"variable\": \"share_solo_prima\", \"value\": 0.03659085899389514, \"Vaccino\": \"In attesa seconda\", \"order\": 0}, {\"fascia_anagrafica\": \"50-59\", \"nome_area\": \"Basilicata\", \"variable\": \"share_solo_prima\", \"value\": 0.036885757400410724, \"Vaccino\": \"In attesa seconda\", \"order\": 0}, {\"fascia_anagrafica\": \"50-59\", \"nome_area\": \"Calabria\", \"variable\": \"share_solo_prima\", \"value\": 0.04189082911687534, \"Vaccino\": \"In attesa seconda\", \"order\": 0}, {\"fascia_anagrafica\": \"50-59\", \"nome_area\": \"Campania\", \"variable\": \"share_solo_prima\", \"value\": 0.03537297442829659, \"Vaccino\": \"In attesa seconda\", \"order\": 0}, {\"fascia_anagrafica\": \"50-59\", \"nome_area\": \"Emilia-Romagna\", \"variable\": \"share_solo_prima\", \"value\": 0.036557715369383945, \"Vaccino\": \"In attesa seconda\", \"order\": 0}, {\"fascia_anagrafica\": \"50-59\", \"nome_area\": \"Friuli-Venezia Giulia\", \"variable\": \"share_solo_prima\", \"value\": 0.042830960809419796, \"Vaccino\": \"In attesa seconda\", \"order\": 0}, {\"fascia_anagrafica\": \"50-59\", \"nome_area\": \"Lazio\", \"variable\": \"share_solo_prima\", \"value\": 0.03452422724807809, \"Vaccino\": \"In attesa seconda\", \"order\": 0}, {\"fascia_anagrafica\": \"50-59\", \"nome_area\": \"Liguria\", \"variable\": \"share_solo_prima\", \"value\": 0.044237111847472636, \"Vaccino\": \"In attesa seconda\", \"order\": 0}, {\"fascia_anagrafica\": \"50-59\", \"nome_area\": \"Lombardia\", \"variable\": \"share_solo_prima\", \"value\": 0.028825801175349258, \"Vaccino\": \"In attesa seconda\", \"order\": 0}, {\"fascia_anagrafica\": \"50-59\", \"nome_area\": \"Marche\", \"variable\": \"share_solo_prima\", \"value\": 0.03317755845708167, \"Vaccino\": \"In attesa seconda\", \"order\": 0}, {\"fascia_anagrafica\": \"50-59\", \"nome_area\": \"Molise\", \"variable\": \"share_solo_prima\", \"value\": 0.04772809965113541, \"Vaccino\": \"In attesa seconda\", \"order\": 0}, {\"fascia_anagrafica\": \"50-59\", \"nome_area\": \"Piemonte\", \"variable\": \"share_solo_prima\", \"value\": 0.05945839233392369, \"Vaccino\": \"In attesa seconda\", \"order\": 0}, {\"fascia_anagrafica\": \"50-59\", \"nome_area\": \"Puglia\", \"variable\": \"share_solo_prima\", \"value\": 0.038118446645353125, \"Vaccino\": \"In attesa seconda\", \"order\": 0}, {\"fascia_anagrafica\": \"50-59\", \"nome_area\": \"Sardegna\", \"variable\": \"share_solo_prima\", \"value\": 0.045629661307507126, \"Vaccino\": \"In attesa seconda\", \"order\": 0}, {\"fascia_anagrafica\": \"50-59\", \"nome_area\": \"Sicilia\", \"variable\": \"share_solo_prima\", \"value\": 0.048784521250206714, \"Vaccino\": \"In attesa seconda\", \"order\": 0}, {\"fascia_anagrafica\": \"50-59\", \"nome_area\": \"Trentino-Alto Adige/S\\u00fcdtirol\", \"variable\": \"share_solo_prima\", \"value\": 0.048235583858143055, \"Vaccino\": \"In attesa seconda\", \"order\": 0}, {\"fascia_anagrafica\": \"50-59\", \"nome_area\": \"Toscana\", \"variable\": \"share_solo_prima\", \"value\": 0.06407102399329387, \"Vaccino\": \"In attesa seconda\", \"order\": 0}, {\"fascia_anagrafica\": \"50-59\", \"nome_area\": \"Umbria\", \"variable\": \"share_solo_prima\", \"value\": 0.03718480923532777, \"Vaccino\": \"In attesa seconda\", \"order\": 0}, {\"fascia_anagrafica\": \"50-59\", \"nome_area\": \"Valle d'Aosta\", \"variable\": \"share_solo_prima\", \"value\": 0.0383858739983686, \"Vaccino\": \"In attesa seconda\", \"order\": 0}, {\"fascia_anagrafica\": \"50-59\", \"nome_area\": \"Veneto\", \"variable\": \"share_solo_prima\", \"value\": 0.03997401032147348, \"Vaccino\": \"In attesa seconda\", \"order\": 0}, {\"fascia_anagrafica\": \"60-69\", \"nome_area\": \"Abruzzo\", \"variable\": \"share_solo_prima\", \"value\": 0.022765770433021137, \"Vaccino\": \"In attesa seconda\", \"order\": 0}, {\"fascia_anagrafica\": \"60-69\", \"nome_area\": \"Basilicata\", \"variable\": \"share_solo_prima\", \"value\": 0.03093234378106156, \"Vaccino\": \"In attesa seconda\", \"order\": 0}, {\"fascia_anagrafica\": \"60-69\", \"nome_area\": \"Calabria\", \"variable\": \"share_solo_prima\", \"value\": 0.023347437896058146, \"Vaccino\": \"In attesa seconda\", \"order\": 0}, {\"fascia_anagrafica\": \"60-69\", \"nome_area\": \"Campania\", \"variable\": \"share_solo_prima\", \"value\": 0.03387279638339859, \"Vaccino\": \"In attesa seconda\", \"order\": 0}, {\"fascia_anagrafica\": \"60-69\", \"nome_area\": \"Emilia-Romagna\", \"variable\": \"share_solo_prima\", \"value\": 0.017959542049818682, \"Vaccino\": \"In attesa seconda\", \"order\": 0}, {\"fascia_anagrafica\": \"60-69\", \"nome_area\": \"Friuli-Venezia Giulia\", \"variable\": \"share_solo_prima\", \"value\": 0.026846829701525677, \"Vaccino\": \"In attesa seconda\", \"order\": 0}, {\"fascia_anagrafica\": \"60-69\", \"nome_area\": \"Lazio\", \"variable\": \"share_solo_prima\", \"value\": 0.023067488476853384, \"Vaccino\": \"In attesa seconda\", \"order\": 0}, {\"fascia_anagrafica\": \"60-69\", \"nome_area\": \"Liguria\", \"variable\": \"share_solo_prima\", \"value\": 0.029820738069294042, \"Vaccino\": \"In attesa seconda\", \"order\": 0}, {\"fascia_anagrafica\": \"60-69\", \"nome_area\": \"Lombardia\", \"variable\": \"share_solo_prima\", \"value\": 0.01637576666970205, \"Vaccino\": \"In attesa seconda\", \"order\": 0}, {\"fascia_anagrafica\": \"60-69\", \"nome_area\": \"Marche\", \"variable\": \"share_solo_prima\", \"value\": 0.011746922031586395, \"Vaccino\": \"In attesa seconda\", \"order\": 0}, {\"fascia_anagrafica\": \"60-69\", \"nome_area\": \"Molise\", \"variable\": \"share_solo_prima\", \"value\": 0.014856444715943799, \"Vaccino\": \"In attesa seconda\", \"order\": 0}, {\"fascia_anagrafica\": \"60-69\", \"nome_area\": \"Piemonte\", \"variable\": \"share_solo_prima\", \"value\": 0.03340522938010806, \"Vaccino\": \"In attesa seconda\", \"order\": 0}, {\"fascia_anagrafica\": \"60-69\", \"nome_area\": \"Puglia\", \"variable\": \"share_solo_prima\", \"value\": 0.026720637945369254, \"Vaccino\": \"In attesa seconda\", \"order\": 0}, {\"fascia_anagrafica\": \"60-69\", \"nome_area\": \"Sardegna\", \"variable\": \"share_solo_prima\", \"value\": 0.030056818428820464, \"Vaccino\": \"In attesa seconda\", \"order\": 0}, {\"fascia_anagrafica\": \"60-69\", \"nome_area\": \"Sicilia\", \"variable\": \"share_solo_prima\", \"value\": 0.03445183066452211, \"Vaccino\": \"In attesa seconda\", \"order\": 0}, {\"fascia_anagrafica\": \"60-69\", \"nome_area\": \"Trentino-Alto Adige/S\\u00fcdtirol\", \"variable\": \"share_solo_prima\", \"value\": 0.0266909239832404, \"Vaccino\": \"In attesa seconda\", \"order\": 0}, {\"fascia_anagrafica\": \"60-69\", \"nome_area\": \"Toscana\", \"variable\": \"share_solo_prima\", \"value\": 0.02824705202559548, \"Vaccino\": \"In attesa seconda\", \"order\": 0}, {\"fascia_anagrafica\": \"60-69\", \"nome_area\": \"Umbria\", \"variable\": \"share_solo_prima\", \"value\": 0.01939515520562415, \"Vaccino\": \"In attesa seconda\", \"order\": 0}, {\"fascia_anagrafica\": \"60-69\", \"nome_area\": \"Valle d'Aosta\", \"variable\": \"share_solo_prima\", \"value\": 0.02488115083040069, \"Vaccino\": \"In attesa seconda\", \"order\": 0}, {\"fascia_anagrafica\": \"60-69\", \"nome_area\": \"Veneto\", \"variable\": \"share_solo_prima\", \"value\": 0.01761445053100461, \"Vaccino\": \"In attesa seconda\", \"order\": 0}, {\"fascia_anagrafica\": \"70-79\", \"nome_area\": \"Abruzzo\", \"variable\": \"share_solo_prima\", \"value\": 0.011506047770839701, \"Vaccino\": \"In attesa seconda\", \"order\": 0}, {\"fascia_anagrafica\": \"70-79\", \"nome_area\": \"Basilicata\", \"variable\": \"share_solo_prima\", \"value\": 0.021001833799826272, \"Vaccino\": \"In attesa seconda\", \"order\": 0}, {\"fascia_anagrafica\": \"70-79\", \"nome_area\": \"Calabria\", \"variable\": \"share_solo_prima\", \"value\": 0.014341120716087768, \"Vaccino\": \"In attesa seconda\", \"order\": 0}, {\"fascia_anagrafica\": \"70-79\", \"nome_area\": \"Campania\", \"variable\": \"share_solo_prima\", \"value\": 0.027579489757446275, \"Vaccino\": \"In attesa seconda\", \"order\": 0}, {\"fascia_anagrafica\": \"70-79\", \"nome_area\": \"Emilia-Romagna\", \"variable\": \"share_solo_prima\", \"value\": 0.012754654406990822, \"Vaccino\": \"In attesa seconda\", \"order\": 0}, {\"fascia_anagrafica\": \"70-79\", \"nome_area\": \"Friuli-Venezia Giulia\", \"variable\": \"share_solo_prima\", \"value\": 0.017463169754274876, \"Vaccino\": \"In attesa seconda\", \"order\": 0}, {\"fascia_anagrafica\": \"70-79\", \"nome_area\": \"Lazio\", \"variable\": \"share_solo_prima\", \"value\": 0.015649736058043658, \"Vaccino\": \"In attesa seconda\", \"order\": 0}, {\"fascia_anagrafica\": \"70-79\", \"nome_area\": \"Liguria\", \"variable\": \"share_solo_prima\", \"value\": 0.019189461686831492, \"Vaccino\": \"In attesa seconda\", \"order\": 0}, {\"fascia_anagrafica\": \"70-79\", \"nome_area\": \"Lombardia\", \"variable\": \"share_solo_prima\", \"value\": 0.013313649147940363, \"Vaccino\": \"In attesa seconda\", \"order\": 0}, {\"fascia_anagrafica\": \"70-79\", \"nome_area\": \"Marche\", \"variable\": \"share_solo_prima\", \"value\": 0.004399127869693472, \"Vaccino\": \"In attesa seconda\", \"order\": 0}, {\"fascia_anagrafica\": \"70-79\", \"nome_area\": \"Molise\", \"variable\": \"share_solo_prima\", \"value\": 0.0047571276010485095, \"Vaccino\": \"In attesa seconda\", \"order\": 0}, {\"fascia_anagrafica\": \"70-79\", \"nome_area\": \"Piemonte\", \"variable\": \"share_solo_prima\", \"value\": 0.023172688609391177, \"Vaccino\": \"In attesa seconda\", \"order\": 0}, {\"fascia_anagrafica\": \"70-79\", \"nome_area\": \"Puglia\", \"variable\": \"share_solo_prima\", \"value\": 0.021670933727319645, \"Vaccino\": \"In attesa seconda\", \"order\": 0}, {\"fascia_anagrafica\": \"70-79\", \"nome_area\": \"Sardegna\", \"variable\": \"share_solo_prima\", \"value\": 0.014947283372498591, \"Vaccino\": \"In attesa seconda\", \"order\": 0}, {\"fascia_anagrafica\": \"70-79\", \"nome_area\": \"Sicilia\", \"variable\": \"share_solo_prima\", \"value\": 0.029208551280195214, \"Vaccino\": \"In attesa seconda\", \"order\": 0}, {\"fascia_anagrafica\": \"70-79\", \"nome_area\": \"Trentino-Alto Adige/S\\u00fcdtirol\", \"variable\": \"share_solo_prima\", \"value\": 0.01938999363102399, \"Vaccino\": \"In attesa seconda\", \"order\": 0}, {\"fascia_anagrafica\": \"70-79\", \"nome_area\": \"Toscana\", \"variable\": \"share_solo_prima\", \"value\": 0.017213850790331508, \"Vaccino\": \"In attesa seconda\", \"order\": 0}, {\"fascia_anagrafica\": \"70-79\", \"nome_area\": \"Umbria\", \"variable\": \"share_solo_prima\", \"value\": 0.01654839073044351, \"Vaccino\": \"In attesa seconda\", \"order\": 0}, {\"fascia_anagrafica\": \"70-79\", \"nome_area\": \"Valle d'Aosta\", \"variable\": \"share_solo_prima\", \"value\": 0.010897927858787414, \"Vaccino\": \"In attesa seconda\", \"order\": 0}, {\"fascia_anagrafica\": \"70-79\", \"nome_area\": \"Veneto\", \"variable\": \"share_solo_prima\", \"value\": 0.014387907527677216, \"Vaccino\": \"In attesa seconda\", \"order\": 0}, {\"fascia_anagrafica\": \"80+\", \"nome_area\": \"Abruzzo\", \"variable\": \"share_solo_prima\", \"value\": 0.012192932203534753, \"Vaccino\": \"In attesa seconda\", \"order\": 0}, {\"fascia_anagrafica\": \"80+\", \"nome_area\": \"Basilicata\", \"variable\": \"share_solo_prima\", \"value\": 0.023640099491727046, \"Vaccino\": \"In attesa seconda\", \"order\": 0}, {\"fascia_anagrafica\": \"80+\", \"nome_area\": \"Calabria\", \"variable\": \"share_solo_prima\", \"value\": 0.02218500256286232, \"Vaccino\": \"In attesa seconda\", \"order\": 0}, {\"fascia_anagrafica\": \"80+\", \"nome_area\": \"Campania\", \"variable\": \"share_solo_prima\", \"value\": 0.023482092686244935, \"Vaccino\": \"In attesa seconda\", \"order\": 0}, {\"fascia_anagrafica\": \"80+\", \"nome_area\": \"Emilia-Romagna\", \"variable\": \"share_solo_prima\", \"value\": 0.017249113628502247, \"Vaccino\": \"In attesa seconda\", \"order\": 0}, {\"fascia_anagrafica\": \"80+\", \"nome_area\": \"Friuli-Venezia Giulia\", \"variable\": \"share_solo_prima\", \"value\": 0.017127338449455427, \"Vaccino\": \"In attesa seconda\", \"order\": 0}, {\"fascia_anagrafica\": \"80+\", \"nome_area\": \"Lazio\", \"variable\": \"share_solo_prima\", \"value\": 0.02014858581522095, \"Vaccino\": \"In attesa seconda\", \"order\": 0}, {\"fascia_anagrafica\": \"80+\", \"nome_area\": \"Liguria\", \"variable\": \"share_solo_prima\", \"value\": 0.02349049118226727, \"Vaccino\": \"In attesa seconda\", \"order\": 0}, {\"fascia_anagrafica\": \"80+\", \"nome_area\": \"Lombardia\", \"variable\": \"share_solo_prima\", \"value\": 0.012058662492045177, \"Vaccino\": \"In attesa seconda\", \"order\": 0}, {\"fascia_anagrafica\": \"80+\", \"nome_area\": \"Marche\", \"variable\": \"share_solo_prima\", \"value\": 0.016023694372586512, \"Vaccino\": \"In attesa seconda\", \"order\": 0}, {\"fascia_anagrafica\": \"80+\", \"nome_area\": \"Molise\", \"variable\": \"share_solo_prima\", \"value\": 0.02354713099698773, \"Vaccino\": \"In attesa seconda\", \"order\": 0}, {\"fascia_anagrafica\": \"80+\", \"nome_area\": \"Piemonte\", \"variable\": \"share_solo_prima\", \"value\": 0.02317786636194649, \"Vaccino\": \"In attesa seconda\", \"order\": 0}, {\"fascia_anagrafica\": \"80+\", \"nome_area\": \"Puglia\", \"variable\": \"share_solo_prima\", \"value\": 0.026154302692365464, \"Vaccino\": \"In attesa seconda\", \"order\": 0}, {\"fascia_anagrafica\": \"80+\", \"nome_area\": \"Sardegna\", \"variable\": \"share_solo_prima\", \"value\": 0.027603231597845602, \"Vaccino\": \"In attesa seconda\", \"order\": 0}, {\"fascia_anagrafica\": \"80+\", \"nome_area\": \"Sicilia\", \"variable\": \"share_solo_prima\", \"value\": 0.026283941220557057, \"Vaccino\": \"In attesa seconda\", \"order\": 0}, {\"fascia_anagrafica\": \"80+\", \"nome_area\": \"Trentino-Alto Adige/S\\u00fcdtirol\", \"variable\": \"share_solo_prima\", \"value\": 0.024140312111586796, \"Vaccino\": \"In attesa seconda\", \"order\": 0}, {\"fascia_anagrafica\": \"80+\", \"nome_area\": \"Toscana\", \"variable\": \"share_solo_prima\", \"value\": 0.01667426106503843, \"Vaccino\": \"In attesa seconda\", \"order\": 0}, {\"fascia_anagrafica\": \"80+\", \"nome_area\": \"Umbria\", \"variable\": \"share_solo_prima\", \"value\": 0.013793745129737965, \"Vaccino\": \"In attesa seconda\", \"order\": 0}, {\"fascia_anagrafica\": \"80+\", \"nome_area\": \"Valle d'Aosta\", \"variable\": \"share_solo_prima\", \"value\": 0.019280073838580658, \"Vaccino\": \"In attesa seconda\", \"order\": 0}, {\"fascia_anagrafica\": \"80+\", \"nome_area\": \"Veneto\", \"variable\": \"share_solo_prima\", \"value\": 0.019447997745159682, \"Vaccino\": \"In attesa seconda\", \"order\": 0}, {\"fascia_anagrafica\": \"12-19\", \"nome_area\": \"Abruzzo\", \"variable\": \"share_missing\", \"value\": 0.3152427502190505, \"Vaccino\": \"Nessun vaccino\", \"order\": 2}, {\"fascia_anagrafica\": \"12-19\", \"nome_area\": \"Basilicata\", \"variable\": \"share_missing\", \"value\": 0.2668815786260288, \"Vaccino\": \"Nessun vaccino\", \"order\": 2}, {\"fascia_anagrafica\": \"12-19\", \"nome_area\": \"Calabria\", \"variable\": \"share_missing\", \"value\": 0.3741223398842676, \"Vaccino\": \"Nessun vaccino\", \"order\": 2}, {\"fascia_anagrafica\": \"12-19\", \"nome_area\": \"Campania\", \"variable\": \"share_missing\", \"value\": 0.3536230165787342, \"Vaccino\": \"Nessun vaccino\", \"order\": 2}, {\"fascia_anagrafica\": \"12-19\", \"nome_area\": \"Emilia-Romagna\", \"variable\": \"share_missing\", \"value\": 0.31253474237194956, \"Vaccino\": \"Nessun vaccino\", \"order\": 2}, {\"fascia_anagrafica\": \"12-19\", \"nome_area\": \"Friuli-Venezia Giulia\", \"variable\": \"share_missing\", \"value\": 0.3867001694618127, \"Vaccino\": \"Nessun vaccino\", \"order\": 2}, {\"fascia_anagrafica\": \"12-19\", \"nome_area\": \"Lazio\", \"variable\": \"share_missing\", \"value\": 0.33148432010500417, \"Vaccino\": \"Nessun vaccino\", \"order\": 2}, {\"fascia_anagrafica\": \"12-19\", \"nome_area\": \"Liguria\", \"variable\": \"share_missing\", \"value\": 0.40022293330258396, \"Vaccino\": \"Nessun vaccino\", \"order\": 2}, {\"fascia_anagrafica\": \"12-19\", \"nome_area\": \"Lombardia\", \"variable\": \"share_missing\", \"value\": 0.277087324383312, \"Vaccino\": \"Nessun vaccino\", \"order\": 2}, {\"fascia_anagrafica\": \"12-19\", \"nome_area\": \"Marche\", \"variable\": \"share_missing\", \"value\": 0.407928603649422, \"Vaccino\": \"Nessun vaccino\", \"order\": 2}, {\"fascia_anagrafica\": \"12-19\", \"nome_area\": \"Molise\", \"variable\": \"share_missing\", \"value\": 0.2539883885446651, \"Vaccino\": \"Nessun vaccino\", \"order\": 2}, {\"fascia_anagrafica\": \"12-19\", \"nome_area\": \"Piemonte\", \"variable\": \"share_missing\", \"value\": 0.36198994463429324, \"Vaccino\": \"Nessun vaccino\", \"order\": 2}, {\"fascia_anagrafica\": \"12-19\", \"nome_area\": \"Puglia\", \"variable\": \"share_missing\", \"value\": 0.2661338530704759, \"Vaccino\": \"Nessun vaccino\", \"order\": 2}, {\"fascia_anagrafica\": \"12-19\", \"nome_area\": \"Sardegna\", \"variable\": \"share_missing\", \"value\": 0.24153816622944524, \"Vaccino\": \"Nessun vaccino\", \"order\": 2}, {\"fascia_anagrafica\": \"12-19\", \"nome_area\": \"Sicilia\", \"variable\": \"share_missing\", \"value\": 0.3970801268098566, \"Vaccino\": \"Nessun vaccino\", \"order\": 2}, {\"fascia_anagrafica\": \"12-19\", \"nome_area\": \"Trentino-Alto Adige/S\\u00fcdtirol\", \"variable\": \"share_missing\", \"value\": 0.42621709500690386, \"Vaccino\": \"Nessun vaccino\", \"order\": 2}, {\"fascia_anagrafica\": \"12-19\", \"nome_area\": \"Toscana\", \"variable\": \"share_missing\", \"value\": 0.2916520253150511, \"Vaccino\": \"Nessun vaccino\", \"order\": 2}, {\"fascia_anagrafica\": \"12-19\", \"nome_area\": \"Umbria\", \"variable\": \"share_missing\", \"value\": 0.3332337682754284, \"Vaccino\": \"Nessun vaccino\", \"order\": 2}, {\"fascia_anagrafica\": \"12-19\", \"nome_area\": \"Valle d'Aosta\", \"variable\": \"share_missing\", \"value\": 0.3857754010695187, \"Vaccino\": \"Nessun vaccino\", \"order\": 2}, {\"fascia_anagrafica\": \"12-19\", \"nome_area\": \"Veneto\", \"variable\": \"share_missing\", \"value\": 0.3649999737721429, \"Vaccino\": \"Nessun vaccino\", \"order\": 2}, {\"fascia_anagrafica\": \"20-29\", \"nome_area\": \"Abruzzo\", \"variable\": \"share_missing\", \"value\": 0.16839415475525032, \"Vaccino\": \"Nessun vaccino\", \"order\": 2}, {\"fascia_anagrafica\": \"20-29\", \"nome_area\": \"Basilicata\", \"variable\": \"share_missing\", \"value\": 0.2095762636581682, \"Vaccino\": \"Nessun vaccino\", \"order\": 2}, {\"fascia_anagrafica\": \"20-29\", \"nome_area\": \"Calabria\", \"variable\": \"share_missing\", \"value\": 0.25201505912508887, \"Vaccino\": \"Nessun vaccino\", \"order\": 2}, {\"fascia_anagrafica\": \"20-29\", \"nome_area\": \"Campania\", \"variable\": \"share_missing\", \"value\": 0.24974471060862752, \"Vaccino\": \"Nessun vaccino\", \"order\": 2}, {\"fascia_anagrafica\": \"20-29\", \"nome_area\": \"Emilia-Romagna\", \"variable\": \"share_missing\", \"value\": 0.15269498867611792, \"Vaccino\": \"Nessun vaccino\", \"order\": 2}, {\"fascia_anagrafica\": \"20-29\", \"nome_area\": \"Friuli-Venezia Giulia\", \"variable\": \"share_missing\", \"value\": 0.1691000379106603, \"Vaccino\": \"Nessun vaccino\", \"order\": 2}, {\"fascia_anagrafica\": \"20-29\", \"nome_area\": \"Lazio\", \"variable\": \"share_missing\", \"value\": 0.16896690554795069, \"Vaccino\": \"Nessun vaccino\", \"order\": 2}, {\"fascia_anagrafica\": \"20-29\", \"nome_area\": \"Liguria\", \"variable\": \"share_missing\", \"value\": 0.18269585083646545, \"Vaccino\": \"Nessun vaccino\", \"order\": 2}, {\"fascia_anagrafica\": \"20-29\", \"nome_area\": \"Lombardia\", \"variable\": \"share_missing\", \"value\": 0.1212454183075208, \"Vaccino\": \"Nessun vaccino\", \"order\": 2}, {\"fascia_anagrafica\": \"20-29\", \"nome_area\": \"Marche\", \"variable\": \"share_missing\", \"value\": 0.21340061362985124, \"Vaccino\": \"Nessun vaccino\", \"order\": 2}, {\"fascia_anagrafica\": \"20-29\", \"nome_area\": \"Molise\", \"variable\": \"share_missing\", \"value\": 0.24606188904800452, \"Vaccino\": \"Nessun vaccino\", \"order\": 2}, {\"fascia_anagrafica\": \"20-29\", \"nome_area\": \"Piemonte\", \"variable\": \"share_missing\", \"value\": 0.19530309308504157, \"Vaccino\": \"Nessun vaccino\", \"order\": 2}, {\"fascia_anagrafica\": \"20-29\", \"nome_area\": \"Puglia\", \"variable\": \"share_missing\", \"value\": 0.21104217581838983, \"Vaccino\": \"Nessun vaccino\", \"order\": 2}, {\"fascia_anagrafica\": \"20-29\", \"nome_area\": \"Sardegna\", \"variable\": \"share_missing\", \"value\": 0.19019954185411087, \"Vaccino\": \"Nessun vaccino\", \"order\": 2}, {\"fascia_anagrafica\": \"20-29\", \"nome_area\": \"Sicilia\", \"variable\": \"share_missing\", \"value\": 0.28388279061560295, \"Vaccino\": \"Nessun vaccino\", \"order\": 2}, {\"fascia_anagrafica\": \"20-29\", \"nome_area\": \"Trentino-Alto Adige/S\\u00fcdtirol\", \"variable\": \"share_missing\", \"value\": 0.21798952664544613, \"Vaccino\": \"Nessun vaccino\", \"order\": 2}, {\"fascia_anagrafica\": \"20-29\", \"nome_area\": \"Toscana\", \"variable\": \"share_missing\", \"value\": 0.14509180655605253, \"Vaccino\": \"Nessun vaccino\", \"order\": 2}, {\"fascia_anagrafica\": \"20-29\", \"nome_area\": \"Umbria\", \"variable\": \"share_missing\", \"value\": 0.19706118905669534, \"Vaccino\": \"Nessun vaccino\", \"order\": 2}, {\"fascia_anagrafica\": \"20-29\", \"nome_area\": \"Valle d'Aosta\", \"variable\": \"share_missing\", \"value\": 0.223828601288974, \"Vaccino\": \"Nessun vaccino\", \"order\": 2}, {\"fascia_anagrafica\": \"20-29\", \"nome_area\": \"Veneto\", \"variable\": \"share_missing\", \"value\": 0.19635134712269614, \"Vaccino\": \"Nessun vaccino\", \"order\": 2}, {\"fascia_anagrafica\": \"30-39\", \"nome_area\": \"Abruzzo\", \"variable\": \"share_missing\", \"value\": 0.24869866975130128, \"Vaccino\": \"Nessun vaccino\", \"order\": 2}, {\"fascia_anagrafica\": \"30-39\", \"nome_area\": \"Basilicata\", \"variable\": \"share_missing\", \"value\": 0.24164318017958966, \"Vaccino\": \"Nessun vaccino\", \"order\": 2}, {\"fascia_anagrafica\": \"30-39\", \"nome_area\": \"Calabria\", \"variable\": \"share_missing\", \"value\": 0.2945911139729555, \"Vaccino\": \"Nessun vaccino\", \"order\": 2}, {\"fascia_anagrafica\": \"30-39\", \"nome_area\": \"Campania\", \"variable\": \"share_missing\", \"value\": 0.2781405304714601, \"Vaccino\": \"Nessun vaccino\", \"order\": 2}, {\"fascia_anagrafica\": \"30-39\", \"nome_area\": \"Emilia-Romagna\", \"variable\": \"share_missing\", \"value\": 0.20611166333288344, \"Vaccino\": \"Nessun vaccino\", \"order\": 2}, {\"fascia_anagrafica\": \"30-39\", \"nome_area\": \"Friuli-Venezia Giulia\", \"variable\": \"share_missing\", \"value\": 0.25499942488127914, \"Vaccino\": \"Nessun vaccino\", \"order\": 2}, {\"fascia_anagrafica\": \"30-39\", \"nome_area\": \"Lazio\", \"variable\": \"share_missing\", \"value\": 0.2063499694279649, \"Vaccino\": \"Nessun vaccino\", \"order\": 2}, {\"fascia_anagrafica\": \"30-39\", \"nome_area\": \"Liguria\", \"variable\": \"share_missing\", \"value\": 0.2519209255277102, \"Vaccino\": \"Nessun vaccino\", \"order\": 2}, {\"fascia_anagrafica\": \"30-39\", \"nome_area\": \"Lombardia\", \"variable\": \"share_missing\", \"value\": 0.20346134759019313, \"Vaccino\": \"Nessun vaccino\", \"order\": 2}, {\"fascia_anagrafica\": \"30-39\", \"nome_area\": \"Marche\", \"variable\": \"share_missing\", \"value\": 0.2756364442911009, \"Vaccino\": \"Nessun vaccino\", \"order\": 2}, {\"fascia_anagrafica\": \"30-39\", \"nome_area\": \"Molise\", \"variable\": \"share_missing\", \"value\": 0.268168835290384, \"Vaccino\": \"Nessun vaccino\", \"order\": 2}, {\"fascia_anagrafica\": \"30-39\", \"nome_area\": \"Piemonte\", \"variable\": \"share_missing\", \"value\": 0.2592398025631765, \"Vaccino\": \"Nessun vaccino\", \"order\": 2}, {\"fascia_anagrafica\": \"30-39\", \"nome_area\": \"Puglia\", \"variable\": \"share_missing\", \"value\": 0.2329407345448351, \"Vaccino\": \"Nessun vaccino\", \"order\": 2}, {\"fascia_anagrafica\": \"30-39\", \"nome_area\": \"Sardegna\", \"variable\": \"share_missing\", \"value\": 0.23944005814695424, \"Vaccino\": \"Nessun vaccino\", \"order\": 2}, {\"fascia_anagrafica\": \"30-39\", \"nome_area\": \"Sicilia\", \"variable\": \"share_missing\", \"value\": 0.30922569395676114, \"Vaccino\": \"Nessun vaccino\", \"order\": 2}, {\"fascia_anagrafica\": \"30-39\", \"nome_area\": \"Trentino-Alto Adige/S\\u00fcdtirol\", \"variable\": \"share_missing\", \"value\": 0.26722592318447236, \"Vaccino\": \"Nessun vaccino\", \"order\": 2}, {\"fascia_anagrafica\": \"30-39\", \"nome_area\": \"Toscana\", \"variable\": \"share_missing\", \"value\": 0.19063816531554045, \"Vaccino\": \"Nessun vaccino\", \"order\": 2}, {\"fascia_anagrafica\": \"30-39\", \"nome_area\": \"Umbria\", \"variable\": \"share_missing\", \"value\": 0.2239622334364317, \"Vaccino\": \"Nessun vaccino\", \"order\": 2}, {\"fascia_anagrafica\": \"30-39\", \"nome_area\": \"Valle d'Aosta\", \"variable\": \"share_missing\", \"value\": 0.2722320141003045, \"Vaccino\": \"Nessun vaccino\", \"order\": 2}, {\"fascia_anagrafica\": \"30-39\", \"nome_area\": \"Veneto\", \"variable\": \"share_missing\", \"value\": 0.2525660626669536, \"Vaccino\": \"Nessun vaccino\", \"order\": 2}, {\"fascia_anagrafica\": \"40-49\", \"nome_area\": \"Abruzzo\", \"variable\": \"share_missing\", \"value\": 0.23349290988555366, \"Vaccino\": \"Nessun vaccino\", \"order\": 2}, {\"fascia_anagrafica\": \"40-49\", \"nome_area\": \"Basilicata\", \"variable\": \"share_missing\", \"value\": 0.1955886863406633, \"Vaccino\": \"Nessun vaccino\", \"order\": 2}, {\"fascia_anagrafica\": \"40-49\", \"nome_area\": \"Calabria\", \"variable\": \"share_missing\", \"value\": 0.2569816513056245, \"Vaccino\": \"Nessun vaccino\", \"order\": 2}, {\"fascia_anagrafica\": \"40-49\", \"nome_area\": \"Campania\", \"variable\": \"share_missing\", \"value\": 0.23893943125353115, \"Vaccino\": \"Nessun vaccino\", \"order\": 2}, {\"fascia_anagrafica\": \"40-49\", \"nome_area\": \"Emilia-Romagna\", \"variable\": \"share_missing\", \"value\": 0.22289411024754027, \"Vaccino\": \"Nessun vaccino\", \"order\": 2}, {\"fascia_anagrafica\": \"40-49\", \"nome_area\": \"Friuli-Venezia Giulia\", \"variable\": \"share_missing\", \"value\": 0.28551850697283215, \"Vaccino\": \"Nessun vaccino\", \"order\": 2}, {\"fascia_anagrafica\": \"40-49\", \"nome_area\": \"Lazio\", \"variable\": \"share_missing\", \"value\": 0.1928501453564358, \"Vaccino\": \"Nessun vaccino\", \"order\": 2}, {\"fascia_anagrafica\": \"40-49\", \"nome_area\": \"Liguria\", \"variable\": \"share_missing\", \"value\": 0.2603379939209727, \"Vaccino\": \"Nessun vaccino\", \"order\": 2}, {\"fascia_anagrafica\": \"40-49\", \"nome_area\": \"Lombardia\", \"variable\": \"share_missing\", \"value\": 0.22008729217327874, \"Vaccino\": \"Nessun vaccino\", \"order\": 2}, {\"fascia_anagrafica\": \"40-49\", \"nome_area\": \"Marche\", \"variable\": \"share_missing\", \"value\": 0.2719307362437246, \"Vaccino\": \"Nessun vaccino\", \"order\": 2}, {\"fascia_anagrafica\": \"40-49\", \"nome_area\": \"Molise\", \"variable\": \"share_missing\", \"value\": 0.17083892117419158, \"Vaccino\": \"Nessun vaccino\", \"order\": 2}, {\"fascia_anagrafica\": \"40-49\", \"nome_area\": \"Piemonte\", \"variable\": \"share_missing\", \"value\": 0.2602978071747417, \"Vaccino\": \"Nessun vaccino\", \"order\": 2}, {\"fascia_anagrafica\": \"40-49\", \"nome_area\": \"Puglia\", \"variable\": \"share_missing\", \"value\": 0.18770887163240682, \"Vaccino\": \"Nessun vaccino\", \"order\": 2}, {\"fascia_anagrafica\": \"40-49\", \"nome_area\": \"Sardegna\", \"variable\": \"share_missing\", \"value\": 0.2203290223118507, \"Vaccino\": \"Nessun vaccino\", \"order\": 2}, {\"fascia_anagrafica\": \"40-49\", \"nome_area\": \"Sicilia\", \"variable\": \"share_missing\", \"value\": 0.2694990625243009, \"Vaccino\": \"Nessun vaccino\", \"order\": 2}, {\"fascia_anagrafica\": \"40-49\", \"nome_area\": \"Trentino-Alto Adige/S\\u00fcdtirol\", \"variable\": \"share_missing\", \"value\": 0.27110515740120567, \"Vaccino\": \"Nessun vaccino\", \"order\": 2}, {\"fascia_anagrafica\": \"40-49\", \"nome_area\": \"Toscana\", \"variable\": \"share_missing\", \"value\": 0.19845275487561492, \"Vaccino\": \"Nessun vaccino\", \"order\": 2}, {\"fascia_anagrafica\": \"40-49\", \"nome_area\": \"Umbria\", \"variable\": \"share_missing\", \"value\": 0.20885917326240383, \"Vaccino\": \"Nessun vaccino\", \"order\": 2}, {\"fascia_anagrafica\": \"40-49\", \"nome_area\": \"Valle d'Aosta\", \"variable\": \"share_missing\", \"value\": 0.27914661719519973, \"Vaccino\": \"Nessun vaccino\", \"order\": 2}, {\"fascia_anagrafica\": \"40-49\", \"nome_area\": \"Veneto\", \"variable\": \"share_missing\", \"value\": 0.25644786019285376, \"Vaccino\": \"Nessun vaccino\", \"order\": 2}, {\"fascia_anagrafica\": \"50-59\", \"nome_area\": \"Abruzzo\", \"variable\": \"share_missing\", \"value\": 0.19014691929501737, \"Vaccino\": \"Nessun vaccino\", \"order\": 2}, {\"fascia_anagrafica\": \"50-59\", \"nome_area\": \"Basilicata\", \"variable\": \"share_missing\", \"value\": 0.15660846182647464, \"Vaccino\": \"Nessun vaccino\", \"order\": 2}, {\"fascia_anagrafica\": \"50-59\", \"nome_area\": \"Calabria\", \"variable\": \"share_missing\", \"value\": 0.21725256293368037, \"Vaccino\": \"Nessun vaccino\", \"order\": 2}, {\"fascia_anagrafica\": \"50-59\", \"nome_area\": \"Campania\", \"variable\": \"share_missing\", \"value\": 0.20350005328606766, \"Vaccino\": \"Nessun vaccino\", \"order\": 2}, {\"fascia_anagrafica\": \"50-59\", \"nome_area\": \"Emilia-Romagna\", \"variable\": \"share_missing\", \"value\": 0.1760451236857517, \"Vaccino\": \"Nessun vaccino\", \"order\": 2}, {\"fascia_anagrafica\": \"50-59\", \"nome_area\": \"Friuli-Venezia Giulia\", \"variable\": \"share_missing\", \"value\": 0.2553588913158093, \"Vaccino\": \"Nessun vaccino\", \"order\": 2}, {\"fascia_anagrafica\": \"50-59\", \"nome_area\": \"Lazio\", \"variable\": \"share_missing\", \"value\": 0.14069560964198752, \"Vaccino\": \"Nessun vaccino\", \"order\": 2}, {\"fascia_anagrafica\": \"50-59\", \"nome_area\": \"Liguria\", \"variable\": \"share_missing\", \"value\": 0.21043270476242032, \"Vaccino\": \"Nessun vaccino\", \"order\": 2}, {\"fascia_anagrafica\": \"50-59\", \"nome_area\": \"Lombardia\", \"variable\": \"share_missing\", \"value\": 0.17379408677365496, \"Vaccino\": \"Nessun vaccino\", \"order\": 2}, {\"fascia_anagrafica\": \"50-59\", \"nome_area\": \"Marche\", \"variable\": \"share_missing\", \"value\": 0.22210370788475423, \"Vaccino\": \"Nessun vaccino\", \"order\": 2}, {\"fascia_anagrafica\": \"50-59\", \"nome_area\": \"Molise\", \"variable\": \"share_missing\", \"value\": 0.11897780536352545, \"Vaccino\": \"Nessun vaccino\", \"order\": 2}, {\"fascia_anagrafica\": \"50-59\", \"nome_area\": \"Piemonte\", \"variable\": \"share_missing\", \"value\": 0.21091793793114222, \"Vaccino\": \"Nessun vaccino\", \"order\": 2}, {\"fascia_anagrafica\": \"50-59\", \"nome_area\": \"Puglia\", \"variable\": \"share_missing\", \"value\": 0.15940601016278988, \"Vaccino\": \"Nessun vaccino\", \"order\": 2}, {\"fascia_anagrafica\": \"50-59\", \"nome_area\": \"Sardegna\", \"variable\": \"share_missing\", \"value\": 0.1747877411529628, \"Vaccino\": \"Nessun vaccino\", \"order\": 2}, {\"fascia_anagrafica\": \"50-59\", \"nome_area\": \"Sicilia\", \"variable\": \"share_missing\", \"value\": 0.2279543575326608, \"Vaccino\": \"Nessun vaccino\", \"order\": 2}, {\"fascia_anagrafica\": \"50-59\", \"nome_area\": \"Trentino-Alto Adige/S\\u00fcdtirol\", \"variable\": \"share_missing\", \"value\": 0.24166461433815337, \"Vaccino\": \"Nessun vaccino\", \"order\": 2}, {\"fascia_anagrafica\": \"50-59\", \"nome_area\": \"Toscana\", \"variable\": \"share_missing\", \"value\": 0.16334922062797055, \"Vaccino\": \"Nessun vaccino\", \"order\": 2}, {\"fascia_anagrafica\": \"50-59\", \"nome_area\": \"Umbria\", \"variable\": \"share_missing\", \"value\": 0.17005266014404527, \"Vaccino\": \"Nessun vaccino\", \"order\": 2}, {\"fascia_anagrafica\": \"50-59\", \"nome_area\": \"Valle d'Aosta\", \"variable\": \"share_missing\", \"value\": 0.22422148649297055, \"Vaccino\": \"Nessun vaccino\", \"order\": 2}, {\"fascia_anagrafica\": \"50-59\", \"nome_area\": \"Veneto\", \"variable\": \"share_missing\", \"value\": 0.20455588152872878, \"Vaccino\": \"Nessun vaccino\", \"order\": 2}, {\"fascia_anagrafica\": \"60-69\", \"nome_area\": \"Abruzzo\", \"variable\": \"share_missing\", \"value\": 0.1410534771498257, \"Vaccino\": \"Nessun vaccino\", \"order\": 2}, {\"fascia_anagrafica\": \"60-69\", \"nome_area\": \"Basilicata\", \"variable\": \"share_missing\", \"value\": 0.11433304618646879, \"Vaccino\": \"Nessun vaccino\", \"order\": 2}, {\"fascia_anagrafica\": \"60-69\", \"nome_area\": \"Calabria\", \"variable\": \"share_missing\", \"value\": 0.15953677646630088, \"Vaccino\": \"Nessun vaccino\", \"order\": 2}, {\"fascia_anagrafica\": \"60-69\", \"nome_area\": \"Campania\", \"variable\": \"share_missing\", \"value\": 0.16192744521836977, \"Vaccino\": \"Nessun vaccino\", \"order\": 2}, {\"fascia_anagrafica\": \"60-69\", \"nome_area\": \"Emilia-Romagna\", \"variable\": \"share_missing\", \"value\": 0.12943387532449632, \"Vaccino\": \"Nessun vaccino\", \"order\": 2}, {\"fascia_anagrafica\": \"60-69\", \"nome_area\": \"Friuli-Venezia Giulia\", \"variable\": \"share_missing\", \"value\": 0.20294350873854156, \"Vaccino\": \"Nessun vaccino\", \"order\": 2}, {\"fascia_anagrafica\": \"60-69\", \"nome_area\": \"Lazio\", \"variable\": \"share_missing\", \"value\": 0.10000480425487421, \"Vaccino\": \"Nessun vaccino\", \"order\": 2}, {\"fascia_anagrafica\": \"60-69\", \"nome_area\": \"Liguria\", \"variable\": \"share_missing\", \"value\": 0.167256492097625, \"Vaccino\": \"Nessun vaccino\", \"order\": 2}, {\"fascia_anagrafica\": \"60-69\", \"nome_area\": \"Lombardia\", \"variable\": \"share_missing\", \"value\": 0.14804834159199756, \"Vaccino\": \"Nessun vaccino\", \"order\": 2}, {\"fascia_anagrafica\": \"60-69\", \"nome_area\": \"Marche\", \"variable\": \"share_missing\", \"value\": 0.15969299205504967, \"Vaccino\": \"Nessun vaccino\", \"order\": 2}, {\"fascia_anagrafica\": \"60-69\", \"nome_area\": \"Molise\", \"variable\": \"share_missing\", \"value\": 0.09905925473427005, \"Vaccino\": \"Nessun vaccino\", \"order\": 2}, {\"fascia_anagrafica\": \"60-69\", \"nome_area\": \"Piemonte\", \"variable\": \"share_missing\", \"value\": 0.1752166573272292, \"Vaccino\": \"Nessun vaccino\", \"order\": 2}, {\"fascia_anagrafica\": \"60-69\", \"nome_area\": \"Puglia\", \"variable\": \"share_missing\", \"value\": 0.08895955593046848, \"Vaccino\": \"Nessun vaccino\", \"order\": 2}, {\"fascia_anagrafica\": \"60-69\", \"nome_area\": \"Sardegna\", \"variable\": \"share_missing\", \"value\": 0.12840877968621622, \"Vaccino\": \"Nessun vaccino\", \"order\": 2}, {\"fascia_anagrafica\": \"60-69\", \"nome_area\": \"Sicilia\", \"variable\": \"share_missing\", \"value\": 0.18982972957983063, \"Vaccino\": \"Nessun vaccino\", \"order\": 2}, {\"fascia_anagrafica\": \"60-69\", \"nome_area\": \"Trentino-Alto Adige/S\\u00fcdtirol\", \"variable\": \"share_missing\", \"value\": 0.18377280030242887, \"Vaccino\": \"Nessun vaccino\", \"order\": 2}, {\"fascia_anagrafica\": \"60-69\", \"nome_area\": \"Toscana\", \"variable\": \"share_missing\", \"value\": 0.11534230744537415, \"Vaccino\": \"Nessun vaccino\", \"order\": 2}, {\"fascia_anagrafica\": \"60-69\", \"nome_area\": \"Umbria\", \"variable\": \"share_missing\", \"value\": 0.11838589701483263, \"Vaccino\": \"Nessun vaccino\", \"order\": 2}, {\"fascia_anagrafica\": \"60-69\", \"nome_area\": \"Valle d'Aosta\", \"variable\": \"share_missing\", \"value\": 0.19954312527011173, \"Vaccino\": \"Nessun vaccino\", \"order\": 2}, {\"fascia_anagrafica\": \"60-69\", \"nome_area\": \"Veneto\", \"variable\": \"share_missing\", \"value\": 0.1498685794296102, \"Vaccino\": \"Nessun vaccino\", \"order\": 2}, {\"fascia_anagrafica\": \"70-79\", \"nome_area\": \"Abruzzo\", \"variable\": \"share_missing\", \"value\": 0.12316056067420637, \"Vaccino\": \"Nessun vaccino\", \"order\": 2}, {\"fascia_anagrafica\": \"70-79\", \"nome_area\": \"Basilicata\", \"variable\": \"share_missing\", \"value\": 0.0513077888234726, \"Vaccino\": \"Nessun vaccino\", \"order\": 2}, {\"fascia_anagrafica\": \"70-79\", \"nome_area\": \"Calabria\", \"variable\": \"share_missing\", \"value\": 0.1549174551772737, \"Vaccino\": \"Nessun vaccino\", \"order\": 2}, {\"fascia_anagrafica\": \"70-79\", \"nome_area\": \"Campania\", \"variable\": \"share_missing\", \"value\": 0.08772778685434214, \"Vaccino\": \"Nessun vaccino\", \"order\": 2}, {\"fascia_anagrafica\": \"70-79\", \"nome_area\": \"Emilia-Romagna\", \"variable\": \"share_missing\", \"value\": 0.09613697380196178, \"Vaccino\": \"Nessun vaccino\", \"order\": 2}, {\"fascia_anagrafica\": \"70-79\", \"nome_area\": \"Friuli-Venezia Giulia\", \"variable\": \"share_missing\", \"value\": 0.1592720945820676, \"Vaccino\": \"Nessun vaccino\", \"order\": 2}, {\"fascia_anagrafica\": \"70-79\", \"nome_area\": \"Lazio\", \"variable\": \"share_missing\", \"value\": 0.0767671235857662, \"Vaccino\": \"Nessun vaccino\", \"order\": 2}, {\"fascia_anagrafica\": \"70-79\", \"nome_area\": \"Liguria\", \"variable\": \"share_missing\", \"value\": 0.11805190250745218, \"Vaccino\": \"Nessun vaccino\", \"order\": 2}, {\"fascia_anagrafica\": \"70-79\", \"nome_area\": \"Lombardia\", \"variable\": \"share_missing\", \"value\": 0.11346058510115137, \"Vaccino\": \"Nessun vaccino\", \"order\": 2}, {\"fascia_anagrafica\": \"70-79\", \"nome_area\": \"Marche\", \"variable\": \"share_missing\", \"value\": 0.09478645632935741, \"Vaccino\": \"Nessun vaccino\", \"order\": 2}, {\"fascia_anagrafica\": \"70-79\", \"nome_area\": \"Molise\", \"variable\": \"share_missing\", \"value\": 0.08087116921782467, \"Vaccino\": \"Nessun vaccino\", \"order\": 2}, {\"fascia_anagrafica\": \"70-79\", \"nome_area\": \"Piemonte\", \"variable\": \"share_missing\", \"value\": 0.1402385951596203, \"Vaccino\": \"Nessun vaccino\", \"order\": 2}, {\"fascia_anagrafica\": \"70-79\", \"nome_area\": \"Puglia\", \"variable\": \"share_missing\", \"value\": 0.058703285805361334, \"Vaccino\": \"Nessun vaccino\", \"order\": 2}, {\"fascia_anagrafica\": \"70-79\", \"nome_area\": \"Sardegna\", \"variable\": \"share_missing\", \"value\": 0.10373198445528045, \"Vaccino\": \"Nessun vaccino\", \"order\": 2}, {\"fascia_anagrafica\": \"70-79\", \"nome_area\": \"Sicilia\", \"variable\": \"share_missing\", \"value\": 0.16109918654153216, \"Vaccino\": \"Nessun vaccino\", \"order\": 2}, {\"fascia_anagrafica\": \"70-79\", \"nome_area\": \"Trentino-Alto Adige/S\\u00fcdtirol\", \"variable\": \"share_missing\", \"value\": 0.14403995268760672, \"Vaccino\": \"Nessun vaccino\", \"order\": 2}, {\"fascia_anagrafica\": \"70-79\", \"nome_area\": \"Toscana\", \"variable\": \"share_missing\", \"value\": 0.09051971215941938, \"Vaccino\": \"Nessun vaccino\", \"order\": 2}, {\"fascia_anagrafica\": \"70-79\", \"nome_area\": \"Umbria\", \"variable\": \"share_missing\", \"value\": 0.0955321393095962, \"Vaccino\": \"Nessun vaccino\", \"order\": 2}, {\"fascia_anagrafica\": \"70-79\", \"nome_area\": \"Valle d'Aosta\", \"variable\": \"share_missing\", \"value\": 0.14712202609363012, \"Vaccino\": \"Nessun vaccino\", \"order\": 2}, {\"fascia_anagrafica\": \"70-79\", \"nome_area\": \"Veneto\", \"variable\": \"share_missing\", \"value\": 0.11007012033044888, \"Vaccino\": \"Nessun vaccino\", \"order\": 2}, {\"fascia_anagrafica\": \"80+\", \"nome_area\": \"Abruzzo\", \"variable\": \"share_missing\", \"value\": 0.18073072088787803, \"Vaccino\": \"Nessun vaccino\", \"order\": 2}, {\"fascia_anagrafica\": \"80+\", \"nome_area\": \"Basilicata\", \"variable\": \"share_missing\", \"value\": 0.11647020655347676, \"Vaccino\": \"Nessun vaccino\", \"order\": 2}, {\"fascia_anagrafica\": \"80+\", \"nome_area\": \"Calabria\", \"variable\": \"share_missing\", \"value\": 0.19017882281597204, \"Vaccino\": \"Nessun vaccino\", \"order\": 2}, {\"fascia_anagrafica\": \"80+\", \"nome_area\": \"Campania\", \"variable\": \"share_missing\", \"value\": 0.10603745436502074, \"Vaccino\": \"Nessun vaccino\", \"order\": 2}, {\"fascia_anagrafica\": \"80+\", \"nome_area\": \"Emilia-Romagna\", \"variable\": \"share_missing\", \"value\": 0.02764235991006568, \"Vaccino\": \"Nessun vaccino\", \"order\": 2}, {\"fascia_anagrafica\": \"80+\", \"nome_area\": \"Friuli-Venezia Giulia\", \"variable\": \"share_missing\", \"value\": 0.054816945656185265, \"Vaccino\": \"Nessun vaccino\", \"order\": 2}, {\"fascia_anagrafica\": \"80+\", \"nome_area\": \"Lazio\", \"variable\": \"share_missing\", \"value\": 0.03822094802892161, \"Vaccino\": \"Nessun vaccino\", \"order\": 2}, {\"fascia_anagrafica\": \"80+\", \"nome_area\": \"Liguria\", \"variable\": \"share_missing\", \"value\": 0.05259924748521842, \"Vaccino\": \"Nessun vaccino\", \"order\": 2}, {\"fascia_anagrafica\": \"80+\", \"nome_area\": \"Lombardia\", \"variable\": \"share_missing\", \"value\": 0.05171190407430687, \"Vaccino\": \"Nessun vaccino\", \"order\": 2}, {\"fascia_anagrafica\": \"80+\", \"nome_area\": \"Marche\", \"variable\": \"share_missing\", \"value\": 0.06111798447868637, \"Vaccino\": \"Nessun vaccino\", \"order\": 2}, {\"fascia_anagrafica\": \"80+\", \"nome_area\": \"Molise\", \"variable\": \"share_missing\", \"value\": 0.10282124752038797, \"Vaccino\": \"Nessun vaccino\", \"order\": 2}, {\"fascia_anagrafica\": \"80+\", \"nome_area\": \"Piemonte\", \"variable\": \"share_missing\", \"value\": 0.0654340946071901, \"Vaccino\": \"Nessun vaccino\", \"order\": 2}, {\"fascia_anagrafica\": \"80+\", \"nome_area\": \"Puglia\", \"variable\": \"share_missing\", \"value\": 0.03796202332235482, \"Vaccino\": \"Nessun vaccino\", \"order\": 2}, {\"fascia_anagrafica\": \"80+\", \"nome_area\": \"Sardegna\", \"variable\": \"share_missing\", \"value\": 0.11039689664016418, \"Vaccino\": \"Nessun vaccino\", \"order\": 2}, {\"fascia_anagrafica\": \"80+\", \"nome_area\": \"Sicilia\", \"variable\": \"share_missing\", \"value\": 0.19513631896508982, \"Vaccino\": \"Nessun vaccino\", \"order\": 2}, {\"fascia_anagrafica\": \"80+\", \"nome_area\": \"Trentino-Alto Adige/S\\u00fcdtirol\", \"variable\": \"share_missing\", \"value\": 0.07587349813561667, \"Vaccino\": \"Nessun vaccino\", \"order\": 2}, {\"fascia_anagrafica\": \"80+\", \"nome_area\": \"Toscana\", \"variable\": \"share_missing\", \"value\": 0.037081928369634545, \"Vaccino\": \"Nessun vaccino\", \"order\": 2}, {\"fascia_anagrafica\": \"80+\", \"nome_area\": \"Umbria\", \"variable\": \"share_missing\", \"value\": 0.1054535304311418, \"Vaccino\": \"Nessun vaccino\", \"order\": 2}, {\"fascia_anagrafica\": \"80+\", \"nome_area\": \"Valle d'Aosta\", \"variable\": \"share_missing\", \"value\": 0.0940416367552046, \"Vaccino\": \"Nessun vaccino\", \"order\": 2}, {\"fascia_anagrafica\": \"80+\", \"nome_area\": \"Veneto\", \"variable\": \"share_missing\", \"value\": 0.0471700669947748, \"Vaccino\": \"Nessun vaccino\", \"order\": 2}]}}, {\"mode\": \"vega-lite\"});\n",
       "</script>"
      ],
      "text/plain": [
       "alt.Chart(...)"
      ]
     },
     "execution_count": 20,
     "metadata": {},
     "output_type": "execute_result"
    }
   ],
   "source": [
    "str_rename = {'share_ciclo_completo': 'Completo', 'share_solo_prima': 'In attesa seconda', 'share_missing': 'Nessun vaccino'}.get\n",
    "order_rename = {'share_ciclo_completo': 1, 'share_solo_prima': 0, 'share_missing': 2}.get\n",
    "plot_title = alt.TitleParams(\n",
    "    \"Percentuale di popolazione per ciclo vaccinale per fascia anagrafica\",\n",
    "    fontSize=18,\n",
    "    subtitle=[FOOTNOTE],\n",
    "    subtitleColor='grey', subtitleFontSize=16,\n",
    "    align='left', anchor='start'\n",
    ")\n",
    "bar_plt_df = (\n",
    "    regional_age_df\n",
    "    .melt(\n",
    "        id_vars=['fascia_anagrafica', 'nome_area'],\n",
    "        value_vars=['share_ciclo_completo', 'share_solo_prima', 'share_missing']\n",
    "    )\n",
    "    .assign(Vaccino=lambda x: x.variable.apply(str_rename))\n",
    "    .assign(order=lambda x: x.variable.apply(order_rename))\n",
    "    #.query('nome_area==\"Campania\"')\n",
    ")\n",
    "(\n",
    "    alt.Chart(bar_plt_df, title=plot_title)\n",
    "    .mark_bar()\n",
    "    .encode(\n",
    "        x=alt.X('value:Q', stack='zero', axis=alt.Axis(format='.0%'), title=''),\n",
    "        y=alt.Y('fascia_anagrafica:N', title=''),\n",
    "        color=alt.Color('Vaccino:N', sort=alt.EncodingSortField('order', order='ascending')),\n",
    "        order='order',\n",
    "        facet=alt.Facet('nome_area:N', columns=7, title=''),\n",
    "        tooltip=[\n",
    "            alt.Tooltip('fascia_anagrafica:N', title='Fascia anagrafica'),\n",
    "            alt.Tooltip('Vaccino:N', title='Vaccino'),\n",
    "            alt.Tooltip('value:Q', format='.1%', title='Popolazione vaccinata')\n",
    "        ]\n",
    "    )\n",
    "    .properties(width=120, height=120)\n",
    "    .configure_view(strokeOpacity=0)\n",
    ")"
   ]
  },
  {
   "cell_type": "markdown",
   "metadata": {},
   "source": [
    "# Maps"
   ]
  },
  {
   "cell_type": "code",
   "execution_count": 21,
   "metadata": {},
   "outputs": [
    {
     "data": {
      "text/html": [
       "<div>\n",
       "<style scoped>\n",
       "    .dataframe tbody tr th:only-of-type {\n",
       "        vertical-align: middle;\n",
       "    }\n",
       "\n",
       "    .dataframe tbody tr th {\n",
       "        vertical-align: top;\n",
       "    }\n",
       "\n",
       "    .dataframe thead th {\n",
       "        text-align: right;\n",
       "    }\n",
       "</style>\n",
       "<table border=\"1\" class=\"dataframe\">\n",
       "  <thead>\n",
       "    <tr style=\"text-align: right;\">\n",
       "      <th></th>\n",
       "      <th>area</th>\n",
       "      <th>nome_area</th>\n",
       "      <th>reg_istat_code_num</th>\n",
       "      <th>share_ciclo_completo</th>\n",
       "    </tr>\n",
       "  </thead>\n",
       "  <tbody>\n",
       "    <tr>\n",
       "      <td>0</td>\n",
       "      <td>ABR</td>\n",
       "      <td>Abruzzo</td>\n",
       "      <td>13</td>\n",
       "      <td>0.763062</td>\n",
       "    </tr>\n",
       "  </tbody>\n",
       "</table>\n",
       "</div>"
      ],
      "text/plain": [
       "  area nome_area  reg_istat_code_num  share_ciclo_completo\n",
       "0  ABR   Abruzzo                  13              0.763062"
      ]
     },
     "execution_count": 21,
     "metadata": {},
     "output_type": "execute_result"
    }
   ],
   "source": [
    "single_region_plot_df = (\n",
    "    regional_age_df\n",
    "    .groupby(['area', 'nome_area', 'reg_istat_code_num'])\n",
    "    [['ciclo_completo', 'totale_popolazione']]\n",
    "    .sum()\n",
    "    .reset_index()\n",
    "    .assign(share_ciclo_completo=lambda x: x.ciclo_completo/x.totale_popolazione)\n",
    "    .drop(['ciclo_completo', 'totale_popolazione'], axis=1)\n",
    ")\n",
    "single_region_plot_df.head(1)"
   ]
  },
  {
   "cell_type": "markdown",
   "metadata": {},
   "source": [
    "## Italy overall"
   ]
  },
  {
   "cell_type": "code",
   "execution_count": 22,
   "metadata": {},
   "outputs": [
    {
     "data": {
      "text/html": [
       "<div>\n",
       "<style scoped>\n",
       "    .dataframe tbody tr th:only-of-type {\n",
       "        vertical-align: middle;\n",
       "    }\n",
       "\n",
       "    .dataframe tbody tr th {\n",
       "        vertical-align: top;\n",
       "    }\n",
       "\n",
       "    .dataframe thead th {\n",
       "        text-align: right;\n",
       "    }\n",
       "</style>\n",
       "<table border=\"1\" class=\"dataframe\">\n",
       "  <thead>\n",
       "    <tr style=\"text-align: right;\">\n",
       "      <th></th>\n",
       "      <th>min</th>\n",
       "      <th>max</th>\n",
       "    </tr>\n",
       "  </thead>\n",
       "  <tbody>\n",
       "    <tr>\n",
       "      <td>share_ciclo_completo</td>\n",
       "      <td>0.693051</td>\n",
       "      <td>0.803068</td>\n",
       "    </tr>\n",
       "  </tbody>\n",
       "</table>\n",
       "</div>"
      ],
      "text/plain": [
       "                           min       max\n",
       "share_ciclo_completo  0.693051  0.803068"
      ]
     },
     "execution_count": 22,
     "metadata": {},
     "output_type": "execute_result"
    }
   ],
   "source": [
    "single_region_plot_df[['share_ciclo_completo']].describe().T[['min', 'max']]"
   ]
  },
  {
   "cell_type": "code",
   "execution_count": 29,
   "metadata": {},
   "outputs": [
    {
     "data": {
      "text/html": [
       "\n",
       "<div id=\"altair-viz-4605e023e565470b85844de3934921cb\"></div>\n",
       "<script type=\"text/javascript\">\n",
       "  (function(spec, embedOpt){\n",
       "    let outputDiv = document.currentScript.previousElementSibling;\n",
       "    if (outputDiv.id !== \"altair-viz-4605e023e565470b85844de3934921cb\") {\n",
       "      outputDiv = document.getElementById(\"altair-viz-4605e023e565470b85844de3934921cb\");\n",
       "    }\n",
       "    const paths = {\n",
       "      \"vega\": \"https://cdn.jsdelivr.net/npm//vega@5?noext\",\n",
       "      \"vega-lib\": \"https://cdn.jsdelivr.net/npm//vega-lib?noext\",\n",
       "      \"vega-lite\": \"https://cdn.jsdelivr.net/npm//vega-lite@4.8.1?noext\",\n",
       "      \"vega-embed\": \"https://cdn.jsdelivr.net/npm//vega-embed@6?noext\",\n",
       "    };\n",
       "\n",
       "    function loadScript(lib) {\n",
       "      return new Promise(function(resolve, reject) {\n",
       "        var s = document.createElement('script');\n",
       "        s.src = paths[lib];\n",
       "        s.async = true;\n",
       "        s.onload = () => resolve(paths[lib]);\n",
       "        s.onerror = () => reject(`Error loading script: ${paths[lib]}`);\n",
       "        document.getElementsByTagName(\"head\")[0].appendChild(s);\n",
       "      });\n",
       "    }\n",
       "\n",
       "    function showError(err) {\n",
       "      outputDiv.innerHTML = `<div class=\"error\" style=\"color:red;\">${err}</div>`;\n",
       "      throw err;\n",
       "    }\n",
       "\n",
       "    function displayChart(vegaEmbed) {\n",
       "      vegaEmbed(outputDiv, spec, embedOpt)\n",
       "        .catch(err => showError(`Javascript Error: ${err.message}<br>This usually means there's a typo in your chart specification. See the javascript console for the full traceback.`));\n",
       "    }\n",
       "\n",
       "    if(typeof define === \"function\" && define.amd) {\n",
       "      requirejs.config({paths});\n",
       "      require([\"vega-embed\"], displayChart, err => showError(`Error loading script: ${err.message}`));\n",
       "    } else if (typeof vegaEmbed === \"function\") {\n",
       "      displayChart(vegaEmbed);\n",
       "    } else {\n",
       "      loadScript(\"vega\")\n",
       "        .then(() => loadScript(\"vega-lite\"))\n",
       "        .then(() => loadScript(\"vega-embed\"))\n",
       "        .catch(showError)\n",
       "        .then(() => displayChart(vegaEmbed));\n",
       "    }\n",
       "  })({\"config\": {\"view\": {\"continuousWidth\": 400, \"continuousHeight\": 300, \"strokeOpacity\": 0}}, \"data\": {\"name\": \"data-1b82c8cde1b85077ab8e0f7db557ad3a\"}, \"mark\": \"geoshape\", \"encoding\": {\"color\": {\"type\": \"quantitative\", \"field\": \"share_ciclo_completo\", \"legend\": {\"format\": \".0%\"}, \"scale\": {\"domain\": [0.6, 0.8]}, \"title\": \"Ciclo completo\"}, \"shape\": {\"type\": \"geojson\", \"field\": \"geo\"}, \"tooltip\": [{\"type\": \"nominal\", \"field\": \"nome_area\", \"title\": \"Region\"}, {\"type\": \"quantitative\", \"field\": \"share_ciclo_completo\", \"format\": \".1%\", \"title\": \"Ciclo completo\"}]}, \"height\": 500, \"title\": {\"text\": \"Popolazione con ciclo vaccinale completo. Media Italia: 76%\", \"align\": \"left\", \"anchor\": \"start\", \"fontSize\": 18, \"subtitle\": [\"Grafico @RaffoRaffo85 | Dati aggiornati 2021-10-02\"], \"subtitleColor\": \"grey\", \"subtitleFontSize\": 16}, \"transform\": [{\"lookup\": \"reg_istat_code_num\", \"as\": \"geo\", \"from\": {\"data\": {\"url\": \"https://raw.githubusercontent.com/openpolis/geojson-italy/master/topojson/limits_IT_regions.topo.json\", \"format\": {\"feature\": \"regions\", \"type\": \"topojson\"}}, \"key\": \"properties.reg_istat_code_num\"}}], \"width\": 400, \"$schema\": \"https://vega.github.io/schema/vega-lite/v4.8.1.json\", \"datasets\": {\"data-1b82c8cde1b85077ab8e0f7db557ad3a\": [{\"area\": \"ABR\", \"nome_area\": \"Abruzzo\", \"reg_istat_code_num\": 13, \"share_ciclo_completo\": 0.7630618324835439}, {\"area\": \"BAS\", \"nome_area\": \"Basilicata\", \"reg_istat_code_num\": 17, \"share_ciclo_completo\": 0.7885835180578765}, {\"area\": \"CAL\", \"nome_area\": \"Calabria\", \"reg_istat_code_num\": 18, \"share_ciclo_completo\": 0.7185964978730154}, {\"area\": \"CAM\", \"nome_area\": \"Campania\", \"reg_istat_code_num\": 15, \"share_ciclo_completo\": 0.7320950162675068}, {\"area\": \"EMR\", \"nome_area\": \"Emilia-Romagna\", \"reg_istat_code_num\": 8, \"share_ciclo_completo\": 0.7851215072572219}, {\"area\": \"FVG\", \"nome_area\": \"Friuli-Venezia Giulia\", \"reg_istat_code_num\": 6, \"share_ciclo_completo\": 0.7283844536425058}, {\"area\": \"LAZ\", \"nome_area\": \"Lazio\", \"reg_istat_code_num\": 12, \"share_ciclo_completo\": 0.8030679939302963}, {\"area\": \"LIG\", \"nome_area\": \"Liguria\", \"reg_istat_code_num\": 7, \"share_ciclo_completo\": 0.7548336293986421}, {\"area\": \"LOM\", \"nome_area\": \"Lombardia\", \"reg_istat_code_num\": 3, \"share_ciclo_completo\": 0.7929110425613001}, {\"area\": \"MAR\", \"nome_area\": \"Marche\", \"reg_istat_code_num\": 11, \"share_ciclo_completo\": 0.7504173140126033}, {\"area\": \"MOL\", \"nome_area\": \"Molise\", \"reg_istat_code_num\": 14, \"share_ciclo_completo\": 0.7915241276612871}, {\"area\": \"PIE\", \"nome_area\": \"Piemonte\", \"reg_istat_code_num\": 1, \"share_ciclo_completo\": 0.7273701949847249}, {\"area\": \"PUG\", \"nome_area\": \"Puglia\", \"reg_istat_code_num\": 16, \"share_ciclo_completo\": 0.7921420281205332}, {\"area\": \"SAR\", \"nome_area\": \"Sardegna\", \"reg_istat_code_num\": 20, \"share_ciclo_completo\": 0.7769915140086207}, {\"area\": \"SIC\", \"nome_area\": \"Sicilia\", \"reg_istat_code_num\": 19, \"share_ciclo_completo\": 0.6930509194908615}, {\"area\": \"TAA\", \"nome_area\": \"Trentino-Alto Adige/S\\u00fcdtirol\", \"reg_istat_code_num\": 4, \"share_ciclo_completo\": 0.7064166382255265}, {\"area\": \"TOS\", \"nome_area\": \"Toscana\", \"reg_istat_code_num\": 9, \"share_ciclo_completo\": 0.7723812204605858}, {\"area\": \"UMB\", \"nome_area\": \"Umbria\", \"reg_istat_code_num\": 10, \"share_ciclo_completo\": 0.7797179705825049}, {\"area\": \"VDA\", \"nome_area\": \"Valle d'Aosta\", \"reg_istat_code_num\": 2, \"share_ciclo_completo\": 0.7267579859034987}, {\"area\": \"VEN\", \"nome_area\": \"Veneto\", \"reg_istat_code_num\": 5, \"share_ciclo_completo\": 0.7516685123956574}]}}, {\"mode\": \"vega-lite\"});\n",
       "</script>"
      ],
      "text/plain": [
       "alt.Chart(...)"
      ]
     },
     "execution_count": 29,
     "metadata": {},
     "output_type": "execute_result"
    }
   ],
   "source": [
    "# The scale is fixed 6% to 8% so make sure it makes sense\n",
    "assert single_region_plot_df.share_ciclo_completo.min() >= 0.6009, f'{single_region_plot_df.share_ciclo_completo.min()}'\n",
    "assert single_region_plot_df.share_ciclo_completo.min() < 0.704, f'{single_region_plot_df.share_ciclo_completo.min()}'\n",
    "assert single_region_plot_df.share_ciclo_completo.max() <= 0.804, f'{single_region_plot_df.share_ciclo_completo.max()}'\n",
    "assert single_region_plot_df.share_ciclo_completo.max() > 0.7009, f'{single_region_plot_df.share_ciclo_completo.max()}'\n",
    "plot_title = alt.TitleParams(\n",
    "    f\"Popolazione con ciclo vaccinale completo. Media Italia: {share_vax_italy:.0%}\",\n",
    "    fontSize=18,\n",
    "    subtitle=[FOOTNOTE],\n",
    "    subtitleColor='grey', subtitleFontSize=16,\n",
    "    align='left', anchor='start'\n",
    ")\n",
    "(\n",
    "    alt.Chart(single_region_plot_df, title=plot_title)\n",
    "    .mark_geoshape()\n",
    "    .encode(\n",
    "        shape='geo:G',\n",
    "        color=alt.Color(\n",
    "            field='share_ciclo_completo',\n",
    "            type='quantitative',\n",
    "            title='Ciclo completo',\n",
    "            scale=alt.Scale(domain=[.6, .8]),\n",
    "            legend=alt.Legend(format=\".0%\")\n",
    "            # format='.0%'\n",
    "        ),\n",
    "        tooltip=[\n",
    "            alt.Tooltip(field='nome_area', type='nominal', title='Region'),\n",
    "            alt.Tooltip(field='share_ciclo_completo', type='quantitative', format='.1%', title='Ciclo completo')\n",
    "        ],\n",
    "    )\n",
    "    .transform_lookup(\n",
    "        lookup='reg_istat_code_num',\n",
    "        from_=alt.LookupData(data=regions, key='properties.reg_istat_code_num'),\n",
    "        as_='geo'\n",
    "    )\n",
    "    .properties(width=400, height=500)\n",
    "    .configure_view(strokeOpacity=0)\n",
    ")"
   ]
  },
  {
   "cell_type": "markdown",
   "metadata": {},
   "source": [
    "## Week over week overall"
   ]
  },
  {
   "cell_type": "code",
   "execution_count": 27,
   "metadata": {
    "scrolled": false
   },
   "outputs": [
    {
     "data": {
      "text/html": [
       "\n",
       "<div id=\"altair-viz-ff58cdc0fd3546ff972b2e5259428cf9\"></div>\n",
       "<script type=\"text/javascript\">\n",
       "  (function(spec, embedOpt){\n",
       "    let outputDiv = document.currentScript.previousElementSibling;\n",
       "    if (outputDiv.id !== \"altair-viz-ff58cdc0fd3546ff972b2e5259428cf9\") {\n",
       "      outputDiv = document.getElementById(\"altair-viz-ff58cdc0fd3546ff972b2e5259428cf9\");\n",
       "    }\n",
       "    const paths = {\n",
       "      \"vega\": \"https://cdn.jsdelivr.net/npm//vega@5?noext\",\n",
       "      \"vega-lib\": \"https://cdn.jsdelivr.net/npm//vega-lib?noext\",\n",
       "      \"vega-lite\": \"https://cdn.jsdelivr.net/npm//vega-lite@4.8.1?noext\",\n",
       "      \"vega-embed\": \"https://cdn.jsdelivr.net/npm//vega-embed@6?noext\",\n",
       "    };\n",
       "\n",
       "    function loadScript(lib) {\n",
       "      return new Promise(function(resolve, reject) {\n",
       "        var s = document.createElement('script');\n",
       "        s.src = paths[lib];\n",
       "        s.async = true;\n",
       "        s.onload = () => resolve(paths[lib]);\n",
       "        s.onerror = () => reject(`Error loading script: ${paths[lib]}`);\n",
       "        document.getElementsByTagName(\"head\")[0].appendChild(s);\n",
       "      });\n",
       "    }\n",
       "\n",
       "    function showError(err) {\n",
       "      outputDiv.innerHTML = `<div class=\"error\" style=\"color:red;\">${err}</div>`;\n",
       "      throw err;\n",
       "    }\n",
       "\n",
       "    function displayChart(vegaEmbed) {\n",
       "      vegaEmbed(outputDiv, spec, embedOpt)\n",
       "        .catch(err => showError(`Javascript Error: ${err.message}<br>This usually means there's a typo in your chart specification. See the javascript console for the full traceback.`));\n",
       "    }\n",
       "\n",
       "    if(typeof define === \"function\" && define.amd) {\n",
       "      requirejs.config({paths});\n",
       "      require([\"vega-embed\"], displayChart, err => showError(`Error loading script: ${err.message}`));\n",
       "    } else if (typeof vegaEmbed === \"function\") {\n",
       "      displayChart(vegaEmbed);\n",
       "    } else {\n",
       "      loadScript(\"vega\")\n",
       "        .then(() => loadScript(\"vega-lite\"))\n",
       "        .then(() => loadScript(\"vega-embed\"))\n",
       "        .catch(showError)\n",
       "        .then(() => displayChart(vegaEmbed));\n",
       "    }\n",
       "  })({\"config\": {\"view\": {\"continuousWidth\": 400, \"continuousHeight\": 300, \"strokeOpacity\": 0}}, \"data\": {\"name\": \"data-e334de2fb466b3fa82e36f9c6af5a6ef\"}, \"mark\": \"geoshape\", \"encoding\": {\"color\": {\"type\": \"quantitative\", \"field\": \"share_pop_getting_shot\", \"legend\": {\"format\": \".0%\"}, \"scale\": {\"domain\": [0.01, 0.05]}, \"title\": \"Vaccini, %\"}, \"facet\": {\"type\": \"nominal\", \"field\": \"w_cohort\", \"header\": {\"labelFontSize\": 15, \"labelFontWeight\": \"bold\", \"title\": \"\"}}, \"shape\": {\"type\": \"geojson\", \"field\": \"geo\"}, \"tooltip\": [{\"type\": \"nominal\", \"field\": \"w_cohort\", \"title\": \"Settimana\"}, {\"type\": \"nominal\", \"field\": \"nome_area\", \"title\": \"Region\"}, {\"type\": \"quantitative\", \"field\": \"share_pop_getting_shot\", \"format\": \".1%\", \"title\": \"Ciclo completo\"}]}, \"height\": 300, \"title\": {\"text\": \"Percentuale popolazione ricevente 1a o 2a dose nelle ultime 2 settimane\", \"align\": \"left\", \"anchor\": \"start\", \"fontSize\": 18, \"subtitle\": [\"Grafico @RaffoRaffo85 | Dati aggiornati 2021-10-02\"], \"subtitleColor\": \"grey\", \"subtitleFontSize\": 16}, \"transform\": [{\"lookup\": \"reg_istat_code_num\", \"as\": \"geo\", \"from\": {\"data\": {\"url\": \"https://raw.githubusercontent.com/openpolis/geojson-italy/master/topojson/limits_IT_regions.topo.json\", \"format\": {\"feature\": \"regions\", \"type\": \"topojson\"}}, \"key\": \"properties.reg_istat_code_num\"}}], \"width\": 200, \"$schema\": \"https://vega.github.io/schema/vega-lite/v4.8.1.json\", \"datasets\": {\"data-e334de2fb466b3fa82e36f9c6af5a6ef\": [{\"reg_istat_code_num\": 1, \"nome_area\": \"Piemonte\", \"area\": \"PIE\", \"w_cohort\": \"Set-18 - Set-24\", \"share_pop_getting_shot\": 0.02912587988566165, \"lat\": 45.0732745, \"long\": 7.680687483}, {\"reg_istat_code_num\": 1, \"nome_area\": \"Piemonte\", \"area\": \"PIE\", \"w_cohort\": \"Set-25 - Ott-01\", \"share_pop_getting_shot\": 0.025032328565670843, \"lat\": 45.0732745, \"long\": 7.680687483}, {\"reg_istat_code_num\": 2, \"nome_area\": \"Valle d'Aosta\", \"area\": \"VDA\", \"w_cohort\": \"Set-18 - Set-24\", \"share_pop_getting_shot\": 0.021108514069322896, \"lat\": 45.73750286, \"long\": 7.320149366}, {\"reg_istat_code_num\": 2, \"nome_area\": \"Valle d'Aosta\", \"area\": \"VDA\", \"w_cohort\": \"Set-25 - Ott-01\", \"share_pop_getting_shot\": 0.01567284521026979, \"lat\": 45.73750286, \"long\": 7.320149366}, {\"reg_istat_code_num\": 3, \"nome_area\": \"Lombardia\", \"area\": \"LOM\", \"w_cohort\": \"Set-18 - Set-24\", \"share_pop_getting_shot\": 0.029277683402827614, \"lat\": 45.46679409, \"long\": 9.190347404}, {\"reg_istat_code_num\": 3, \"nome_area\": \"Lombardia\", \"area\": \"LOM\", \"w_cohort\": \"Set-25 - Ott-01\", \"share_pop_getting_shot\": 0.021960993225334936, \"lat\": 45.46679409, \"long\": 9.190347404}, {\"reg_istat_code_num\": 4, \"nome_area\": \"Trentino-Alto Adige/S\\u00fcdtirol\", \"area\": \"TAA\", \"w_cohort\": \"Set-18 - Set-24\", \"share_pop_getting_shot\": 0.025261015702679315, \"lat\": 46.49933453, \"long\": 11.35662422}, {\"reg_istat_code_num\": 4, \"nome_area\": \"Trentino-Alto Adige/S\\u00fcdtirol\", \"area\": \"TAA\", \"w_cohort\": \"Set-25 - Ott-01\", \"share_pop_getting_shot\": 0.020451205041425446, \"lat\": 46.49933453, \"long\": 11.35662422}, {\"reg_istat_code_num\": 5, \"nome_area\": \"Veneto\", \"area\": \"VEN\", \"w_cohort\": \"Set-18 - Set-24\", \"share_pop_getting_shot\": 0.024826442548406193, \"lat\": 45.43490485, \"long\": 12.33845213}, {\"reg_istat_code_num\": 5, \"nome_area\": \"Veneto\", \"area\": \"VEN\", \"w_cohort\": \"Set-25 - Ott-01\", \"share_pop_getting_shot\": 0.021414714204737915, \"lat\": 45.43490485, \"long\": 12.33845213}, {\"reg_istat_code_num\": 6, \"nome_area\": \"Friuli-Venezia Giulia\", \"area\": \"FVG\", \"w_cohort\": \"Set-18 - Set-24\", \"share_pop_getting_shot\": 0.021344444526132378, \"lat\": 45.6494354, \"long\": 13.76813649}, {\"reg_istat_code_num\": 6, \"nome_area\": \"Friuli-Venezia Giulia\", \"area\": \"FVG\", \"w_cohort\": \"Set-25 - Ott-01\", \"share_pop_getting_shot\": 0.02509024474521942, \"lat\": 45.6494354, \"long\": 13.76813649}, {\"reg_istat_code_num\": 7, \"nome_area\": \"Liguria\", \"area\": \"LIG\", \"w_cohort\": \"Set-18 - Set-24\", \"share_pop_getting_shot\": 0.02266007177023236, \"lat\": 44.41149315, \"long\": 8.9326992}, {\"reg_istat_code_num\": 7, \"nome_area\": \"Liguria\", \"area\": \"LIG\", \"w_cohort\": \"Set-25 - Ott-01\", \"share_pop_getting_shot\": 0.019127295697073027, \"lat\": 44.41149315, \"long\": 8.9326992}, {\"reg_istat_code_num\": 8, \"nome_area\": \"Emilia-Romagna\", \"area\": \"EMR\", \"w_cohort\": \"Set-18 - Set-24\", \"share_pop_getting_shot\": 0.03132807884828837, \"lat\": 44.49436681, \"long\": 11.3417208}, {\"reg_istat_code_num\": 8, \"nome_area\": \"Emilia-Romagna\", \"area\": \"EMR\", \"w_cohort\": \"Set-25 - Ott-01\", \"share_pop_getting_shot\": 0.024928208101217448, \"lat\": 44.49436681, \"long\": 11.3417208}, {\"reg_istat_code_num\": 9, \"nome_area\": \"Toscana\", \"area\": \"TOS\", \"w_cohort\": \"Set-18 - Set-24\", \"share_pop_getting_shot\": 0.04253497121487852, \"lat\": 43.76923077, \"long\": 11.25588885}, {\"reg_istat_code_num\": 9, \"nome_area\": \"Toscana\", \"area\": \"TOS\", \"w_cohort\": \"Set-25 - Ott-01\", \"share_pop_getting_shot\": 0.03541813706645275, \"lat\": 43.76923077, \"long\": 11.25588885}, {\"reg_istat_code_num\": 10, \"nome_area\": \"Umbria\", \"area\": \"UMB\", \"w_cohort\": \"Set-18 - Set-24\", \"share_pop_getting_shot\": 0.021071236086405352, \"lat\": 43.10675841, \"long\": 12.38824698}, {\"reg_istat_code_num\": 10, \"nome_area\": \"Umbria\", \"area\": \"UMB\", \"w_cohort\": \"Set-25 - Ott-01\", \"share_pop_getting_shot\": 0.01601692277717753, \"lat\": 43.10675841, \"long\": 12.38824698}, {\"reg_istat_code_num\": 11, \"nome_area\": \"Marche\", \"area\": \"MAR\", \"w_cohort\": \"Set-18 - Set-24\", \"share_pop_getting_shot\": 0.026541976191329968, \"lat\": 43.61675973, \"long\": 13.5188753}, {\"reg_istat_code_num\": 11, \"nome_area\": \"Marche\", \"area\": \"MAR\", \"w_cohort\": \"Set-25 - Ott-01\", \"share_pop_getting_shot\": 0.01966882721041042, \"lat\": 43.61675973, \"long\": 13.5188753}, {\"reg_istat_code_num\": 12, \"nome_area\": \"Lazio\", \"area\": \"LAZ\", \"w_cohort\": \"Set-18 - Set-24\", \"share_pop_getting_shot\": 0.021028325607626023, \"lat\": 41.89277044, \"long\": 12.48366722}, {\"reg_istat_code_num\": 12, \"nome_area\": \"Lazio\", \"area\": \"LAZ\", \"w_cohort\": \"Set-25 - Ott-01\", \"share_pop_getting_shot\": 0.018084973908860807, \"lat\": 41.89277044, \"long\": 12.48366722}, {\"reg_istat_code_num\": 13, \"nome_area\": \"Abruzzo\", \"area\": \"ABR\", \"w_cohort\": \"Set-18 - Set-24\", \"share_pop_getting_shot\": 0.02009046850844715, \"lat\": 42.35122196, \"long\": 13.39843823}, {\"reg_istat_code_num\": 13, \"nome_area\": \"Abruzzo\", \"area\": \"ABR\", \"w_cohort\": \"Set-25 - Ott-01\", \"share_pop_getting_shot\": 0.017305592797509005, \"lat\": 42.35122196, \"long\": 13.39843823}, {\"reg_istat_code_num\": 14, \"nome_area\": \"Molise\", \"area\": \"MOL\", \"w_cohort\": \"Set-18 - Set-24\", \"share_pop_getting_shot\": 0.0158058225430544, \"lat\": 41.55774754, \"long\": 14.65916051}, {\"reg_istat_code_num\": 14, \"nome_area\": \"Molise\", \"area\": \"MOL\", \"w_cohort\": \"Set-25 - Ott-01\", \"share_pop_getting_shot\": 0.010120116933816778, \"lat\": 41.55774754, \"long\": 14.65916051}, {\"reg_istat_code_num\": 15, \"nome_area\": \"Campania\", \"area\": \"CAM\", \"w_cohort\": \"Set-18 - Set-24\", \"share_pop_getting_shot\": 0.020721357697664363, \"lat\": 40.83956555, \"long\": 14.25084984}, {\"reg_istat_code_num\": 15, \"nome_area\": \"Campania\", \"area\": \"CAM\", \"w_cohort\": \"Set-25 - Ott-01\", \"share_pop_getting_shot\": 0.018486595836842597, \"lat\": 40.83956555, \"long\": 14.25084984}, {\"reg_istat_code_num\": 16, \"nome_area\": \"Puglia\", \"area\": \"PUG\", \"w_cohort\": \"Set-18 - Set-24\", \"share_pop_getting_shot\": 0.02414622498106206, \"lat\": 41.12559576, \"long\": 16.86736689}, {\"reg_istat_code_num\": 16, \"nome_area\": \"Puglia\", \"area\": \"PUG\", \"w_cohort\": \"Set-25 - Ott-01\", \"share_pop_getting_shot\": 0.017209031760313128, \"lat\": 41.12559576, \"long\": 16.86736689}, {\"reg_istat_code_num\": 17, \"nome_area\": \"Basilicata\", \"area\": \"BAS\", \"w_cohort\": \"Set-18 - Set-24\", \"share_pop_getting_shot\": 0.03947817758208539, \"lat\": 40.63947052, \"long\": 15.80514834}, {\"reg_istat_code_num\": 17, \"nome_area\": \"Basilicata\", \"area\": \"BAS\", \"w_cohort\": \"Set-25 - Ott-01\", \"share_pop_getting_shot\": 0.024399805205695915, \"lat\": 40.63947052, \"long\": 15.80514834}, {\"reg_istat_code_num\": 18, \"nome_area\": \"Calabria\", \"area\": \"CAL\", \"w_cohort\": \"Set-18 - Set-24\", \"share_pop_getting_shot\": 0.024787005626981103, \"lat\": 38.90597598, \"long\": 16.59440194}, {\"reg_istat_code_num\": 18, \"nome_area\": \"Calabria\", \"area\": \"CAL\", \"w_cohort\": \"Set-25 - Ott-01\", \"share_pop_getting_shot\": 0.02034483901436691, \"lat\": 38.90597598, \"long\": 16.59440194}, {\"reg_istat_code_num\": 19, \"nome_area\": \"Sicilia\", \"area\": \"SIC\", \"w_cohort\": \"Set-18 - Set-24\", \"share_pop_getting_shot\": 0.031770091774353006, \"lat\": 38.11569725, \"long\": 13.362356699999998}, {\"reg_istat_code_num\": 19, \"nome_area\": \"Sicilia\", \"area\": \"SIC\", \"w_cohort\": \"Set-25 - Ott-01\", \"share_pop_getting_shot\": 0.02372222165856694, \"lat\": 38.11569725, \"long\": 13.362356699999998}, {\"reg_istat_code_num\": 20, \"nome_area\": \"Sardegna\", \"area\": \"SAR\", \"w_cohort\": \"Set-18 - Set-24\", \"share_pop_getting_shot\": 0.03727976831896552, \"lat\": 39.21531192, \"long\": 9.110616306}, {\"reg_istat_code_num\": 20, \"nome_area\": \"Sardegna\", \"area\": \"SAR\", \"w_cohort\": \"Set-25 - Ott-01\", \"share_pop_getting_shot\": 0.02832570043103448, \"lat\": 39.21531192, \"long\": 9.110616306}]}}, {\"mode\": \"vega-lite\"});\n",
       "</script>"
      ],
      "text/plain": [
       "alt.Chart(...)"
      ]
     },
     "execution_count": 27,
     "metadata": {},
     "output_type": "execute_result"
    }
   ],
   "source": [
    "# The scale is fixed 1% to 5% so make sure it makes sense\n",
    "assert regional_wow_df.share_pop_getting_shot.max() <= 0.05, 'Change scale! max={:.2}'.format(regional_wow_df.share_pop_getting_shot.max())\n",
    "assert regional_wow_df.share_pop_getting_shot.min() >= 0.01, 'Change scale! min={:.2}'.format(regional_wow_df.share_pop_getting_shot.min())\n",
    "assert regional_wow_df.share_pop_getting_shot.max() > 0.04, 'Change scale! max={:.2}'.format(regional_wow_df.share_pop_getting_shot.max())\n",
    "assert regional_wow_df.share_pop_getting_shot.min() < 0.02, 'Change scale! min={:.2}'.format(regional_wow_df.share_pop_getting_shot.min())\n",
    "\n",
    "\n",
    "plot_title = alt.TitleParams(\n",
    "    \"Percentuale popolazione ricevente 1a o 2a dose nelle ultime 2 settimane\",\n",
    "    fontSize=18,\n",
    "    subtitle=[FOOTNOTE],\n",
    "    subtitleColor='grey', subtitleFontSize=16,\n",
    "    align='left', anchor='start'\n",
    ")\n",
    "(\n",
    "    alt.Chart(regional_wow_df, title=plot_title)\n",
    "    .mark_geoshape()\n",
    "    .encode(\n",
    "        shape='geo:G',\n",
    "        color=alt.Color(\n",
    "            field='share_pop_getting_shot',\n",
    "            type='quantitative',\n",
    "            title='Vaccini, %',\n",
    "            scale=alt.Scale(domain=[.01, .05]),\n",
    "            legend=alt.Legend(format=\".0%\")\n",
    "        ),\n",
    "        facet=alt.Facet('w_cohort:N', header=alt.Header(labelFontSize=15, labelFontWeight='bold', title='')),\n",
    "        tooltip=[\n",
    "            alt.Tooltip(field='w_cohort', type='nominal', title='Settimana'),\n",
    "            alt.Tooltip(field='nome_area', type='nominal', title='Region'),\n",
    "            alt.Tooltip(field='share_pop_getting_shot', type='quantitative', format='.1%', title='Ciclo completo')\n",
    "        ],\n",
    "    )\n",
    "    .transform_lookup(\n",
    "        lookup='reg_istat_code_num',\n",
    "        from_=alt.LookupData(data=regions, key='properties.reg_istat_code_num'),\n",
    "        as_='geo'\n",
    "    )\n",
    "    .properties(width=200, height=300)\n",
    "    .configure_view(strokeOpacity=0)\n",
    ")"
   ]
  },
  {
   "cell_type": "markdown",
   "metadata": {},
   "source": [
    "## Italy per age"
   ]
  },
  {
   "cell_type": "code",
   "execution_count": 28,
   "metadata": {},
   "outputs": [
    {
     "data": {
      "text/html": [
       "\n",
       "<div id=\"altair-viz-09ba65af76d3461fb22fecb1e8b3957b\"></div>\n",
       "<script type=\"text/javascript\">\n",
       "  (function(spec, embedOpt){\n",
       "    let outputDiv = document.currentScript.previousElementSibling;\n",
       "    if (outputDiv.id !== \"altair-viz-09ba65af76d3461fb22fecb1e8b3957b\") {\n",
       "      outputDiv = document.getElementById(\"altair-viz-09ba65af76d3461fb22fecb1e8b3957b\");\n",
       "    }\n",
       "    const paths = {\n",
       "      \"vega\": \"https://cdn.jsdelivr.net/npm//vega@5?noext\",\n",
       "      \"vega-lib\": \"https://cdn.jsdelivr.net/npm//vega-lib?noext\",\n",
       "      \"vega-lite\": \"https://cdn.jsdelivr.net/npm//vega-lite@4.8.1?noext\",\n",
       "      \"vega-embed\": \"https://cdn.jsdelivr.net/npm//vega-embed@6?noext\",\n",
       "    };\n",
       "\n",
       "    function loadScript(lib) {\n",
       "      return new Promise(function(resolve, reject) {\n",
       "        var s = document.createElement('script');\n",
       "        s.src = paths[lib];\n",
       "        s.async = true;\n",
       "        s.onload = () => resolve(paths[lib]);\n",
       "        s.onerror = () => reject(`Error loading script: ${paths[lib]}`);\n",
       "        document.getElementsByTagName(\"head\")[0].appendChild(s);\n",
       "      });\n",
       "    }\n",
       "\n",
       "    function showError(err) {\n",
       "      outputDiv.innerHTML = `<div class=\"error\" style=\"color:red;\">${err}</div>`;\n",
       "      throw err;\n",
       "    }\n",
       "\n",
       "    function displayChart(vegaEmbed) {\n",
       "      vegaEmbed(outputDiv, spec, embedOpt)\n",
       "        .catch(err => showError(`Javascript Error: ${err.message}<br>This usually means there's a typo in your chart specification. See the javascript console for the full traceback.`));\n",
       "    }\n",
       "\n",
       "    if(typeof define === \"function\" && define.amd) {\n",
       "      requirejs.config({paths});\n",
       "      require([\"vega-embed\"], displayChart, err => showError(`Error loading script: ${err.message}`));\n",
       "    } else if (typeof vegaEmbed === \"function\") {\n",
       "      displayChart(vegaEmbed);\n",
       "    } else {\n",
       "      loadScript(\"vega\")\n",
       "        .then(() => loadScript(\"vega-lite\"))\n",
       "        .then(() => loadScript(\"vega-embed\"))\n",
       "        .catch(showError)\n",
       "        .then(() => displayChart(vegaEmbed));\n",
       "    }\n",
       "  })({\"config\": {\"view\": {\"continuousWidth\": 400, \"continuousHeight\": 300, \"strokeOpacity\": 0}, \"legend\": {\"gradientLength\": 150, \"gradientThickness\": 10}}, \"data\": {\"name\": \"data-b96f62d5222b3f5e20965dabccb1761d\"}, \"mark\": \"geoshape\", \"encoding\": {\"color\": {\"type\": \"quantitative\", \"field\": \"share_ciclo_completo\", \"legend\": {\"clipHeight\": 0.2, \"format\": \".0%\"}, \"title\": \"Ciclo completo\"}, \"facet\": {\"type\": \"nominal\", \"columns\": 4, \"field\": \"cohort\", \"header\": {\"labelFontSize\": 15, \"labelFontWeight\": \"bold\", \"title\": \"\"}}, \"shape\": {\"type\": \"geojson\", \"field\": \"geo\"}, \"tooltip\": [{\"type\": \"nominal\", \"field\": \"nome_area\", \"title\": \"Region\"}, {\"type\": \"nominal\", \"field\": \"fascia_anagrafica\", \"title\": \"Fascia anagrafica\"}, {\"type\": \"quantitative\", \"field\": \"share_ciclo_completo\", \"format\": \".0%\", \"title\": \"Ciclo completo\"}]}, \"height\": 200, \"resolve\": {\"scale\": {\"color\": \"independent\"}}, \"title\": {\"text\": \"Percentuale di popolazione con ciclo vaccinale completo per fascia anagrafica (media Italia: 76%)\", \"align\": \"left\", \"anchor\": \"start\", \"fontSize\": 18, \"subtitle\": [\"Grafico @RaffoRaffo85 | Dati aggiornati 2021-10-02\"], \"subtitleColor\": \"grey\", \"subtitleFontSize\": 16}, \"transform\": [{\"lookup\": \"reg_istat_code_num\", \"as\": \"geo\", \"from\": {\"data\": {\"url\": \"https://raw.githubusercontent.com/openpolis/geojson-italy/master/topojson/limits_IT_regions.topo.json\", \"format\": {\"feature\": \"regions\", \"type\": \"topojson\"}}, \"key\": \"properties.reg_istat_code_num\"}}], \"width\": 130, \"$schema\": \"https://vega.github.io/schema/vega-lite/v4.8.1.json\", \"datasets\": {\"data-b96f62d5222b3f5e20965dabccb1761d\": [{\"fascia_anagrafica\": \"12-19\", \"area\": \"ABR\", \"reg_istat_code_num\": 13, \"nome_area\": \"Abruzzo\", \"ciclo_completo\": 56983, \"solo_prima\": 64773, \"in_attesa_seconda\": 7882, \"totale_popolazione\": 94727, \"share_ciclo_completo\": 0.6015497165538864, \"share_solo_prima\": 0.08320753322706304, \"share_missing\": 0.3152427502190505, \"lat\": 42.35122196, \"long\": 13.39843823, \"cohort\": \"12-19 | Media Italia: 58%\"}, {\"fascia_anagrafica\": \"12-19\", \"area\": \"BAS\", \"reg_istat_code_num\": 17, \"nome_area\": \"Basilicata\", \"ciclo_completo\": 26514, \"solo_prima\": 28442, \"in_attesa_seconda\": 3505, \"totale_popolazione\": 40947, \"share_ciclo_completo\": 0.6475199648325884, \"share_solo_prima\": 0.08559845654138276, \"share_missing\": 0.2668815786260288, \"lat\": 40.63947052, \"long\": 15.80514834, \"cohort\": \"12-19 | Media Italia: 58%\"}, {\"fascia_anagrafica\": \"12-19\", \"area\": \"CAL\", \"reg_istat_code_num\": 18, \"nome_area\": \"Calabria\", \"ciclo_completo\": 77997, \"solo_prima\": 91674, \"in_attesa_seconda\": 14263, \"totale_popolazione\": 147409, \"share_ciclo_completo\": 0.529119660264977, \"share_solo_prima\": 0.09675799985075538, \"share_missing\": 0.3741223398842676, \"lat\": 38.90597598, \"long\": 16.59440194, \"cohort\": \"12-19 | Media Italia: 58%\"}, {\"fascia_anagrafica\": \"12-19\", \"area\": \"CAM\", \"reg_istat_code_num\": 15, \"nome_area\": \"Campania\", \"ciclo_completo\": 286856, \"solo_prima\": 306352, \"in_attesa_seconda\": 40256, \"totale_popolazione\": 506070, \"share_ciclo_completo\": 0.5668306755982374, \"share_solo_prima\": 0.07954630782302843, \"share_missing\": 0.3536230165787342, \"lat\": 40.83956555, \"long\": 14.25084984, \"cohort\": \"12-19 | Media Italia: 58%\"}, {\"fascia_anagrafica\": \"12-19\", \"area\": \"EMR\", \"reg_istat_code_num\": 8, \"nome_area\": \"Emilia-Romagna\", \"ciclo_completo\": 199447, \"solo_prima\": 224080, \"in_attesa_seconda\": 25636, \"totale_popolazione\": 327410, \"share_ciclo_completo\": 0.6091658776457652, \"share_solo_prima\": 0.07829937998228521, \"share_missing\": 0.31253474237194956, \"lat\": 44.49436681, \"long\": 11.3417208, \"cohort\": \"12-19 | Media Italia: 58%\"}, {\"fascia_anagrafica\": \"12-19\", \"area\": \"FVG\", \"reg_istat_code_num\": 6, \"nome_area\": \"Friuli-Venezia Giulia\", \"ciclo_completo\": 45093, \"solo_prima\": 52470, \"in_attesa_seconda\": 7384, \"totale_popolazione\": 85565, \"share_ciclo_completo\": 0.5270028633202828, \"share_solo_prima\": 0.08629696721790452, \"share_missing\": 0.3867001694618127, \"lat\": 45.6494354, \"long\": 13.76813649, \"cohort\": \"12-19 | Media Italia: 58%\"}, {\"fascia_anagrafica\": \"12-19\", \"area\": \"LAZ\", \"reg_istat_code_num\": 12, \"nome_area\": \"Lazio\", \"ciclo_completo\": 257916, \"solo_prima\": 285524, \"in_attesa_seconda\": 30362, \"totale_popolazione\": 431221, \"share_ciclo_completo\": 0.5981063074386451, \"share_solo_prima\": 0.07040937245635069, \"share_missing\": 0.33148432010500417, \"lat\": 41.89277044, \"long\": 12.48366722, \"cohort\": \"12-19 | Media Italia: 58%\"}, {\"fascia_anagrafica\": \"12-19\", \"area\": \"LIG\", \"reg_istat_code_num\": 7, \"nome_area\": \"Liguria\", \"ciclo_completo\": 54795, \"solo_prima\": 60435, \"in_attesa_seconda\": 7622, \"totale_popolazione\": 104067, \"share_ciclo_completo\": 0.5265357894433393, \"share_solo_prima\": 0.0732412772540767, \"share_missing\": 0.40022293330258396, \"lat\": 44.41149315, \"long\": 8.9326992, \"cohort\": \"12-19 | Media Italia: 58%\"}, {\"fascia_anagrafica\": \"12-19\", \"area\": \"LOM\", \"reg_istat_code_num\": 3, \"nome_area\": \"Lombardia\", \"ciclo_completo\": 518042, \"solo_prima\": 574193, \"in_attesa_seconda\": 56302, \"totale_popolazione\": 794486, \"share_ciclo_completo\": 0.6520467321010062, \"share_solo_prima\": 0.07086594351568183, \"share_missing\": 0.277087324383312, \"lat\": 45.46679409, \"long\": 9.190347404, \"cohort\": \"12-19 | Media Italia: 58%\"}, {\"fascia_anagrafica\": \"12-19\", \"area\": \"MAR\", \"reg_istat_code_num\": 11, \"nome_area\": \"Marche\", \"ciclo_completo\": 58860, \"solo_prima\": 66911, \"in_attesa_seconda\": 8079, \"totale_popolazione\": 113059, \"share_ciclo_completo\": 0.5206131311969856, \"share_solo_prima\": 0.07145826515359237, \"share_missing\": 0.407928603649422, \"lat\": 43.61675973, \"long\": 13.5188753, \"cohort\": \"12-19 | Media Italia: 58%\"}, {\"fascia_anagrafica\": \"12-19\", \"area\": \"MOL\", \"reg_istat_code_num\": 14, \"nome_area\": \"Molise\", \"ciclo_completo\": 13484, \"solo_prima\": 15273, \"in_attesa_seconda\": 1807, \"totale_popolazione\": 20497, \"share_ciclo_completo\": 0.6578523686393131, \"share_solo_prima\": 0.08815924281602186, \"share_missing\": 0.2539883885446651, \"lat\": 41.55774754, \"long\": 14.65916051, \"cohort\": \"12-19 | Media Italia: 58%\"}, {\"fascia_anagrafica\": \"12-19\", \"area\": \"PIE\", \"reg_istat_code_num\": 1, \"nome_area\": \"Piemonte\", \"ciclo_completo\": 156882, \"solo_prima\": 197782, \"in_attesa_seconda\": 41208, \"totale_popolazione\": 310481, \"share_ciclo_completo\": 0.505286957978105, \"share_solo_prima\": 0.13272309738760182, \"share_missing\": 0.36198994463429324, \"lat\": 45.0732745, \"long\": 7.680687483, \"cohort\": \"12-19 | Media Italia: 58%\"}, {\"fascia_anagrafica\": \"12-19\", \"area\": \"PUG\", \"reg_istat_code_num\": 16, \"nome_area\": \"Puglia\", \"ciclo_completo\": 207313, \"solo_prima\": 234803, \"in_attesa_seconda\": 28396, \"totale_popolazione\": 321188, \"share_ciclo_completo\": 0.645456866383551, \"share_solo_prima\": 0.08840928054597308, \"share_missing\": 0.2661338530704759, \"lat\": 41.12559576, \"long\": 16.86736689, \"cohort\": \"12-19 | Media Italia: 58%\"}, {\"fascia_anagrafica\": \"12-19\", \"area\": \"SAR\", \"reg_istat_code_num\": 20, \"nome_area\": \"Sardegna\", \"ciclo_completo\": 73312, \"solo_prima\": 82975, \"in_attesa_seconda\": 9666, \"totale_popolazione\": 109403, \"share_ciclo_completo\": 0.6701095948008738, \"share_solo_prima\": 0.0883522389696809, \"share_missing\": 0.24153816622944524, \"lat\": 39.21531192, \"long\": 9.110616306, \"cohort\": \"12-19 | Media Italia: 58%\"}, {\"fascia_anagrafica\": \"12-19\", \"area\": \"SIC\", \"reg_istat_code_num\": 19, \"nome_area\": \"Sicilia\", \"ciclo_completo\": 208804, \"solo_prima\": 236100, \"in_attesa_seconda\": 36339, \"totale_popolazione\": 406593, \"share_ciclo_completo\": 0.5135454865184594, \"share_solo_prima\": 0.08937438667168397, \"share_missing\": 0.3970801268098566, \"lat\": 38.11569725, \"long\": 13.362356699999998, \"cohort\": \"12-19 | Media Italia: 58%\"}, {\"fascia_anagrafica\": \"12-19\", \"area\": \"TAA\", \"reg_istat_code_num\": 4, \"nome_area\": \"Trentino-Alto Adige/S\\u00fcdtirol\", \"ciclo_completo\": 43055, \"solo_prima\": 51261, \"in_attesa_seconda\": 8473, \"totale_popolazione\": 89804, \"share_ciclo_completo\": 0.47943298739477086, \"share_solo_prima\": 0.09434991759832524, \"share_missing\": 0.42621709500690386, \"lat\": 46.49933453, \"long\": 11.35662422, \"cohort\": \"12-19 | Media Italia: 58%\"}, {\"fascia_anagrafica\": \"12-19\", \"area\": \"TOS\", \"reg_istat_code_num\": 9, \"nome_area\": \"Toscana\", \"ciclo_completo\": 144767, \"solo_prima\": 191484, \"in_attesa_seconda\": 46737, \"totale_popolazione\": 270353, \"share_ciclo_completo\": 0.535473991411229, \"share_solo_prima\": 0.17287398327371992, \"share_missing\": 0.2916520253150511, \"lat\": 43.76923077, \"long\": 11.25588885, \"cohort\": \"12-19 | Media Italia: 58%\"}, {\"fascia_anagrafica\": \"12-19\", \"area\": \"UMB\", \"reg_istat_code_num\": 10, \"nome_area\": \"Umbria\", \"ciclo_completo\": 35603, \"solo_prima\": 42398, \"in_attesa_seconda\": 6810, \"totale_popolazione\": 63610, \"share_ciclo_completo\": 0.5597075931457318, \"share_solo_prima\": 0.10705863857883981, \"share_missing\": 0.3332337682754284, \"lat\": 43.10675841, \"long\": 12.38824698, \"cohort\": \"12-19 | Media Italia: 58%\"}, {\"fascia_anagrafica\": \"12-19\", \"area\": \"VDA\", \"reg_istat_code_num\": 2, \"nome_area\": \"Valle d'Aosta\", \"ciclo_completo\": 5026, \"solo_prima\": 5568, \"in_attesa_seconda\": 717, \"totale_popolazione\": 9350, \"share_ciclo_completo\": 0.5375401069518717, \"share_solo_prima\": 0.07668449197860963, \"share_missing\": 0.3857754010695187, \"lat\": 45.73750286, \"long\": 7.320149366, \"cohort\": \"12-19 | Media Italia: 58%\"}, {\"fascia_anagrafica\": \"12-19\", \"area\": \"VEN\", \"reg_istat_code_num\": 5, \"nome_area\": \"Veneto\", \"ciclo_completo\": 213530, \"solo_prima\": 241988, \"in_attesa_seconda\": 28579, \"totale_popolazione\": 381274, \"share_ciclo_completo\": 0.5600434333314099, \"share_solo_prima\": 0.07495659289644717, \"share_missing\": 0.3649999737721429, \"lat\": 45.43490485, \"long\": 12.33845213, \"cohort\": \"12-19 | Media Italia: 58%\"}, {\"fascia_anagrafica\": \"20-29\", \"area\": \"ABR\", \"reg_istat_code_num\": 13, \"nome_area\": \"Abruzzo\", \"ciclo_completo\": 95841, \"solo_prima\": 102793, \"in_attesa_seconda\": 8301, \"totale_popolazione\": 125230, \"share_ciclo_completo\": 0.765319811546754, \"share_solo_prima\": 0.06628603369799568, \"share_missing\": 0.16839415475525032, \"lat\": 42.35122196, \"long\": 13.39843823, \"cohort\": \"20-29 | Media Italia: 73%\"}, {\"fascia_anagrafica\": \"20-29\", \"area\": \"BAS\", \"reg_istat_code_num\": 17, \"nome_area\": \"Basilicata\", \"ciclo_completo\": 40919, \"solo_prima\": 43641, \"in_attesa_seconda\": 3570, \"totale_popolazione\": 56285, \"share_ciclo_completo\": 0.7269965354890291, \"share_solo_prima\": 0.0634272008528027, \"share_missing\": 0.2095762636581682, \"lat\": 40.63947052, \"long\": 15.80514834, \"cohort\": \"20-29 | Media Italia: 73%\"}, {\"fascia_anagrafica\": \"20-29\", \"area\": \"CAL\", \"reg_istat_code_num\": 18, \"nome_area\": \"Calabria\", \"ciclo_completo\": 135917, \"solo_prima\": 143966, \"in_attesa_seconda\": 13490, \"totale_popolazione\": 199746, \"share_ciclo_completo\": 0.680449170446467, \"share_solo_prima\": 0.06753577042844412, \"share_missing\": 0.25201505912508887, \"lat\": 38.90597598, \"long\": 16.59440194, \"cohort\": \"20-29 | Media Italia: 73%\"}, {\"fascia_anagrafica\": \"20-29\", \"area\": \"CAM\", \"reg_istat_code_num\": 15, \"nome_area\": \"Campania\", \"ciclo_completo\": 467848, \"solo_prima\": 489103, \"in_attesa_seconda\": 44980, \"totale_popolazione\": 683538, \"share_ciclo_completo\": 0.6844506084519075, \"share_solo_prima\": 0.06580468093946495, \"share_missing\": 0.24974471060862752, \"lat\": 40.83956555, \"long\": 14.25084984, \"cohort\": \"20-29 | Media Italia: 73%\"}, {\"fascia_anagrafica\": \"20-29\", \"area\": \"EMR\", \"reg_istat_code_num\": 8, \"nome_area\": \"Emilia-Romagna\", \"ciclo_completo\": 319595, \"solo_prima\": 346995, \"in_attesa_seconda\": 36196, \"totale_popolazione\": 419909, \"share_ciclo_completo\": 0.7611053823566535, \"share_solo_prima\": 0.08619962896722862, \"share_missing\": 0.15269498867611792, \"lat\": 44.49436681, \"long\": 11.3417208, \"cohort\": \"20-29 | Media Italia: 73%\"}, {\"fascia_anagrafica\": \"20-29\", \"area\": \"FVG\", \"reg_istat_code_num\": 6, \"nome_area\": \"Friuli-Venezia Giulia\", \"ciclo_completo\": 80425, \"solo_prima\": 89708, \"in_attesa_seconda\": 9436, \"totale_popolazione\": 108149, \"share_ciclo_completo\": 0.7436499644009653, \"share_solo_prima\": 0.08724999768837437, \"share_missing\": 0.1691000379106603, \"lat\": 45.6494354, \"long\": 13.76813649, \"cohort\": \"20-29 | Media Italia: 73%\"}, {\"fascia_anagrafica\": \"20-29\", \"area\": \"LAZ\", \"reg_istat_code_num\": 12, \"nome_area\": \"Lazio\", \"ciclo_completo\": 427900, \"solo_prima\": 423718, \"in_attesa_seconda\": 36527, \"totale_popolazione\": 558855, \"share_ciclo_completo\": 0.765672670012794, \"share_solo_prima\": 0.06536042443925526, \"share_missing\": 0.16896690554795069, \"lat\": 41.89277044, \"long\": 12.48366722, \"cohort\": \"20-29 | Media Italia: 73%\"}, {\"fascia_anagrafica\": \"20-29\", \"area\": \"LIG\", \"reg_istat_code_num\": 7, \"nome_area\": \"Liguria\", \"ciclo_completo\": 100101, \"solo_prima\": 100016, \"in_attesa_seconda\": 10799, \"totale_popolazione\": 135690, \"share_ciclo_completo\": 0.7377183285430025, \"share_solo_prima\": 0.0795858206205321, \"share_missing\": 0.18269585083646545, \"lat\": 44.41149315, \"long\": 8.9326992, \"cohort\": \"20-29 | Media Italia: 73%\"}, {\"fascia_anagrafica\": \"20-29\", \"area\": \"LOM\", \"reg_istat_code_num\": 3, \"nome_area\": \"Lombardia\", \"ciclo_completo\": 807369, \"solo_prima\": 874849, \"in_attesa_seconda\": 69143, \"totale_popolazione\": 997448, \"share_ciclo_completo\": 0.8094346772964606, \"share_solo_prima\": 0.06931990439601864, \"share_missing\": 0.1212454183075208, \"lat\": 45.46679409, \"long\": 9.190347404, \"cohort\": \"20-29 | Media Italia: 73%\"}, {\"fascia_anagrafica\": \"20-29\", \"area\": \"MAR\", \"reg_istat_code_num\": 11, \"nome_area\": \"Marche\", \"ciclo_completo\": 103139, \"solo_prima\": 112197, \"in_attesa_seconda\": 9410, \"totale_popolazione\": 143083, \"share_ciclo_completo\": 0.7208333624539602, \"share_solo_prima\": 0.0657660239161885, \"share_missing\": 0.21340061362985124, \"lat\": 43.61675973, \"long\": 13.5188753, \"cohort\": \"20-29 | Media Italia: 73%\"}, {\"fascia_anagrafica\": \"20-29\", \"area\": \"MOL\", \"reg_istat_code_num\": 14, \"nome_area\": \"Molise\", \"ciclo_completo\": 21799, \"solo_prima\": 23121, \"in_attesa_seconda\": 2419, \"totale_popolazione\": 32122, \"share_ciclo_completo\": 0.6786314675300417, \"share_solo_prima\": 0.0753066434219538, \"share_missing\": 0.24606188904800452, \"lat\": 41.55774754, \"long\": 14.65916051, \"cohort\": \"20-29 | Media Italia: 73%\"}, {\"fascia_anagrafica\": \"20-29\", \"area\": \"PIE\", \"reg_istat_code_num\": 1, \"nome_area\": \"Piemonte\", \"ciclo_completo\": 286821, \"solo_prima\": 327669, \"in_attesa_seconda\": 43322, \"totale_popolazione\": 410270, \"share_ciclo_completo\": 0.6991030297121408, \"share_solo_prima\": 0.10559387720281765, \"share_missing\": 0.19530309308504157, \"lat\": 45.0732745, \"long\": 7.680687483, \"cohort\": \"20-29 | Media Italia: 73%\"}, {\"fascia_anagrafica\": \"20-29\", \"area\": \"PUG\", \"reg_istat_code_num\": 16, \"nome_area\": \"Puglia\", \"ciclo_completo\": 306394, \"solo_prima\": 333956, \"in_attesa_seconda\": 32248, \"totale_popolazione\": 429227, \"share_ciclo_completo\": 0.7138274153303497, \"share_solo_prima\": 0.07513040885126052, \"share_missing\": 0.21104217581838983, \"lat\": 41.12559576, \"long\": 16.86736689, \"cohort\": \"20-29 | Media Italia: 73%\"}, {\"fascia_anagrafica\": \"20-29\", \"area\": \"SAR\", \"reg_istat_code_num\": 20, \"nome_area\": \"Sardegna\", \"ciclo_completo\": 107835, \"solo_prima\": 117272, \"in_attesa_seconda\": 9531, \"totale_popolazione\": 144932, \"share_ciclo_completo\": 0.7440385836116248, \"share_solo_prima\": 0.06576187453426434, \"share_missing\": 0.19019954185411087, \"lat\": 39.21531192, \"long\": 9.110616306, \"cohort\": \"20-29 | Media Italia: 73%\"}, {\"fascia_anagrafica\": \"20-29\", \"area\": \"SIC\", \"reg_istat_code_num\": 19, \"nome_area\": \"Sicilia\", \"ciclo_completo\": 350612, \"solo_prima\": 373779, \"in_attesa_seconda\": 38993, \"totale_popolazione\": 544052, \"share_ciclo_completo\": 0.6444457515090469, \"share_solo_prima\": 0.07167145787535015, \"share_missing\": 0.28388279061560295, \"lat\": 38.11569725, \"long\": 13.362356699999998, \"cohort\": \"20-29 | Media Italia: 73%\"}, {\"fascia_anagrafica\": \"20-29\", \"area\": \"TAA\", \"reg_istat_code_num\": 4, \"nome_area\": \"Trentino-Alto Adige/S\\u00fcdtirol\", \"ciclo_completo\": 79462, \"solo_prima\": 89299, \"in_attesa_seconda\": 11930, \"totale_popolazione\": 116868, \"share_ciclo_completo\": 0.6799294931033303, \"share_solo_prima\": 0.1020809802512236, \"share_missing\": 0.21798952664544613, \"lat\": 46.49933453, \"long\": 11.35662422, \"cohort\": \"20-29 | Media Italia: 73%\"}, {\"fascia_anagrafica\": \"20-29\", \"area\": \"TOS\", \"reg_istat_code_num\": 9, \"nome_area\": \"Toscana\", \"ciclo_completo\": 247122, \"solo_prima\": 289531, \"in_attesa_seconda\": 42809, \"totale_popolazione\": 339137, \"share_ciclo_completo\": 0.7286789704455722, \"share_solo_prima\": 0.1262292229983753, \"share_missing\": 0.14509180655605253, \"lat\": 43.76923077, \"long\": 11.25588885, \"cohort\": \"20-29 | Media Italia: 73%\"}, {\"fascia_anagrafica\": \"20-29\", \"area\": \"UMB\", \"reg_istat_code_num\": 10, \"nome_area\": \"Umbria\", \"ciclo_completo\": 56706, \"solo_prima\": 62618, \"in_attesa_seconda\": 6189, \"totale_popolazione\": 78331, \"share_ciclo_completo\": 0.7239279467899044, \"share_solo_prima\": 0.07901086415340032, \"share_missing\": 0.19706118905669534, \"lat\": 43.10675841, \"long\": 12.38824698, \"cohort\": \"20-29 | Media Italia: 73%\"}, {\"fascia_anagrafica\": \"20-29\", \"area\": \"VDA\", \"reg_istat_code_num\": 2, \"nome_area\": \"Valle d'Aosta\", \"ciclo_completo\": 8017, \"solo_prima\": 8772, \"in_attesa_seconda\": 895, \"totale_popolazione\": 11482, \"share_ciclo_completo\": 0.6982233060442432, \"share_solo_prima\": 0.07794809266678279, \"share_missing\": 0.223828601288974, \"lat\": 45.73750286, \"long\": 7.320149366, \"cohort\": \"20-29 | Media Italia: 73%\"}, {\"fascia_anagrafica\": \"20-29\", \"area\": \"VEN\", \"reg_istat_code_num\": 5, \"nome_area\": \"Veneto\", \"ciclo_completo\": 344938, \"solo_prima\": 384573, \"in_attesa_seconda\": 40295, \"totale_popolazione\": 479355, \"share_ciclo_completo\": 0.7195877794119181, \"share_solo_prima\": 0.08406087346538578, \"share_missing\": 0.19635134712269614, \"lat\": 45.43490485, \"long\": 12.33845213, \"cohort\": \"20-29 | Media Italia: 73%\"}, {\"fascia_anagrafica\": \"30-39\", \"area\": \"ABR\", \"reg_istat_code_num\": 13, \"nome_area\": \"Abruzzo\", \"ciclo_completo\": 101245, \"solo_prima\": 108164, \"in_attesa_seconda\": 9170, \"totale_popolazione\": 146965, \"share_ciclo_completo\": 0.6889055217228592, \"share_solo_prima\": 0.06239580852583949, \"share_missing\": 0.24869866975130128, \"lat\": 42.35122196, \"long\": 13.39843823, \"cohort\": \"30-39 | Media Italia: 68%\"}, {\"fascia_anagrafica\": \"30-39\", \"area\": \"BAS\", \"reg_istat_code_num\": 17, \"nome_area\": \"Basilicata\", \"ciclo_completo\": 42424, \"solo_prima\": 45697, \"in_attesa_seconda\": 3857, \"totale_popolazione\": 61028, \"share_ciclo_completo\": 0.6951563216884054, \"share_solo_prima\": 0.06320049813200498, \"share_missing\": 0.24164318017958966, \"lat\": 40.63947052, \"long\": 15.80514834, \"cohort\": \"30-39 | Media Italia: 68%\"}, {\"fascia_anagrafica\": \"30-39\", \"area\": \"CAL\", \"reg_istat_code_num\": 18, \"nome_area\": \"Calabria\", \"ciclo_completo\": 142467, \"solo_prima\": 150729, \"in_attesa_seconda\": 15285, \"totale_popolazione\": 223632, \"share_ciclo_completo\": 0.6370599914144667, \"share_solo_prima\": 0.0683488946125778, \"share_missing\": 0.2945911139729555, \"lat\": 38.90597598, \"long\": 16.59440194, \"cohort\": \"30-39 | Media Italia: 68%\"}, {\"fascia_anagrafica\": \"30-39\", \"area\": \"CAM\", \"reg_istat_code_num\": 15, \"nome_area\": \"Campania\", \"ciclo_completo\": 465917, \"solo_prima\": 490332, \"in_attesa_seconda\": 48706, \"totale_popolazione\": 712913, \"share_ciclo_completo\": 0.6535397727352426, \"share_solo_prima\": 0.06831969679329736, \"share_missing\": 0.2781405304714601, \"lat\": 40.83956555, \"long\": 14.25084984, \"cohort\": \"30-39 | Media Italia: 68%\"}, {\"fascia_anagrafica\": \"30-39\", \"area\": \"EMR\", \"reg_istat_code_num\": 8, \"nome_area\": \"Emilia-Romagna\", \"ciclo_completo\": 346548, \"solo_prima\": 379885, \"in_attesa_seconda\": 41611, \"totale_popolazione\": 488934, \"share_ciclo_completo\": 0.7087827804979813, \"share_solo_prima\": 0.0851055561691353, \"share_missing\": 0.20611166333288344, \"lat\": 44.49436681, \"long\": 11.3417208, \"cohort\": \"30-39 | Media Italia: 68%\"}, {\"fascia_anagrafica\": \"30-39\", \"area\": \"FVG\", \"reg_istat_code_num\": 6, \"nome_area\": \"Friuli-Venezia Giulia\", \"ciclo_completo\": 80580, \"solo_prima\": 90448, \"in_attesa_seconda\": 10097, \"totale_popolazione\": 121714, \"share_ciclo_completo\": 0.6620438076145718, \"share_solo_prima\": 0.08295676750414907, \"share_missing\": 0.25499942488127914, \"lat\": 45.6494354, \"long\": 13.76813649, \"cohort\": \"30-39 | Media Italia: 68%\"}, {\"fascia_anagrafica\": \"30-39\", \"area\": \"LAZ\", \"reg_istat_code_num\": 12, \"nome_area\": \"Lazio\", \"ciclo_completo\": 492037, \"solo_prima\": 476700, \"in_attesa_seconda\": 36249, \"totale_popolazione\": 665641, \"share_ciclo_completo\": 0.739192748042864, \"share_solo_prima\": 0.05445728252917113, \"share_missing\": 0.2063499694279649, \"lat\": 41.89277044, \"long\": 12.48366722, \"cohort\": \"30-39 | Media Italia: 68%\"}, {\"fascia_anagrafica\": \"30-39\", \"area\": \"LIG\", \"reg_istat_code_num\": 7, \"nome_area\": \"Liguria\", \"ciclo_completo\": 100063, \"solo_prima\": 104314, \"in_attesa_seconda\": 11608, \"totale_popolazione\": 149277, \"share_ciclo_completo\": 0.6703175974865518, \"share_solo_prima\": 0.07776147698573792, \"share_missing\": 0.2519209255277102, \"lat\": 44.41149315, \"long\": 8.9326992, \"cohort\": \"30-39 | Media Italia: 68%\"}, {\"fascia_anagrafica\": \"30-39\", \"area\": \"LOM\", \"reg_istat_code_num\": 3, \"nome_area\": \"Lombardia\", \"ciclo_completo\": 883331, \"solo_prima\": 951703, \"in_attesa_seconda\": 71683, \"totale_popolazione\": 1198955, \"share_ciclo_completo\": 0.736750753781418, \"share_solo_prima\": 0.05978789862838889, \"share_missing\": 0.20346134759019313, \"lat\": 45.46679409, \"long\": 9.190347404, \"cohort\": \"30-39 | Media Italia: 68%\"}, {\"fascia_anagrafica\": \"30-39\", \"area\": \"MAR\", \"reg_istat_code_num\": 11, \"nome_area\": \"Marche\", \"ciclo_completo\": 106646, \"solo_prima\": 117084, \"in_attesa_seconda\": 10924, \"totale_popolazione\": 162308, \"share_ciclo_completo\": 0.6570594178968381, \"share_solo_prima\": 0.06730413781206102, \"share_missing\": 0.2756364442911009, \"lat\": 43.61675973, \"long\": 13.5188753, \"cohort\": \"30-39 | Media Italia: 68%\"}, {\"fascia_anagrafica\": \"30-39\", \"area\": \"MOL\", \"reg_istat_code_num\": 14, \"nome_area\": \"Molise\", \"ciclo_completo\": 22612, \"solo_prima\": 24272, \"in_attesa_seconda\": 2754, \"totale_popolazione\": 34661, \"share_ciclo_completo\": 0.6523758691324544, \"share_solo_prima\": 0.07945529557716165, \"share_missing\": 0.268168835290384, \"lat\": 41.55774754, \"long\": 14.65916051, \"cohort\": \"30-39 | Media Italia: 68%\"}, {\"fascia_anagrafica\": \"30-39\", \"area\": \"PIE\", \"reg_istat_code_num\": 1, \"nome_area\": \"Piemonte\", \"ciclo_completo\": 292899, \"solo_prima\": 331560, \"in_attesa_seconda\": 45521, \"totale_popolazione\": 456855, \"share_ciclo_completo\": 0.641120267918705, \"share_solo_prima\": 0.09963992951811844, \"share_missing\": 0.2592398025631765, \"lat\": 45.0732745, \"long\": 7.680687483, \"cohort\": \"30-39 | Media Italia: 68%\"}, {\"fascia_anagrafica\": \"30-39\", \"area\": \"PUG\", \"reg_istat_code_num\": 16, \"nome_area\": \"Puglia\", \"ciclo_completo\": 318720, \"solo_prima\": 344712, \"in_attesa_seconda\": 32508, \"totale_popolazione\": 457889, \"share_ciclo_completo\": 0.6960638932142943, \"share_solo_prima\": 0.0709953722408706, \"share_missing\": 0.2329407345448351, \"lat\": 41.12559576, \"long\": 16.86736689, \"cohort\": \"30-39 | Media Italia: 68%\"}, {\"fascia_anagrafica\": \"30-39\", \"area\": \"SAR\", \"reg_istat_code_num\": 20, \"nome_area\": \"Sardegna\", \"ciclo_completo\": 124647, \"solo_prima\": 136793, \"in_attesa_seconda\": 12431, \"totale_popolazione\": 180233, \"share_ciclo_completo\": 0.6915881109452764, \"share_solo_prima\": 0.06897183090776939, \"share_missing\": 0.23944005814695424, \"lat\": 39.21531192, \"long\": 9.110616306, \"cohort\": \"30-39 | Media Italia: 68%\"}, {\"fascia_anagrafica\": \"30-39\", \"area\": \"SIC\", \"reg_istat_code_num\": 19, \"nome_area\": \"Sicilia\", \"ciclo_completo\": 359830, \"solo_prima\": 388292, \"in_attesa_seconda\": 43462, \"totale_popolazione\": 583826, \"share_ciclo_completo\": 0.6163308931085631, \"share_solo_prima\": 0.07444341293467574, \"share_missing\": 0.30922569395676114, \"lat\": 38.11569725, \"long\": 13.362356699999998, \"cohort\": \"30-39 | Media Italia: 68%\"}, {\"fascia_anagrafica\": \"30-39\", \"area\": \"TAA\", \"reg_istat_code_num\": 4, \"nome_area\": \"Trentino-Alto Adige/S\\u00fcdtirol\", \"ciclo_completo\": 77885, \"solo_prima\": 86466, \"in_attesa_seconda\": 11213, \"totale_popolazione\": 121590, \"share_ciclo_completo\": 0.6405543219014722, \"share_solo_prima\": 0.09221975491405543, \"share_missing\": 0.26722592318447236, \"lat\": 46.49933453, \"long\": 11.35662422, \"cohort\": \"30-39 | Media Italia: 68%\"}, {\"fascia_anagrafica\": \"30-39\", \"area\": \"TOS\", \"reg_istat_code_num\": 9, \"nome_area\": \"Toscana\", \"ciclo_completo\": 273983, \"solo_prima\": 321682, \"in_attesa_seconda\": 48194, \"totale_popolazione\": 398063, \"share_ciclo_completo\": 0.6882905469737203, \"share_solo_prima\": 0.12107128771073926, \"share_missing\": 0.19063816531554045, \"lat\": 43.76923077, \"long\": 11.25588885, \"cohort\": \"30-39 | Media Italia: 68%\"}, {\"fascia_anagrafica\": \"30-39\", \"area\": \"UMB\", \"reg_istat_code_num\": 10, \"nome_area\": \"Umbria\", \"ciclo_completo\": 65166, \"solo_prima\": 71328, \"in_attesa_seconda\": 6342, \"totale_popolazione\": 92145, \"share_ciclo_completo\": 0.7072114601986, \"share_solo_prima\": 0.06882630636496825, \"share_missing\": 0.2239622334364317, \"lat\": 43.10675841, \"long\": 12.38824698, \"cohort\": \"30-39 | Media Italia: 68%\"}, {\"fascia_anagrafica\": \"30-39\", \"area\": \"VDA\", \"reg_istat_code_num\": 2, \"nome_area\": \"Valle d'Aosta\", \"ciclo_completo\": 8087, \"solo_prima\": 9032, \"in_attesa_seconda\": 997, \"totale_popolazione\": 12482, \"share_ciclo_completo\": 0.647892965870854, \"share_solo_prima\": 0.07987502002884153, \"share_missing\": 0.2722320141003045, \"lat\": 45.73750286, \"long\": 7.320149366, \"cohort\": \"30-39 | Media Italia: 68%\"}, {\"fascia_anagrafica\": \"30-39\", \"area\": \"VEN\", \"reg_istat_code_num\": 5, \"nome_area\": \"Veneto\", \"ciclo_completo\": 348007, \"solo_prima\": 391669, \"in_attesa_seconda\": 44561, \"totale_popolazione\": 525221, \"share_ciclo_completo\": 0.6625915566970856, \"share_solo_prima\": 0.08484238063596086, \"share_missing\": 0.2525660626669536, \"lat\": 45.43490485, \"long\": 12.33845213, \"cohort\": \"30-39 | Media Italia: 68%\"}, {\"fascia_anagrafica\": \"40-49\", \"area\": \"ABR\", \"reg_istat_code_num\": 13, \"nome_area\": \"Abruzzo\", \"ciclo_completo\": 134841, \"solo_prima\": 138624, \"in_attesa_seconda\": 8620, \"totale_popolazione\": 187162, \"share_ciclo_completo\": 0.7204507325204903, \"share_solo_prima\": 0.046056357593956036, \"share_missing\": 0.23349290988555366, \"lat\": 42.35122196, \"long\": 13.39843823, \"cohort\": \"40-49 | Media Italia: 71%\"}, {\"fascia_anagrafica\": \"40-49\", \"area\": \"BAS\", \"reg_istat_code_num\": 17, \"nome_area\": \"Basilicata\", \"ciclo_completo\": 57005, \"solo_prima\": 57497, \"in_attesa_seconda\": 3317, \"totale_popolazione\": 74989, \"share_ciclo_completo\": 0.760178159463388, \"share_solo_prima\": 0.04423315419594874, \"share_missing\": 0.1955886863406633, \"lat\": 40.63947052, \"long\": 15.80514834, \"cohort\": \"40-49 | Media Italia: 71%\"}, {\"fascia_anagrafica\": \"40-49\", \"area\": \"CAL\", \"reg_istat_code_num\": 18, \"nome_area\": \"Calabria\", \"ciclo_completo\": 179612, \"solo_prima\": 178526, \"in_attesa_seconda\": 13708, \"totale_popolazione\": 260182, \"share_ciclo_completo\": 0.6903321521089084, \"share_solo_prima\": 0.052686196585467096, \"share_missing\": 0.2569816513056245, \"lat\": 38.90597598, \"long\": 16.59440194, \"cohort\": \"40-49 | Media Italia: 71%\"}, {\"fascia_anagrafica\": \"40-49\", \"area\": \"CAM\", \"reg_istat_code_num\": 15, \"nome_area\": \"Campania\", \"ciclo_completo\": 587292, \"solo_prima\": 612413, \"in_attesa_seconda\": 43131, \"totale_popolazione\": 828348, \"share_ciclo_completo\": 0.708991872980921, \"share_solo_prima\": 0.05206869576554781, \"share_missing\": 0.23893943125353115, \"lat\": 40.83956555, \"long\": 14.25084984, \"cohort\": \"40-49 | Media Italia: 71%\"}, {\"fascia_anagrafica\": \"40-49\", \"area\": \"EMR\", \"reg_istat_code_num\": 8, \"nome_area\": \"Emilia-Romagna\", \"ciclo_completo\": 479243, \"solo_prima\": 509503, \"in_attesa_seconda\": 39685, \"totale_popolazione\": 667770, \"share_ciclo_completo\": 0.7176767449870465, \"share_solo_prima\": 0.05942914476541324, \"share_missing\": 0.22289411024754027, \"lat\": 44.49436681, \"long\": 11.3417208, \"cohort\": \"40-49 | Media Italia: 71%\"}, {\"fascia_anagrafica\": \"40-49\", \"area\": \"FVG\", \"reg_istat_code_num\": 6, \"nome_area\": \"Friuli-Venezia Giulia\", \"ciclo_completo\": 111785, \"solo_prima\": 120990, \"in_attesa_seconda\": 9689, \"totale_popolazione\": 170017, \"share_ciclo_completo\": 0.6574930742219895, \"share_solo_prima\": 0.056988418805178305, \"share_missing\": 0.28551850697283215, \"lat\": 45.6494354, \"long\": 13.76813649, \"cohort\": \"40-49 | Media Italia: 71%\"}, {\"fascia_anagrafica\": \"40-49\", \"area\": \"LAZ\", \"reg_istat_code_num\": 12, \"nome_area\": \"Lazio\", \"ciclo_completo\": 670972, \"solo_prima\": 632326, \"in_attesa_seconda\": 39244, \"totale_popolazione\": 879906, \"share_ciclo_completo\": 0.7625496359838437, \"share_solo_prima\": 0.04460021865972047, \"share_missing\": 0.1928501453564358, \"lat\": 41.89277044, \"long\": 12.48366722, \"cohort\": \"40-49 | Media Italia: 71%\"}, {\"fascia_anagrafica\": \"40-49\", \"area\": \"LIG\", \"reg_istat_code_num\": 7, \"nome_area\": \"Liguria\", \"ciclo_completo\": 140275, \"solo_prima\": 149499, \"in_attesa_seconda\": 11818, \"totale_popolazione\": 205625, \"share_ciclo_completo\": 0.6821884498480243, \"share_solo_prima\": 0.05747355623100304, \"share_missing\": 0.2603379939209727, \"lat\": 44.41149315, \"long\": 8.9326992, \"cohort\": \"40-49 | Media Italia: 71%\"}, {\"fascia_anagrafica\": \"40-49\", \"area\": \"LOM\", \"reg_istat_code_num\": 3, \"nome_area\": \"Lombardia\", \"ciclo_completo\": 1153148, \"solo_prima\": 1210573, \"in_attesa_seconda\": 67842, \"totale_popolazione\": 1565547, \"share_ciclo_completo\": 0.736578333323752, \"share_solo_prima\": 0.04333437450296925, \"share_missing\": 0.22008729217327874, \"lat\": 45.46679409, \"long\": 9.190347404, \"cohort\": \"40-49 | Media Italia: 71%\"}, {\"fascia_anagrafica\": \"40-49\", \"area\": \"MAR\", \"reg_istat_code_num\": 11, \"nome_area\": \"Marche\", \"ciclo_completo\": 151003, \"solo_prima\": 160001, \"in_attesa_seconda\": 10118, \"totale_popolazione\": 221299, \"share_ciclo_completo\": 0.6823483160791508, \"share_solo_prima\": 0.04572094767712461, \"share_missing\": 0.2719307362437246, \"lat\": 43.61675973, \"long\": 13.5188753, \"cohort\": \"40-49 | Media Italia: 71%\"}, {\"fascia_anagrafica\": \"40-49\", \"area\": \"MOL\", \"reg_istat_code_num\": 14, \"nome_area\": \"Molise\", \"ciclo_completo\": 31208, \"solo_prima\": 32779, \"in_attesa_seconda\": 2179, \"totale_popolazione\": 40266, \"share_ciclo_completo\": 0.7750459444692793, \"share_solo_prima\": 0.05411513435652908, \"share_missing\": 0.17083892117419158, \"lat\": 41.55774754, \"long\": 14.65916051, \"cohort\": \"40-49 | Media Italia: 71%\"}, {\"fascia_anagrafica\": \"40-49\", \"area\": \"PIE\", \"reg_istat_code_num\": 1, \"nome_area\": \"Piemonte\", \"ciclo_completo\": 405674, \"solo_prima\": 449276, \"in_attesa_seconda\": 48370, \"totale_popolazione\": 613820, \"share_ciclo_completo\": 0.660900589749438, \"share_solo_prima\": 0.07880160307582028, \"share_missing\": 0.2602978071747417, \"lat\": 45.0732745, \"long\": 7.680687483, \"cohort\": \"40-49 | Media Italia: 71%\"}, {\"fascia_anagrafica\": \"40-49\", \"area\": \"PUG\", \"reg_istat_code_num\": 16, \"nome_area\": \"Puglia\", \"ciclo_completo\": 438629, \"solo_prima\": 445444, \"in_attesa_seconda\": 28531, \"totale_popolazione\": 575114, \"share_ciclo_completo\": 0.7626818335147466, \"share_solo_prima\": 0.04960929485284657, \"share_missing\": 0.18770887163240682, \"lat\": 41.12559576, \"long\": 16.86736689, \"cohort\": \"40-49 | Media Italia: 71%\"}, {\"fascia_anagrafica\": \"40-49\", \"area\": \"SAR\", \"reg_istat_code_num\": 20, \"nome_area\": \"Sardegna\", \"ciclo_completo\": 180400, \"solo_prima\": 193170, \"in_attesa_seconda\": 13296, \"totale_popolazione\": 248433, \"share_ciclo_completo\": 0.7261515177130252, \"share_solo_prima\": 0.05351945997512408, \"share_missing\": 0.2203290223118507, \"lat\": 39.21531192, \"long\": 9.110616306, \"cohort\": \"40-49 | Media Italia: 71%\"}, {\"fascia_anagrafica\": \"40-49\", \"area\": \"SIC\", \"reg_istat_code_num\": 19, \"nome_area\": \"Sicilia\", \"ciclo_completo\": 465564, \"solo_prima\": 484732, \"in_attesa_seconda\": 41709, \"totale_popolazione\": 694418, \"share_ciclo_completo\": 0.6704376902672454, \"share_solo_prima\": 0.0600632472084537, \"share_missing\": 0.2694990625243009, \"lat\": 38.11569725, \"long\": 13.362356699999998, \"cohort\": \"40-49 | Media Italia: 71%\"}, {\"fascia_anagrafica\": \"40-49\", \"area\": \"TAA\", \"reg_istat_code_num\": 4, \"nome_area\": \"Trentino-Alto Adige/S\\u00fcdtirol\", \"ciclo_completo\": 98883, \"solo_prima\": 106017, \"in_attesa_seconda\": 9941, \"totale_popolazione\": 149300, \"share_ciclo_completo\": 0.6623107836570663, \"share_solo_prima\": 0.06658405894172806, \"share_missing\": 0.27110515740120567, \"lat\": 46.49933453, \"long\": 11.35662422, \"cohort\": \"40-49 | Media Italia: 71%\"}, {\"fascia_anagrafica\": \"40-49\", \"area\": \"TOS\", \"reg_istat_code_num\": 9, \"nome_area\": \"Toscana\", \"ciclo_completo\": 389216, \"solo_prima\": 437463, \"in_attesa_seconda\": 48949, \"totale_popolazione\": 546649, \"share_ciclo_completo\": 0.7120034976740102, \"share_solo_prima\": 0.08954374745037492, \"share_missing\": 0.19845275487561492, \"lat\": 43.76923077, \"long\": 11.25588885, \"cohort\": \"40-49 | Media Italia: 71%\"}, {\"fascia_anagrafica\": \"40-49\", \"area\": \"UMB\", \"reg_istat_code_num\": 10, \"nome_area\": \"Umbria\", \"ciclo_completo\": 91164, \"solo_prima\": 97755, \"in_attesa_seconda\": 6693, \"totale_popolazione\": 123691, \"share_ciclo_completo\": 0.7370301800454359, \"share_solo_prima\": 0.0541106466921603, \"share_missing\": 0.20885917326240383, \"lat\": 43.10675841, \"long\": 12.38824698, \"cohort\": \"40-49 | Media Italia: 71%\"}, {\"fascia_anagrafica\": \"40-49\", \"area\": \"VDA\", \"reg_istat_code_num\": 2, \"nome_area\": \"Valle d'Aosta\", \"ciclo_completo\": 11544, \"solo_prima\": 12368, \"in_attesa_seconda\": 890, \"totale_popolazione\": 17249, \"share_ciclo_completo\": 0.669256188764566, \"share_solo_prima\": 0.05159719404023422, \"share_missing\": 0.27914661719519973, \"lat\": 45.73750286, \"long\": 7.320149366, \"cohort\": \"40-49 | Media Italia: 71%\"}, {\"fascia_anagrafica\": \"40-49\", \"area\": \"VEN\", \"reg_istat_code_num\": 5, \"nome_area\": \"Veneto\", \"ciclo_completo\": 493653, \"solo_prima\": 531461, \"in_attesa_seconda\": 39720, \"totale_popolazione\": 717331, \"share_ciclo_completo\": 0.6881802124821038, \"share_solo_prima\": 0.05537192732504241, \"share_missing\": 0.25644786019285376, \"lat\": 45.43490485, \"long\": 12.33845213, \"cohort\": \"40-49 | Media Italia: 71%\"}, {\"fascia_anagrafica\": \"50-59\", \"area\": \"ABR\", \"reg_istat_code_num\": 13, \"nome_area\": \"Abruzzo\", \"ciclo_completo\": 161369, \"solo_prima\": 161687, \"in_attesa_seconda\": 7636, \"totale_popolazione\": 208686, \"share_ciclo_completo\": 0.7732622217110875, \"share_solo_prima\": 0.03659085899389514, \"share_missing\": 0.19014691929501737, \"lat\": 42.35122196, \"long\": 13.39843823, \"cohort\": \"50-59 | Media Italia: 77%\"}, {\"fascia_anagrafica\": \"50-59\", \"area\": \"BAS\", \"reg_istat_code_num\": 17, \"nome_area\": \"Basilicata\", \"ciclo_completo\": 71083, \"solo_prima\": 71325, \"in_attesa_seconda\": 3251, \"totale_popolazione\": 88137, \"share_ciclo_completo\": 0.8065057807731146, \"share_solo_prima\": 0.036885757400410724, \"share_missing\": 0.15660846182647464, \"lat\": 40.63947052, \"long\": 15.80514834, \"cohort\": \"50-59 | Media Italia: 77%\"}, {\"fascia_anagrafica\": \"50-59\", \"area\": \"CAL\", \"reg_istat_code_num\": 18, \"nome_area\": \"Calabria\", \"ciclo_completo\": 212897, \"solo_prima\": 209766, \"in_attesa_seconda\": 12038, \"totale_popolazione\": 287366, \"share_ciclo_completo\": 0.7408566079494443, \"share_solo_prima\": 0.04189082911687534, \"share_missing\": 0.21725256293368037, \"lat\": 38.90597598, \"long\": 16.59440194, \"cohort\": \"50-59 | Media Italia: 77%\"}, {\"fascia_anagrafica\": \"50-59\", \"area\": \"CAM\", \"reg_istat_code_num\": 15, \"nome_area\": \"Campania\", \"ciclo_completo\": 678480, \"solo_prima\": 697673, \"in_attesa_seconda\": 31532, \"totale_popolazione\": 891415, \"share_ciclo_completo\": 0.7611269722856358, \"share_solo_prima\": 0.03537297442829659, \"share_missing\": 0.20350005328606766, \"lat\": 40.83956555, \"long\": 14.25084984, \"cohort\": \"50-59 | Media Italia: 77%\"}, {\"fascia_anagrafica\": \"50-59\", \"area\": \"EMR\", \"reg_istat_code_num\": 8, \"nome_area\": \"Emilia-Romagna\", \"ciclo_completo\": 564674, \"solo_prima\": 584288, \"in_attesa_seconda\": 26217, \"totale_popolazione\": 717140, \"share_ciclo_completo\": 0.7873971609448643, \"share_solo_prima\": 0.036557715369383945, \"share_missing\": 0.1760451236857517, \"lat\": 44.49436681, \"long\": 11.3417208, \"cohort\": \"50-59 | Media Italia: 77%\"}, {\"fascia_anagrafica\": \"50-59\", \"area\": \"FVG\", \"reg_istat_code_num\": 6, \"nome_area\": \"Friuli-Venezia Giulia\", \"ciclo_completo\": 139769, \"solo_prima\": 147778, \"in_attesa_seconda\": 8530, \"totale_popolazione\": 199155, \"share_ciclo_completo\": 0.7018101478747709, \"share_solo_prima\": 0.042830960809419796, \"share_missing\": 0.2553588913158093, \"lat\": 45.6494354, \"long\": 13.76813649, \"cohort\": \"50-59 | Media Italia: 77%\"}, {\"fascia_anagrafica\": \"50-59\", \"area\": \"LAZ\", \"reg_istat_code_num\": 12, \"nome_area\": \"Lazio\", \"ciclo_completo\": 775681, \"solo_prima\": 720113, \"in_attesa_seconda\": 32469, \"totale_popolazione\": 940470, \"share_ciclo_completo\": 0.8247801631099344, \"share_solo_prima\": 0.03452422724807809, \"share_missing\": 0.14069560964198752, \"lat\": 41.89277044, \"long\": 12.48366722, \"cohort\": \"50-59 | Media Italia: 77%\"}, {\"fascia_anagrafica\": \"50-59\", \"area\": \"LIG\", \"reg_istat_code_num\": 7, \"nome_area\": \"Liguria\", \"ciclo_completo\": 192764, \"solo_prima\": 203274, \"in_attesa_seconda\": 11441, \"totale_popolazione\": 258629, \"share_ciclo_completo\": 0.745330183390107, \"share_solo_prima\": 0.044237111847472636, \"share_missing\": 0.21043270476242032, \"lat\": 44.41149315, \"long\": 8.9326992, \"cohort\": \"50-59 | Media Italia: 77%\"}, {\"fascia_anagrafica\": \"50-59\", \"area\": \"LOM\", \"reg_istat_code_num\": 3, \"nome_area\": \"Lombardia\", \"ciclo_completo\": 1337708, \"solo_prima\": 1218792, \"in_attesa_seconda\": 48359, \"totale_popolazione\": 1677629, \"share_ciclo_completo\": 0.7973801120509958, \"share_solo_prima\": 0.028825801175349258, \"share_missing\": 0.17379408677365496, \"lat\": 45.46679409, \"long\": 9.190347404, \"cohort\": \"50-59 | Media Italia: 77%\"}, {\"fascia_anagrafica\": \"50-59\", \"area\": \"MAR\", \"reg_istat_code_num\": 11, \"nome_area\": \"Marche\", \"ciclo_completo\": 179437, \"solo_prima\": 185550, \"in_attesa_seconda\": 7994, \"totale_popolazione\": 240946, \"share_ciclo_completo\": 0.7447187336581641, \"share_solo_prima\": 0.03317755845708167, \"share_missing\": 0.22210370788475423, \"lat\": 43.61675973, \"long\": 13.5188753, \"cohort\": \"50-59 | Media Italia: 77%\"}, {\"fascia_anagrafica\": \"50-59\", \"area\": \"MOL\", \"reg_istat_code_num\": 14, \"nome_area\": \"Molise\", \"ciclo_completo\": 38934, \"solo_prima\": 40029, \"in_attesa_seconda\": 2230, \"totale_popolazione\": 46723, \"share_ciclo_completo\": 0.8332940949853391, \"share_solo_prima\": 0.04772809965113541, \"share_missing\": 0.11897780536352545, \"lat\": 41.55774754, \"long\": 14.65916051, \"cohort\": \"50-59 | Media Italia: 77%\"}, {\"fascia_anagrafica\": \"50-59\", \"area\": \"PIE\", \"reg_istat_code_num\": 1, \"nome_area\": \"Piemonte\", \"ciclo_completo\": 513720, \"solo_prima\": 547297, \"in_attesa_seconda\": 41864, \"totale_popolazione\": 704089, \"share_ciclo_completo\": 0.7296236697349341, \"share_solo_prima\": 0.05945839233392369, \"share_missing\": 0.21091793793114222, \"lat\": 45.0732745, \"long\": 7.680687483, \"cohort\": \"50-59 | Media Italia: 77%\"}, {\"fascia_anagrafica\": \"50-59\", \"area\": \"PUG\", \"reg_istat_code_num\": 16, \"nome_area\": \"Puglia\", \"ciclo_completo\": 502515, \"solo_prima\": 493497, \"in_attesa_seconda\": 23870, \"totale_popolazione\": 626206, \"share_ciclo_completo\": 0.802475543191857, \"share_solo_prima\": 0.038118446645353125, \"share_missing\": 0.15940601016278988, \"lat\": 41.12559576, \"long\": 16.86736689, \"cohort\": \"50-59 | Media Italia: 77%\"}, {\"fascia_anagrafica\": \"50-59\", \"area\": \"SAR\", \"reg_istat_code_num\": 20, \"nome_area\": \"Sardegna\", \"ciclo_completo\": 211461, \"solo_prima\": 223003, \"in_attesa_seconda\": 12377, \"totale_popolazione\": 271249, \"share_ciclo_completo\": 0.7795825975395301, \"share_solo_prima\": 0.045629661307507126, \"share_missing\": 0.1747877411529628, \"lat\": 39.21531192, \"long\": 9.110616306, \"cohort\": \"50-59 | Media Italia: 77%\"}, {\"fascia_anagrafica\": \"50-59\", \"area\": \"SIC\", \"reg_istat_code_num\": 19, \"nome_area\": \"Sicilia\", \"ciclo_completo\": 546695, \"solo_prima\": 561896, \"in_attesa_seconda\": 36875, \"totale_popolazione\": 755875, \"share_ciclo_completo\": 0.7232611212171325, \"share_solo_prima\": 0.048784521250206714, \"share_missing\": 0.2279543575326608, \"lat\": 38.11569725, \"long\": 13.362356699999998, \"cohort\": \"50-59 | Media Italia: 77%\"}, {\"fascia_anagrafica\": \"50-59\", \"area\": \"TAA\", \"reg_istat_code_num\": 4, \"nome_area\": \"Trentino-Alto Adige/S\\u00fcdtirol\", \"ciclo_completo\": 121099, \"solo_prima\": 127676, \"in_attesa_seconda\": 8226, \"totale_popolazione\": 170538, \"share_ciclo_completo\": 0.7100998018037036, \"share_solo_prima\": 0.048235583858143055, \"share_missing\": 0.24166461433815337, \"lat\": 46.49933453, \"long\": 11.35662422, \"cohort\": \"50-59 | Media Italia: 77%\"}, {\"fascia_anagrafica\": \"50-59\", \"area\": \"TOS\", \"reg_istat_code_num\": 9, \"nome_area\": \"Toscana\", \"ciclo_completo\": 466350, \"solo_prima\": 503900, \"in_attesa_seconda\": 38675, \"totale_popolazione\": 603627, \"share_ciclo_completo\": 0.7725797553787356, \"share_solo_prima\": 0.06407102399329387, \"share_missing\": 0.16334922062797055, \"lat\": 43.76923077, \"long\": 11.25588885, \"cohort\": \"50-59 | Media Italia: 77%\"}, {\"fascia_anagrafica\": \"50-59\", \"area\": \"UMB\", \"reg_istat_code_num\": 10, \"nome_area\": \"Umbria\", \"ciclo_completo\": 108090, \"solo_prima\": 113078, \"in_attesa_seconda\": 5070, \"totale_popolazione\": 136346, \"share_ciclo_completo\": 0.792762530620627, \"share_solo_prima\": 0.03718480923532777, \"share_missing\": 0.17005266014404527, \"lat\": 43.10675841, \"long\": 12.38824698, \"cohort\": \"50-59 | Media Italia: 77%\"}, {\"fascia_anagrafica\": \"50-59\", \"area\": \"VDA\", \"reg_istat_code_num\": 2, \"nome_area\": \"Valle d'Aosta\", \"ciclo_completo\": 15368, \"solo_prima\": 16124, \"in_attesa_seconda\": 800, \"totale_popolazione\": 20841, \"share_ciclo_completo\": 0.7373926395086609, \"share_solo_prima\": 0.0383858739983686, \"share_missing\": 0.22422148649297055, \"lat\": 45.73750286, \"long\": 7.320149366, \"cohort\": \"50-59 | Media Italia: 77%\"}, {\"fascia_anagrafica\": \"50-59\", \"area\": \"VEN\", \"reg_istat_code_num\": 5, \"nome_area\": \"Veneto\", \"ciclo_completo\": 609267, \"solo_prima\": 637405, \"in_attesa_seconda\": 32238, \"totale_popolazione\": 806474, \"share_ciclo_completo\": 0.7554701081497978, \"share_solo_prima\": 0.03997401032147348, \"share_missing\": 0.20455588152872878, \"lat\": 45.43490485, \"long\": 12.33845213, \"cohort\": \"50-59 | Media Italia: 77%\"}, {\"fascia_anagrafica\": \"60-69\", \"area\": \"ABR\", \"reg_istat_code_num\": 13, \"nome_area\": \"Abruzzo\", \"ciclo_completo\": 143650, \"solo_prima\": 141940, \"in_attesa_seconda\": 3911, \"totale_popolazione\": 171793, \"share_ciclo_completo\": 0.8361807524171532, \"share_solo_prima\": 0.022765770433021137, \"share_missing\": 0.1410534771498257, \"lat\": 42.35122196, \"long\": 13.39843823, \"cohort\": \"60-69 | Media Italia: 83%\"}, {\"fascia_anagrafica\": \"60-69\", \"area\": \"BAS\", \"reg_istat_code_num\": 17, \"nome_area\": \"Basilicata\", \"ciclo_completo\": 64494, \"solo_prima\": 64742, \"in_attesa_seconda\": 2334, \"totale_popolazione\": 75455, \"share_ciclo_completo\": 0.8547346100324696, \"share_solo_prima\": 0.03093234378106156, \"share_missing\": 0.11433304618646879, \"lat\": 40.63947052, \"long\": 15.80514834, \"cohort\": \"60-69 | Media Italia: 83%\"}, {\"fascia_anagrafica\": \"60-69\", \"area\": \"CAL\", \"reg_istat_code_num\": 18, \"nome_area\": \"Calabria\", \"ciclo_completo\": 201799, \"solo_prima\": 200818, \"in_attesa_seconda\": 5766, \"totale_popolazione\": 246965, \"share_ciclo_completo\": 0.817115785637641, \"share_solo_prima\": 0.023347437896058146, \"share_missing\": 0.15953677646630088, \"lat\": 38.90597598, \"long\": 16.59440194, \"cohort\": \"60-69 | Media Italia: 83%\"}, {\"fascia_anagrafica\": \"60-69\", \"area\": \"CAM\", \"reg_istat_code_num\": 15, \"nome_area\": \"Campania\", \"ciclo_completo\": 563202, \"solo_prima\": 573062, \"in_attesa_seconda\": 23722, \"totale_popolazione\": 700326, \"share_ciclo_completo\": 0.8041997583982317, \"share_solo_prima\": 0.03387279638339859, \"share_missing\": 0.16192744521836977, \"lat\": 40.83956555, \"long\": 14.25084984, \"cohort\": \"60-69 | Media Italia: 83%\"}, {\"fascia_anagrafica\": \"60-69\", \"area\": \"EMR\", \"reg_istat_code_num\": 8, \"nome_area\": \"Emilia-Romagna\", \"ciclo_completo\": 469990, \"solo_prima\": 429243, \"in_attesa_seconda\": 9900, \"totale_popolazione\": 551239, \"share_ciclo_completo\": 0.852606582625685, \"share_solo_prima\": 0.017959542049818682, \"share_missing\": 0.12943387532449632, \"lat\": 44.49436681, \"long\": 11.3417208, \"cohort\": \"60-69 | Media Italia: 83%\"}, {\"fascia_anagrafica\": \"60-69\", \"area\": \"FVG\", \"reg_istat_code_num\": 6, \"nome_area\": \"Friuli-Venezia Giulia\", \"ciclo_completo\": 121412, \"solo_prima\": 109210, \"in_attesa_seconda\": 4232, \"totale_popolazione\": 157635, \"share_ciclo_completo\": 0.7702096615599328, \"share_solo_prima\": 0.026846829701525677, \"share_missing\": 0.20294350873854156, \"lat\": 45.6494354, \"long\": 13.76813649, \"cohort\": \"60-69 | Media Italia: 83%\"}, {\"fascia_anagrafica\": \"60-69\", \"area\": \"LAZ\", \"reg_istat_code_num\": 12, \"nome_area\": \"Lazio\", \"ciclo_completo\": 620607, \"solo_prima\": 615115, \"in_attesa_seconda\": 16325, \"totale_popolazione\": 707706, \"share_ciclo_completo\": 0.8769277072682724, \"share_solo_prima\": 0.023067488476853384, \"share_missing\": 0.10000480425487421, \"lat\": 41.89277044, \"long\": 12.48366722, \"cohort\": \"60-69 | Media Italia: 83%\"}, {\"fascia_anagrafica\": \"60-69\", \"area\": \"LIG\", \"reg_istat_code_num\": 7, \"nome_area\": \"Liguria\", \"ciclo_completo\": 166531, \"solo_prima\": 166345, \"in_attesa_seconda\": 6185, \"totale_popolazione\": 207406, \"share_ciclo_completo\": 0.802922769833081, \"share_solo_prima\": 0.029820738069294042, \"share_missing\": 0.167256492097625, \"lat\": 44.41149315, \"long\": 8.9326992, \"cohort\": \"60-69 | Media Italia: 83%\"}, {\"fascia_anagrafica\": \"60-69\", \"area\": \"LOM\", \"reg_istat_code_num\": 3, \"nome_area\": \"Lombardia\", \"ciclo_completo\": 1036882, \"solo_prima\": 978927, \"in_attesa_seconda\": 20321, \"totale_popolazione\": 1240919, \"share_ciclo_completo\": 0.8355758917383004, \"share_solo_prima\": 0.01637576666970205, \"share_missing\": 0.14804834159199756, \"lat\": 45.46679409, \"long\": 9.190347404, \"cohort\": \"60-69 | Media Italia: 83%\"}, {\"fascia_anagrafica\": \"60-69\", \"area\": \"MAR\", \"reg_istat_code_num\": 11, \"nome_area\": \"Marche\", \"ciclo_completo\": 162793, \"solo_prima\": 147858, \"in_attesa_seconda\": 2308, \"totale_popolazione\": 196477, \"share_ciclo_completo\": 0.8285600859133639, \"share_solo_prima\": 0.011746922031586395, \"share_missing\": 0.15969299205504967, \"lat\": 43.61675973, \"long\": 13.5188753, \"cohort\": \"60-69 | Media Italia: 83%\"}, {\"fascia_anagrafica\": \"60-69\", \"area\": \"MOL\", \"reg_istat_code_num\": 14, \"nome_area\": \"Molise\", \"ciclo_completo\": 36263, \"solo_prima\": 35392, \"in_attesa_seconda\": 608, \"totale_popolazione\": 40925, \"share_ciclo_completo\": 0.8860843005497862, \"share_solo_prima\": 0.014856444715943799, \"share_missing\": 0.09905925473427005, \"lat\": 41.55774754, \"long\": 14.65916051, \"cohort\": \"60-69 | Media Italia: 83%\"}, {\"fascia_anagrafica\": \"60-69\", \"area\": \"PIE\", \"reg_istat_code_num\": 1, \"nome_area\": \"Piemonte\", \"ciclo_completo\": 449096, \"solo_prima\": 433399, \"in_attesa_seconda\": 18957, \"totale_popolazione\": 567486, \"share_ciclo_completo\": 0.7913781132926627, \"share_solo_prima\": 0.03340522938010806, \"share_missing\": 0.1752166573272292, \"lat\": 45.0732745, \"long\": 7.680687483, \"cohort\": \"60-69 | Media Italia: 83%\"}, {\"fascia_anagrafica\": \"60-69\", \"area\": \"PUG\", \"reg_istat_code_num\": 16, \"nome_area\": \"Puglia\", \"ciclo_completo\": 437152, \"solo_prima\": 423882, \"in_attesa_seconda\": 13209, \"totale_popolazione\": 494337, \"share_ciclo_completo\": 0.8843198061241623, \"share_solo_prima\": 0.026720637945369254, \"share_missing\": 0.08895955593046848, \"lat\": 41.12559576, \"long\": 16.86736689, \"cohort\": \"60-69 | Media Italia: 83%\"}, {\"fascia_anagrafica\": \"60-69\", \"area\": \"SAR\", \"reg_istat_code_num\": 20, \"nome_area\": \"Sardegna\", \"ciclo_completo\": 193579, \"solo_prima\": 186571, \"in_attesa_seconda\": 6914, \"totale_popolazione\": 230031, \"share_ciclo_completo\": 0.8415344018849633, \"share_solo_prima\": 0.030056818428820464, \"share_missing\": 0.12840877968621622, \"lat\": 39.21531192, \"long\": 9.110616306, \"cohort\": \"60-69 | Media Italia: 83%\"}, {\"fascia_anagrafica\": \"60-69\", \"area\": \"SIC\", \"reg_istat_code_num\": 19, \"nome_area\": \"Sicilia\", \"ciclo_completo\": 489521, \"solo_prima\": 496010, \"in_attesa_seconda\": 21741, \"totale_popolazione\": 631055, \"share_ciclo_completo\": 0.7757184397556472, \"share_solo_prima\": 0.03445183066452211, \"share_missing\": 0.18982972957983063, \"lat\": 38.11569725, \"long\": 13.362356699999998, \"cohort\": \"60-69 | Media Italia: 83%\"}, {\"fascia_anagrafica\": \"60-69\", \"area\": \"TAA\", \"reg_istat_code_num\": 4, \"nome_area\": \"Trentino-Alto Adige/S\\u00fcdtirol\", \"ciclo_completo\": 100249, \"solo_prima\": 99827, \"in_attesa_seconda\": 3389, \"totale_popolazione\": 126972, \"share_ciclo_completo\": 0.7895362757143307, \"share_solo_prima\": 0.0266909239832404, \"share_missing\": 0.18377280030242887, \"lat\": 46.49933453, \"long\": 11.35662422, \"cohort\": \"60-69 | Media Italia: 83%\"}, {\"fascia_anagrafica\": \"60-69\", \"area\": \"TOS\", \"reg_istat_code_num\": 9, \"nome_area\": \"Toscana\", \"ciclo_completo\": 400175, \"solo_prima\": 356743, \"in_attesa_seconda\": 13199, \"totale_popolazione\": 467270, \"share_ciclo_completo\": 0.8564106405290304, \"share_solo_prima\": 0.02824705202559548, \"share_missing\": 0.11534230744537415, \"lat\": 43.76923077, \"long\": 11.25588885, \"cohort\": \"60-69 | Media Italia: 83%\"}, {\"fascia_anagrafica\": \"60-69\", \"area\": \"UMB\", \"reg_istat_code_num\": 10, \"nome_area\": \"Umbria\", \"ciclo_completo\": 97135, \"solo_prima\": 81829, \"in_attesa_seconda\": 2185, \"totale_popolazione\": 112657, \"share_ciclo_completo\": 0.8622189477795432, \"share_solo_prima\": 0.01939515520562415, \"share_missing\": 0.11838589701483263, \"lat\": 43.10675841, \"long\": 12.38824698, \"cohort\": \"60-69 | Media Italia: 83%\"}, {\"fascia_anagrafica\": \"60-69\", \"area\": \"VDA\", \"reg_istat_code_num\": 2, \"nome_area\": \"Valle d'Aosta\", \"ciclo_completo\": 12562, \"solo_prima\": 12510, \"in_attesa_seconda\": 403, \"totale_popolazione\": 16197, \"share_ciclo_completo\": 0.7755757238994876, \"share_solo_prima\": 0.02488115083040069, \"share_missing\": 0.19954312527011173, \"lat\": 45.73750286, \"long\": 7.320149366, \"cohort\": \"60-69 | Media Italia: 83%\"}, {\"fascia_anagrafica\": \"60-69\", \"area\": \"VEN\", \"reg_istat_code_num\": 5, \"nome_area\": \"Veneto\", \"ciclo_completo\": 508364, \"solo_prima\": 470506, \"in_attesa_seconda\": 10756, \"totale_popolazione\": 610635, \"share_ciclo_completo\": 0.8325169700393852, \"share_solo_prima\": 0.01761445053100461, \"share_missing\": 0.1498685794296102, \"lat\": 45.43490485, \"long\": 12.33845213, \"cohort\": \"60-69 | Media Italia: 83%\"}, {\"fascia_anagrafica\": \"70-79\", \"area\": \"ABR\", \"reg_istat_code_num\": 13, \"nome_area\": \"Abruzzo\", \"ciclo_completo\": 118902, \"solo_prima\": 118033, \"in_attesa_seconda\": 1581, \"totale_popolazione\": 137406, \"share_ciclo_completo\": 0.8653333915549539, \"share_solo_prima\": 0.011506047770839701, \"share_missing\": 0.12316056067420637, \"lat\": 42.35122196, \"long\": 13.39843823, \"cohort\": \"70-79 | Media Italia: 87%\"}, {\"fascia_anagrafica\": \"70-79\", \"area\": \"BAS\", \"reg_istat_code_num\": 17, \"nome_area\": \"Basilicata\", \"ciclo_completo\": 48059, \"solo_prima\": 49015, \"in_attesa_seconda\": 1088, \"totale_popolazione\": 51805, \"share_ciclo_completo\": 0.9276903773767011, \"share_solo_prima\": 0.021001833799826272, \"share_missing\": 0.0513077888234726, \"lat\": 40.63947052, \"long\": 15.80514834, \"cohort\": \"70-79 | Media Italia: 87%\"}, {\"fascia_anagrafica\": \"70-79\", \"area\": \"CAL\", \"reg_istat_code_num\": 18, \"nome_area\": \"Calabria\", \"ciclo_completo\": 154434, \"solo_prima\": 154920, \"in_attesa_seconda\": 2666, \"totale_popolazione\": 185899, \"share_ciclo_completo\": 0.8307414241066385, \"share_solo_prima\": 0.014341120716087768, \"share_missing\": 0.1549174551772737, \"lat\": 38.90597598, \"long\": 16.59440194, \"cohort\": \"70-79 | Media Italia: 87%\"}, {\"fascia_anagrafica\": \"70-79\", \"area\": \"CAM\", \"reg_istat_code_num\": 15, \"nome_area\": \"Campania\", \"ciclo_completo\": 422370, \"solo_prima\": 433004, \"in_attesa_seconda\": 13167, \"totale_popolazione\": 477420, \"share_ciclo_completo\": 0.8846927233882116, \"share_solo_prima\": 0.027579489757446275, \"share_missing\": 0.08772778685434214, \"lat\": 40.83956555, \"long\": 14.25084984, \"cohort\": \"70-79 | Media Italia: 87%\"}, {\"fascia_anagrafica\": \"70-79\", \"area\": \"EMR\", \"reg_istat_code_num\": 8, \"nome_area\": \"Emilia-Romagna\", \"ciclo_completo\": 406267, \"solo_prima\": 395239, \"in_attesa_seconda\": 5815, \"totale_popolazione\": 455912, \"share_ciclo_completo\": 0.8911083717910474, \"share_solo_prima\": 0.012754654406990822, \"share_missing\": 0.09613697380196178, \"lat\": 44.49436681, \"long\": 11.3417208, \"cohort\": \"70-79 | Media Italia: 87%\"}, {\"fascia_anagrafica\": \"70-79\", \"area\": \"FVG\", \"reg_istat_code_num\": 6, \"nome_area\": \"Friuli-Venezia Giulia\", \"ciclo_completo\": 115453, \"solo_prima\": 111948, \"in_attesa_seconda\": 2449, \"totale_popolazione\": 140238, \"share_ciclo_completo\": 0.8232647356636575, \"share_solo_prima\": 0.017463169754274876, \"share_missing\": 0.1592720945820676, \"lat\": 45.6494354, \"long\": 13.76813649, \"cohort\": \"70-79 | Media Italia: 87%\"}, {\"fascia_anagrafica\": \"70-79\", \"area\": \"LAZ\", \"reg_istat_code_num\": 12, \"nome_area\": \"Lazio\", \"ciclo_completo\": 500484, \"solo_prima\": 503431, \"in_attesa_seconda\": 8630, \"totale_popolazione\": 551447, \"share_ciclo_completo\": 0.9075831403561901, \"share_solo_prima\": 0.015649736058043658, \"share_missing\": 0.0767671235857662, \"lat\": 41.89277044, \"long\": 12.48366722, \"cohort\": \"70-79 | Media Italia: 87%\"}, {\"fascia_anagrafica\": \"70-79\", \"area\": \"LIG\", \"reg_istat_code_num\": 7, \"nome_area\": \"Liguria\", \"ciclo_completo\": 157450, \"solo_prima\": 158809, \"in_attesa_seconda\": 3502, \"totale_popolazione\": 182496, \"share_ciclo_completo\": 0.8627586358057163, \"share_solo_prima\": 0.019189461686831492, \"share_missing\": 0.11805190250745218, \"lat\": 44.41149315, \"long\": 8.9326992, \"cohort\": \"70-79 | Media Italia: 87%\"}, {\"fascia_anagrafica\": \"70-79\", \"area\": \"LOM\", \"reg_istat_code_num\": 3, \"nome_area\": \"Lombardia\", \"ciclo_completo\": 878955, \"solo_prima\": 862556, \"in_attesa_seconda\": 13401, \"totale_popolazione\": 1006561, \"share_ciclo_completo\": 0.8732257657509083, \"share_solo_prima\": 0.013313649147940363, \"share_missing\": 0.11346058510115137, \"lat\": 45.46679409, \"long\": 9.190347404, \"cohort\": \"70-79 | Media Italia: 87%\"}, {\"fascia_anagrafica\": \"70-79\", \"area\": \"MAR\", \"reg_istat_code_num\": 11, \"nome_area\": \"Marche\", \"ciclo_completo\": 140473, \"solo_prima\": 134549, \"in_attesa_seconda\": 686, \"totale_popolazione\": 155940, \"share_ciclo_completo\": 0.9008144158009491, \"share_solo_prima\": 0.004399127869693472, \"share_missing\": 0.09478645632935741, \"lat\": 43.61675973, \"long\": 13.5188753, \"cohort\": \"70-79 | Media Italia: 87%\"}, {\"fascia_anagrafica\": \"70-79\", \"area\": \"MOL\", \"reg_istat_code_num\": 14, \"nome_area\": \"Molise\", \"ciclo_completo\": 28255, \"solo_prima\": 27863, \"in_attesa_seconda\": 147, \"totale_popolazione\": 30901, \"share_ciclo_completo\": 0.9143717031811268, \"share_solo_prima\": 0.0047571276010485095, \"share_missing\": 0.08087116921782467, \"lat\": 41.55774754, \"long\": 14.65916051, \"cohort\": \"70-79 | Media Italia: 87%\"}, {\"fascia_anagrafica\": \"70-79\", \"area\": \"PIE\", \"reg_istat_code_num\": 1, \"nome_area\": \"Piemonte\", \"ciclo_completo\": 405610, \"solo_prima\": 406789, \"in_attesa_seconda\": 11235, \"totale_popolazione\": 484838, \"share_ciclo_completo\": 0.8365887162309885, \"share_solo_prima\": 0.023172688609391177, \"share_missing\": 0.1402385951596203, \"lat\": 45.0732745, \"long\": 7.680687483, \"cohort\": \"70-79 | Media Italia: 87%\"}, {\"fascia_anagrafica\": \"70-79\", \"area\": \"PUG\", \"reg_istat_code_num\": 16, \"nome_area\": \"Puglia\", \"ciclo_completo\": 363506, \"solo_prima\": 358477, \"in_attesa_seconda\": 8566, \"totale_popolazione\": 395276, \"share_ciclo_completo\": 0.919625780467319, \"share_solo_prima\": 0.021670933727319645, \"share_missing\": 0.058703285805361334, \"lat\": 41.12559576, \"long\": 16.86736689, \"cohort\": \"70-79 | Media Italia: 87%\"}, {\"fascia_anagrafica\": \"70-79\", \"area\": \"SAR\", \"reg_istat_code_num\": 20, \"nome_area\": \"Sardegna\", \"ciclo_completo\": 154893, \"solo_prima\": 151659, \"in_attesa_seconda\": 2627, \"totale_popolazione\": 175751, \"share_ciclo_completo\": 0.881320732172221, \"share_solo_prima\": 0.014947283372498591, \"share_missing\": 0.10373198445528045, \"lat\": 39.21531192, \"long\": 9.110616306, \"cohort\": \"70-79 | Media Italia: 87%\"}, {\"fascia_anagrafica\": \"70-79\", \"area\": \"SIC\", \"reg_istat_code_num\": 19, \"nome_area\": \"Sicilia\", \"ciclo_completo\": 385905, \"solo_prima\": 394931, \"in_attesa_seconda\": 13921, \"totale_popolazione\": 476607, \"share_ciclo_completo\": 0.8096922621782726, \"share_solo_prima\": 0.029208551280195214, \"share_missing\": 0.16109918654153216, \"lat\": 38.11569725, \"long\": 13.362356699999998, \"cohort\": \"70-79 | Media Italia: 87%\"}, {\"fascia_anagrafica\": \"70-79\", \"area\": \"TAA\", \"reg_istat_code_num\": 4, \"nome_area\": \"Trentino-Alto Adige/S\\u00fcdtirol\", \"ciclo_completo\": 82751, \"solo_prima\": 82864, \"in_attesa_seconda\": 1918, \"totale_popolazione\": 98917, \"share_ciclo_completo\": 0.8365700536813693, \"share_solo_prima\": 0.01938999363102399, \"share_missing\": 0.14403995268760672, \"lat\": 46.49933453, \"long\": 11.35662422, \"cohort\": \"70-79 | Media Italia: 87%\"}, {\"fascia_anagrafica\": \"70-79\", \"area\": \"TOS\", \"reg_istat_code_num\": 9, \"nome_area\": \"Toscana\", \"ciclo_completo\": 362684, \"solo_prima\": 350316, \"in_attesa_seconda\": 6997, \"totale_popolazione\": 406475, \"share_ciclo_completo\": 0.8922664370502491, \"share_solo_prima\": 0.017213850790331508, \"share_missing\": 0.09051971215941938, \"lat\": 43.76923077, \"long\": 11.25588885, \"cohort\": \"70-79 | Media Italia: 87%\"}, {\"fascia_anagrafica\": \"70-79\", \"area\": \"UMB\", \"reg_istat_code_num\": 10, \"nome_area\": \"Umbria\", \"ciclo_completo\": 86708, \"solo_prima\": 85963, \"in_attesa_seconda\": 1616, \"totale_popolazione\": 97653, \"share_ciclo_completo\": 0.8879194699599603, \"share_solo_prima\": 0.01654839073044351, \"share_missing\": 0.0955321393095962, \"lat\": 43.10675841, \"long\": 12.38824698, \"cohort\": \"70-79 | Media Italia: 87%\"}, {\"fascia_anagrafica\": \"70-79\", \"area\": \"VDA\", \"reg_istat_code_num\": 2, \"nome_area\": \"Valle d'Aosta\", \"ciclo_completo\": 10971, \"solo_prima\": 11033, \"in_attesa_seconda\": 142, \"totale_popolazione\": 13030, \"share_ciclo_completo\": 0.8419800460475825, \"share_solo_prima\": 0.010897927858787414, \"share_missing\": 0.14712202609363012, \"lat\": 45.73750286, \"long\": 7.320149366, \"cohort\": \"70-79 | Media Italia: 87%\"}, {\"fascia_anagrafica\": \"70-79\", \"area\": \"VEN\", \"reg_istat_code_num\": 5, \"nome_area\": \"Veneto\", \"ciclo_completo\": 433149, \"solo_prima\": 422500, \"in_attesa_seconda\": 7118, \"totale_popolazione\": 494721, \"share_ciclo_completo\": 0.8755419721418739, \"share_solo_prima\": 0.014387907527677216, \"share_missing\": 0.11007012033044888, \"lat\": 45.43490485, \"long\": 12.33845213, \"cohort\": \"70-79 | Media Italia: 87%\"}, {\"fascia_anagrafica\": \"80+\", \"area\": \"ABR\", \"reg_istat_code_num\": 13, \"nome_area\": \"Abruzzo\", \"ciclo_completo\": 94390, \"solo_prima\": 95584, \"in_attesa_seconda\": 1426, \"totale_popolazione\": 116953, \"share_ciclo_completo\": 0.8070763469085872, \"share_solo_prima\": 0.012192932203534753, \"share_missing\": 0.18073072088787803, \"lat\": 42.35122196, \"long\": 13.39843823, \"cohort\": \"80+ | Media Italia: 91%\"}, {\"fascia_anagrafica\": \"80+\", \"area\": \"BAS\", \"reg_istat_code_num\": 17, \"nome_area\": \"Basilicata\", \"ciclo_completo\": 39757, \"solo_prima\": 40845, \"in_attesa_seconda\": 1093, \"totale_popolazione\": 46235, \"share_ciclo_completo\": 0.8598896939547962, \"share_solo_prima\": 0.023640099491727046, \"share_missing\": 0.11647020655347676, \"lat\": 40.63947052, \"long\": 15.80514834, \"cohort\": \"80+ | Media Italia: 91%\"}, {\"fascia_anagrafica\": \"80+\", \"area\": \"CAL\", \"reg_istat_code_num\": 18, \"nome_area\": \"Calabria\", \"ciclo_completo\": 109101, \"solo_prima\": 112083, \"in_attesa_seconda\": 3073, \"totale_popolazione\": 138517, \"share_ciclo_completo\": 0.7876361746211656, \"share_solo_prima\": 0.02218500256286232, \"share_missing\": 0.19017882281597204, \"lat\": 38.90597598, \"long\": 16.59440194, \"cohort\": \"80+ | Media Italia: 91%\"}, {\"fascia_anagrafica\": \"80+\", \"area\": \"CAM\", \"reg_istat_code_num\": 15, \"nome_area\": \"Campania\", \"ciclo_completo\": 264902, \"solo_prima\": 271946, \"in_attesa_seconda\": 7146, \"totale_popolazione\": 304317, \"share_ciclo_completo\": 0.8704804529487343, \"share_solo_prima\": 0.023482092686244935, \"share_missing\": 0.10603745436502074, \"lat\": 40.83956555, \"long\": 14.25084984, \"cohort\": \"80+ | Media Italia: 91%\"}, {\"fascia_anagrafica\": \"80+\", \"area\": \"EMR\", \"reg_istat_code_num\": 8, \"nome_area\": \"Emilia-Romagna\", \"ciclo_completo\": 353436, \"solo_prima\": 358088, \"in_attesa_seconda\": 6383, \"totale_popolazione\": 370048, \"share_ciclo_completo\": 0.9551085264614321, \"share_solo_prima\": 0.017249113628502247, \"share_missing\": 0.02764235991006568, \"lat\": 44.49436681, \"long\": 11.3417208, \"cohort\": \"80+ | Media Italia: 91%\"}, {\"fascia_anagrafica\": \"80+\", \"area\": \"FVG\", \"reg_istat_code_num\": 6, \"nome_area\": \"Friuli-Venezia Giulia\", \"ciclo_completo\": 98076, \"solo_prima\": 99823, \"in_attesa_seconda\": 1810, \"totale_popolazione\": 105679, \"share_ciclo_completo\": 0.9280557158943593, \"share_solo_prima\": 0.017127338449455427, \"share_missing\": 0.054816945656185265, \"lat\": 45.6494354, \"long\": 13.76813649, \"cohort\": \"80+ | Media Italia: 91%\"}, {\"fascia_anagrafica\": \"80+\", \"area\": \"LAZ\", \"reg_istat_code_num\": 12, \"nome_area\": \"Lazio\", \"ciclo_completo\": 388222, \"solo_prima\": 396120, \"in_attesa_seconda\": 8307, \"totale_popolazione\": 412287, \"share_ciclo_completo\": 0.9416304661558574, \"share_solo_prima\": 0.02014858581522095, \"share_missing\": 0.03822094802892161, \"lat\": 41.89277044, \"long\": 12.48366722, \"cohort\": \"80+ | Media Italia: 91%\"}, {\"fascia_anagrafica\": \"80+\", \"area\": \"LIG\", \"reg_istat_code_num\": 7, \"nome_area\": \"Liguria\", \"ciclo_completo\": 144385, \"solo_prima\": 147752, \"in_attesa_seconda\": 3671, \"totale_popolazione\": 156276, \"share_ciclo_completo\": 0.9239102613325143, \"share_solo_prima\": 0.02349049118226727, \"share_missing\": 0.05259924748521842, \"lat\": 44.41149315, \"long\": 8.9326992, \"cohort\": \"80+ | Media Italia: 91%\"}, {\"fascia_anagrafica\": \"80+\", \"area\": \"LOM\", \"reg_istat_code_num\": 3, \"nome_area\": \"Lombardia\", \"ciclo_completo\": 716458, \"solo_prima\": 723299, \"in_attesa_seconda\": 9228, \"totale_popolazione\": 765259, \"share_ciclo_completo\": 0.936229433433648, \"share_solo_prima\": 0.012058662492045177, \"share_missing\": 0.05171190407430687, \"lat\": 45.46679409, \"long\": 9.190347404, \"cohort\": \"80+ | Media Italia: 91%\"}, {\"fascia_anagrafica\": \"80+\", \"area\": \"MAR\", \"reg_istat_code_num\": 11, \"nome_area\": \"Marche\", \"ciclo_completo\": 123077, \"solo_prima\": 124512, \"in_attesa_seconda\": 2137, \"totale_popolazione\": 133365, \"share_ciclo_completo\": 0.9228583211487271, \"share_solo_prima\": 0.016023694372586512, \"share_missing\": 0.06111798447868637, \"lat\": 43.61675973, \"long\": 13.5188753, \"cohort\": \"80+ | Media Italia: 91%\"}, {\"fascia_anagrafica\": \"80+\", \"area\": \"MOL\", \"reg_istat_code_num\": 14, \"nome_area\": \"Molise\", \"ciclo_completo\": 23782, \"solo_prima\": 24393, \"in_attesa_seconda\": 641, \"totale_popolazione\": 27222, \"share_ciclo_completo\": 0.8736316214826243, \"share_solo_prima\": 0.02354713099698773, \"share_missing\": 0.10282124752038797, \"lat\": 41.55774754, \"long\": 14.65916051, \"cohort\": \"80+ | Media Italia: 91%\"}, {\"fascia_anagrafica\": \"80+\", \"area\": \"PIE\", \"reg_istat_code_num\": 1, \"nome_area\": \"Piemonte\", \"ciclo_completo\": 346147, \"solo_prima\": 350697, \"in_attesa_seconda\": 8803, \"totale_popolazione\": 379802, \"share_ciclo_completo\": 0.9113880390308634, \"share_solo_prima\": 0.02317786636194649, \"share_missing\": 0.0654340946071901, \"lat\": 45.0732745, \"long\": 7.680687483, \"cohort\": \"80+ | Media Italia: 91%\"}, {\"fascia_anagrafica\": \"80+\", \"area\": \"PUG\", \"reg_istat_code_num\": 16, \"nome_area\": \"Puglia\", \"ciclo_completo\": 255456, \"solo_prima\": 262454, \"in_attesa_seconda\": 7139, \"totale_popolazione\": 272957, \"share_ciclo_completo\": 0.9358836739852797, \"share_solo_prima\": 0.026154302692365464, \"share_missing\": 0.03796202332235482, \"lat\": 41.12559576, \"long\": 16.86736689, \"cohort\": \"80+ | Media Italia: 91%\"}, {\"fascia_anagrafica\": \"80+\", \"area\": \"SAR\", \"reg_istat_code_num\": 20, \"nome_area\": \"Sardegna\", \"ciclo_completo\": 107550, \"solo_prima\": 110786, \"in_attesa_seconda\": 3444, \"totale_popolazione\": 124768, \"share_ciclo_completo\": 0.8619998717619902, \"share_solo_prima\": 0.027603231597845602, \"share_missing\": 0.11039689664016418, \"lat\": 39.21531192, \"long\": 9.110616306, \"cohort\": \"80+ | Media Italia: 91%\"}, {\"fascia_anagrafica\": \"80+\", \"area\": \"SIC\", \"reg_istat_code_num\": 19, \"nome_area\": \"Sicilia\", \"ciclo_completo\": 266982, \"solo_prima\": 275869, \"in_attesa_seconda\": 9013, \"totale_popolazione\": 342909, \"share_ciclo_completo\": 0.7785797398143531, \"share_solo_prima\": 0.026283941220557057, \"share_missing\": 0.19513631896508982, \"lat\": 38.11569725, \"long\": 13.362356699999998, \"cohort\": \"80+ | Media Italia: 91%\"}, {\"fascia_anagrafica\": \"80+\", \"area\": \"TAA\", \"reg_istat_code_num\": 4, \"nome_area\": \"Trentino-Alto Adige/S\\u00fcdtirol\", \"ciclo_completo\": 65168, \"solo_prima\": 66290, \"in_attesa_seconda\": 1748, \"totale_popolazione\": 72410, \"share_ciclo_completo\": 0.8999861897527965, \"share_solo_prima\": 0.024140312111586796, \"share_missing\": 0.07587349813561667, \"lat\": 46.49933453, \"long\": 11.35662422, \"cohort\": \"80+ | Media Italia: 91%\"}, {\"fascia_anagrafica\": \"80+\", \"area\": \"TOS\", \"reg_istat_code_num\": 9, \"nome_area\": \"Toscana\", \"ciclo_completo\": 311494, \"solo_prima\": 316066, \"in_attesa_seconda\": 5489, \"totale_popolazione\": 329190, \"share_ciclo_completo\": 0.946243810565327, \"share_solo_prima\": 0.01667426106503843, \"share_missing\": 0.037081928369634545, \"lat\": 43.76923077, \"long\": 11.25588885, \"cohort\": \"80+ | Media Italia: 91%\"}, {\"fascia_anagrafica\": \"80+\", \"area\": \"UMB\", \"reg_istat_code_num\": 10, \"nome_area\": \"Umbria\", \"ciclo_completo\": 75728, \"solo_prima\": 76863, \"in_attesa_seconda\": 1186, \"totale_popolazione\": 85981, \"share_ciclo_completo\": 0.8807527244391202, \"share_solo_prima\": 0.013793745129737965, \"share_missing\": 0.1054535304311418, \"lat\": 43.10675841, \"long\": 12.38824698, \"cohort\": \"80+ | Media Italia: 91%\"}, {\"fascia_anagrafica\": \"80+\", \"area\": \"VDA\", \"reg_istat_code_num\": 2, \"nome_area\": \"Valle d'Aosta\", \"ciclo_completo\": 8646, \"solo_prima\": 8832, \"in_attesa_seconda\": 188, \"totale_popolazione\": 9751, \"share_ciclo_completo\": 0.8866782894062147, \"share_solo_prima\": 0.019280073838580658, \"share_missing\": 0.0940416367552046, \"lat\": 45.73750286, \"long\": 7.320149366, \"cohort\": \"80+ | Media Italia: 91%\"}, {\"fascia_anagrafica\": \"80+\", \"area\": \"VEN\", \"reg_istat_code_num\": 5, \"nome_area\": \"Veneto\", \"ciclo_completo\": 344403, \"solo_prima\": 350079, \"in_attesa_seconda\": 7176, \"totale_popolazione\": 368984, \"share_ciclo_completo\": 0.9333819352600655, \"share_solo_prima\": 0.019447997745159682, \"share_missing\": 0.0471700669947748, \"lat\": 45.43490485, \"long\": 12.33845213, \"cohort\": \"80+ | Media Italia: 91%\"}]}}, {\"mode\": \"vega-lite\"});\n",
       "</script>"
      ],
      "text/plain": [
       "alt.Chart(...)"
      ]
     },
     "execution_count": 28,
     "metadata": {},
     "output_type": "execute_result"
    }
   ],
   "source": [
    "plot_title = alt.TitleParams(\n",
    "    f\"Percentuale di popolazione con ciclo vaccinale completo per fascia anagrafica (media Italia: {share_vax_italy:.0%})\",\n",
    "    fontSize=18,\n",
    "    subtitle=[FOOTNOTE],\n",
    "    subtitleColor='grey', subtitleFontSize=16,\n",
    "    align='left', anchor='start'\n",
    ")\n",
    "(\n",
    "    alt.Chart(regional_age_df.merge(italy_avg_per_age_df), title=plot_title)\n",
    "    .mark_geoshape()\n",
    "    .encode(\n",
    "        shape='geo:G',\n",
    "        color=alt.Color(\n",
    "            field='share_ciclo_completo',\n",
    "            type='quantitative',\n",
    "            title='Ciclo completo',\n",
    "            legend=alt.Legend(format=\".0%\", clipHeight=.2)\n",
    "        ),\n",
    "        facet=alt.Facet(\n",
    "            'cohort:N', columns=4,\n",
    "            header=alt.Header(title='', labelFontSize=15, labelFontWeight='bold')\n",
    "        ),\n",
    "        tooltip=[\n",
    "            alt.Tooltip(field='nome_area', type='nominal', title='Region'),\n",
    "            alt.Tooltip(field='fascia_anagrafica', type='nominal', title='Fascia anagrafica'),\n",
    "            alt.Tooltip(field='share_ciclo_completo', type='quantitative', format='.0%', title='Ciclo completo')\n",
    "        ],\n",
    "    )\n",
    "    .transform_lookup(\n",
    "        lookup='reg_istat_code_num',\n",
    "        from_=alt.LookupData(data=regions, key='properties.reg_istat_code_num'),\n",
    "        as_='geo'\n",
    "    )\n",
    "    .properties(width=130, height=200)\n",
    "    .configure_view(strokeOpacity=0)\n",
    "    .resolve_scale(color='independent')\n",
    "    .configure_legend(\n",
    "        gradientLength=150,\n",
    "        gradientThickness=10\n",
    "    ) \n",
    ")"
   ]
  }
 ],
 "metadata": {
  "hide_input": false,
  "kernelspec": {
   "display_name": "Python 3",
   "language": "python",
   "name": "python3"
  },
  "language_info": {
   "codemirror_mode": {
    "name": "ipython",
    "version": 3
   },
   "file_extension": ".py",
   "mimetype": "text/x-python",
   "name": "python",
   "nbconvert_exporter": "python",
   "pygments_lexer": "ipython3",
   "version": "3.7.4"
  },
  "toc": {
   "base_numbering": 1,
   "nav_menu": {},
   "number_sections": true,
   "sideBar": true,
   "skip_h1_title": false,
   "title_cell": "Table of Contents",
   "title_sidebar": "Contents",
   "toc_cell": false,
   "toc_position": {},
   "toc_section_display": true,
   "toc_window_display": false
  }
 },
 "nbformat": 4,
 "nbformat_minor": 2
}
