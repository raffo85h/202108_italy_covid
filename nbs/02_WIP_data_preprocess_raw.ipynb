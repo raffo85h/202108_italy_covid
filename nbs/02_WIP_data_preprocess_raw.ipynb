{
 "cells": [
  {
   "cell_type": "code",
   "execution_count": null,
   "metadata": {},
   "outputs": [],
   "source": []
  },
  {
   "cell_type": "code",
   "execution_count": null,
   "metadata": {},
   "outputs": [],
   "source": [
    "BASE_PATH = '../../covid19-opendata-vaccini/dati'"
   ]
  },
  {
   "cell_type": "code",
   "execution_count": null,
   "metadata": {},
   "outputs": [],
   "source": [
    "def get_fn(fn):\n",
    "    return os.path.join(BASE_PATH, f'{fn}.csv')"
   ]
  },
  {
   "cell_type": "markdown",
   "metadata": {},
   "source": [
    "# Vaccines"
   ]
  },
  {
   "cell_type": "code",
   "execution_count": null,
   "metadata": {},
   "outputs": [],
   "source": [
    "def collapse_to_80_plus(x):\n",
    "    if x == '90+':\n",
    "        return '80+'\n",
    "    if x == '80-89':\n",
    "        return '80+'\n",
    "    return x\n",
    "\n",
    "def get_complete_vacc(r):\n",
    "    if r.fornitore == 'Janssen':\n",
    "        return r.prima_dose\n",
    "    return r.seconda_dose\n",
    "\n",
    "def get_got_first_no_jansen(r):\n",
    "    if r.fornitore == 'Janssen':\n",
    "        return 0\n",
    "    return r.prima_dose\n",
    "\n",
    "def get_in_attesa_seconda(r):\n",
    "    if r.fornitore == 'Janssen':\n",
    "        return 0\n",
    "    return r.prima_dose - r.seconda_dose"
   ]
  },
  {
   "cell_type": "code",
   "execution_count": null,
   "metadata": {},
   "outputs": [],
   "source": [
    "def get_daily_vacc_by_dim(df, dims=None, by_dose=True, rolling=7):\n",
    "    dims_1 = 'date' if dims is None else ['date', *dims]\n",
    "    tmp = (\n",
    "        df\n",
    "        .assign(date=lambda x: pd.to_datetime(x.data_somministrazione))\n",
    "        .groupby(dims_1)\n",
    "        [['solo_prima', 'ciclo_completo']]\n",
    "        .sum()\n",
    "        .reset_index()\n",
    "        .melt(id_vars=dims_1, value_vars=['solo_prima', 'ciclo_completo'])\n",
    "        .sort_values(dims_1)\n",
    "        .reset_index(drop=True)\n",
    "    )\n",
    "    if not by_dose:\n",
    "        if dims is None:\n",
    "            smooth = lambda x: x.value.transform(lambda x: x.rolling(rolling, 1).mean())\n",
    "        else:\n",
    "            smooth = lambda x: x.groupby(dims).value.transform(lambda x: x.rolling(rolling, 1).mean())\n",
    "        return (\n",
    "            tmp\n",
    "            .groupby(dims_1)[['value']].sum().reset_index()\n",
    "            .assign(n_vacc=smooth)\n",
    "        )\n",
    "    if dims is None:\n",
    "        smooth = lambda x: x.groupby(['variable']).value.transform(lambda x: x.rolling(rolling, 1).mean())\n",
    "    else:\n",
    "        smooth = lambda x: x.groupby([*dims, 'variable']).value.transform(lambda x: x.rolling(rolling, 1).mean())\n",
    "\n",
    "    return (\n",
    "        tmp\n",
    "        .assign(n_vacc=smooth)\n",
    "        .assign(dose=lambda x: x.variable.str.replace('_', ' '))\n",
    "        .drop('variable', axis=1)\n",
    "    )"
   ]
  },
  {
   "cell_type": "code",
   "execution_count": null,
   "metadata": {},
   "outputs": [],
   "source": [
    "pop_by_age_df = (\n",
    "    pd.read_csv(os.path.join(BASE_PATH, 'platea.csv'))\n",
    "    .groupby('fascia_anagrafica')\n",
    "    [['totale_popolazione']]\n",
    "    .sum()\n",
    "    .reset_index()\n",
    ")"
   ]
  },
  {
   "cell_type": "code",
   "execution_count": null,
   "metadata": {},
   "outputs": [],
   "source": [
    "vacc_df = (\n",
    "    pd.read_csv(os.path.join(BASE_PATH, 'somministrazioni-vaccini-latest.csv'))\n",
    "    .drop(['codice_NUTS1', 'codice_NUTS2', 'codice_regione_ISTAT'], axis=1)\n",
    "    .assign(fascia_anagrafica=lambda x: x.fascia_anagrafica.apply(collapse_to_80_plus))\n",
    "    .assign(ciclo_completo=lambda x: x.apply(get_complete_vacc, axis=1))\n",
    "    .assign(solo_prima=lambda x: x.apply(get_got_first_no_jansen, axis=1))\n",
    "    .assign(in_attesa_seconda=lambda x: x.apply(get_in_attesa_seconda, axis=1))\n",
    ")\n",
    "vacc_df.shape # 89182, 11"
   ]
  },
  {
   "cell_type": "code",
   "execution_count": null,
   "metadata": {},
   "outputs": [],
   "source": [
    "overall_age_df = (\n",
    "    vacc_df\n",
    "    .groupby(['fascia_anagrafica'])\n",
    "    [['prima_dose', 'seconda_dose', 'ciclo_completo', 'solo_prima', 'in_attesa_seconda']]\n",
    "    .sum()\n",
    "    .reset_index()\n",
    "    .merge(pop_by_age_df, on='fascia_anagrafica')\n",
    "    .rename(columns={'fascia_anagrafica': 'age'})\n",
    "    .assign(prima=lambda x: x.prima_dose/x.totale_popolazione)\n",
    "    .assign(seconda=lambda x: x.seconda_dose/x.totale_popolazione)\n",
    "    .assign(complete=lambda x: x.ciclo_completo/x.totale_popolazione)\n",
    "    .assign(waiting_second=lambda x: x.in_attesa_seconda/x.totale_popolazione)\n",
    ")"
   ]
  },
  {
   "cell_type": "code",
   "execution_count": null,
   "metadata": {},
   "outputs": [],
   "source": [
    "vacc_by_age_df = (\n",
    "    get_daily_vacc_by_dim(vacc_df, dims=['fascia_anagrafica'], by_dose=False, rolling=7)\n",
    "    .merge(pop_by_age_df, on='fascia_anagrafica')\n",
    "    .assign(share=lambda x: x.n_vacc*100/x.totale_popolazione)\n",
    ")"
   ]
  },
  {
   "cell_type": "code",
   "execution_count": null,
   "metadata": {},
   "outputs": [],
   "source": [
    "(\n",
    "    get_daily_vacc_by_dim(vacc_df, dims=['fascia_anagrafica'], by_dose=True, rolling=7)\n",
    "    .to_csv(get_fn('daily_vaccines_by_age_doses'))\n",
    ")"
   ]
  }
 ],
 "metadata": {
  "hide_input": false,
  "kernelspec": {
   "display_name": "Python 3",
   "language": "python",
   "name": "python3"
  },
  "language_info": {
   "codemirror_mode": {
    "name": "ipython",
    "version": 3
   },
   "file_extension": ".py",
   "mimetype": "text/x-python",
   "name": "python",
   "nbconvert_exporter": "python",
   "pygments_lexer": "ipython3",
   "version": "3.7.4"
  },
  "toc": {
   "base_numbering": 1,
   "nav_menu": {},
   "number_sections": true,
   "sideBar": true,
   "skip_h1_title": false,
   "title_cell": "Table of Contents",
   "title_sidebar": "Contents",
   "toc_cell": false,
   "toc_position": {},
   "toc_section_display": true,
   "toc_window_display": false
  }
 },
 "nbformat": 4,
 "nbformat_minor": 2
}
