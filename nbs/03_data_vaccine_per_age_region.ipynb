{
 "cells": [
  {
   "cell_type": "code",
   "execution_count": 1,
   "metadata": {
    "scrolled": true
   },
   "outputs": [
    {
     "data": {
      "text/html": [
       "<style>.container { width:100% !important; }</style>"
      ],
      "text/plain": [
       "<IPython.core.display.HTML object>"
      ]
     },
     "metadata": {},
     "output_type": "display_data"
    }
   ],
   "source": [
    "from IPython.core.display import display, HTML\n",
    "display(HTML(\"<style>.container { width:100% !important; }</style>\"))"
   ]
  },
  {
   "cell_type": "code",
   "execution_count": 2,
   "metadata": {},
   "outputs": [],
   "source": [
    "import os\n",
    "import json\n",
    "import numpy as np\n",
    "import pandas as pd\n",
    "from scipy.constants import golden\n",
    "from datetime import datetime\n",
    "import matplotlib.pyplot as plt\n",
    "from matplotlib.ticker import FuncFormatter\n",
    "import seaborn as sns\n",
    "%matplotlib inline"
   ]
  },
  {
   "cell_type": "code",
   "execution_count": 3,
   "metadata": {},
   "outputs": [],
   "source": [
    "import altair as alt\n",
    "from vega_datasets import data\n",
    "import json\n",
    "\n",
    "import locale\n",
    "locale.setlocale(locale.LC_TIME, \"it_IT\")\n",
    "\n",
    "from pandas.plotting import register_matplotlib_converters\n",
    "register_matplotlib_converters()\n",
    "\n",
    "%config Completer. use_jedi = False"
   ]
  },
  {
   "cell_type": "code",
   "execution_count": 4,
   "metadata": {},
   "outputs": [],
   "source": [
    "BASE_PATH = '../../covid19-opendata-vaccini/dati'\n",
    "\n",
    "START_DATE = '2021-01-01'\n",
    "END_DATE = datetime.today().strftime('%Y-%m-%d')\n",
    "\n",
    "AGE_ORDER = ['12-19', '20-29', '30-39', '40-49', '50-59', '60-69', '70-79', '80-89', '90+']\n",
    "AGE_ORDER = ['12-19', '20-29', '30-39', '40-49', '50-59', '60-69', '70-79', '80+']\n",
    "\n",
    "FOOTNOTE = 'Grafico @RaffoRaffo85 | Dati aggiornati {}'.format(END_DATE)"
   ]
  },
  {
   "cell_type": "code",
   "execution_count": 5,
   "metadata": {},
   "outputs": [],
   "source": [
    "def get_dt_given_delta(dt, delta):\n",
    "    return (\n",
    "        pd.to_datetime(dt) - pd.Timedelta(days=delta)\n",
    "    ).strftime('%Y-%m-%d')\n",
    "def get_week_range(w):\n",
    "    return ' - '.join(pd.to_datetime(w).strftime('%b-%d'))\n",
    "\n",
    "LAST_1W = get_dt_given_delta(END_DATE, 7), get_dt_given_delta(END_DATE, 1)\n",
    "LAST_2W = get_dt_given_delta(END_DATE, 14), get_dt_given_delta(END_DATE, 8)\n",
    "\n",
    "LAST_1W_STR = get_week_range(LAST_1W)\n",
    "LAST_2W_STR = get_week_range(LAST_2W)"
   ]
  },
  {
   "cell_type": "code",
   "execution_count": 6,
   "metadata": {},
   "outputs": [],
   "source": [
    "def get_week_cohort(dt):\n",
    "    if LAST_1W[0] <= dt <= LAST_1W[1]:\n",
    "        return LAST_1W_STR\n",
    "    if LAST_2W[0] <= dt <= LAST_2W[1]:\n",
    "        return LAST_2W_STR\n",
    "    return 'rm'"
   ]
  },
  {
   "cell_type": "code",
   "execution_count": 7,
   "metadata": {},
   "outputs": [],
   "source": [
    "regions = alt.topo_feature(\n",
    "    'https://raw.githubusercontent.com/openpolis/geojson-italy/master/topojson/limits_IT_regions.topo.json',\n",
    "    'regions'\n",
    ")"
   ]
  },
  {
   "cell_type": "markdown",
   "metadata": {},
   "source": [
    "# Utils"
   ]
  },
  {
   "cell_type": "code",
   "execution_count": 8,
   "metadata": {},
   "outputs": [],
   "source": [
    "def extend_class(cls):\n",
    "    \"\"\"Source: https://gist.github.com/victorlei/5968685\"\"\"\n",
    "    return lambda f: (setattr(cls,f.__name__,f) or f)\n",
    "\n",
    "@extend_class(sns.FacetGrid)\n",
    "def set_xdates(self, start, end, fmt='%B-%Y', freq='MS'):\n",
    "    dt = pd.date_range(start, end, freq=freq)\n",
    "    self.set(xticks=dt, xticklabels=dt.map(lambda x: x.strftime(fmt)))\n",
    "    return self\n",
    "\n",
    "@extend_class(sns.FacetGrid)\n",
    "def set_suptitle(self, s, x=0, y=1.1, fontsize=18, ha='left'):\n",
    "    self.fig.suptitle(s, x=x, y=y, ha=ha, fontweight='bold', fontsize=fontsize)\n",
    "    return self\n",
    "\n",
    "@extend_class(sns.FacetGrid)\n",
    "def set_subtitle(self, s, x=0, y=1, c='darkgrey', fs=18, fw='bold', ha='left'):\n",
    "    if isinstance(c, int):\n",
    "        c = sns.color_palette('colorblind')[c]\n",
    "    g.fig.text(x, y, s, color=c, fontsize=fs, fontweight=fw, ha=ha)\n",
    "\n",
    "@extend_class(sns.FacetGrid)\n",
    "def set_formatter(self, axis='xaxis', denom=1e6, fmt='{}'):\n",
    "    if denom > 1:\n",
    "        f = lambda x, pos: fmt.format(int(x/denom))\n",
    "    else:\n",
    "        f = lambda x, pos: fmt.format(x)\n",
    "    for ax in self.axes.flat:\n",
    "        getattr(ax, axis).set_major_formatter(FuncFormatter(f))\n",
    "    return self\n",
    "\n",
    "@extend_class(sns.FacetGrid)\n",
    "def rm_y_axis(self):\n",
    "    [ax.tick_params(axis='y', which=u'both',length=0) for ax in self.axes.flat]\n",
    "    self.despine(left=True)\n",
    "    return self"
   ]
  },
  {
   "cell_type": "code",
   "execution_count": 9,
   "metadata": {},
   "outputs": [],
   "source": [
    "def collapse_to_80_plus(x):\n",
    "    if x == '90+':\n",
    "        return '80+'\n",
    "    if x == '80-89':\n",
    "        return '80+'\n",
    "    return x\n",
    "\n",
    "def get_complete_vacc(r):\n",
    "    if r.fornitore == 'Janssen':\n",
    "        return r.prima_dose\n",
    "    return r.seconda_dose\n",
    "\n",
    "def get_got_first_no_jansen(r):\n",
    "    if r.fornitore == 'Janssen':\n",
    "        return 0\n",
    "    return r.prima_dose\n",
    "\n",
    "def get_in_attesa_seconda(r):\n",
    "    if r.fornitore == 'Janssen':\n",
    "        return 0\n",
    "    return r.prima_dose - r.seconda_dose"
   ]
  },
  {
   "cell_type": "markdown",
   "metadata": {},
   "source": [
    "# Load data"
   ]
  },
  {
   "cell_type": "code",
   "execution_count": 10,
   "metadata": {},
   "outputs": [],
   "source": [
    "def get_trentino_region_nome_area(nome_area):\n",
    "    if 'bolzano' in nome_area.lower() or 'trento' in nome_area.lower():\n",
    "        return 'Trentino-Alto Adige/Südtirol'\n",
    "    if 'valle' in nome_area.lower():\n",
    "        return \"Valle d'Aosta\"\n",
    "    return nome_area\n",
    "def get_trentino_region_area(area):\n",
    "    if area in ['PAB', 'PAT']:\n",
    "        return 'TAA'\n",
    "    return area"
   ]
  },
  {
   "cell_type": "code",
   "execution_count": 11,
   "metadata": {},
   "outputs": [],
   "source": [
    "# Needed to get Lat/Long to try annotate text\n",
    "# def clean_friuli(x):\n",
    "#     if 'friuli' in x.lower():\n",
    "#         return 'Friuli-Venezia Giulia'\n",
    "#     return x\n",
    "# lat_long_df = (\n",
    "#     pd.read_csv('../../COVID-19/dati-regioni/dpc-covid19-ita-regioni.csv')\n",
    "#     [['denominazione_regione', 'lat', 'long']]\n",
    "#     .drop_duplicates()\n",
    "#     .assign(nome_area=lambda x: x.denominazione_regione.apply(get_trentino_region_nome_area))\n",
    "#     [['nome_area', 'lat', 'long']]\n",
    "#     .assign(nome_area=lambda x: x.nome_area.apply(clean_friuli))\n",
    "# )"
   ]
  },
  {
   "cell_type": "code",
   "execution_count": 12,
   "metadata": {},
   "outputs": [],
   "source": [
    "def clean_friuli(x):\n",
    "    if x.lower().startswith('friuli'):\n",
    "        return 'Friuli-Venezia Giulia'\n",
    "    return x"
   ]
  },
  {
   "cell_type": "code",
   "execution_count": 13,
   "metadata": {},
   "outputs": [
    {
     "data": {
      "text/html": [
       "<div>\n",
       "<style scoped>\n",
       "    .dataframe tbody tr th:only-of-type {\n",
       "        vertical-align: middle;\n",
       "    }\n",
       "\n",
       "    .dataframe tbody tr th {\n",
       "        vertical-align: top;\n",
       "    }\n",
       "\n",
       "    .dataframe thead th {\n",
       "        text-align: right;\n",
       "    }\n",
       "</style>\n",
       "<table border=\"1\" class=\"dataframe\">\n",
       "  <thead>\n",
       "    <tr style=\"text-align: right;\">\n",
       "      <th></th>\n",
       "      <th>nome_area</th>\n",
       "      <th>lat</th>\n",
       "      <th>long</th>\n",
       "    </tr>\n",
       "  </thead>\n",
       "  <tbody>\n",
       "    <tr>\n",
       "      <td>0</td>\n",
       "      <td>Abruzzo</td>\n",
       "      <td>42.351222</td>\n",
       "      <td>13.398438</td>\n",
       "    </tr>\n",
       "  </tbody>\n",
       "</table>\n",
       "</div>"
      ],
      "text/plain": [
       "  nome_area        lat       long\n",
       "0   Abruzzo  42.351222  13.398438"
      ]
     },
     "execution_count": 13,
     "metadata": {},
     "output_type": "execute_result"
    }
   ],
   "source": [
    "lat_long_df = (\n",
    "    pd.read_csv('../../COVID-19/dati-regioni/dpc-covid19-ita-regioni.csv')\n",
    "    [['denominazione_regione', 'lat', 'long']]\n",
    "    .drop_duplicates()\n",
    "    .assign(nome_area=lambda x: x.denominazione_regione.apply(get_trentino_region_nome_area))\n",
    "    [['nome_area', 'lat', 'long']]\n",
    "    .drop_duplicates('nome_area')\n",
    "    .assign(nome_area=lambda x: x.nome_area.apply(clean_friuli))\n",
    ")\n",
    "lat_long_df.head(1)"
   ]
  },
  {
   "cell_type": "code",
   "execution_count": 14,
   "metadata": {},
   "outputs": [],
   "source": [
    "regional_wow_df = (\n",
    "    pd.read_csv(os.path.join(BASE_PATH, 'somministrazioni-vaccini-latest.csv'))\n",
    "    .assign(nome_area=lambda x: x.nome_area.apply(get_trentino_region_nome_area))\n",
    "    .assign(area=lambda x: x.area.apply(get_trentino_region_area))\n",
    "    .assign(w_cohort=lambda x: x.data_somministrazione.apply(get_week_cohort))\n",
    "    .query('w_cohort!=\"rm\"')\n",
    "    .groupby(['codice_regione_ISTAT', 'nome_area', 'area', 'w_cohort'])\n",
    "    [['prima_dose', 'seconda_dose']]\n",
    "    .sum()\n",
    "    .reset_index()\n",
    "    .melt(['codice_regione_ISTAT', 'nome_area', 'area', 'w_cohort'])\n",
    "    .groupby(['codice_regione_ISTAT', 'nome_area', 'area', 'w_cohort'])\n",
    "    .sum().reset_index().rename(columns={'value': 'n_vaccini'})\n",
    "    .merge(\n",
    "        pd.read_csv(os.path.join(BASE_PATH, 'platea.csv'))\n",
    "        .assign(area=lambda x: x.area.apply(get_trentino_region_area))\n",
    "        .groupby('area')\n",
    "        .totale_popolazione.sum().reset_index(),\n",
    "        on=['area'], how='outer'\n",
    "    )\n",
    "    .assign(share_pop_getting_shot=lambda x: x.n_vaccini / x.totale_popolazione)\n",
    "    .rename(columns={'codice_regione_ISTAT': 'reg_istat_code_num'})\n",
    "    .drop(['n_vaccini', 'totale_popolazione'], axis=1)\n",
    "    .merge(lat_long_df, on='nome_area', how='left')\n",
    ")\n",
    "assert regional_wow_df.isnull().sum().sum() == 0"
   ]
  },
  {
   "cell_type": "code",
   "execution_count": 15,
   "metadata": {},
   "outputs": [],
   "source": [
    "regional_age_df = (\n",
    "    pd.read_csv(os.path.join(BASE_PATH, 'somministrazioni-vaccini-latest.csv'))\n",
    "    .assign(nome_area=lambda x: x.nome_area.apply(get_trentino_region_nome_area))\n",
    "    .assign(area=lambda x: x.area.apply(get_trentino_region_area))\n",
    "    .groupby(['fascia_anagrafica', 'codice_regione_ISTAT', 'nome_area', 'area', 'fornitore'])\n",
    "    [['prima_dose', 'seconda_dose']]\n",
    "    .sum()\n",
    "    .reset_index()\n",
    "    .assign(fascia_anagrafica=lambda x: x.fascia_anagrafica.apply(collapse_to_80_plus))\n",
    "    .assign(ciclo_completo=lambda x: x.apply(get_complete_vacc, axis=1))\n",
    "    .assign(solo_prima=lambda x: x.apply(get_got_first_no_jansen, axis=1))\n",
    "    .assign(in_attesa_seconda=lambda x: x.apply(get_in_attesa_seconda, axis=1))\n",
    "    .groupby(['fascia_anagrafica', 'area', 'codice_regione_ISTAT', 'nome_area'])\n",
    "    [['ciclo_completo', 'solo_prima', 'in_attesa_seconda']]\n",
    "    .sum().reset_index()\n",
    "    .merge(\n",
    "        pd.read_csv(os.path.join(BASE_PATH, 'platea.csv'))\n",
    "        .assign(area=lambda x: x.area.apply(get_trentino_region_area))\n",
    "        .groupby(['area', 'fascia_anagrafica'])\n",
    "        .totale_popolazione.sum().reset_index(),\n",
    "        on=['area', 'fascia_anagrafica'], how='outer'\n",
    "    )\n",
    "    .assign(share_ciclo_completo=lambda x: x.ciclo_completo / x.totale_popolazione)\n",
    "    .assign(share_solo_prima=lambda x: x.solo_prima / x.totale_popolazione)\n",
    "    .assign(share_solo_prima=lambda x: x.in_attesa_seconda / x.totale_popolazione)\n",
    "    .assign(share_missing=lambda x: 1 - x.share_ciclo_completo - x.share_solo_prima)\n",
    "    .rename(columns={'codice_regione_ISTAT': 'reg_istat_code_num'})\n",
    "    .merge(lat_long_df, on='nome_area', how='left')\n",
    ")\n",
    "assert regional_age_df.isnull().sum().sum() == 0"
   ]
  },
  {
   "cell_type": "code",
   "execution_count": 16,
   "metadata": {},
   "outputs": [],
   "source": [
    "REGIONS_SORTED = (\n",
    "    pd.read_csv(os.path.join(BASE_PATH, 'platea.csv'))\n",
    "    .assign(nome_area=lambda x: x.nome_area.apply(get_trentino_region_nome_area))\n",
    "    .assign(area=lambda x: x.area.apply(get_trentino_region_area))\n",
    "    .groupby(['area', 'nome_area'])\n",
    "    .totale_popolazione\n",
    "    .sum()\n",
    "    .sort_values(ascending=False)\n",
    "    .reset_index()\n",
    "    [['area', 'nome_area']]\n",
    "    .values\n",
    ")\n",
    "AREA_SORTED = [x[0] for x in REGIONS_SORTED]\n",
    "REGIONS_SORTED = [x[1] for x in REGIONS_SORTED]"
   ]
  },
  {
   "cell_type": "code",
   "execution_count": 17,
   "metadata": {},
   "outputs": [
    {
     "data": {
      "text/plain": [
       "0.7896774517742003"
      ]
     },
     "execution_count": 17,
     "metadata": {},
     "output_type": "execute_result"
    }
   ],
   "source": [
    "share_vax_italy = (\n",
    "    regional_age_df[['ciclo_completo', 'totale_popolazione']]\n",
    "    .sum()\n",
    "    .to_frame()\n",
    "    .T\n",
    "    .assign(share_italy=lambda x: x.ciclo_completo / x.totale_popolazione)\n",
    "    .share_italy.values[0]\n",
    ")\n",
    "share_vax_italy"
   ]
  },
  {
   "cell_type": "code",
   "execution_count": 18,
   "metadata": {},
   "outputs": [],
   "source": [
    "def concat_age_share(r):\n",
    "    return r.fascia_anagrafica + ' | Media Italia: {:.0%}'.format(r.share_italy)\n",
    "\n",
    "italy_avg_per_age_df = (\n",
    "    regional_age_df\n",
    "    .groupby('fascia_anagrafica', as_index=False)\n",
    "    [['ciclo_completo', 'totale_popolazione']]\n",
    "    .sum()\n",
    "    .assign(share_italy=lambda x: x.ciclo_completo / x.totale_popolazione)\n",
    "    [['fascia_anagrafica', 'share_italy']]\n",
    "    .assign(cohort=lambda x: x.apply(concat_age_share, axis=1))\n",
    "    [['fascia_anagrafica', 'cohort']]\n",
    ")"
   ]
  },
  {
   "cell_type": "markdown",
   "metadata": {},
   "source": [
    "# Share vaccinated by age overall"
   ]
  },
  {
   "cell_type": "code",
   "execution_count": 19,
   "metadata": {},
   "outputs": [
    {
     "data": {
      "text/html": [
       "\n",
       "<div id=\"altair-viz-05b25da4d7884cb0804f1738ecc4fd14\"></div>\n",
       "<script type=\"text/javascript\">\n",
       "  (function(spec, embedOpt){\n",
       "    let outputDiv = document.currentScript.previousElementSibling;\n",
       "    if (outputDiv.id !== \"altair-viz-05b25da4d7884cb0804f1738ecc4fd14\") {\n",
       "      outputDiv = document.getElementById(\"altair-viz-05b25da4d7884cb0804f1738ecc4fd14\");\n",
       "    }\n",
       "    const paths = {\n",
       "      \"vega\": \"https://cdn.jsdelivr.net/npm//vega@5?noext\",\n",
       "      \"vega-lib\": \"https://cdn.jsdelivr.net/npm//vega-lib?noext\",\n",
       "      \"vega-lite\": \"https://cdn.jsdelivr.net/npm//vega-lite@4.8.1?noext\",\n",
       "      \"vega-embed\": \"https://cdn.jsdelivr.net/npm//vega-embed@6?noext\",\n",
       "    };\n",
       "\n",
       "    function loadScript(lib) {\n",
       "      return new Promise(function(resolve, reject) {\n",
       "        var s = document.createElement('script');\n",
       "        s.src = paths[lib];\n",
       "        s.async = true;\n",
       "        s.onload = () => resolve(paths[lib]);\n",
       "        s.onerror = () => reject(`Error loading script: ${paths[lib]}`);\n",
       "        document.getElementsByTagName(\"head\")[0].appendChild(s);\n",
       "      });\n",
       "    }\n",
       "\n",
       "    function showError(err) {\n",
       "      outputDiv.innerHTML = `<div class=\"error\" style=\"color:red;\">${err}</div>`;\n",
       "      throw err;\n",
       "    }\n",
       "\n",
       "    function displayChart(vegaEmbed) {\n",
       "      vegaEmbed(outputDiv, spec, embedOpt)\n",
       "        .catch(err => showError(`Javascript Error: ${err.message}<br>This usually means there's a typo in your chart specification. See the javascript console for the full traceback.`));\n",
       "    }\n",
       "\n",
       "    if(typeof define === \"function\" && define.amd) {\n",
       "      requirejs.config({paths});\n",
       "      require([\"vega-embed\"], displayChart, err => showError(`Error loading script: ${err.message}`));\n",
       "    } else if (typeof vegaEmbed === \"function\") {\n",
       "      displayChart(vegaEmbed);\n",
       "    } else {\n",
       "      loadScript(\"vega\")\n",
       "        .then(() => loadScript(\"vega-lite\"))\n",
       "        .then(() => loadScript(\"vega-embed\"))\n",
       "        .catch(showError)\n",
       "        .then(() => displayChart(vegaEmbed));\n",
       "    }\n",
       "  })({\"config\": {\"view\": {\"continuousWidth\": 400, \"continuousHeight\": 300, \"strokeOpacity\": 0}}, \"data\": {\"name\": \"data-398de792b5c3c8c2c1f75018e2226aad\"}, \"mark\": \"bar\", \"encoding\": {\"color\": {\"type\": \"nominal\", \"field\": \"Vaccino\", \"sort\": {\"field\": \"order\", \"order\": \"ascending\"}}, \"order\": {\"type\": \"quantitative\", \"field\": \"order\"}, \"tooltip\": [{\"type\": \"nominal\", \"field\": \"fascia_anagrafica\", \"title\": \"Fascia anagrafica\"}, {\"type\": \"nominal\", \"field\": \"Vaccino\", \"title\": \"Vaccino\"}, {\"type\": \"quantitative\", \"field\": \"value\", \"format\": \".1%\", \"title\": \"Popolazione vaccinata\"}], \"x\": {\"type\": \"quantitative\", \"axis\": {\"format\": \".0%\"}, \"field\": \"value\", \"stack\": \"zero\", \"title\": \"\"}, \"y\": {\"type\": \"nominal\", \"field\": \"fascia_anagrafica\", \"title\": \"\"}}, \"height\": 200, \"title\": {\"text\": \"Percentuale di popolazione per ciclo vaccinale per fascia anagrafica\", \"align\": \"left\", \"anchor\": \"start\", \"fontSize\": 18, \"subtitle\": [\"Grafico @RaffoRaffo85 | Dati aggiornati 2021-10-23\"], \"subtitleColor\": \"grey\", \"subtitleFontSize\": 16}, \"width\": 323.60679774997897, \"$schema\": \"https://vega.github.io/schema/vega-lite/v4.8.1.json\", \"datasets\": {\"data-398de792b5c3c8c2c1f75018e2226aad\": [{\"fascia_anagrafica\": \"12-19\", \"variable\": \"share_ciclo_completo\", \"value\": 0.637238698791619, \"Vaccino\": \"Completo\", \"order\": 1}, {\"fascia_anagrafica\": \"20-29\", \"variable\": \"share_ciclo_completo\", \"value\": 0.7751344469777304, \"Vaccino\": \"Completo\", \"order\": 1}, {\"fascia_anagrafica\": \"30-39\", \"variable\": \"share_ciclo_completo\", \"value\": 0.7316382243316929, \"Vaccino\": \"Completo\", \"order\": 1}, {\"fascia_anagrafica\": \"40-49\", \"variable\": \"share_ciclo_completo\", \"value\": 0.7468641938778704, \"Vaccino\": \"Completo\", \"order\": 1}, {\"fascia_anagrafica\": \"50-59\", \"variable\": \"share_ciclo_completo\", \"value\": 0.7947230013480286, \"Vaccino\": \"Completo\", \"order\": 1}, {\"fascia_anagrafica\": \"60-69\", \"variable\": \"share_ciclo_completo\", \"value\": 0.8434158744717339, \"Vaccino\": \"Completo\", \"order\": 1}, {\"fascia_anagrafica\": \"70-79\", \"variable\": \"share_ciclo_completo\", \"value\": 0.8807037637144429, \"Vaccino\": \"Completo\", \"order\": 1}, {\"fascia_anagrafica\": \"80+\", \"variable\": \"share_ciclo_completo\", \"value\": 0.9125842007231292, \"Vaccino\": \"Completo\", \"order\": 1}, {\"fascia_anagrafica\": \"12-19\", \"variable\": \"share_solo_prima\", \"value\": 0.055300967214793946, \"Vaccino\": \"In attesa seconda\", \"order\": 0}, {\"fascia_anagrafica\": \"20-29\", \"variable\": \"share_solo_prima\", \"value\": 0.06574478412573671, \"Vaccino\": \"In attesa seconda\", \"order\": 0}, {\"fascia_anagrafica\": \"30-39\", \"variable\": \"share_solo_prima\", \"value\": 0.062168731230678745, \"Vaccino\": \"In attesa seconda\", \"order\": 0}, {\"fascia_anagrafica\": \"40-49\", \"variable\": \"share_solo_prima\", \"value\": 0.046724953695668876, \"Vaccino\": \"In attesa seconda\", \"order\": 0}, {\"fascia_anagrafica\": \"50-59\", \"variable\": \"share_solo_prima\", \"value\": 0.035148941108450515, \"Vaccino\": \"In attesa seconda\", \"order\": 0}, {\"fascia_anagrafica\": \"60-69\", \"variable\": \"share_solo_prima\", \"value\": 0.02103161374761269, \"Vaccino\": \"In attesa seconda\", \"order\": 0}, {\"fascia_anagrafica\": \"70-79\", \"variable\": \"share_solo_prima\", \"value\": 0.014650391665599265, \"Vaccino\": \"In attesa seconda\", \"order\": 0}, {\"fascia_anagrafica\": \"80+\", \"variable\": \"share_solo_prima\", \"value\": 0.01766538840802016, \"Vaccino\": \"In attesa seconda\", \"order\": 0}, {\"fascia_anagrafica\": \"12-19\", \"variable\": \"share_missing\", \"value\": 0.3074603339935871, \"Vaccino\": \"Nessun vaccino\", \"order\": 2}, {\"fascia_anagrafica\": \"20-29\", \"variable\": \"share_missing\", \"value\": 0.15912076889653293, \"Vaccino\": \"Nessun vaccino\", \"order\": 2}, {\"fascia_anagrafica\": \"30-39\", \"variable\": \"share_missing\", \"value\": 0.20619304443762831, \"Vaccino\": \"Nessun vaccino\", \"order\": 2}, {\"fascia_anagrafica\": \"40-49\", \"variable\": \"share_missing\", \"value\": 0.20641085242646073, \"Vaccino\": \"Nessun vaccino\", \"order\": 2}, {\"fascia_anagrafica\": \"50-59\", \"variable\": \"share_missing\", \"value\": 0.1701280575435209, \"Vaccino\": \"Nessun vaccino\", \"order\": 2}, {\"fascia_anagrafica\": \"60-69\", \"variable\": \"share_missing\", \"value\": 0.13555251178065342, \"Vaccino\": \"Nessun vaccino\", \"order\": 2}, {\"fascia_anagrafica\": \"70-79\", \"variable\": \"share_missing\", \"value\": 0.10464584461995785, \"Vaccino\": \"Nessun vaccino\", \"order\": 2}, {\"fascia_anagrafica\": \"80+\", \"variable\": \"share_missing\", \"value\": 0.0697504108688507, \"Vaccino\": \"Nessun vaccino\", \"order\": 2}]}}, {\"mode\": \"vega-lite\"});\n",
       "</script>"
      ],
      "text/plain": [
       "alt.Chart(...)"
      ]
     },
     "execution_count": 19,
     "metadata": {},
     "output_type": "execute_result"
    }
   ],
   "source": [
    "# Share vaccinated by age overall\n",
    "str_rename = {'share_ciclo_completo': 'Completo', 'share_solo_prima': 'In attesa seconda', 'share_missing': 'Nessun vaccino'}.get\n",
    "order_rename = {'share_ciclo_completo': 1, 'share_solo_prima': 0, 'share_missing': 2}.get\n",
    "plt_share_vacc_overall_df = (\n",
    "    regional_age_df\n",
    "    .groupby('fascia_anagrafica')\n",
    "    [['ciclo_completo', 'solo_prima', 'in_attesa_seconda', 'totale_popolazione']]\n",
    "    .sum()\n",
    "    .reset_index()\n",
    "    .assign(share_solo_prima=lambda x: x.in_attesa_seconda/x.totale_popolazione)\n",
    "    .assign(share_ciclo_completo=lambda x: x.ciclo_completo/x.totale_popolazione)\n",
    "    .assign(share_missing=lambda x: 1 - x.share_solo_prima - x.share_ciclo_completo)\n",
    "    .melt(\n",
    "        id_vars=['fascia_anagrafica'],\n",
    "        value_vars=['share_ciclo_completo', 'share_solo_prima', 'share_missing']\n",
    "    )\n",
    "    .assign(Vaccino=lambda x: x.variable.apply(str_rename))\n",
    "    .assign(order=lambda x: x.variable.apply(order_rename))\n",
    ")\n",
    "plot_title = alt.TitleParams(\n",
    "    \"Percentuale di popolazione per ciclo vaccinale per fascia anagrafica\",\n",
    "    fontSize=18,\n",
    "    subtitle=[FOOTNOTE],\n",
    "    subtitleColor='grey', subtitleFontSize=16,\n",
    "    align='left', anchor='start'\n",
    ")\n",
    "(\n",
    "    alt.Chart(plt_share_vacc_overall_df, title=plot_title)\n",
    "    .mark_bar()\n",
    "    .encode(\n",
    "        x=alt.X('value:Q', stack='zero', axis=alt.Axis(format='.0%'), title=''),\n",
    "        y=alt.Y('fascia_anagrafica:N', title=''),\n",
    "        color=alt.Color('Vaccino:N', sort=alt.EncodingSortField('order', order='ascending')),\n",
    "        order='order',\n",
    "        tooltip=[\n",
    "            alt.Tooltip('fascia_anagrafica:N', title='Fascia anagrafica'),\n",
    "            alt.Tooltip('Vaccino:N', title='Vaccino'),\n",
    "            alt.Tooltip('value:Q', format='.1%', title='Popolazione vaccinata')\n",
    "        ]\n",
    "    )\n",
    "    .properties(width=200*golden, height=200)\n",
    "    .configure_view(strokeOpacity=0)\n",
    ")"
   ]
  },
  {
   "cell_type": "markdown",
   "metadata": {},
   "source": [
    "# Regional share"
   ]
  },
  {
   "cell_type": "code",
   "execution_count": 20,
   "metadata": {},
   "outputs": [
    {
     "data": {
      "text/html": [
       "\n",
       "<div id=\"altair-viz-62986c2310cb48a9b77b4c43112f97f4\"></div>\n",
       "<script type=\"text/javascript\">\n",
       "  (function(spec, embedOpt){\n",
       "    let outputDiv = document.currentScript.previousElementSibling;\n",
       "    if (outputDiv.id !== \"altair-viz-62986c2310cb48a9b77b4c43112f97f4\") {\n",
       "      outputDiv = document.getElementById(\"altair-viz-62986c2310cb48a9b77b4c43112f97f4\");\n",
       "    }\n",
       "    const paths = {\n",
       "      \"vega\": \"https://cdn.jsdelivr.net/npm//vega@5?noext\",\n",
       "      \"vega-lib\": \"https://cdn.jsdelivr.net/npm//vega-lib?noext\",\n",
       "      \"vega-lite\": \"https://cdn.jsdelivr.net/npm//vega-lite@4.8.1?noext\",\n",
       "      \"vega-embed\": \"https://cdn.jsdelivr.net/npm//vega-embed@6?noext\",\n",
       "    };\n",
       "\n",
       "    function loadScript(lib) {\n",
       "      return new Promise(function(resolve, reject) {\n",
       "        var s = document.createElement('script');\n",
       "        s.src = paths[lib];\n",
       "        s.async = true;\n",
       "        s.onload = () => resolve(paths[lib]);\n",
       "        s.onerror = () => reject(`Error loading script: ${paths[lib]}`);\n",
       "        document.getElementsByTagName(\"head\")[0].appendChild(s);\n",
       "      });\n",
       "    }\n",
       "\n",
       "    function showError(err) {\n",
       "      outputDiv.innerHTML = `<div class=\"error\" style=\"color:red;\">${err}</div>`;\n",
       "      throw err;\n",
       "    }\n",
       "\n",
       "    function displayChart(vegaEmbed) {\n",
       "      vegaEmbed(outputDiv, spec, embedOpt)\n",
       "        .catch(err => showError(`Javascript Error: ${err.message}<br>This usually means there's a typo in your chart specification. See the javascript console for the full traceback.`));\n",
       "    }\n",
       "\n",
       "    if(typeof define === \"function\" && define.amd) {\n",
       "      requirejs.config({paths});\n",
       "      require([\"vega-embed\"], displayChart, err => showError(`Error loading script: ${err.message}`));\n",
       "    } else if (typeof vegaEmbed === \"function\") {\n",
       "      displayChart(vegaEmbed);\n",
       "    } else {\n",
       "      loadScript(\"vega\")\n",
       "        .then(() => loadScript(\"vega-lite\"))\n",
       "        .then(() => loadScript(\"vega-embed\"))\n",
       "        .catch(showError)\n",
       "        .then(() => displayChart(vegaEmbed));\n",
       "    }\n",
       "  })({\"config\": {\"view\": {\"continuousWidth\": 400, \"continuousHeight\": 300, \"strokeOpacity\": 0}}, \"data\": {\"name\": \"data-f9cf8488c348de650ad5a8069796cbec\"}, \"mark\": \"bar\", \"encoding\": {\"color\": {\"type\": \"nominal\", \"field\": \"Vaccino\", \"sort\": {\"field\": \"order\", \"order\": \"ascending\"}}, \"facet\": {\"type\": \"nominal\", \"columns\": 7, \"field\": \"nome_area\", \"title\": \"\"}, \"order\": {\"type\": \"quantitative\", \"field\": \"order\"}, \"tooltip\": [{\"type\": \"nominal\", \"field\": \"fascia_anagrafica\", \"title\": \"Fascia anagrafica\"}, {\"type\": \"nominal\", \"field\": \"Vaccino\", \"title\": \"Vaccino\"}, {\"type\": \"quantitative\", \"field\": \"value\", \"format\": \".1%\", \"title\": \"Popolazione vaccinata\"}], \"x\": {\"type\": \"quantitative\", \"axis\": {\"format\": \".0%\"}, \"field\": \"value\", \"stack\": \"zero\", \"title\": \"\"}, \"y\": {\"type\": \"nominal\", \"field\": \"fascia_anagrafica\", \"title\": \"\"}}, \"height\": 120, \"title\": {\"text\": \"Percentuale di popolazione per ciclo vaccinale per fascia anagrafica\", \"align\": \"left\", \"anchor\": \"start\", \"fontSize\": 18, \"subtitle\": [\"Grafico @RaffoRaffo85 | Dati aggiornati 2021-10-23\"], \"subtitleColor\": \"grey\", \"subtitleFontSize\": 16}, \"width\": 120, \"$schema\": \"https://vega.github.io/schema/vega-lite/v4.8.1.json\", \"datasets\": {\"data-f9cf8488c348de650ad5a8069796cbec\": [{\"fascia_anagrafica\": \"12-19\", \"nome_area\": \"Abruzzo\", \"variable\": \"share_ciclo_completo\", \"value\": 0.6433540595606322, \"Vaccino\": \"Completo\", \"order\": 1}, {\"fascia_anagrafica\": \"12-19\", \"nome_area\": \"Basilicata\", \"variable\": \"share_ciclo_completo\", \"value\": 0.6997826458592815, \"Vaccino\": \"Completo\", \"order\": 1}, {\"fascia_anagrafica\": \"12-19\", \"nome_area\": \"Calabria\", \"variable\": \"share_ciclo_completo\", \"value\": 0.5951332686606652, \"Vaccino\": \"Completo\", \"order\": 1}, {\"fascia_anagrafica\": \"12-19\", \"nome_area\": \"Campania\", \"variable\": \"share_ciclo_completo\", \"value\": 0.6153121109727904, \"Vaccino\": \"Completo\", \"order\": 1}, {\"fascia_anagrafica\": \"12-19\", \"nome_area\": \"Emilia-Romagna\", \"variable\": \"share_ciclo_completo\", \"value\": 0.6573501114810176, \"Vaccino\": \"Completo\", \"order\": 1}, {\"fascia_anagrafica\": \"12-19\", \"nome_area\": \"Friuli-Venezia Giulia\", \"variable\": \"share_ciclo_completo\", \"value\": 0.5833576812949219, \"Vaccino\": \"Completo\", \"order\": 1}, {\"fascia_anagrafica\": \"12-19\", \"nome_area\": \"Lazio\", \"variable\": \"share_ciclo_completo\", \"value\": 0.6444815999220818, \"Vaccino\": \"Completo\", \"order\": 1}, {\"fascia_anagrafica\": \"12-19\", \"nome_area\": \"Liguria\", \"variable\": \"share_ciclo_completo\", \"value\": 0.5834126091844677, \"Vaccino\": \"Completo\", \"order\": 1}, {\"fascia_anagrafica\": \"12-19\", \"nome_area\": \"Lombardia\", \"variable\": \"share_ciclo_completo\", \"value\": 0.6971538831395393, \"Vaccino\": \"Completo\", \"order\": 1}, {\"fascia_anagrafica\": \"12-19\", \"nome_area\": \"Marche\", \"variable\": \"share_ciclo_completo\", \"value\": 0.5679070219973642, \"Vaccino\": \"Completo\", \"order\": 1}, {\"fascia_anagrafica\": \"12-19\", \"nome_area\": \"Molise\", \"variable\": \"share_ciclo_completo\", \"value\": 0.7058106064302093, \"Vaccino\": \"Completo\", \"order\": 1}, {\"fascia_anagrafica\": \"12-19\", \"nome_area\": \"Piemonte\", \"variable\": \"share_ciclo_completo\", \"value\": 0.5986807566324509, \"Vaccino\": \"Completo\", \"order\": 1}, {\"fascia_anagrafica\": \"12-19\", \"nome_area\": \"Puglia\", \"variable\": \"share_ciclo_completo\", \"value\": 0.7008761223956063, \"Vaccino\": \"Completo\", \"order\": 1}, {\"fascia_anagrafica\": \"12-19\", \"nome_area\": \"Sardegna\", \"variable\": \"share_ciclo_completo\", \"value\": 0.7206932168222078, \"Vaccino\": \"Completo\", \"order\": 1}, {\"fascia_anagrafica\": \"12-19\", \"nome_area\": \"Sicilia\", \"variable\": \"share_ciclo_completo\", \"value\": 0.5695351371027046, \"Vaccino\": \"Completo\", \"order\": 1}, {\"fascia_anagrafica\": \"12-19\", \"nome_area\": \"Trentino-Alto Adige/S\\u00fcdtirol\", \"variable\": \"share_ciclo_completo\", \"value\": 0.5321923299630306, \"Vaccino\": \"Completo\", \"order\": 1}, {\"fascia_anagrafica\": \"12-19\", \"nome_area\": \"Toscana\", \"variable\": \"share_ciclo_completo\", \"value\": 0.6688255724922602, \"Vaccino\": \"Completo\", \"order\": 1}, {\"fascia_anagrafica\": \"12-19\", \"nome_area\": \"Umbria\", \"variable\": \"share_ciclo_completo\", \"value\": 0.6164753969501651, \"Vaccino\": \"Completo\", \"order\": 1}, {\"fascia_anagrafica\": \"12-19\", \"nome_area\": \"Valle d'Aosta\", \"variable\": \"share_ciclo_completo\", \"value\": 0.5901604278074867, \"Vaccino\": \"Completo\", \"order\": 1}, {\"fascia_anagrafica\": \"12-19\", \"nome_area\": \"Veneto\", \"variable\": \"share_ciclo_completo\", \"value\": 0.6007359536711132, \"Vaccino\": \"Completo\", \"order\": 1}, {\"fascia_anagrafica\": \"20-29\", \"nome_area\": \"Abruzzo\", \"variable\": \"share_ciclo_completo\", \"value\": 0.7945859618302323, \"Vaccino\": \"Completo\", \"order\": 1}, {\"fascia_anagrafica\": \"20-29\", \"nome_area\": \"Basilicata\", \"variable\": \"share_ciclo_completo\", \"value\": 0.7598827396286755, \"Vaccino\": \"Completo\", \"order\": 1}, {\"fascia_anagrafica\": \"20-29\", \"nome_area\": \"Calabria\", \"variable\": \"share_ciclo_completo\", \"value\": 0.7228229851911928, \"Vaccino\": \"Completo\", \"order\": 1}, {\"fascia_anagrafica\": \"20-29\", \"nome_area\": \"Campania\", \"variable\": \"share_ciclo_completo\", \"value\": 0.7181531970424468, \"Vaccino\": \"Completo\", \"order\": 1}, {\"fascia_anagrafica\": \"20-29\", \"nome_area\": \"Emilia-Romagna\", \"variable\": \"share_ciclo_completo\", \"value\": 0.8167722054064095, \"Vaccino\": \"Completo\", \"order\": 1}, {\"fascia_anagrafica\": \"20-29\", \"nome_area\": \"Friuli-Venezia Giulia\", \"variable\": \"share_ciclo_completo\", \"value\": 0.7998964391718832, \"Vaccino\": \"Completo\", \"order\": 1}, {\"fascia_anagrafica\": \"20-29\", \"nome_area\": \"Lazio\", \"variable\": \"share_ciclo_completo\", \"value\": 0.8060963935188913, \"Vaccino\": \"Completo\", \"order\": 1}, {\"fascia_anagrafica\": \"20-29\", \"nome_area\": \"Liguria\", \"variable\": \"share_ciclo_completo\", \"value\": 0.791716412410642, \"Vaccino\": \"Completo\", \"order\": 1}, {\"fascia_anagrafica\": \"20-29\", \"nome_area\": \"Lombardia\", \"variable\": \"share_ciclo_completo\", \"value\": 0.8513336033557639, \"Vaccino\": \"Completo\", \"order\": 1}, {\"fascia_anagrafica\": \"20-29\", \"nome_area\": \"Marche\", \"variable\": \"share_ciclo_completo\", \"value\": 0.7624805183005668, \"Vaccino\": \"Completo\", \"order\": 1}, {\"fascia_anagrafica\": \"20-29\", \"nome_area\": \"Molise\", \"variable\": \"share_ciclo_completo\", \"value\": 0.7087977087354461, \"Vaccino\": \"Completo\", \"order\": 1}, {\"fascia_anagrafica\": \"20-29\", \"nome_area\": \"Piemonte\", \"variable\": \"share_ciclo_completo\", \"value\": 0.7602481292807176, \"Vaccino\": \"Completo\", \"order\": 1}, {\"fascia_anagrafica\": \"20-29\", \"nome_area\": \"Puglia\", \"variable\": \"share_ciclo_completo\", \"value\": 0.7536618153098477, \"Vaccino\": \"Completo\", \"order\": 1}, {\"fascia_anagrafica\": \"20-29\", \"nome_area\": \"Sardegna\", \"variable\": \"share_ciclo_completo\", \"value\": 0.7805453592029366, \"Vaccino\": \"Completo\", \"order\": 1}, {\"fascia_anagrafica\": \"20-29\", \"nome_area\": \"Sicilia\", \"variable\": \"share_ciclo_completo\", \"value\": 0.6843720820803894, \"Vaccino\": \"Completo\", \"order\": 1}, {\"fascia_anagrafica\": \"20-29\", \"nome_area\": \"Trentino-Alto Adige/S\\u00fcdtirol\", \"variable\": \"share_ciclo_completo\", \"value\": 0.7340075983160489, \"Vaccino\": \"Completo\", \"order\": 1}, {\"fascia_anagrafica\": \"20-29\", \"nome_area\": \"Toscana\", \"variable\": \"share_ciclo_completo\", \"value\": 0.8102920058855271, \"Vaccino\": \"Completo\", \"order\": 1}, {\"fascia_anagrafica\": \"20-29\", \"nome_area\": \"Umbria\", \"variable\": \"share_ciclo_completo\", \"value\": 0.7604396726711008, \"Vaccino\": \"Completo\", \"order\": 1}, {\"fascia_anagrafica\": \"20-29\", \"nome_area\": \"Valle d'Aosta\", \"variable\": \"share_ciclo_completo\", \"value\": 0.7419439122104163, \"Vaccino\": \"Completo\", \"order\": 1}, {\"fascia_anagrafica\": \"20-29\", \"nome_area\": \"Veneto\", \"variable\": \"share_ciclo_completo\", \"value\": 0.763402905988255, \"Vaccino\": \"Completo\", \"order\": 1}, {\"fascia_anagrafica\": \"30-39\", \"nome_area\": \"Abruzzo\", \"variable\": \"share_ciclo_completo\", \"value\": 0.7192324703160616, \"Vaccino\": \"Completo\", \"order\": 1}, {\"fascia_anagrafica\": \"30-39\", \"nome_area\": \"Basilicata\", \"variable\": \"share_ciclo_completo\", \"value\": 0.7328603264075506, \"Vaccino\": \"Completo\", \"order\": 1}, {\"fascia_anagrafica\": \"30-39\", \"nome_area\": \"Calabria\", \"variable\": \"share_ciclo_completo\", \"value\": 0.6817405380267583, \"Vaccino\": \"Completo\", \"order\": 1}, {\"fascia_anagrafica\": \"30-39\", \"nome_area\": \"Campania\", \"variable\": \"share_ciclo_completo\", \"value\": 0.6922990603341501, \"Vaccino\": \"Completo\", \"order\": 1}, {\"fascia_anagrafica\": \"30-39\", \"nome_area\": \"Emilia-Romagna\", \"variable\": \"share_ciclo_completo\", \"value\": 0.7660154540285601, \"Vaccino\": \"Completo\", \"order\": 1}, {\"fascia_anagrafica\": \"30-39\", \"nome_area\": \"Friuli-Venezia Giulia\", \"variable\": \"share_ciclo_completo\", \"value\": 0.7160310235470037, \"Vaccino\": \"Completo\", \"order\": 1}, {\"fascia_anagrafica\": \"30-39\", \"nome_area\": \"Lazio\", \"variable\": \"share_ciclo_completo\", \"value\": 0.7813596217781056, \"Vaccino\": \"Completo\", \"order\": 1}, {\"fascia_anagrafica\": \"30-39\", \"nome_area\": \"Liguria\", \"variable\": \"share_ciclo_completo\", \"value\": 0.7231120668287814, \"Vaccino\": \"Completo\", \"order\": 1}, {\"fascia_anagrafica\": \"30-39\", \"nome_area\": \"Lombardia\", \"variable\": \"share_ciclo_completo\", \"value\": 0.777174289276912, \"Vaccino\": \"Completo\", \"order\": 1}, {\"fascia_anagrafica\": \"30-39\", \"nome_area\": \"Marche\", \"variable\": \"share_ciclo_completo\", \"value\": 0.7021403750893364, \"Vaccino\": \"Completo\", \"order\": 1}, {\"fascia_anagrafica\": \"30-39\", \"nome_area\": \"Molise\", \"variable\": \"share_ciclo_completo\", \"value\": 0.689593491243761, \"Vaccino\": \"Completo\", \"order\": 1}, {\"fascia_anagrafica\": \"30-39\", \"nome_area\": \"Piemonte\", \"variable\": \"share_ciclo_completo\", \"value\": 0.7000842718149084, \"Vaccino\": \"Completo\", \"order\": 1}, {\"fascia_anagrafica\": \"30-39\", \"nome_area\": \"Puglia\", \"variable\": \"share_ciclo_completo\", \"value\": 0.7350908189539386, \"Vaccino\": \"Completo\", \"order\": 1}, {\"fascia_anagrafica\": \"30-39\", \"nome_area\": \"Sardegna\", \"variable\": \"share_ciclo_completo\", \"value\": 0.7323298175139957, \"Vaccino\": \"Completo\", \"order\": 1}, {\"fascia_anagrafica\": \"30-39\", \"nome_area\": \"Sicilia\", \"variable\": \"share_ciclo_completo\", \"value\": 0.6619934706573534, \"Vaccino\": \"Completo\", \"order\": 1}, {\"fascia_anagrafica\": \"30-39\", \"nome_area\": \"Trentino-Alto Adige/S\\u00fcdtirol\", \"variable\": \"share_ciclo_completo\", \"value\": 0.6936178962085697, \"Vaccino\": \"Completo\", \"order\": 1}, {\"fascia_anagrafica\": \"30-39\", \"nome_area\": \"Toscana\", \"variable\": \"share_ciclo_completo\", \"value\": 0.7692626544039511, \"Vaccino\": \"Completo\", \"order\": 1}, {\"fascia_anagrafica\": \"30-39\", \"nome_area\": \"Umbria\", \"variable\": \"share_ciclo_completo\", \"value\": 0.7399099245753975, \"Vaccino\": \"Completo\", \"order\": 1}, {\"fascia_anagrafica\": \"30-39\", \"nome_area\": \"Valle d'Aosta\", \"variable\": \"share_ciclo_completo\", \"value\": 0.6893927255247556, \"Vaccino\": \"Completo\", \"order\": 1}, {\"fascia_anagrafica\": \"30-39\", \"nome_area\": \"Veneto\", \"variable\": \"share_ciclo_completo\", \"value\": 0.7100306347232879, \"Vaccino\": \"Completo\", \"order\": 1}, {\"fascia_anagrafica\": \"40-49\", \"nome_area\": \"Abruzzo\", \"variable\": \"share_ciclo_completo\", \"value\": 0.7430407881941847, \"Vaccino\": \"Completo\", \"order\": 1}, {\"fascia_anagrafica\": \"40-49\", \"nome_area\": \"Basilicata\", \"variable\": \"share_ciclo_completo\", \"value\": 0.7854351971622504, \"Vaccino\": \"Completo\", \"order\": 1}, {\"fascia_anagrafica\": \"40-49\", \"nome_area\": \"Calabria\", \"variable\": \"share_ciclo_completo\", \"value\": 0.7258495975893797, \"Vaccino\": \"Completo\", \"order\": 1}, {\"fascia_anagrafica\": \"40-49\", \"nome_area\": \"Campania\", \"variable\": \"share_ciclo_completo\", \"value\": 0.7368956042629426, \"Vaccino\": \"Completo\", \"order\": 1}, {\"fascia_anagrafica\": \"40-49\", \"nome_area\": \"Emilia-Romagna\", \"variable\": \"share_ciclo_completo\", \"value\": 0.755700315977058, \"Vaccino\": \"Completo\", \"order\": 1}, {\"fascia_anagrafica\": \"40-49\", \"nome_area\": \"Friuli-Venezia Giulia\", \"variable\": \"share_ciclo_completo\", \"value\": 0.6940247151755413, \"Vaccino\": \"Completo\", \"order\": 1}, {\"fascia_anagrafica\": \"40-49\", \"nome_area\": \"Lazio\", \"variable\": \"share_ciclo_completo\", \"value\": 0.7902821437744486, \"Vaccino\": \"Completo\", \"order\": 1}, {\"fascia_anagrafica\": \"40-49\", \"nome_area\": \"Liguria\", \"variable\": \"share_ciclo_completo\", \"value\": 0.7188474164133739, \"Vaccino\": \"Completo\", \"order\": 1}, {\"fascia_anagrafica\": \"40-49\", \"nome_area\": \"Lombardia\", \"variable\": \"share_ciclo_completo\", \"value\": 0.7654251197824147, \"Vaccino\": \"Completo\", \"order\": 1}, {\"fascia_anagrafica\": \"40-49\", \"nome_area\": \"Marche\", \"variable\": \"share_ciclo_completo\", \"value\": 0.7132024997853583, \"Vaccino\": \"Completo\", \"order\": 1}, {\"fascia_anagrafica\": \"40-49\", \"nome_area\": \"Molise\", \"variable\": \"share_ciclo_completo\", \"value\": 0.8077534396264838, \"Vaccino\": \"Completo\", \"order\": 1}, {\"fascia_anagrafica\": \"40-49\", \"nome_area\": \"Piemonte\", \"variable\": \"share_ciclo_completo\", \"value\": 0.7034521520967059, \"Vaccino\": \"Completo\", \"order\": 1}, {\"fascia_anagrafica\": \"40-49\", \"nome_area\": \"Puglia\", \"variable\": \"share_ciclo_completo\", \"value\": 0.7883952811697245, \"Vaccino\": \"Completo\", \"order\": 1}, {\"fascia_anagrafica\": \"40-49\", \"nome_area\": \"Sardegna\", \"variable\": \"share_ciclo_completo\", \"value\": 0.7572584962545234, \"Vaccino\": \"Completo\", \"order\": 1}, {\"fascia_anagrafica\": \"40-49\", \"nome_area\": \"Sicilia\", \"variable\": \"share_ciclo_completo\", \"value\": 0.707016523189203, \"Vaccino\": \"Completo\", \"order\": 1}, {\"fascia_anagrafica\": \"40-49\", \"nome_area\": \"Trentino-Alto Adige/S\\u00fcdtirol\", \"variable\": \"share_ciclo_completo\", \"value\": 0.6996450100468855, \"Vaccino\": \"Completo\", \"order\": 1}, {\"fascia_anagrafica\": \"40-49\", \"nome_area\": \"Toscana\", \"variable\": \"share_ciclo_completo\", \"value\": 0.7694718182965669, \"Vaccino\": \"Completo\", \"order\": 1}, {\"fascia_anagrafica\": \"40-49\", \"nome_area\": \"Umbria\", \"variable\": \"share_ciclo_completo\", \"value\": 0.7596348966375889, \"Vaccino\": \"Completo\", \"order\": 1}, {\"fascia_anagrafica\": \"40-49\", \"nome_area\": \"Valle d'Aosta\", \"variable\": \"share_ciclo_completo\", \"value\": 0.6953446576613137, \"Vaccino\": \"Completo\", \"order\": 1}, {\"fascia_anagrafica\": \"40-49\", \"nome_area\": \"Veneto\", \"variable\": \"share_ciclo_completo\", \"value\": 0.7189623758069845, \"Vaccino\": \"Completo\", \"order\": 1}, {\"fascia_anagrafica\": \"50-59\", \"nome_area\": \"Abruzzo\", \"variable\": \"share_ciclo_completo\", \"value\": 0.7890706611847464, \"Vaccino\": \"Completo\", \"order\": 1}, {\"fascia_anagrafica\": \"50-59\", \"nome_area\": \"Basilicata\", \"variable\": \"share_ciclo_completo\", \"value\": 0.8239672328307067, \"Vaccino\": \"Completo\", \"order\": 1}, {\"fascia_anagrafica\": \"50-59\", \"nome_area\": \"Calabria\", \"variable\": \"share_ciclo_completo\", \"value\": 0.7677108634981173, \"Vaccino\": \"Completo\", \"order\": 1}, {\"fascia_anagrafica\": \"50-59\", \"nome_area\": \"Campania\", \"variable\": \"share_ciclo_completo\", \"value\": 0.7800923251235395, \"Vaccino\": \"Completo\", \"order\": 1}, {\"fascia_anagrafica\": \"50-59\", \"nome_area\": \"Emilia-Romagna\", \"variable\": \"share_ciclo_completo\", \"value\": 0.8108950523838159, \"Vaccino\": \"Completo\", \"order\": 1}, {\"fascia_anagrafica\": \"50-59\", \"nome_area\": \"Friuli-Venezia Giulia\", \"variable\": \"share_ciclo_completo\", \"value\": 0.7277447214481183, \"Vaccino\": \"Completo\", \"order\": 1}, {\"fascia_anagrafica\": \"50-59\", \"nome_area\": \"Lazio\", \"variable\": \"share_ciclo_completo\", \"value\": 0.8438780609695152, \"Vaccino\": \"Completo\", \"order\": 1}, {\"fascia_anagrafica\": \"50-59\", \"nome_area\": \"Liguria\", \"variable\": \"share_ciclo_completo\", \"value\": 0.7706251039133276, \"Vaccino\": \"Completo\", \"order\": 1}, {\"fascia_anagrafica\": \"50-59\", \"nome_area\": \"Lombardia\", \"variable\": \"share_ciclo_completo\", \"value\": 0.8169660872576714, \"Vaccino\": \"Completo\", \"order\": 1}, {\"fascia_anagrafica\": \"50-59\", \"nome_area\": \"Marche\", \"variable\": \"share_ciclo_completo\", \"value\": 0.7667776182215102, \"Vaccino\": \"Completo\", \"order\": 1}, {\"fascia_anagrafica\": \"50-59\", \"nome_area\": \"Molise\", \"variable\": \"share_ciclo_completo\", \"value\": 0.8534126661387326, \"Vaccino\": \"Completo\", \"order\": 1}, {\"fascia_anagrafica\": \"50-59\", \"nome_area\": \"Piemonte\", \"variable\": \"share_ciclo_completo\", \"value\": 0.7592974751771437, \"Vaccino\": \"Completo\", \"order\": 1}, {\"fascia_anagrafica\": \"50-59\", \"nome_area\": \"Puglia\", \"variable\": \"share_ciclo_completo\", \"value\": 0.8191633424144771, \"Vaccino\": \"Completo\", \"order\": 1}, {\"fascia_anagrafica\": \"50-59\", \"nome_area\": \"Sardegna\", \"variable\": \"share_ciclo_completo\", \"value\": 0.8049135665016277, \"Vaccino\": \"Completo\", \"order\": 1}, {\"fascia_anagrafica\": \"50-59\", \"nome_area\": \"Sicilia\", \"variable\": \"share_ciclo_completo\", \"value\": 0.7521878617496279, \"Vaccino\": \"Completo\", \"order\": 1}, {\"fascia_anagrafica\": \"50-59\", \"nome_area\": \"Trentino-Alto Adige/S\\u00fcdtirol\", \"variable\": \"share_ciclo_completo\", \"value\": 0.73516166484889, \"Vaccino\": \"Completo\", \"order\": 1}, {\"fascia_anagrafica\": \"50-59\", \"nome_area\": \"Toscana\", \"variable\": \"share_ciclo_completo\", \"value\": 0.8125829361509674, \"Vaccino\": \"Completo\", \"order\": 1}, {\"fascia_anagrafica\": \"50-59\", \"nome_area\": \"Umbria\", \"variable\": \"share_ciclo_completo\", \"value\": 0.8078638170536723, \"Vaccino\": \"Completo\", \"order\": 1}, {\"fascia_anagrafica\": \"50-59\", \"nome_area\": \"Valle d'Aosta\", \"variable\": \"share_ciclo_completo\", \"value\": 0.7529389184780001, \"Vaccino\": \"Completo\", \"order\": 1}, {\"fascia_anagrafica\": \"50-59\", \"nome_area\": \"Veneto\", \"variable\": \"share_ciclo_completo\", \"value\": 0.7765135639834638, \"Vaccino\": \"Completo\", \"order\": 1}, {\"fascia_anagrafica\": \"60-69\", \"nome_area\": \"Abruzzo\", \"variable\": \"share_ciclo_completo\", \"value\": 0.8456456316613599, \"Vaccino\": \"Completo\", \"order\": 1}, {\"fascia_anagrafica\": \"60-69\", \"nome_area\": \"Basilicata\", \"variable\": \"share_ciclo_completo\", \"value\": 0.868650188854284, \"Vaccino\": \"Completo\", \"order\": 1}, {\"fascia_anagrafica\": \"60-69\", \"nome_area\": \"Calabria\", \"variable\": \"share_ciclo_completo\", \"value\": 0.8339521794586278, \"Vaccino\": \"Completo\", \"order\": 1}, {\"fascia_anagrafica\": \"60-69\", \"nome_area\": \"Campania\", \"variable\": \"share_ciclo_completo\", \"value\": 0.818878636520706, \"Vaccino\": \"Completo\", \"order\": 1}, {\"fascia_anagrafica\": \"60-69\", \"nome_area\": \"Emilia-Romagna\", \"variable\": \"share_ciclo_completo\", \"value\": 0.8633133722396275, \"Vaccino\": \"Completo\", \"order\": 1}, {\"fascia_anagrafica\": \"60-69\", \"nome_area\": \"Friuli-Venezia Giulia\", \"variable\": \"share_ciclo_completo\", \"value\": 0.7845592666603229, \"Vaccino\": \"Completo\", \"order\": 1}, {\"fascia_anagrafica\": \"60-69\", \"nome_area\": \"Lazio\", \"variable\": \"share_ciclo_completo\", \"value\": 0.8873854397164924, \"Vaccino\": \"Completo\", \"order\": 1}, {\"fascia_anagrafica\": \"60-69\", \"nome_area\": \"Liguria\", \"variable\": \"share_ciclo_completo\", \"value\": 0.8173389390856581, \"Vaccino\": \"Completo\", \"order\": 1}, {\"fascia_anagrafica\": \"60-69\", \"nome_area\": \"Lombardia\", \"variable\": \"share_ciclo_completo\", \"value\": 0.8456555182086825, \"Vaccino\": \"Completo\", \"order\": 1}, {\"fascia_anagrafica\": \"60-69\", \"nome_area\": \"Marche\", \"variable\": \"share_ciclo_completo\", \"value\": 0.8386172427307013, \"Vaccino\": \"Completo\", \"order\": 1}, {\"fascia_anagrafica\": \"60-69\", \"nome_area\": \"Molise\", \"variable\": \"share_ciclo_completo\", \"value\": 0.8974221136224801, \"Vaccino\": \"Completo\", \"order\": 1}, {\"fascia_anagrafica\": \"60-69\", \"nome_area\": \"Piemonte\", \"variable\": \"share_ciclo_completo\", \"value\": 0.8054789016821561, \"Vaccino\": \"Completo\", \"order\": 1}, {\"fascia_anagrafica\": \"60-69\", \"nome_area\": \"Puglia\", \"variable\": \"share_ciclo_completo\", \"value\": 0.8942988285319529, \"Vaccino\": \"Completo\", \"order\": 1}, {\"fascia_anagrafica\": \"60-69\", \"nome_area\": \"Sardegna\", \"variable\": \"share_ciclo_completo\", \"value\": 0.8572801057248806, \"Vaccino\": \"Completo\", \"order\": 1}, {\"fascia_anagrafica\": \"60-69\", \"nome_area\": \"Sicilia\", \"variable\": \"share_ciclo_completo\", \"value\": 0.795875161436008, \"Vaccino\": \"Completo\", \"order\": 1}, {\"fascia_anagrafica\": \"60-69\", \"nome_area\": \"Trentino-Alto Adige/S\\u00fcdtirol\", \"variable\": \"share_ciclo_completo\", \"value\": 0.8028699240777494, \"Vaccino\": \"Completo\", \"order\": 1}, {\"fascia_anagrafica\": \"60-69\", \"nome_area\": \"Toscana\", \"variable\": \"share_ciclo_completo\", \"value\": 0.8722494489267447, \"Vaccino\": \"Completo\", \"order\": 1}, {\"fascia_anagrafica\": \"60-69\", \"nome_area\": \"Umbria\", \"variable\": \"share_ciclo_completo\", \"value\": 0.8717611866106856, \"Vaccino\": \"Completo\", \"order\": 1}, {\"fascia_anagrafica\": \"60-69\", \"nome_area\": \"Valle d'Aosta\", \"variable\": \"share_ciclo_completo\", \"value\": 0.7869975921466938, \"Vaccino\": \"Completo\", \"order\": 1}, {\"fascia_anagrafica\": \"60-69\", \"nome_area\": \"Veneto\", \"variable\": \"share_ciclo_completo\", \"value\": 0.8407477461986292, \"Vaccino\": \"Completo\", \"order\": 1}, {\"fascia_anagrafica\": \"70-79\", \"nome_area\": \"Abruzzo\", \"variable\": \"share_ciclo_completo\", \"value\": 0.8703404509264515, \"Vaccino\": \"Completo\", \"order\": 1}, {\"fascia_anagrafica\": \"70-79\", \"nome_area\": \"Basilicata\", \"variable\": \"share_ciclo_completo\", \"value\": 0.9353537303349098, \"Vaccino\": \"Completo\", \"order\": 1}, {\"fascia_anagrafica\": \"70-79\", \"nome_area\": \"Calabria\", \"variable\": \"share_ciclo_completo\", \"value\": 0.8408383046708159, \"Vaccino\": \"Completo\", \"order\": 1}, {\"fascia_anagrafica\": \"70-79\", \"nome_area\": \"Campania\", \"variable\": \"share_ciclo_completo\", \"value\": 0.8941121025512128, \"Vaccino\": \"Completo\", \"order\": 1}, {\"fascia_anagrafica\": \"70-79\", \"nome_area\": \"Emilia-Romagna\", \"variable\": \"share_ciclo_completo\", \"value\": 0.8959930863850919, \"Vaccino\": \"Completo\", \"order\": 1}, {\"fascia_anagrafica\": \"70-79\", \"nome_area\": \"Friuli-Venezia Giulia\", \"variable\": \"share_ciclo_completo\", \"value\": 0.8303170324733667, \"Vaccino\": \"Completo\", \"order\": 1}, {\"fascia_anagrafica\": \"70-79\", \"nome_area\": \"Lazio\", \"variable\": \"share_ciclo_completo\", \"value\": 0.912916381810038, \"Vaccino\": \"Completo\", \"order\": 1}, {\"fascia_anagrafica\": \"70-79\", \"nome_area\": \"Liguria\", \"variable\": \"share_ciclo_completo\", \"value\": 0.8702985270910047, \"Vaccino\": \"Completo\", \"order\": 1}, {\"fascia_anagrafica\": \"70-79\", \"nome_area\": \"Lombardia\", \"variable\": \"share_ciclo_completo\", \"value\": 0.8786362674492654, \"Vaccino\": \"Completo\", \"order\": 1}, {\"fascia_anagrafica\": \"70-79\", \"nome_area\": \"Marche\", \"variable\": \"share_ciclo_completo\", \"value\": 0.9055277670899063, \"Vaccino\": \"Completo\", \"order\": 1}, {\"fascia_anagrafica\": \"70-79\", \"nome_area\": \"Molise\", \"variable\": \"share_ciclo_completo\", \"value\": 0.9263130643021261, \"Vaccino\": \"Completo\", \"order\": 1}, {\"fascia_anagrafica\": \"70-79\", \"nome_area\": \"Piemonte\", \"variable\": \"share_ciclo_completo\", \"value\": 0.8441190665748147, \"Vaccino\": \"Completo\", \"order\": 1}, {\"fascia_anagrafica\": \"70-79\", \"nome_area\": \"Puglia\", \"variable\": \"share_ciclo_completo\", \"value\": 0.9254166708831297, \"Vaccino\": \"Completo\", \"order\": 1}, {\"fascia_anagrafica\": \"70-79\", \"nome_area\": \"Sardegna\", \"variable\": \"share_ciclo_completo\", \"value\": 0.8920745827904251, \"Vaccino\": \"Completo\", \"order\": 1}, {\"fascia_anagrafica\": \"70-79\", \"nome_area\": \"Sicilia\", \"variable\": \"share_ciclo_completo\", \"value\": 0.8246395877525928, \"Vaccino\": \"Completo\", \"order\": 1}, {\"fascia_anagrafica\": \"70-79\", \"nome_area\": \"Trentino-Alto Adige/S\\u00fcdtirol\", \"variable\": \"share_ciclo_completo\", \"value\": 0.8441218395220235, \"Vaccino\": \"Completo\", \"order\": 1}, {\"fascia_anagrafica\": \"70-79\", \"nome_area\": \"Toscana\", \"variable\": \"share_ciclo_completo\", \"value\": 0.9017110523402423, \"Vaccino\": \"Completo\", \"order\": 1}, {\"fascia_anagrafica\": \"70-79\", \"nome_area\": \"Umbria\", \"variable\": \"share_ciclo_completo\", \"value\": 0.8926607477496851, \"Vaccino\": \"Completo\", \"order\": 1}, {\"fascia_anagrafica\": \"70-79\", \"nome_area\": \"Valle d'Aosta\", \"variable\": \"share_ciclo_completo\", \"value\": 0.8467382962394474, \"Vaccino\": \"Completo\", \"order\": 1}, {\"fascia_anagrafica\": \"70-79\", \"nome_area\": \"Veneto\", \"variable\": \"share_ciclo_completo\", \"value\": 0.8802476547387316, \"Vaccino\": \"Completo\", \"order\": 1}, {\"fascia_anagrafica\": \"80+\", \"nome_area\": \"Abruzzo\", \"variable\": \"share_ciclo_completo\", \"value\": 0.8123006677896248, \"Vaccino\": \"Completo\", \"order\": 1}, {\"fascia_anagrafica\": \"80+\", \"nome_area\": \"Basilicata\", \"variable\": \"share_ciclo_completo\", \"value\": 0.8648426516708122, \"Vaccino\": \"Completo\", \"order\": 1}, {\"fascia_anagrafica\": \"80+\", \"nome_area\": \"Calabria\", \"variable\": \"share_ciclo_completo\", \"value\": 0.7941768880354036, \"Vaccino\": \"Completo\", \"order\": 1}, {\"fascia_anagrafica\": \"80+\", \"nome_area\": \"Campania\", \"variable\": \"share_ciclo_completo\", \"value\": 0.8772332797707654, \"Vaccino\": \"Completo\", \"order\": 1}, {\"fascia_anagrafica\": \"80+\", \"nome_area\": \"Emilia-Romagna\", \"variable\": \"share_ciclo_completo\", \"value\": 0.9574625435563581, \"Vaccino\": \"Completo\", \"order\": 1}, {\"fascia_anagrafica\": \"80+\", \"nome_area\": \"Friuli-Venezia Giulia\", \"variable\": \"share_ciclo_completo\", \"value\": 0.9345470717928822, \"Vaccino\": \"Completo\", \"order\": 1}, {\"fascia_anagrafica\": \"80+\", \"nome_area\": \"Lazio\", \"variable\": \"share_ciclo_completo\", \"value\": 0.9475413971335501, \"Vaccino\": \"Completo\", \"order\": 1}, {\"fascia_anagrafica\": \"80+\", \"nome_area\": \"Liguria\", \"variable\": \"share_ciclo_completo\", \"value\": 0.9288566382553943, \"Vaccino\": \"Completo\", \"order\": 1}, {\"fascia_anagrafica\": \"80+\", \"nome_area\": \"Lombardia\", \"variable\": \"share_ciclo_completo\", \"value\": 0.9407168030692876, \"Vaccino\": \"Completo\", \"order\": 1}, {\"fascia_anagrafica\": \"80+\", \"nome_area\": \"Marche\", \"variable\": \"share_ciclo_completo\", \"value\": 0.9265999325160275, \"Vaccino\": \"Completo\", \"order\": 1}, {\"fascia_anagrafica\": \"80+\", \"nome_area\": \"Molise\", \"variable\": \"share_ciclo_completo\", \"value\": 0.881970465065021, \"Vaccino\": \"Completo\", \"order\": 1}, {\"fascia_anagrafica\": \"80+\", \"nome_area\": \"Piemonte\", \"variable\": \"share_ciclo_completo\", \"value\": 0.9186339197792533, \"Vaccino\": \"Completo\", \"order\": 1}, {\"fascia_anagrafica\": \"80+\", \"nome_area\": \"Puglia\", \"variable\": \"share_ciclo_completo\", \"value\": 0.940660983231791, \"Vaccino\": \"Completo\", \"order\": 1}, {\"fascia_anagrafica\": \"80+\", \"nome_area\": \"Sardegna\", \"variable\": \"share_ciclo_completo\", \"value\": 0.8708563093100795, \"Vaccino\": \"Completo\", \"order\": 1}, {\"fascia_anagrafica\": \"80+\", \"nome_area\": \"Sicilia\", \"variable\": \"share_ciclo_completo\", \"value\": 0.7878620858595138, \"Vaccino\": \"Completo\", \"order\": 1}, {\"fascia_anagrafica\": \"80+\", \"nome_area\": \"Trentino-Alto Adige/S\\u00fcdtirol\", \"variable\": \"share_ciclo_completo\", \"value\": 0.9061487781009221, \"Vaccino\": \"Completo\", \"order\": 1}, {\"fascia_anagrafica\": \"80+\", \"nome_area\": \"Toscana\", \"variable\": \"share_ciclo_completo\", \"value\": 0.9534129226282694, \"Vaccino\": \"Completo\", \"order\": 1}, {\"fascia_anagrafica\": \"80+\", \"nome_area\": \"Umbria\", \"variable\": \"share_ciclo_completo\", \"value\": 0.8859748083878997, \"Vaccino\": \"Completo\", \"order\": 1}, {\"fascia_anagrafica\": \"80+\", \"nome_area\": \"Valle d'Aosta\", \"variable\": \"share_ciclo_completo\", \"value\": 0.8902676648548867, \"Vaccino\": \"Completo\", \"order\": 1}, {\"fascia_anagrafica\": \"80+\", \"nome_area\": \"Veneto\", \"variable\": \"share_ciclo_completo\", \"value\": 0.9401518765041302, \"Vaccino\": \"Completo\", \"order\": 1}, {\"fascia_anagrafica\": \"12-19\", \"nome_area\": \"Abruzzo\", \"variable\": \"share_solo_prima\", \"value\": 0.06232647502823904, \"Vaccino\": \"In attesa seconda\", \"order\": 0}, {\"fascia_anagrafica\": \"12-19\", \"nome_area\": \"Basilicata\", \"variable\": \"share_solo_prima\", \"value\": 0.0530930226878648, \"Vaccino\": \"In attesa seconda\", \"order\": 0}, {\"fascia_anagrafica\": \"12-19\", \"nome_area\": \"Calabria\", \"variable\": \"share_solo_prima\", \"value\": 0.05521372507784464, \"Vaccino\": \"In attesa seconda\", \"order\": 0}, {\"fascia_anagrafica\": \"12-19\", \"nome_area\": \"Campania\", \"variable\": \"share_solo_prima\", \"value\": 0.05381271365621357, \"Vaccino\": \"In attesa seconda\", \"order\": 0}, {\"fascia_anagrafica\": \"12-19\", \"nome_area\": \"Emilia-Romagna\", \"variable\": \"share_solo_prima\", \"value\": 0.0537674475428362, \"Vaccino\": \"In attesa seconda\", \"order\": 0}, {\"fascia_anagrafica\": \"12-19\", \"nome_area\": \"Friuli-Venezia Giulia\", \"variable\": \"share_solo_prima\", \"value\": 0.060632267866534216, \"Vaccino\": \"In attesa seconda\", \"order\": 0}, {\"fascia_anagrafica\": \"12-19\", \"nome_area\": \"Lazio\", \"variable\": \"share_solo_prima\", \"value\": 0.04801714202230411, \"Vaccino\": \"In attesa seconda\", \"order\": 0}, {\"fascia_anagrafica\": \"12-19\", \"nome_area\": \"Liguria\", \"variable\": \"share_solo_prima\", \"value\": 0.044115810007014714, \"Vaccino\": \"In attesa seconda\", \"order\": 0}, {\"fascia_anagrafica\": \"12-19\", \"nome_area\": \"Lombardia\", \"variable\": \"share_solo_prima\", \"value\": 0.04704047648416712, \"Vaccino\": \"In attesa seconda\", \"order\": 0}, {\"fascia_anagrafica\": \"12-19\", \"nome_area\": \"Marche\", \"variable\": \"share_solo_prima\", \"value\": 0.044543114656949025, \"Vaccino\": \"In attesa seconda\", \"order\": 0}, {\"fascia_anagrafica\": \"12-19\", \"nome_area\": \"Molise\", \"variable\": \"share_solo_prima\", \"value\": 0.06869297946040884, \"Vaccino\": \"In attesa seconda\", \"order\": 0}, {\"fascia_anagrafica\": \"12-19\", \"nome_area\": \"Piemonte\", \"variable\": \"share_solo_prima\", \"value\": 0.071257178378065, \"Vaccino\": \"In attesa seconda\", \"order\": 0}, {\"fascia_anagrafica\": \"12-19\", \"nome_area\": \"Puglia\", \"variable\": \"share_solo_prima\", \"value\": 0.05149009302962751, \"Vaccino\": \"In attesa seconda\", \"order\": 0}, {\"fascia_anagrafica\": \"12-19\", \"nome_area\": \"Sardegna\", \"variable\": \"share_solo_prima\", \"value\": 0.057923457309214554, \"Vaccino\": \"In attesa seconda\", \"order\": 0}, {\"fascia_anagrafica\": \"12-19\", \"nome_area\": \"Sicilia\", \"variable\": \"share_solo_prima\", \"value\": 0.06052243890081728, \"Vaccino\": \"In attesa seconda\", \"order\": 0}, {\"fascia_anagrafica\": \"12-19\", \"nome_area\": \"Trentino-Alto Adige/S\\u00fcdtirol\", \"variable\": \"share_solo_prima\", \"value\": 0.08005211349160393, \"Vaccino\": \"In attesa seconda\", \"order\": 0}, {\"fascia_anagrafica\": \"12-19\", \"nome_area\": \"Toscana\", \"variable\": \"share_solo_prima\", \"value\": 0.0630693944583563, \"Vaccino\": \"In attesa seconda\", \"order\": 0}, {\"fascia_anagrafica\": \"12-19\", \"nome_area\": \"Umbria\", \"variable\": \"share_solo_prima\", \"value\": 0.07252004401823613, \"Vaccino\": \"In attesa seconda\", \"order\": 0}, {\"fascia_anagrafica\": \"12-19\", \"nome_area\": \"Valle d'Aosta\", \"variable\": \"share_solo_prima\", \"value\": 0.04951871657754011, \"Vaccino\": \"In attesa seconda\", \"order\": 0}, {\"fascia_anagrafica\": \"12-19\", \"nome_area\": \"Veneto\", \"variable\": \"share_solo_prima\", \"value\": 0.05672298661854729, \"Vaccino\": \"In attesa seconda\", \"order\": 0}, {\"fascia_anagrafica\": \"20-29\", \"nome_area\": \"Abruzzo\", \"variable\": \"share_solo_prima\", \"value\": 0.062189571189012215, \"Vaccino\": \"In attesa seconda\", \"order\": 0}, {\"fascia_anagrafica\": \"20-29\", \"nome_area\": \"Basilicata\", \"variable\": \"share_solo_prima\", \"value\": 0.05372657013413876, \"Vaccino\": \"In attesa seconda\", \"order\": 0}, {\"fascia_anagrafica\": \"20-29\", \"nome_area\": \"Calabria\", \"variable\": \"share_solo_prima\", \"value\": 0.05864948484575411, \"Vaccino\": \"In attesa seconda\", \"order\": 0}, {\"fascia_anagrafica\": \"20-29\", \"nome_area\": \"Campania\", \"variable\": \"share_solo_prima\", \"value\": 0.06538480669692102, \"Vaccino\": \"In attesa seconda\", \"order\": 0}, {\"fascia_anagrafica\": \"20-29\", \"nome_area\": \"Emilia-Romagna\", \"variable\": \"share_solo_prima\", \"value\": 0.06834099769235716, \"Vaccino\": \"In attesa seconda\", \"order\": 0}, {\"fascia_anagrafica\": \"20-29\", \"nome_area\": \"Friuli-Venezia Giulia\", \"variable\": \"share_solo_prima\", \"value\": 0.0814062081017855, \"Vaccino\": \"In attesa seconda\", \"order\": 0}, {\"fascia_anagrafica\": \"20-29\", \"nome_area\": \"Lazio\", \"variable\": \"share_solo_prima\", \"value\": 0.056143364557890686, \"Vaccino\": \"In attesa seconda\", \"order\": 0}, {\"fascia_anagrafica\": \"20-29\", \"nome_area\": \"Liguria\", \"variable\": \"share_solo_prima\", \"value\": 0.06637187707273934, \"Vaccino\": \"In attesa seconda\", \"order\": 0}, {\"fascia_anagrafica\": \"20-29\", \"nome_area\": \"Lombardia\", \"variable\": \"share_solo_prima\", \"value\": 0.0526884609523504, \"Vaccino\": \"In attesa seconda\", \"order\": 0}, {\"fascia_anagrafica\": \"20-29\", \"nome_area\": \"Marche\", \"variable\": \"share_solo_prima\", \"value\": 0.05552721147865225, \"Vaccino\": \"In attesa seconda\", \"order\": 0}, {\"fascia_anagrafica\": \"20-29\", \"nome_area\": \"Molise\", \"variable\": \"share_solo_prima\", \"value\": 0.06976526990847394, \"Vaccino\": \"In attesa seconda\", \"order\": 0}, {\"fascia_anagrafica\": \"20-29\", \"nome_area\": \"Piemonte\", \"variable\": \"share_solo_prima\", \"value\": 0.08837107270821654, \"Vaccino\": \"In attesa seconda\", \"order\": 0}, {\"fascia_anagrafica\": \"20-29\", \"nome_area\": \"Puglia\", \"variable\": \"share_solo_prima\", \"value\": 0.060243181346932975, \"Vaccino\": \"In attesa seconda\", \"order\": 0}, {\"fascia_anagrafica\": \"20-29\", \"nome_area\": \"Sardegna\", \"variable\": \"share_solo_prima\", \"value\": 0.050837634200866615, \"Vaccino\": \"In attesa seconda\", \"order\": 0}, {\"fascia_anagrafica\": \"20-29\", \"nome_area\": \"Sicilia\", \"variable\": \"share_solo_prima\", \"value\": 0.06931874159087734, \"Vaccino\": \"In attesa seconda\", \"order\": 0}, {\"fascia_anagrafica\": \"20-29\", \"nome_area\": \"Trentino-Alto Adige/S\\u00fcdtirol\", \"variable\": \"share_solo_prima\", \"value\": 0.09696409624533663, \"Vaccino\": \"In attesa seconda\", \"order\": 0}, {\"fascia_anagrafica\": \"20-29\", \"nome_area\": \"Toscana\", \"variable\": \"share_solo_prima\", \"value\": 0.07558007530879851, \"Vaccino\": \"In attesa seconda\", \"order\": 0}, {\"fascia_anagrafica\": \"20-29\", \"nome_area\": \"Umbria\", \"variable\": \"share_solo_prima\", \"value\": 0.06956377424008375, \"Vaccino\": \"In attesa seconda\", \"order\": 0}, {\"fascia_anagrafica\": \"20-29\", \"nome_area\": \"Valle d'Aosta\", \"variable\": \"share_solo_prima\", \"value\": 0.07246124368576903, \"Vaccino\": \"In attesa seconda\", \"order\": 0}, {\"fascia_anagrafica\": \"20-29\", \"nome_area\": \"Veneto\", \"variable\": \"share_solo_prima\", \"value\": 0.07736854731879296, \"Vaccino\": \"In attesa seconda\", \"order\": 0}, {\"fascia_anagrafica\": \"30-39\", \"nome_area\": \"Abruzzo\", \"variable\": \"share_solo_prima\", \"value\": 0.06189228727928418, \"Vaccino\": \"In attesa seconda\", \"order\": 0}, {\"fascia_anagrafica\": \"30-39\", \"nome_area\": \"Basilicata\", \"variable\": \"share_solo_prima\", \"value\": 0.05581044766336764, \"Vaccino\": \"In attesa seconda\", \"order\": 0}, {\"fascia_anagrafica\": \"30-39\", \"nome_area\": \"Calabria\", \"variable\": \"share_solo_prima\", \"value\": 0.06121216999356085, \"Vaccino\": \"In attesa seconda\", \"order\": 0}, {\"fascia_anagrafica\": \"30-39\", \"nome_area\": \"Campania\", \"variable\": \"share_solo_prima\", \"value\": 0.06487187076122893, \"Vaccino\": \"In attesa seconda\", \"order\": 0}, {\"fascia_anagrafica\": \"30-39\", \"nome_area\": \"Emilia-Romagna\", \"variable\": \"share_solo_prima\", \"value\": 0.06619911889948336, \"Vaccino\": \"In attesa seconda\", \"order\": 0}, {\"fascia_anagrafica\": \"30-39\", \"nome_area\": \"Friuli-Venezia Giulia\", \"variable\": \"share_solo_prima\", \"value\": 0.08007295791774159, \"Vaccino\": \"In attesa seconda\", \"order\": 0}, {\"fascia_anagrafica\": \"30-39\", \"nome_area\": \"Lazio\", \"variable\": \"share_solo_prima\", \"value\": 0.04520755181847272, \"Vaccino\": \"In attesa seconda\", \"order\": 0}, {\"fascia_anagrafica\": \"30-39\", \"nome_area\": \"Liguria\", \"variable\": \"share_solo_prima\", \"value\": 0.0674115905330359, \"Vaccino\": \"In attesa seconda\", \"order\": 0}, {\"fascia_anagrafica\": \"30-39\", \"nome_area\": \"Lombardia\", \"variable\": \"share_solo_prima\", \"value\": 0.04416512713154372, \"Vaccino\": \"In attesa seconda\", \"order\": 0}, {\"fascia_anagrafica\": \"30-39\", \"nome_area\": \"Marche\", \"variable\": \"share_solo_prima\", \"value\": 0.056836385144293566, \"Vaccino\": \"In attesa seconda\", \"order\": 0}, {\"fascia_anagrafica\": \"30-39\", \"nome_area\": \"Molise\", \"variable\": \"share_solo_prima\", \"value\": 0.07270419203138975, \"Vaccino\": \"In attesa seconda\", \"order\": 0}, {\"fascia_anagrafica\": \"30-39\", \"nome_area\": \"Piemonte\", \"variable\": \"share_solo_prima\", \"value\": 0.08546037583040571, \"Vaccino\": \"In attesa seconda\", \"order\": 0}, {\"fascia_anagrafica\": \"30-39\", \"nome_area\": \"Puglia\", \"variable\": \"share_solo_prima\", \"value\": 0.058817748406273136, \"Vaccino\": \"In attesa seconda\", \"order\": 0}, {\"fascia_anagrafica\": \"30-39\", \"nome_area\": \"Sardegna\", \"variable\": \"share_solo_prima\", \"value\": 0.051755227954925015, \"Vaccino\": \"In attesa seconda\", \"order\": 0}, {\"fascia_anagrafica\": \"30-39\", \"nome_area\": \"Sicilia\", \"variable\": \"share_solo_prima\", \"value\": 0.06998831843734263, \"Vaccino\": \"In attesa seconda\", \"order\": 0}, {\"fascia_anagrafica\": \"30-39\", \"nome_area\": \"Trentino-Alto Adige/S\\u00fcdtirol\", \"variable\": \"share_solo_prima\", \"value\": 0.08812402335718397, \"Vaccino\": \"In attesa seconda\", \"order\": 0}, {\"fascia_anagrafica\": \"30-39\", \"nome_area\": \"Toscana\", \"variable\": \"share_solo_prima\", \"value\": 0.07200618997495371, \"Vaccino\": \"In attesa seconda\", \"order\": 0}, {\"fascia_anagrafica\": \"30-39\", \"nome_area\": \"Umbria\", \"variable\": \"share_solo_prima\", \"value\": 0.06460469911552444, \"Vaccino\": \"In attesa seconda\", \"order\": 0}, {\"fascia_anagrafica\": \"30-39\", \"nome_area\": \"Valle d'Aosta\", \"variable\": \"share_solo_prima\", \"value\": 0.07715109758051594, \"Vaccino\": \"In attesa seconda\", \"order\": 0}, {\"fascia_anagrafica\": \"30-39\", \"nome_area\": \"Veneto\", \"variable\": \"share_solo_prima\", \"value\": 0.07717322803162859, \"Vaccino\": \"In attesa seconda\", \"order\": 0}, {\"fascia_anagrafica\": \"40-49\", \"nome_area\": \"Abruzzo\", \"variable\": \"share_solo_prima\", \"value\": 0.04594949829559419, \"Vaccino\": \"In attesa seconda\", \"order\": 0}, {\"fascia_anagrafica\": \"40-49\", \"nome_area\": \"Basilicata\", \"variable\": \"share_solo_prima\", \"value\": 0.03943245009268026, \"Vaccino\": \"In attesa seconda\", \"order\": 0}, {\"fascia_anagrafica\": \"40-49\", \"nome_area\": \"Calabria\", \"variable\": \"share_solo_prima\", \"value\": 0.04629836037850428, \"Vaccino\": \"In attesa seconda\", \"order\": 0}, {\"fascia_anagrafica\": \"40-49\", \"nome_area\": \"Campania\", \"variable\": \"share_solo_prima\", \"value\": 0.04910737999005249, \"Vaccino\": \"In attesa seconda\", \"order\": 0}, {\"fascia_anagrafica\": \"40-49\", \"nome_area\": \"Emilia-Romagna\", \"variable\": \"share_solo_prima\", \"value\": 0.04832352456684188, \"Vaccino\": \"In attesa seconda\", \"order\": 0}, {\"fascia_anagrafica\": \"40-49\", \"nome_area\": \"Friuli-Venezia Giulia\", \"variable\": \"share_solo_prima\", \"value\": 0.057782457048412804, \"Vaccino\": \"In attesa seconda\", \"order\": 0}, {\"fascia_anagrafica\": \"40-49\", \"nome_area\": \"Lazio\", \"variable\": \"share_solo_prima\", \"value\": 0.03887801651540051, \"Vaccino\": \"In attesa seconda\", \"order\": 0}, {\"fascia_anagrafica\": \"40-49\", \"nome_area\": \"Liguria\", \"variable\": \"share_solo_prima\", \"value\": 0.050057142857142856, \"Vaccino\": \"In attesa seconda\", \"order\": 0}, {\"fascia_anagrafica\": \"40-49\", \"nome_area\": \"Lombardia\", \"variable\": \"share_solo_prima\", \"value\": 0.0319147237355378, \"Vaccino\": \"In attesa seconda\", \"order\": 0}, {\"fascia_anagrafica\": \"40-49\", \"nome_area\": \"Marche\", \"variable\": \"share_solo_prima\", \"value\": 0.04010863130877229, \"Vaccino\": \"In attesa seconda\", \"order\": 0}, {\"fascia_anagrafica\": \"40-49\", \"nome_area\": \"Molise\", \"variable\": \"share_solo_prima\", \"value\": 0.04450404808026623, \"Vaccino\": \"In attesa seconda\", \"order\": 0}, {\"fascia_anagrafica\": \"40-49\", \"nome_area\": \"Piemonte\", \"variable\": \"share_solo_prima\", \"value\": 0.06933140008471539, \"Vaccino\": \"In attesa seconda\", \"order\": 0}, {\"fascia_anagrafica\": \"40-49\", \"nome_area\": \"Puglia\", \"variable\": \"share_solo_prima\", \"value\": 0.042186328749349966, \"Vaccino\": \"In attesa seconda\", \"order\": 0}, {\"fascia_anagrafica\": \"40-49\", \"nome_area\": \"Sardegna\", \"variable\": \"share_solo_prima\", \"value\": 0.04123445758011214, \"Vaccino\": \"In attesa seconda\", \"order\": 0}, {\"fascia_anagrafica\": \"40-49\", \"nome_area\": \"Sicilia\", \"variable\": \"share_solo_prima\", \"value\": 0.05552275430648399, \"Vaccino\": \"In attesa seconda\", \"order\": 0}, {\"fascia_anagrafica\": \"40-49\", \"nome_area\": \"Trentino-Alto Adige/S\\u00fcdtirol\", \"variable\": \"share_solo_prima\", \"value\": 0.06432016075016744, \"Vaccino\": \"In attesa seconda\", \"order\": 0}, {\"fascia_anagrafica\": \"40-49\", \"nome_area\": \"Toscana\", \"variable\": \"share_solo_prima\", \"value\": 0.05432004814789746, \"Vaccino\": \"In attesa seconda\", \"order\": 0}, {\"fascia_anagrafica\": \"40-49\", \"nome_area\": \"Umbria\", \"variable\": \"share_solo_prima\", \"value\": 0.05135377675012733, \"Vaccino\": \"In attesa seconda\", \"order\": 0}, {\"fascia_anagrafica\": \"40-49\", \"nome_area\": \"Valle d'Aosta\", \"variable\": \"share_solo_prima\", \"value\": 0.051365296538929794, \"Vaccino\": \"In attesa seconda\", \"order\": 0}, {\"fascia_anagrafica\": \"40-49\", \"nome_area\": \"Veneto\", \"variable\": \"share_solo_prima\", \"value\": 0.05146159862044161, \"Vaccino\": \"In attesa seconda\", \"order\": 0}, {\"fascia_anagrafica\": \"50-59\", \"nome_area\": \"Abruzzo\", \"variable\": \"share_solo_prima\", \"value\": 0.036432726680275626, \"Vaccino\": \"In attesa seconda\", \"order\": 0}, {\"fascia_anagrafica\": \"50-59\", \"nome_area\": \"Basilicata\", \"variable\": \"share_solo_prima\", \"value\": 0.03436695145058261, \"Vaccino\": \"In attesa seconda\", \"order\": 0}, {\"fascia_anagrafica\": \"50-59\", \"nome_area\": \"Calabria\", \"variable\": \"share_solo_prima\", \"value\": 0.03755837503392886, \"Vaccino\": \"In attesa seconda\", \"order\": 0}, {\"fascia_anagrafica\": \"50-59\", \"nome_area\": \"Campania\", \"variable\": \"share_solo_prima\", \"value\": 0.034156930273778204, \"Vaccino\": \"In attesa seconda\", \"order\": 0}, {\"fascia_anagrafica\": \"50-59\", \"nome_area\": \"Emilia-Romagna\", \"variable\": \"share_solo_prima\", \"value\": 0.031064739950525232, \"Vaccino\": \"In attesa seconda\", \"order\": 0}, {\"fascia_anagrafica\": \"50-59\", \"nome_area\": \"Friuli-Venezia Giulia\", \"variable\": \"share_solo_prima\", \"value\": 0.046205217042002464, \"Vaccino\": \"In attesa seconda\", \"order\": 0}, {\"fascia_anagrafica\": \"50-59\", \"nome_area\": \"Lazio\", \"variable\": \"share_solo_prima\", \"value\": 0.030645315640052313, \"Vaccino\": \"In attesa seconda\", \"order\": 0}, {\"fascia_anagrafica\": \"50-59\", \"nome_area\": \"Liguria\", \"variable\": \"share_solo_prima\", \"value\": 0.03919127398706255, \"Vaccino\": \"In attesa seconda\", \"order\": 0}, {\"fascia_anagrafica\": \"50-59\", \"nome_area\": \"Lombardia\", \"variable\": \"share_solo_prima\", \"value\": 0.021886841488791622, \"Vaccino\": \"In attesa seconda\", \"order\": 0}, {\"fascia_anagrafica\": \"50-59\", \"nome_area\": \"Marche\", \"variable\": \"share_solo_prima\", \"value\": 0.02991541673237987, \"Vaccino\": \"In attesa seconda\", \"order\": 0}, {\"fascia_anagrafica\": \"50-59\", \"nome_area\": \"Molise\", \"variable\": \"share_solo_prima\", \"value\": 0.04055818333583032, \"Vaccino\": \"In attesa seconda\", \"order\": 0}, {\"fascia_anagrafica\": \"50-59\", \"nome_area\": \"Piemonte\", \"variable\": \"share_solo_prima\", \"value\": 0.05310124146237195, \"Vaccino\": \"In attesa seconda\", \"order\": 0}, {\"fascia_anagrafica\": \"50-59\", \"nome_area\": \"Puglia\", \"variable\": \"share_solo_prima\", \"value\": 0.0336917883252476, \"Vaccino\": \"In attesa seconda\", \"order\": 0}, {\"fascia_anagrafica\": \"50-59\", \"nome_area\": \"Sardegna\", \"variable\": \"share_solo_prima\", \"value\": 0.03503423054094209, \"Vaccino\": \"In attesa seconda\", \"order\": 0}, {\"fascia_anagrafica\": \"50-59\", \"nome_area\": \"Sicilia\", \"variable\": \"share_solo_prima\", \"value\": 0.04545857449975194, \"Vaccino\": \"In attesa seconda\", \"order\": 0}, {\"fascia_anagrafica\": \"50-59\", \"nome_area\": \"Trentino-Alto Adige/S\\u00fcdtirol\", \"variable\": \"share_solo_prima\", \"value\": 0.048106580351593195, \"Vaccino\": \"In attesa seconda\", \"order\": 0}, {\"fascia_anagrafica\": \"50-59\", \"nome_area\": \"Toscana\", \"variable\": \"share_solo_prima\", \"value\": 0.040556502608398895, \"Vaccino\": \"In attesa seconda\", \"order\": 0}, {\"fascia_anagrafica\": \"50-59\", \"nome_area\": \"Umbria\", \"variable\": \"share_solo_prima\", \"value\": 0.03681076085840435, \"Vaccino\": \"In attesa seconda\", \"order\": 0}, {\"fascia_anagrafica\": \"50-59\", \"nome_area\": \"Valle d'Aosta\", \"variable\": \"share_solo_prima\", \"value\": 0.040689026438270715, \"Vaccino\": \"In attesa seconda\", \"order\": 0}, {\"fascia_anagrafica\": \"50-59\", \"nome_area\": \"Veneto\", \"variable\": \"share_solo_prima\", \"value\": 0.037455640231427174, \"Vaccino\": \"In attesa seconda\", \"order\": 0}, {\"fascia_anagrafica\": \"60-69\", \"nome_area\": \"Abruzzo\", \"variable\": \"share_solo_prima\", \"value\": 0.020245295209932884, \"Vaccino\": \"In attesa seconda\", \"order\": 0}, {\"fascia_anagrafica\": \"60-69\", \"nome_area\": \"Basilicata\", \"variable\": \"share_solo_prima\", \"value\": 0.025392618116758334, \"Vaccino\": \"In attesa seconda\", \"order\": 0}, {\"fascia_anagrafica\": \"60-69\", \"nome_area\": \"Calabria\", \"variable\": \"share_solo_prima\", \"value\": 0.01958172210637135, \"Vaccino\": \"In attesa seconda\", \"order\": 0}, {\"fascia_anagrafica\": \"60-69\", \"nome_area\": \"Campania\", \"variable\": \"share_solo_prima\", \"value\": 0.02896936569540471, \"Vaccino\": \"In attesa seconda\", \"order\": 0}, {\"fascia_anagrafica\": \"60-69\", \"nome_area\": \"Emilia-Romagna\", \"variable\": \"share_solo_prima\", \"value\": 0.015670153962255937, \"Vaccino\": \"In attesa seconda\", \"order\": 0}, {\"fascia_anagrafica\": \"60-69\", \"nome_area\": \"Friuli-Venezia Giulia\", \"variable\": \"share_solo_prima\", \"value\": 0.025597107241412124, \"Vaccino\": \"In attesa seconda\", \"order\": 0}, {\"fascia_anagrafica\": \"60-69\", \"nome_area\": \"Lazio\", \"variable\": \"share_solo_prima\", \"value\": 0.020658295959056446, \"Vaccino\": \"In attesa seconda\", \"order\": 0}, {\"fascia_anagrafica\": \"60-69\", \"nome_area\": \"Liguria\", \"variable\": \"share_solo_prima\", \"value\": 0.025794817893407134, \"Vaccino\": \"In attesa seconda\", \"order\": 0}, {\"fascia_anagrafica\": \"60-69\", \"nome_area\": \"Lombardia\", \"variable\": \"share_solo_prima\", \"value\": 0.012528617903344214, \"Vaccino\": \"In attesa seconda\", \"order\": 0}, {\"fascia_anagrafica\": \"60-69\", \"nome_area\": \"Marche\", \"variable\": \"share_solo_prima\", \"value\": 0.010250563679209271, \"Vaccino\": \"In attesa seconda\", \"order\": 0}, {\"fascia_anagrafica\": \"60-69\", \"nome_area\": \"Molise\", \"variable\": \"share_solo_prima\", \"value\": 0.010995723885155772, \"Vaccino\": \"In attesa seconda\", \"order\": 0}, {\"fascia_anagrafica\": \"60-69\", \"nome_area\": \"Piemonte\", \"variable\": \"share_solo_prima\", \"value\": 0.029718794824894357, \"Vaccino\": \"In attesa seconda\", \"order\": 0}, {\"fascia_anagrafica\": \"60-69\", \"nome_area\": \"Puglia\", \"variable\": \"share_solo_prima\", \"value\": 0.02250893621153181, \"Vaccino\": \"In attesa seconda\", \"order\": 0}, {\"fascia_anagrafica\": \"60-69\", \"nome_area\": \"Sardegna\", \"variable\": \"share_solo_prima\", \"value\": 0.02220570270963479, \"Vaccino\": \"In attesa seconda\", \"order\": 0}, {\"fascia_anagrafica\": \"60-69\", \"nome_area\": \"Sicilia\", \"variable\": \"share_solo_prima\", \"value\": 0.029994216035052413, \"Vaccino\": \"In attesa seconda\", \"order\": 0}, {\"fascia_anagrafica\": \"60-69\", \"nome_area\": \"Trentino-Alto Adige/S\\u00fcdtirol\", \"variable\": \"share_solo_prima\", \"value\": 0.025296915855464196, \"Vaccino\": \"In attesa seconda\", \"order\": 0}, {\"fascia_anagrafica\": \"60-69\", \"nome_area\": \"Toscana\", \"variable\": \"share_solo_prima\", \"value\": 0.020889421533588717, \"Vaccino\": \"In attesa seconda\", \"order\": 0}, {\"fascia_anagrafica\": \"60-69\", \"nome_area\": \"Umbria\", \"variable\": \"share_solo_prima\", \"value\": 0.018356604560746337, \"Vaccino\": \"In attesa seconda\", \"order\": 0}, {\"fascia_anagrafica\": \"60-69\", \"nome_area\": \"Valle d'Aosta\", \"variable\": \"share_solo_prima\", \"value\": 0.023028955979502375, \"Vaccino\": \"In attesa seconda\", \"order\": 0}, {\"fascia_anagrafica\": \"60-69\", \"nome_area\": \"Veneto\", \"variable\": \"share_solo_prima\", \"value\": 0.01678252966174556, \"Vaccino\": \"In attesa seconda\", \"order\": 0}, {\"fascia_anagrafica\": \"70-79\", \"nome_area\": \"Abruzzo\", \"variable\": \"share_solo_prima\", \"value\": 0.00938823632155801, \"Vaccino\": \"In attesa seconda\", \"order\": 0}, {\"fascia_anagrafica\": \"70-79\", \"nome_area\": \"Basilicata\", \"variable\": \"share_solo_prima\", \"value\": 0.017681690956471385, \"Vaccino\": \"In attesa seconda\", \"order\": 0}, {\"fascia_anagrafica\": \"70-79\", \"nome_area\": \"Calabria\", \"variable\": \"share_solo_prima\", \"value\": 0.010737013109269012, \"Vaccino\": \"In attesa seconda\", \"order\": 0}, {\"fascia_anagrafica\": \"70-79\", \"nome_area\": \"Campania\", \"variable\": \"share_solo_prima\", \"value\": 0.02276192870009635, \"Vaccino\": \"In attesa seconda\", \"order\": 0}, {\"fascia_anagrafica\": \"70-79\", \"nome_area\": \"Emilia-Romagna\", \"variable\": \"share_solo_prima\", \"value\": 0.011067925389110179, \"Vaccino\": \"In attesa seconda\", \"order\": 0}, {\"fascia_anagrafica\": \"70-79\", \"nome_area\": \"Friuli-Venezia Giulia\", \"variable\": \"share_solo_prima\", \"value\": 0.016664527446198604, \"Vaccino\": \"In attesa seconda\", \"order\": 0}, {\"fascia_anagrafica\": \"70-79\", \"nome_area\": \"Lazio\", \"variable\": \"share_solo_prima\", \"value\": 0.014400295948658711, \"Vaccino\": \"In attesa seconda\", \"order\": 0}, {\"fascia_anagrafica\": \"70-79\", \"nome_area\": \"Liguria\", \"variable\": \"share_solo_prima\", \"value\": 0.015189374013677013, \"Vaccino\": \"In attesa seconda\", \"order\": 0}, {\"fascia_anagrafica\": \"70-79\", \"nome_area\": \"Lombardia\", \"variable\": \"share_solo_prima\", \"value\": 0.010724635665399315, \"Vaccino\": \"In attesa seconda\", \"order\": 0}, {\"fascia_anagrafica\": \"70-79\", \"nome_area\": \"Marche\", \"variable\": \"share_solo_prima\", \"value\": 0.0030268051814800563, \"Vaccino\": \"In attesa seconda\", \"order\": 0}, {\"fascia_anagrafica\": \"70-79\", \"nome_area\": \"Molise\", \"variable\": \"share_solo_prima\", \"value\": -0.001812239086113718, \"Vaccino\": \"In attesa seconda\", \"order\": 0}, {\"fascia_anagrafica\": \"70-79\", \"nome_area\": \"Piemonte\", \"variable\": \"share_solo_prima\", \"value\": 0.020328439602506403, \"Vaccino\": \"In attesa seconda\", \"order\": 0}, {\"fascia_anagrafica\": \"70-79\", \"nome_area\": \"Puglia\", \"variable\": \"share_solo_prima\", \"value\": 0.018764104069055546, \"Vaccino\": \"In attesa seconda\", \"order\": 0}, {\"fascia_anagrafica\": \"70-79\", \"nome_area\": \"Sardegna\", \"variable\": \"share_solo_prima\", \"value\": 0.008762396800018208, \"Vaccino\": \"In attesa seconda\", \"order\": 0}, {\"fascia_anagrafica\": \"70-79\", \"nome_area\": \"Sicilia\", \"variable\": \"share_solo_prima\", \"value\": 0.02247554064459817, \"Vaccino\": \"In attesa seconda\", \"order\": 0}, {\"fascia_anagrafica\": \"70-79\", \"nome_area\": \"Trentino-Alto Adige/S\\u00fcdtirol\", \"variable\": \"share_solo_prima\", \"value\": 0.017610724142462873, \"Vaccino\": \"In attesa seconda\", \"order\": 0}, {\"fascia_anagrafica\": \"70-79\", \"nome_area\": \"Toscana\", \"variable\": \"share_solo_prima\", \"value\": 0.011550525862599175, \"Vaccino\": \"In attesa seconda\", \"order\": 0}, {\"fascia_anagrafica\": \"70-79\", \"nome_area\": \"Umbria\", \"variable\": \"share_solo_prima\", \"value\": 0.015206906085834537, \"Vaccino\": \"In attesa seconda\", \"order\": 0}, {\"fascia_anagrafica\": \"70-79\", \"nome_area\": \"Valle d'Aosta\", \"variable\": \"share_solo_prima\", \"value\": 0.009516500383729854, \"Vaccino\": \"In attesa seconda\", \"order\": 0}, {\"fascia_anagrafica\": \"70-79\", \"nome_area\": \"Veneto\", \"variable\": \"share_solo_prima\", \"value\": 0.012609127164603887, \"Vaccino\": \"In attesa seconda\", \"order\": 0}, {\"fascia_anagrafica\": \"80+\", \"nome_area\": \"Abruzzo\", \"variable\": \"share_solo_prima\", \"value\": 0.009439689447897873, \"Vaccino\": \"In attesa seconda\", \"order\": 0}, {\"fascia_anagrafica\": \"80+\", \"nome_area\": \"Basilicata\", \"variable\": \"share_solo_prima\", \"value\": 0.021260949497134207, \"Vaccino\": \"In attesa seconda\", \"order\": 0}, {\"fascia_anagrafica\": \"80+\", \"nome_area\": \"Calabria\", \"variable\": \"share_solo_prima\", \"value\": 0.019795404174216883, \"Vaccino\": \"In attesa seconda\", \"order\": 0}, {\"fascia_anagrafica\": \"80+\", \"nome_area\": \"Campania\", \"variable\": \"share_solo_prima\", \"value\": 0.019926589707443227, \"Vaccino\": \"In attesa seconda\", \"order\": 0}, {\"fascia_anagrafica\": \"80+\", \"nome_area\": \"Emilia-Romagna\", \"variable\": \"share_solo_prima\", \"value\": 0.016094597257197765, \"Vaccino\": \"In attesa seconda\", \"order\": 0}, {\"fascia_anagrafica\": \"80+\", \"nome_area\": \"Friuli-Venezia Giulia\", \"variable\": \"share_solo_prima\", \"value\": 0.020751521115831905, \"Vaccino\": \"In attesa seconda\", \"order\": 0}, {\"fascia_anagrafica\": \"80+\", \"nome_area\": \"Lazio\", \"variable\": \"share_solo_prima\", \"value\": 0.021443800071309548, \"Vaccino\": \"In attesa seconda\", \"order\": 0}, {\"fascia_anagrafica\": \"80+\", \"nome_area\": \"Liguria\", \"variable\": \"share_solo_prima\", \"value\": 0.022428267936215412, \"Vaccino\": \"In attesa seconda\", \"order\": 0}, {\"fascia_anagrafica\": \"80+\", \"nome_area\": \"Lombardia\", \"variable\": \"share_solo_prima\", \"value\": 0.00992474443293055, \"Vaccino\": \"In attesa seconda\", \"order\": 0}, {\"fascia_anagrafica\": \"80+\", \"nome_area\": \"Marche\", \"variable\": \"share_solo_prima\", \"value\": 0.014194128894387583, \"Vaccino\": \"In attesa seconda\", \"order\": 0}, {\"fascia_anagrafica\": \"80+\", \"nome_area\": \"Molise\", \"variable\": \"share_solo_prima\", \"value\": 0.02314304606568217, \"Vaccino\": \"In attesa seconda\", \"order\": 0}, {\"fascia_anagrafica\": \"80+\", \"nome_area\": \"Piemonte\", \"variable\": \"share_solo_prima\", \"value\": 0.020892465021247912, \"Vaccino\": \"In attesa seconda\", \"order\": 0}, {\"fascia_anagrafica\": \"80+\", \"nome_area\": \"Puglia\", \"variable\": \"share_solo_prima\", \"value\": 0.024263895045739805, \"Vaccino\": \"In attesa seconda\", \"order\": 0}, {\"fascia_anagrafica\": \"80+\", \"nome_area\": \"Sardegna\", \"variable\": \"share_solo_prima\", \"value\": 0.022537830212875098, \"Vaccino\": \"In attesa seconda\", \"order\": 0}, {\"fascia_anagrafica\": \"80+\", \"nome_area\": \"Sicilia\", \"variable\": \"share_solo_prima\", \"value\": 0.02368558422205308, \"Vaccino\": \"In attesa seconda\", \"order\": 0}, {\"fascia_anagrafica\": \"80+\", \"nome_area\": \"Trentino-Alto Adige/S\\u00fcdtirol\", \"variable\": \"share_solo_prima\", \"value\": 0.023445576215351958, \"Vaccino\": \"In attesa seconda\", \"order\": 0}, {\"fascia_anagrafica\": \"80+\", \"nome_area\": \"Toscana\", \"variable\": \"share_solo_prima\", \"value\": 0.011959658555849205, \"Vaccino\": \"In attesa seconda\", \"order\": 0}, {\"fascia_anagrafica\": \"80+\", \"nome_area\": \"Umbria\", \"variable\": \"share_solo_prima\", \"value\": 0.013468091787720543, \"Vaccino\": \"In attesa seconda\", \"order\": 0}, {\"fascia_anagrafica\": \"80+\", \"nome_area\": \"Valle d'Aosta\", \"variable\": \"share_solo_prima\", \"value\": 0.018254537996102965, \"Vaccino\": \"In attesa seconda\", \"order\": 0}, {\"fascia_anagrafica\": \"80+\", \"nome_area\": \"Veneto\", \"variable\": \"share_solo_prima\", \"value\": 0.01798722979858205, \"Vaccino\": \"In attesa seconda\", \"order\": 0}, {\"fascia_anagrafica\": \"12-19\", \"nome_area\": \"Abruzzo\", \"variable\": \"share_missing\", \"value\": 0.29431946541112874, \"Vaccino\": \"Nessun vaccino\", \"order\": 2}, {\"fascia_anagrafica\": \"12-19\", \"nome_area\": \"Basilicata\", \"variable\": \"share_missing\", \"value\": 0.24712433145285367, \"Vaccino\": \"Nessun vaccino\", \"order\": 2}, {\"fascia_anagrafica\": \"12-19\", \"nome_area\": \"Calabria\", \"variable\": \"share_missing\", \"value\": 0.3496530062614902, \"Vaccino\": \"Nessun vaccino\", \"order\": 2}, {\"fascia_anagrafica\": \"12-19\", \"nome_area\": \"Campania\", \"variable\": \"share_missing\", \"value\": 0.3308751753709961, \"Vaccino\": \"Nessun vaccino\", \"order\": 2}, {\"fascia_anagrafica\": \"12-19\", \"nome_area\": \"Emilia-Romagna\", \"variable\": \"share_missing\", \"value\": 0.2888824409761462, \"Vaccino\": \"Nessun vaccino\", \"order\": 2}, {\"fascia_anagrafica\": \"12-19\", \"nome_area\": \"Friuli-Venezia Giulia\", \"variable\": \"share_missing\", \"value\": 0.35601005083854387, \"Vaccino\": \"Nessun vaccino\", \"order\": 2}, {\"fascia_anagrafica\": \"12-19\", \"nome_area\": \"Lazio\", \"variable\": \"share_missing\", \"value\": 0.3075012580556141, \"Vaccino\": \"Nessun vaccino\", \"order\": 2}, {\"fascia_anagrafica\": \"12-19\", \"nome_area\": \"Liguria\", \"variable\": \"share_missing\", \"value\": 0.3724715808085176, \"Vaccino\": \"Nessun vaccino\", \"order\": 2}, {\"fascia_anagrafica\": \"12-19\", \"nome_area\": \"Lombardia\", \"variable\": \"share_missing\", \"value\": 0.2558056403762936, \"Vaccino\": \"Nessun vaccino\", \"order\": 2}, {\"fascia_anagrafica\": \"12-19\", \"nome_area\": \"Marche\", \"variable\": \"share_missing\", \"value\": 0.38754986334568675, \"Vaccino\": \"Nessun vaccino\", \"order\": 2}, {\"fascia_anagrafica\": \"12-19\", \"nome_area\": \"Molise\", \"variable\": \"share_missing\", \"value\": 0.22549641410938184, \"Vaccino\": \"Nessun vaccino\", \"order\": 2}, {\"fascia_anagrafica\": \"12-19\", \"nome_area\": \"Piemonte\", \"variable\": \"share_missing\", \"value\": 0.3300620649894841, \"Vaccino\": \"Nessun vaccino\", \"order\": 2}, {\"fascia_anagrafica\": \"12-19\", \"nome_area\": \"Puglia\", \"variable\": \"share_missing\", \"value\": 0.24763378457476623, \"Vaccino\": \"Nessun vaccino\", \"order\": 2}, {\"fascia_anagrafica\": \"12-19\", \"nome_area\": \"Sardegna\", \"variable\": \"share_missing\", \"value\": 0.22138332586857767, \"Vaccino\": \"Nessun vaccino\", \"order\": 2}, {\"fascia_anagrafica\": \"12-19\", \"nome_area\": \"Sicilia\", \"variable\": \"share_missing\", \"value\": 0.3699424239964781, \"Vaccino\": \"Nessun vaccino\", \"order\": 2}, {\"fascia_anagrafica\": \"12-19\", \"nome_area\": \"Trentino-Alto Adige/S\\u00fcdtirol\", \"variable\": \"share_missing\", \"value\": 0.38775555654536553, \"Vaccino\": \"Nessun vaccino\", \"order\": 2}, {\"fascia_anagrafica\": \"12-19\", \"nome_area\": \"Toscana\", \"variable\": \"share_missing\", \"value\": 0.26810503304938355, \"Vaccino\": \"Nessun vaccino\", \"order\": 2}, {\"fascia_anagrafica\": \"12-19\", \"nome_area\": \"Umbria\", \"variable\": \"share_missing\", \"value\": 0.3110045590315988, \"Vaccino\": \"Nessun vaccino\", \"order\": 2}, {\"fascia_anagrafica\": \"12-19\", \"nome_area\": \"Valle d'Aosta\", \"variable\": \"share_missing\", \"value\": 0.36032085561497323, \"Vaccino\": \"Nessun vaccino\", \"order\": 2}, {\"fascia_anagrafica\": \"12-19\", \"nome_area\": \"Veneto\", \"variable\": \"share_missing\", \"value\": 0.3425410597103395, \"Vaccino\": \"Nessun vaccino\", \"order\": 2}, {\"fascia_anagrafica\": \"20-29\", \"nome_area\": \"Abruzzo\", \"variable\": \"share_missing\", \"value\": 0.14322446698075544, \"Vaccino\": \"Nessun vaccino\", \"order\": 2}, {\"fascia_anagrafica\": \"20-29\", \"nome_area\": \"Basilicata\", \"variable\": \"share_missing\", \"value\": 0.18639069023718577, \"Vaccino\": \"Nessun vaccino\", \"order\": 2}, {\"fascia_anagrafica\": \"20-29\", \"nome_area\": \"Calabria\", \"variable\": \"share_missing\", \"value\": 0.21852752996305308, \"Vaccino\": \"Nessun vaccino\", \"order\": 2}, {\"fascia_anagrafica\": \"20-29\", \"nome_area\": \"Campania\", \"variable\": \"share_missing\", \"value\": 0.21646199626063212, \"Vaccino\": \"Nessun vaccino\", \"order\": 2}, {\"fascia_anagrafica\": \"20-29\", \"nome_area\": \"Emilia-Romagna\", \"variable\": \"share_missing\", \"value\": 0.11488679690123335, \"Vaccino\": \"Nessun vaccino\", \"order\": 2}, {\"fascia_anagrafica\": \"20-29\", \"nome_area\": \"Friuli-Venezia Giulia\", \"variable\": \"share_missing\", \"value\": 0.11869735272633125, \"Vaccino\": \"Nessun vaccino\", \"order\": 2}, {\"fascia_anagrafica\": \"20-29\", \"nome_area\": \"Lazio\", \"variable\": \"share_missing\", \"value\": 0.13776024192321804, \"Vaccino\": \"Nessun vaccino\", \"order\": 2}, {\"fascia_anagrafica\": \"20-29\", \"nome_area\": \"Liguria\", \"variable\": \"share_missing\", \"value\": 0.14191171051661872, \"Vaccino\": \"Nessun vaccino\", \"order\": 2}, {\"fascia_anagrafica\": \"20-29\", \"nome_area\": \"Lombardia\", \"variable\": \"share_missing\", \"value\": 0.09597793569188569, \"Vaccino\": \"Nessun vaccino\", \"order\": 2}, {\"fascia_anagrafica\": \"20-29\", \"nome_area\": \"Marche\", \"variable\": \"share_missing\", \"value\": 0.1819922702207809, \"Vaccino\": \"Nessun vaccino\", \"order\": 2}, {\"fascia_anagrafica\": \"20-29\", \"nome_area\": \"Molise\", \"variable\": \"share_missing\", \"value\": 0.22143702135607995, \"Vaccino\": \"Nessun vaccino\", \"order\": 2}, {\"fascia_anagrafica\": \"20-29\", \"nome_area\": \"Piemonte\", \"variable\": \"share_missing\", \"value\": 0.15138079801106585, \"Vaccino\": \"Nessun vaccino\", \"order\": 2}, {\"fascia_anagrafica\": \"20-29\", \"nome_area\": \"Puglia\", \"variable\": \"share_missing\", \"value\": 0.18609500334321938, \"Vaccino\": \"Nessun vaccino\", \"order\": 2}, {\"fascia_anagrafica\": \"20-29\", \"nome_area\": \"Sardegna\", \"variable\": \"share_missing\", \"value\": 0.16861700659619683, \"Vaccino\": \"Nessun vaccino\", \"order\": 2}, {\"fascia_anagrafica\": \"20-29\", \"nome_area\": \"Sicilia\", \"variable\": \"share_missing\", \"value\": 0.2463091763287333, \"Vaccino\": \"Nessun vaccino\", \"order\": 2}, {\"fascia_anagrafica\": \"20-29\", \"nome_area\": \"Trentino-Alto Adige/S\\u00fcdtirol\", \"variable\": \"share_missing\", \"value\": 0.16902830543861447, \"Vaccino\": \"Nessun vaccino\", \"order\": 2}, {\"fascia_anagrafica\": \"20-29\", \"nome_area\": \"Toscana\", \"variable\": \"share_missing\", \"value\": 0.11412791880567441, \"Vaccino\": \"Nessun vaccino\", \"order\": 2}, {\"fascia_anagrafica\": \"20-29\", \"nome_area\": \"Umbria\", \"variable\": \"share_missing\", \"value\": 0.16999655308881545, \"Vaccino\": \"Nessun vaccino\", \"order\": 2}, {\"fascia_anagrafica\": \"20-29\", \"nome_area\": \"Valle d'Aosta\", \"variable\": \"share_missing\", \"value\": 0.18559484410381463, \"Vaccino\": \"Nessun vaccino\", \"order\": 2}, {\"fascia_anagrafica\": \"20-29\", \"nome_area\": \"Veneto\", \"variable\": \"share_missing\", \"value\": 0.15922854669295206, \"Vaccino\": \"Nessun vaccino\", \"order\": 2}, {\"fascia_anagrafica\": \"30-39\", \"nome_area\": \"Abruzzo\", \"variable\": \"share_missing\", \"value\": 0.21887524240465417, \"Vaccino\": \"Nessun vaccino\", \"order\": 2}, {\"fascia_anagrafica\": \"30-39\", \"nome_area\": \"Basilicata\", \"variable\": \"share_missing\", \"value\": 0.21132922592908177, \"Vaccino\": \"Nessun vaccino\", \"order\": 2}, {\"fascia_anagrafica\": \"30-39\", \"nome_area\": \"Calabria\", \"variable\": \"share_missing\", \"value\": 0.2570472919796809, \"Vaccino\": \"Nessun vaccino\", \"order\": 2}, {\"fascia_anagrafica\": \"30-39\", \"nome_area\": \"Campania\", \"variable\": \"share_missing\", \"value\": 0.24282906890462097, \"Vaccino\": \"Nessun vaccino\", \"order\": 2}, {\"fascia_anagrafica\": \"30-39\", \"nome_area\": \"Emilia-Romagna\", \"variable\": \"share_missing\", \"value\": 0.16778542707195654, \"Vaccino\": \"Nessun vaccino\", \"order\": 2}, {\"fascia_anagrafica\": \"30-39\", \"nome_area\": \"Friuli-Venezia Giulia\", \"variable\": \"share_missing\", \"value\": 0.20389601853525474, \"Vaccino\": \"Nessun vaccino\", \"order\": 2}, {\"fascia_anagrafica\": \"30-39\", \"nome_area\": \"Lazio\", \"variable\": \"share_missing\", \"value\": 0.1734328264034217, \"Vaccino\": \"Nessun vaccino\", \"order\": 2}, {\"fascia_anagrafica\": \"30-39\", \"nome_area\": \"Liguria\", \"variable\": \"share_missing\", \"value\": 0.2094763426381827, \"Vaccino\": \"Nessun vaccino\", \"order\": 2}, {\"fascia_anagrafica\": \"30-39\", \"nome_area\": \"Lombardia\", \"variable\": \"share_missing\", \"value\": 0.17866058359154427, \"Vaccino\": \"Nessun vaccino\", \"order\": 2}, {\"fascia_anagrafica\": \"30-39\", \"nome_area\": \"Marche\", \"variable\": \"share_missing\", \"value\": 0.24102323976637008, \"Vaccino\": \"Nessun vaccino\", \"order\": 2}, {\"fascia_anagrafica\": \"30-39\", \"nome_area\": \"Molise\", \"variable\": \"share_missing\", \"value\": 0.23770231672484923, \"Vaccino\": \"Nessun vaccino\", \"order\": 2}, {\"fascia_anagrafica\": \"30-39\", \"nome_area\": \"Piemonte\", \"variable\": \"share_missing\", \"value\": 0.21445535235468588, \"Vaccino\": \"Nessun vaccino\", \"order\": 2}, {\"fascia_anagrafica\": \"30-39\", \"nome_area\": \"Puglia\", \"variable\": \"share_missing\", \"value\": 0.2060914326397883, \"Vaccino\": \"Nessun vaccino\", \"order\": 2}, {\"fascia_anagrafica\": \"30-39\", \"nome_area\": \"Sardegna\", \"variable\": \"share_missing\", \"value\": 0.21591495453107926, \"Vaccino\": \"Nessun vaccino\", \"order\": 2}, {\"fascia_anagrafica\": \"30-39\", \"nome_area\": \"Sicilia\", \"variable\": \"share_missing\", \"value\": 0.268018210905304, \"Vaccino\": \"Nessun vaccino\", \"order\": 2}, {\"fascia_anagrafica\": \"30-39\", \"nome_area\": \"Trentino-Alto Adige/S\\u00fcdtirol\", \"variable\": \"share_missing\", \"value\": 0.2182580804342463, \"Vaccino\": \"Nessun vaccino\", \"order\": 2}, {\"fascia_anagrafica\": \"30-39\", \"nome_area\": \"Toscana\", \"variable\": \"share_missing\", \"value\": 0.15873115562109513, \"Vaccino\": \"Nessun vaccino\", \"order\": 2}, {\"fascia_anagrafica\": \"30-39\", \"nome_area\": \"Umbria\", \"variable\": \"share_missing\", \"value\": 0.19548537630907806, \"Vaccino\": \"Nessun vaccino\", \"order\": 2}, {\"fascia_anagrafica\": \"30-39\", \"nome_area\": \"Valle d'Aosta\", \"variable\": \"share_missing\", \"value\": 0.23345617689472845, \"Vaccino\": \"Nessun vaccino\", \"order\": 2}, {\"fascia_anagrafica\": \"30-39\", \"nome_area\": \"Veneto\", \"variable\": \"share_missing\", \"value\": 0.21279613724508356, \"Vaccino\": \"Nessun vaccino\", \"order\": 2}, {\"fascia_anagrafica\": \"40-49\", \"nome_area\": \"Abruzzo\", \"variable\": \"share_missing\", \"value\": 0.21100971351022108, \"Vaccino\": \"Nessun vaccino\", \"order\": 2}, {\"fascia_anagrafica\": \"40-49\", \"nome_area\": \"Basilicata\", \"variable\": \"share_missing\", \"value\": 0.17513235274506933, \"Vaccino\": \"Nessun vaccino\", \"order\": 2}, {\"fascia_anagrafica\": \"40-49\", \"nome_area\": \"Calabria\", \"variable\": \"share_missing\", \"value\": 0.227852042032116, \"Vaccino\": \"Nessun vaccino\", \"order\": 2}, {\"fascia_anagrafica\": \"40-49\", \"nome_area\": \"Campania\", \"variable\": \"share_missing\", \"value\": 0.21399701574700486, \"Vaccino\": \"Nessun vaccino\", \"order\": 2}, {\"fascia_anagrafica\": \"40-49\", \"nome_area\": \"Emilia-Romagna\", \"variable\": \"share_missing\", \"value\": 0.1959761594561001, \"Vaccino\": \"Nessun vaccino\", \"order\": 2}, {\"fascia_anagrafica\": \"40-49\", \"nome_area\": \"Friuli-Venezia Giulia\", \"variable\": \"share_missing\", \"value\": 0.24819282777604587, \"Vaccino\": \"Nessun vaccino\", \"order\": 2}, {\"fascia_anagrafica\": \"40-49\", \"nome_area\": \"Lazio\", \"variable\": \"share_missing\", \"value\": 0.17083983971015088, \"Vaccino\": \"Nessun vaccino\", \"order\": 2}, {\"fascia_anagrafica\": \"40-49\", \"nome_area\": \"Liguria\", \"variable\": \"share_missing\", \"value\": 0.23109544072948324, \"Vaccino\": \"Nessun vaccino\", \"order\": 2}, {\"fascia_anagrafica\": \"40-49\", \"nome_area\": \"Lombardia\", \"variable\": \"share_missing\", \"value\": 0.20266015648204752, \"Vaccino\": \"Nessun vaccino\", \"order\": 2}, {\"fascia_anagrafica\": \"40-49\", \"nome_area\": \"Marche\", \"variable\": \"share_missing\", \"value\": 0.24668886890586939, \"Vaccino\": \"Nessun vaccino\", \"order\": 2}, {\"fascia_anagrafica\": \"40-49\", \"nome_area\": \"Molise\", \"variable\": \"share_missing\", \"value\": 0.14774251229324994, \"Vaccino\": \"Nessun vaccino\", \"order\": 2}, {\"fascia_anagrafica\": \"40-49\", \"nome_area\": \"Piemonte\", \"variable\": \"share_missing\", \"value\": 0.22721644781857875, \"Vaccino\": \"Nessun vaccino\", \"order\": 2}, {\"fascia_anagrafica\": \"40-49\", \"nome_area\": \"Puglia\", \"variable\": \"share_missing\", \"value\": 0.16941839008092557, \"Vaccino\": \"Nessun vaccino\", \"order\": 2}, {\"fascia_anagrafica\": \"40-49\", \"nome_area\": \"Sardegna\", \"variable\": \"share_missing\", \"value\": 0.20150704616536452, \"Vaccino\": \"Nessun vaccino\", \"order\": 2}, {\"fascia_anagrafica\": \"40-49\", \"nome_area\": \"Sicilia\", \"variable\": \"share_missing\", \"value\": 0.23746072250431297, \"Vaccino\": \"Nessun vaccino\", \"order\": 2}, {\"fascia_anagrafica\": \"40-49\", \"nome_area\": \"Trentino-Alto Adige/S\\u00fcdtirol\", \"variable\": \"share_missing\", \"value\": 0.23603482920294705, \"Vaccino\": \"Nessun vaccino\", \"order\": 2}, {\"fascia_anagrafica\": \"40-49\", \"nome_area\": \"Toscana\", \"variable\": \"share_missing\", \"value\": 0.1762081335555357, \"Vaccino\": \"Nessun vaccino\", \"order\": 2}, {\"fascia_anagrafica\": \"40-49\", \"nome_area\": \"Umbria\", \"variable\": \"share_missing\", \"value\": 0.1890113266122838, \"Vaccino\": \"Nessun vaccino\", \"order\": 2}, {\"fascia_anagrafica\": \"40-49\", \"nome_area\": \"Valle d'Aosta\", \"variable\": \"share_missing\", \"value\": 0.2532900457997565, \"Vaccino\": \"Nessun vaccino\", \"order\": 2}, {\"fascia_anagrafica\": \"40-49\", \"nome_area\": \"Veneto\", \"variable\": \"share_missing\", \"value\": 0.22957602557257387, \"Vaccino\": \"Nessun vaccino\", \"order\": 2}, {\"fascia_anagrafica\": \"50-59\", \"nome_area\": \"Abruzzo\", \"variable\": \"share_missing\", \"value\": 0.1744966121349779, \"Vaccino\": \"Nessun vaccino\", \"order\": 2}, {\"fascia_anagrafica\": \"50-59\", \"nome_area\": \"Basilicata\", \"variable\": \"share_missing\", \"value\": 0.14166581571871067, \"Vaccino\": \"Nessun vaccino\", \"order\": 2}, {\"fascia_anagrafica\": \"50-59\", \"nome_area\": \"Calabria\", \"variable\": \"share_missing\", \"value\": 0.1947307614679538, \"Vaccino\": \"Nessun vaccino\", \"order\": 2}, {\"fascia_anagrafica\": \"50-59\", \"nome_area\": \"Campania\", \"variable\": \"share_missing\", \"value\": 0.18575074460268226, \"Vaccino\": \"Nessun vaccino\", \"order\": 2}, {\"fascia_anagrafica\": \"50-59\", \"nome_area\": \"Emilia-Romagna\", \"variable\": \"share_missing\", \"value\": 0.1580402076656589, \"Vaccino\": \"Nessun vaccino\", \"order\": 2}, {\"fascia_anagrafica\": \"50-59\", \"nome_area\": \"Friuli-Venezia Giulia\", \"variable\": \"share_missing\", \"value\": 0.22605006150987922, \"Vaccino\": \"Nessun vaccino\", \"order\": 2}, {\"fascia_anagrafica\": \"50-59\", \"nome_area\": \"Lazio\", \"variable\": \"share_missing\", \"value\": 0.12547662339043245, \"Vaccino\": \"Nessun vaccino\", \"order\": 2}, {\"fascia_anagrafica\": \"50-59\", \"nome_area\": \"Liguria\", \"variable\": \"share_missing\", \"value\": 0.19018362209960984, \"Vaccino\": \"Nessun vaccino\", \"order\": 2}, {\"fascia_anagrafica\": \"50-59\", \"nome_area\": \"Lombardia\", \"variable\": \"share_missing\", \"value\": 0.161147071253537, \"Vaccino\": \"Nessun vaccino\", \"order\": 2}, {\"fascia_anagrafica\": \"50-59\", \"nome_area\": \"Marche\", \"variable\": \"share_missing\", \"value\": 0.20330696504610987, \"Vaccino\": \"Nessun vaccino\", \"order\": 2}, {\"fascia_anagrafica\": \"50-59\", \"nome_area\": \"Molise\", \"variable\": \"share_missing\", \"value\": 0.10602915052543711, \"Vaccino\": \"Nessun vaccino\", \"order\": 2}, {\"fascia_anagrafica\": \"50-59\", \"nome_area\": \"Piemonte\", \"variable\": \"share_missing\", \"value\": 0.18760128336048432, \"Vaccino\": \"Nessun vaccino\", \"order\": 2}, {\"fascia_anagrafica\": \"50-59\", \"nome_area\": \"Puglia\", \"variable\": \"share_missing\", \"value\": 0.1471448692602753, \"Vaccino\": \"Nessun vaccino\", \"order\": 2}, {\"fascia_anagrafica\": \"50-59\", \"nome_area\": \"Sardegna\", \"variable\": \"share_missing\", \"value\": 0.1600522029574302, \"Vaccino\": \"Nessun vaccino\", \"order\": 2}, {\"fascia_anagrafica\": \"50-59\", \"nome_area\": \"Sicilia\", \"variable\": \"share_missing\", \"value\": 0.20235356375062014, \"Vaccino\": \"Nessun vaccino\", \"order\": 2}, {\"fascia_anagrafica\": \"50-59\", \"nome_area\": \"Trentino-Alto Adige/S\\u00fcdtirol\", \"variable\": \"share_missing\", \"value\": 0.21673175479951678, \"Vaccino\": \"Nessun vaccino\", \"order\": 2}, {\"fascia_anagrafica\": \"50-59\", \"nome_area\": \"Toscana\", \"variable\": \"share_missing\", \"value\": 0.14686056124063368, \"Vaccino\": \"Nessun vaccino\", \"order\": 2}, {\"fascia_anagrafica\": \"50-59\", \"nome_area\": \"Umbria\", \"variable\": \"share_missing\", \"value\": 0.15532542208792338, \"Vaccino\": \"Nessun vaccino\", \"order\": 2}, {\"fascia_anagrafica\": \"50-59\", \"nome_area\": \"Valle d'Aosta\", \"variable\": \"share_missing\", \"value\": 0.2063720550837292, \"Vaccino\": \"Nessun vaccino\", \"order\": 2}, {\"fascia_anagrafica\": \"50-59\", \"nome_area\": \"Veneto\", \"variable\": \"share_missing\", \"value\": 0.186030795785109, \"Vaccino\": \"Nessun vaccino\", \"order\": 2}, {\"fascia_anagrafica\": \"60-69\", \"nome_area\": \"Abruzzo\", \"variable\": \"share_missing\", \"value\": 0.13410907312870726, \"Vaccino\": \"Nessun vaccino\", \"order\": 2}, {\"fascia_anagrafica\": \"60-69\", \"nome_area\": \"Basilicata\", \"variable\": \"share_missing\", \"value\": 0.10595719302895765, \"Vaccino\": \"Nessun vaccino\", \"order\": 2}, {\"fascia_anagrafica\": \"60-69\", \"nome_area\": \"Calabria\", \"variable\": \"share_missing\", \"value\": 0.14646609843500089, \"Vaccino\": \"Nessun vaccino\", \"order\": 2}, {\"fascia_anagrafica\": \"60-69\", \"nome_area\": \"Campania\", \"variable\": \"share_missing\", \"value\": 0.15215199778388927, \"Vaccino\": \"Nessun vaccino\", \"order\": 2}, {\"fascia_anagrafica\": \"60-69\", \"nome_area\": \"Emilia-Romagna\", \"variable\": \"share_missing\", \"value\": 0.12101647379811661, \"Vaccino\": \"Nessun vaccino\", \"order\": 2}, {\"fascia_anagrafica\": \"60-69\", \"nome_area\": \"Friuli-Venezia Giulia\", \"variable\": \"share_missing\", \"value\": 0.18984362609826494, \"Vaccino\": \"Nessun vaccino\", \"order\": 2}, {\"fascia_anagrafica\": \"60-69\", \"nome_area\": \"Lazio\", \"variable\": \"share_missing\", \"value\": 0.09195626432445114, \"Vaccino\": \"Nessun vaccino\", \"order\": 2}, {\"fascia_anagrafica\": \"60-69\", \"nome_area\": \"Liguria\", \"variable\": \"share_missing\", \"value\": 0.15686624302093474, \"Vaccino\": \"Nessun vaccino\", \"order\": 2}, {\"fascia_anagrafica\": \"60-69\", \"nome_area\": \"Lombardia\", \"variable\": \"share_missing\", \"value\": 0.14181586388797332, \"Vaccino\": \"Nessun vaccino\", \"order\": 2}, {\"fascia_anagrafica\": \"60-69\", \"nome_area\": \"Marche\", \"variable\": \"share_missing\", \"value\": 0.15113219359008948, \"Vaccino\": \"Nessun vaccino\", \"order\": 2}, {\"fascia_anagrafica\": \"60-69\", \"nome_area\": \"Molise\", \"variable\": \"share_missing\", \"value\": 0.09158216249236409, \"Vaccino\": \"Nessun vaccino\", \"order\": 2}, {\"fascia_anagrafica\": \"60-69\", \"nome_area\": \"Piemonte\", \"variable\": \"share_missing\", \"value\": 0.16480230349294955, \"Vaccino\": \"Nessun vaccino\", \"order\": 2}, {\"fascia_anagrafica\": \"60-69\", \"nome_area\": \"Puglia\", \"variable\": \"share_missing\", \"value\": 0.08319223525651533, \"Vaccino\": \"Nessun vaccino\", \"order\": 2}, {\"fascia_anagrafica\": \"60-69\", \"nome_area\": \"Sardegna\", \"variable\": \"share_missing\", \"value\": 0.12051419156548465, \"Vaccino\": \"Nessun vaccino\", \"order\": 2}, {\"fascia_anagrafica\": \"60-69\", \"nome_area\": \"Sicilia\", \"variable\": \"share_missing\", \"value\": 0.17413062252893957, \"Vaccino\": \"Nessun vaccino\", \"order\": 2}, {\"fascia_anagrafica\": \"60-69\", \"nome_area\": \"Trentino-Alto Adige/S\\u00fcdtirol\", \"variable\": \"share_missing\", \"value\": 0.17183316006678642, \"Vaccino\": \"Nessun vaccino\", \"order\": 2}, {\"fascia_anagrafica\": \"60-69\", \"nome_area\": \"Toscana\", \"variable\": \"share_missing\", \"value\": 0.10686112953966656, \"Vaccino\": \"Nessun vaccino\", \"order\": 2}, {\"fascia_anagrafica\": \"60-69\", \"nome_area\": \"Umbria\", \"variable\": \"share_missing\", \"value\": 0.10988220882856808, \"Vaccino\": \"Nessun vaccino\", \"order\": 2}, {\"fascia_anagrafica\": \"60-69\", \"nome_area\": \"Valle d'Aosta\", \"variable\": \"share_missing\", \"value\": 0.18997345187380377, \"Vaccino\": \"Nessun vaccino\", \"order\": 2}, {\"fascia_anagrafica\": \"60-69\", \"nome_area\": \"Veneto\", \"variable\": \"share_missing\", \"value\": 0.1424697241396252, \"Vaccino\": \"Nessun vaccino\", \"order\": 2}, {\"fascia_anagrafica\": \"70-79\", \"nome_area\": \"Abruzzo\", \"variable\": \"share_missing\", \"value\": 0.12027131275199048, \"Vaccino\": \"Nessun vaccino\", \"order\": 2}, {\"fascia_anagrafica\": \"70-79\", \"nome_area\": \"Basilicata\", \"variable\": \"share_missing\", \"value\": 0.04696457870861885, \"Vaccino\": \"Nessun vaccino\", \"order\": 2}, {\"fascia_anagrafica\": \"70-79\", \"nome_area\": \"Calabria\", \"variable\": \"share_missing\", \"value\": 0.14842468221991512, \"Vaccino\": \"Nessun vaccino\", \"order\": 2}, {\"fascia_anagrafica\": \"70-79\", \"nome_area\": \"Campania\", \"variable\": \"share_missing\", \"value\": 0.08312596874869088, \"Vaccino\": \"Nessun vaccino\", \"order\": 2}, {\"fascia_anagrafica\": \"70-79\", \"nome_area\": \"Emilia-Romagna\", \"variable\": \"share_missing\", \"value\": 0.09293898822579792, \"Vaccino\": \"Nessun vaccino\", \"order\": 2}, {\"fascia_anagrafica\": \"70-79\", \"nome_area\": \"Friuli-Venezia Giulia\", \"variable\": \"share_missing\", \"value\": 0.15301844008043464, \"Vaccino\": \"Nessun vaccino\", \"order\": 2}, {\"fascia_anagrafica\": \"70-79\", \"nome_area\": \"Lazio\", \"variable\": \"share_missing\", \"value\": 0.0726833222413033, \"Vaccino\": \"Nessun vaccino\", \"order\": 2}, {\"fascia_anagrafica\": \"70-79\", \"nome_area\": \"Liguria\", \"variable\": \"share_missing\", \"value\": 0.11451209889531824, \"Vaccino\": \"Nessun vaccino\", \"order\": 2}, {\"fascia_anagrafica\": \"70-79\", \"nome_area\": \"Lombardia\", \"variable\": \"share_missing\", \"value\": 0.11063909688533531, \"Vaccino\": \"Nessun vaccino\", \"order\": 2}, {\"fascia_anagrafica\": \"70-79\", \"nome_area\": \"Marche\", \"variable\": \"share_missing\", \"value\": 0.0914454277286136, \"Vaccino\": \"Nessun vaccino\", \"order\": 2}, {\"fascia_anagrafica\": \"70-79\", \"nome_area\": \"Molise\", \"variable\": \"share_missing\", \"value\": 0.0754991747839876, \"Vaccino\": \"Nessun vaccino\", \"order\": 2}, {\"fascia_anagrafica\": \"70-79\", \"nome_area\": \"Piemonte\", \"variable\": \"share_missing\", \"value\": 0.13555249382267887, \"Vaccino\": \"Nessun vaccino\", \"order\": 2}, {\"fascia_anagrafica\": \"70-79\", \"nome_area\": \"Puglia\", \"variable\": \"share_missing\", \"value\": 0.055819225047814724, \"Vaccino\": \"Nessun vaccino\", \"order\": 2}, {\"fascia_anagrafica\": \"70-79\", \"nome_area\": \"Sardegna\", \"variable\": \"share_missing\", \"value\": 0.09916302040955673, \"Vaccino\": \"Nessun vaccino\", \"order\": 2}, {\"fascia_anagrafica\": \"70-79\", \"nome_area\": \"Sicilia\", \"variable\": \"share_missing\", \"value\": 0.152884871602809, \"Vaccino\": \"Nessun vaccino\", \"order\": 2}, {\"fascia_anagrafica\": \"70-79\", \"nome_area\": \"Trentino-Alto Adige/S\\u00fcdtirol\", \"variable\": \"share_missing\", \"value\": 0.13826743633551367, \"Vaccino\": \"Nessun vaccino\", \"order\": 2}, {\"fascia_anagrafica\": \"70-79\", \"nome_area\": \"Toscana\", \"variable\": \"share_missing\", \"value\": 0.08673842179715853, \"Vaccino\": \"Nessun vaccino\", \"order\": 2}, {\"fascia_anagrafica\": \"70-79\", \"nome_area\": \"Umbria\", \"variable\": \"share_missing\", \"value\": 0.09213234616448039, \"Vaccino\": \"Nessun vaccino\", \"order\": 2}, {\"fascia_anagrafica\": \"70-79\", \"nome_area\": \"Valle d'Aosta\", \"variable\": \"share_missing\", \"value\": 0.14374520337682273, \"Vaccino\": \"Nessun vaccino\", \"order\": 2}, {\"fascia_anagrafica\": \"70-79\", \"nome_area\": \"Veneto\", \"variable\": \"share_missing\", \"value\": 0.10714321809666455, \"Vaccino\": \"Nessun vaccino\", \"order\": 2}, {\"fascia_anagrafica\": \"80+\", \"nome_area\": \"Abruzzo\", \"variable\": \"share_missing\", \"value\": 0.1782596427624773, \"Vaccino\": \"Nessun vaccino\", \"order\": 2}, {\"fascia_anagrafica\": \"80+\", \"nome_area\": \"Basilicata\", \"variable\": \"share_missing\", \"value\": 0.11389639883205359, \"Vaccino\": \"Nessun vaccino\", \"order\": 2}, {\"fascia_anagrafica\": \"80+\", \"nome_area\": \"Calabria\", \"variable\": \"share_missing\", \"value\": 0.18602770779037947, \"Vaccino\": \"Nessun vaccino\", \"order\": 2}, {\"fascia_anagrafica\": \"80+\", \"nome_area\": \"Campania\", \"variable\": \"share_missing\", \"value\": 0.1028401305217914, \"Vaccino\": \"Nessun vaccino\", \"order\": 2}, {\"fascia_anagrafica\": \"80+\", \"nome_area\": \"Emilia-Romagna\", \"variable\": \"share_missing\", \"value\": 0.026442859186444165, \"Vaccino\": \"Nessun vaccino\", \"order\": 2}, {\"fascia_anagrafica\": \"80+\", \"nome_area\": \"Friuli-Venezia Giulia\", \"variable\": \"share_missing\", \"value\": 0.04470140709128588, \"Vaccino\": \"Nessun vaccino\", \"order\": 2}, {\"fascia_anagrafica\": \"80+\", \"nome_area\": \"Lazio\", \"variable\": \"share_missing\", \"value\": 0.03101480279514033, \"Vaccino\": \"Nessun vaccino\", \"order\": 2}, {\"fascia_anagrafica\": \"80+\", \"nome_area\": \"Liguria\", \"variable\": \"share_missing\", \"value\": 0.04871509380839026, \"Vaccino\": \"Nessun vaccino\", \"order\": 2}, {\"fascia_anagrafica\": \"80+\", \"nome_area\": \"Lombardia\", \"variable\": \"share_missing\", \"value\": 0.04935845249778183, \"Vaccino\": \"Nessun vaccino\", \"order\": 2}, {\"fascia_anagrafica\": \"80+\", \"nome_area\": \"Marche\", \"variable\": \"share_missing\", \"value\": 0.05920593858958496, \"Vaccino\": \"Nessun vaccino\", \"order\": 2}, {\"fascia_anagrafica\": \"80+\", \"nome_area\": \"Molise\", \"variable\": \"share_missing\", \"value\": 0.09488648886929686, \"Vaccino\": \"Nessun vaccino\", \"order\": 2}, {\"fascia_anagrafica\": \"80+\", \"nome_area\": \"Piemonte\", \"variable\": \"share_missing\", \"value\": 0.06047361519949874, \"Vaccino\": \"Nessun vaccino\", \"order\": 2}, {\"fascia_anagrafica\": \"80+\", \"nome_area\": \"Puglia\", \"variable\": \"share_missing\", \"value\": 0.035075121722469155, \"Vaccino\": \"Nessun vaccino\", \"order\": 2}, {\"fascia_anagrafica\": \"80+\", \"nome_area\": \"Sardegna\", \"variable\": \"share_missing\", \"value\": 0.10660586047704539, \"Vaccino\": \"Nessun vaccino\", \"order\": 2}, {\"fascia_anagrafica\": \"80+\", \"nome_area\": \"Sicilia\", \"variable\": \"share_missing\", \"value\": 0.18845232991843314, \"Vaccino\": \"Nessun vaccino\", \"order\": 2}, {\"fascia_anagrafica\": \"80+\", \"nome_area\": \"Trentino-Alto Adige/S\\u00fcdtirol\", \"variable\": \"share_missing\", \"value\": 0.07040564568372595, \"Vaccino\": \"Nessun vaccino\", \"order\": 2}, {\"fascia_anagrafica\": \"80+\", \"nome_area\": \"Toscana\", \"variable\": \"share_missing\", \"value\": 0.03462741881588142, \"Vaccino\": \"Nessun vaccino\", \"order\": 2}, {\"fascia_anagrafica\": \"80+\", \"nome_area\": \"Umbria\", \"variable\": \"share_missing\", \"value\": 0.1005570998243798, \"Vaccino\": \"Nessun vaccino\", \"order\": 2}, {\"fascia_anagrafica\": \"80+\", \"nome_area\": \"Valle d'Aosta\", \"variable\": \"share_missing\", \"value\": 0.0914777971490103, \"Vaccino\": \"Nessun vaccino\", \"order\": 2}, {\"fascia_anagrafica\": \"80+\", \"nome_area\": \"Veneto\", \"variable\": \"share_missing\", \"value\": 0.04186089369728771, \"Vaccino\": \"Nessun vaccino\", \"order\": 2}]}}, {\"mode\": \"vega-lite\"});\n",
       "</script>"
      ],
      "text/plain": [
       "alt.Chart(...)"
      ]
     },
     "execution_count": 20,
     "metadata": {},
     "output_type": "execute_result"
    }
   ],
   "source": [
    "str_rename = {'share_ciclo_completo': 'Completo', 'share_solo_prima': 'In attesa seconda', 'share_missing': 'Nessun vaccino'}.get\n",
    "order_rename = {'share_ciclo_completo': 1, 'share_solo_prima': 0, 'share_missing': 2}.get\n",
    "plot_title = alt.TitleParams(\n",
    "    \"Percentuale di popolazione per ciclo vaccinale per fascia anagrafica\",\n",
    "    fontSize=18,\n",
    "    subtitle=[FOOTNOTE],\n",
    "    subtitleColor='grey', subtitleFontSize=16,\n",
    "    align='left', anchor='start'\n",
    ")\n",
    "bar_plt_df = (\n",
    "    regional_age_df\n",
    "    .melt(\n",
    "        id_vars=['fascia_anagrafica', 'nome_area'],\n",
    "        value_vars=['share_ciclo_completo', 'share_solo_prima', 'share_missing']\n",
    "    )\n",
    "    .assign(Vaccino=lambda x: x.variable.apply(str_rename))\n",
    "    .assign(order=lambda x: x.variable.apply(order_rename))\n",
    "    #.query('nome_area==\"Campania\"')\n",
    ")\n",
    "(\n",
    "    alt.Chart(bar_plt_df, title=plot_title)\n",
    "    .mark_bar()\n",
    "    .encode(\n",
    "        x=alt.X('value:Q', stack='zero', axis=alt.Axis(format='.0%'), title=''),\n",
    "        y=alt.Y('fascia_anagrafica:N', title=''),\n",
    "        color=alt.Color('Vaccino:N', sort=alt.EncodingSortField('order', order='ascending')),\n",
    "        order='order',\n",
    "        facet=alt.Facet('nome_area:N', columns=7, title=''),\n",
    "        tooltip=[\n",
    "            alt.Tooltip('fascia_anagrafica:N', title='Fascia anagrafica'),\n",
    "            alt.Tooltip('Vaccino:N', title='Vaccino'),\n",
    "            alt.Tooltip('value:Q', format='.1%', title='Popolazione vaccinata')\n",
    "        ]\n",
    "    )\n",
    "    .properties(width=120, height=120)\n",
    "    .configure_view(strokeOpacity=0)\n",
    ")"
   ]
  },
  {
   "cell_type": "markdown",
   "metadata": {},
   "source": [
    "# Maps"
   ]
  },
  {
   "cell_type": "code",
   "execution_count": 21,
   "metadata": {},
   "outputs": [
    {
     "data": {
      "text/html": [
       "<div>\n",
       "<style scoped>\n",
       "    .dataframe tbody tr th:only-of-type {\n",
       "        vertical-align: middle;\n",
       "    }\n",
       "\n",
       "    .dataframe tbody tr th {\n",
       "        vertical-align: top;\n",
       "    }\n",
       "\n",
       "    .dataframe thead th {\n",
       "        text-align: right;\n",
       "    }\n",
       "</style>\n",
       "<table border=\"1\" class=\"dataframe\">\n",
       "  <thead>\n",
       "    <tr style=\"text-align: right;\">\n",
       "      <th></th>\n",
       "      <th>area</th>\n",
       "      <th>nome_area</th>\n",
       "      <th>reg_istat_code_num</th>\n",
       "      <th>share_ciclo_completo</th>\n",
       "    </tr>\n",
       "  </thead>\n",
       "  <tbody>\n",
       "    <tr>\n",
       "      <td>0</td>\n",
       "      <td>ABR</td>\n",
       "      <td>Abruzzo</td>\n",
       "      <td>13</td>\n",
       "      <td>0.782015</td>\n",
       "    </tr>\n",
       "  </tbody>\n",
       "</table>\n",
       "</div>"
      ],
      "text/plain": [
       "  area nome_area  reg_istat_code_num  share_ciclo_completo\n",
       "0  ABR   Abruzzo                  13              0.782015"
      ]
     },
     "execution_count": 21,
     "metadata": {},
     "output_type": "execute_result"
    }
   ],
   "source": [
    "single_region_plot_df = (\n",
    "    regional_age_df\n",
    "    .groupby(['area', 'nome_area', 'reg_istat_code_num'])\n",
    "    [['ciclo_completo', 'totale_popolazione']]\n",
    "    .sum()\n",
    "    .reset_index()\n",
    "    .assign(share_ciclo_completo=lambda x: x.ciclo_completo/x.totale_popolazione)\n",
    "    .drop(['ciclo_completo', 'totale_popolazione'], axis=1)\n",
    ")\n",
    "single_region_plot_df.head(1)"
   ]
  },
  {
   "cell_type": "markdown",
   "metadata": {},
   "source": [
    "## Italy overall"
   ]
  },
  {
   "cell_type": "code",
   "execution_count": 22,
   "metadata": {},
   "outputs": [
    {
     "data": {
      "text/html": [
       "<div>\n",
       "<style scoped>\n",
       "    .dataframe tbody tr th:only-of-type {\n",
       "        vertical-align: middle;\n",
       "    }\n",
       "\n",
       "    .dataframe tbody tr th {\n",
       "        vertical-align: top;\n",
       "    }\n",
       "\n",
       "    .dataframe thead th {\n",
       "        text-align: right;\n",
       "    }\n",
       "</style>\n",
       "<table border=\"1\" class=\"dataframe\">\n",
       "  <thead>\n",
       "    <tr style=\"text-align: right;\">\n",
       "      <th></th>\n",
       "      <th>min</th>\n",
       "      <th>max</th>\n",
       "    </tr>\n",
       "  </thead>\n",
       "  <tbody>\n",
       "    <tr>\n",
       "      <td>share_ciclo_completo</td>\n",
       "      <td>0.72494</td>\n",
       "      <td>0.827507</td>\n",
       "    </tr>\n",
       "  </tbody>\n",
       "</table>\n",
       "</div>"
      ],
      "text/plain": [
       "                          min       max\n",
       "share_ciclo_completo  0.72494  0.827507"
      ]
     },
     "execution_count": 22,
     "metadata": {},
     "output_type": "execute_result"
    }
   ],
   "source": [
    "single_region_plot_df[['share_ciclo_completo']].describe().T[['min', 'max']]"
   ]
  },
  {
   "cell_type": "code",
   "execution_count": 23,
   "metadata": {},
   "outputs": [
    {
     "data": {
      "text/html": [
       "\n",
       "<div id=\"altair-viz-6814bb3058f147b8b77003b0161c3baf\"></div>\n",
       "<script type=\"text/javascript\">\n",
       "  (function(spec, embedOpt){\n",
       "    let outputDiv = document.currentScript.previousElementSibling;\n",
       "    if (outputDiv.id !== \"altair-viz-6814bb3058f147b8b77003b0161c3baf\") {\n",
       "      outputDiv = document.getElementById(\"altair-viz-6814bb3058f147b8b77003b0161c3baf\");\n",
       "    }\n",
       "    const paths = {\n",
       "      \"vega\": \"https://cdn.jsdelivr.net/npm//vega@5?noext\",\n",
       "      \"vega-lib\": \"https://cdn.jsdelivr.net/npm//vega-lib?noext\",\n",
       "      \"vega-lite\": \"https://cdn.jsdelivr.net/npm//vega-lite@4.8.1?noext\",\n",
       "      \"vega-embed\": \"https://cdn.jsdelivr.net/npm//vega-embed@6?noext\",\n",
       "    };\n",
       "\n",
       "    function loadScript(lib) {\n",
       "      return new Promise(function(resolve, reject) {\n",
       "        var s = document.createElement('script');\n",
       "        s.src = paths[lib];\n",
       "        s.async = true;\n",
       "        s.onload = () => resolve(paths[lib]);\n",
       "        s.onerror = () => reject(`Error loading script: ${paths[lib]}`);\n",
       "        document.getElementsByTagName(\"head\")[0].appendChild(s);\n",
       "      });\n",
       "    }\n",
       "\n",
       "    function showError(err) {\n",
       "      outputDiv.innerHTML = `<div class=\"error\" style=\"color:red;\">${err}</div>`;\n",
       "      throw err;\n",
       "    }\n",
       "\n",
       "    function displayChart(vegaEmbed) {\n",
       "      vegaEmbed(outputDiv, spec, embedOpt)\n",
       "        .catch(err => showError(`Javascript Error: ${err.message}<br>This usually means there's a typo in your chart specification. See the javascript console for the full traceback.`));\n",
       "    }\n",
       "\n",
       "    if(typeof define === \"function\" && define.amd) {\n",
       "      requirejs.config({paths});\n",
       "      require([\"vega-embed\"], displayChart, err => showError(`Error loading script: ${err.message}`));\n",
       "    } else if (typeof vegaEmbed === \"function\") {\n",
       "      displayChart(vegaEmbed);\n",
       "    } else {\n",
       "      loadScript(\"vega\")\n",
       "        .then(() => loadScript(\"vega-lite\"))\n",
       "        .then(() => loadScript(\"vega-embed\"))\n",
       "        .catch(showError)\n",
       "        .then(() => displayChart(vegaEmbed));\n",
       "    }\n",
       "  })({\"config\": {\"view\": {\"continuousWidth\": 400, \"continuousHeight\": 300, \"strokeOpacity\": 0}}, \"data\": {\"name\": \"data-6cbfcb6da79a3ae162e452b96056a483\"}, \"mark\": \"geoshape\", \"encoding\": {\"color\": {\"type\": \"quantitative\", \"field\": \"share_ciclo_completo\", \"legend\": {\"format\": \".0%\"}, \"scale\": {\"domain\": [0.7, 0.85]}, \"title\": \"Ciclo completo\"}, \"shape\": {\"type\": \"geojson\", \"field\": \"geo\"}, \"tooltip\": [{\"type\": \"nominal\", \"field\": \"nome_area\", \"title\": \"Region\"}, {\"type\": \"quantitative\", \"field\": \"share_ciclo_completo\", \"format\": \".1%\", \"title\": \"Ciclo completo\"}]}, \"height\": 500, \"title\": {\"text\": \"Popolazione con ciclo vaccinale completo. Media Italia: 79%\", \"align\": \"left\", \"anchor\": \"start\", \"fontSize\": 18, \"subtitle\": [\"Grafico @RaffoRaffo85 | Dati aggiornati 2021-10-23\"], \"subtitleColor\": \"grey\", \"subtitleFontSize\": 16}, \"transform\": [{\"lookup\": \"reg_istat_code_num\", \"as\": \"geo\", \"from\": {\"data\": {\"url\": \"https://raw.githubusercontent.com/openpolis/geojson-italy/master/topojson/limits_IT_regions.topo.json\", \"format\": {\"feature\": \"regions\", \"type\": \"topojson\"}}, \"key\": \"properties.reg_istat_code_num\"}}], \"width\": 400, \"$schema\": \"https://vega.github.io/schema/vega-lite/v4.8.1.json\", \"datasets\": {\"data-6cbfcb6da79a3ae162e452b96056a483\": [{\"area\": \"ABR\", \"nome_area\": \"Abruzzo\", \"reg_istat_code_num\": 13, \"share_ciclo_completo\": 0.7820151364008741}, {\"area\": \"BAS\", \"nome_area\": \"Basilicata\", \"reg_istat_code_num\": 17, \"share_ciclo_completo\": 0.8116213796852173}, {\"area\": \"CAL\", \"nome_area\": \"Calabria\", \"reg_istat_code_num\": 18, \"share_ciclo_completo\": 0.7494217963255364}, {\"area\": \"CAM\", \"nome_area\": \"Campania\", \"reg_istat_code_num\": 15, \"share_ciclo_completo\": 0.7579662981376462}, {\"area\": \"EMR\", \"nome_area\": \"Emilia-Romagna\", \"reg_istat_code_num\": 8, \"share_ciclo_completo\": 0.8147441476590637}, {\"area\": \"FVG\", \"nome_area\": \"Friuli-Venezia Giulia\", \"reg_istat_code_num\": 6, \"share_ciclo_completo\": 0.7585171924510546}, {\"area\": \"LAZ\", \"nome_area\": \"Lazio\", \"reg_istat_code_num\": 12, \"share_ciclo_completo\": 0.8275066910692948}, {\"area\": \"LIG\", \"nome_area\": \"Liguria\", \"reg_istat_code_num\": 7, \"share_ciclo_completo\": 0.7836631972480932}, {\"area\": \"LOM\", \"nome_area\": \"Lombardia\", \"reg_istat_code_num\": 3, \"share_ciclo_completo\": 0.8172980632010801}, {\"area\": \"MAR\", \"nome_area\": \"Marche\", \"reg_istat_code_num\": 11, \"share_ciclo_completo\": 0.775281252446986}, {\"area\": \"MOL\", \"nome_area\": \"Molise\", \"reg_istat_code_num\": 14, \"share_ciclo_completo\": 0.8155219031381143}, {\"area\": \"PIE\", \"nome_area\": \"Piemonte\", \"reg_istat_code_num\": 1, \"share_ciclo_completo\": 0.7636357294365753}, {\"area\": \"PUG\", \"nome_area\": \"Puglia\", \"reg_istat_code_num\": 16, \"share_ciclo_completo\": 0.8163669464030909}, {\"area\": \"SAR\", \"nome_area\": \"Sardegna\", \"reg_istat_code_num\": 20, \"share_ciclo_completo\": 0.8035162984913793}, {\"area\": \"SIC\", \"nome_area\": \"Sicilia\", \"reg_istat_code_num\": 19, \"share_ciclo_completo\": 0.7249400552607639}, {\"area\": \"TAA\", \"nome_area\": \"Trentino-Alto Adige/S\\u00fcdtirol\", \"reg_istat_code_num\": 4, \"share_ciclo_completo\": 0.7383987998394151}, {\"area\": \"TOS\", \"nome_area\": \"Toscana\", \"reg_istat_code_num\": 9, \"share_ciclo_completo\": 0.8215140961995546}, {\"area\": \"UMB\", \"nome_area\": \"Umbria\", \"reg_istat_code_num\": 10, \"share_ciclo_completo\": 0.800372969102268}, {\"area\": \"VDA\", \"nome_area\": \"Valle d'Aosta\", \"reg_istat_code_num\": 2, \"share_ciclo_completo\": 0.750022648620246}, {\"area\": \"VEN\", \"nome_area\": \"Veneto\", \"reg_istat_code_num\": 5, \"share_ciclo_completo\": 0.7768368805165152}]}}, {\"mode\": \"vega-lite\"});\n",
       "</script>"
      ],
      "text/plain": [
       "alt.Chart(...)"
      ]
     },
     "execution_count": 23,
     "metadata": {},
     "output_type": "execute_result"
    }
   ],
   "source": [
    "# The scale is fixed 6% to 8% so make sure it makes sense\n",
    "assert single_region_plot_df.share_ciclo_completo.min() >= 0.7009, f'{single_region_plot_df.share_ciclo_completo.min()}'\n",
    "assert single_region_plot_df.share_ciclo_completo.min() < 0.74, f'{single_region_plot_df.share_ciclo_completo.min()}'\n",
    "assert single_region_plot_df.share_ciclo_completo.max() <= 0.851, f'{single_region_plot_df.share_ciclo_completo.max()}'\n",
    "assert single_region_plot_df.share_ciclo_completo.max() > 0.78, f'{single_region_plot_df.share_ciclo_completo.max()}'\n",
    "plot_title = alt.TitleParams(\n",
    "    f\"Popolazione con ciclo vaccinale completo. Media Italia: {share_vax_italy:.0%}\",\n",
    "    fontSize=18,\n",
    "    subtitle=[FOOTNOTE],\n",
    "    subtitleColor='grey', subtitleFontSize=16,\n",
    "    align='left', anchor='start'\n",
    ")\n",
    "(\n",
    "    alt.Chart(single_region_plot_df, title=plot_title)\n",
    "    .mark_geoshape()\n",
    "    .encode(\n",
    "        shape='geo:G',\n",
    "        color=alt.Color(\n",
    "            field='share_ciclo_completo',\n",
    "            type='quantitative',\n",
    "            title='Ciclo completo',\n",
    "            scale=alt.Scale(domain=[.7, .85]),\n",
    "            legend=alt.Legend(format=\".0%\")\n",
    "            # format='.0%'\n",
    "        ),\n",
    "        tooltip=[\n",
    "            alt.Tooltip(field='nome_area', type='nominal', title='Region'),\n",
    "            alt.Tooltip(field='share_ciclo_completo', type='quantitative', format='.1%', title='Ciclo completo')\n",
    "        ],\n",
    "    )\n",
    "    .transform_lookup(\n",
    "        lookup='reg_istat_code_num',\n",
    "        from_=alt.LookupData(data=regions, key='properties.reg_istat_code_num'),\n",
    "        as_='geo'\n",
    "    )\n",
    "    .properties(width=400, height=500)\n",
    "    .configure_view(strokeOpacity=0)\n",
    ")"
   ]
  },
  {
   "cell_type": "markdown",
   "metadata": {},
   "source": [
    "## Week over week overall"
   ]
  },
  {
   "cell_type": "code",
   "execution_count": 24,
   "metadata": {
    "scrolled": false
   },
   "outputs": [
    {
     "data": {
      "text/html": [
       "\n",
       "<div id=\"altair-viz-a754f87307864cd3a50490d72dcf5392\"></div>\n",
       "<script type=\"text/javascript\">\n",
       "  (function(spec, embedOpt){\n",
       "    let outputDiv = document.currentScript.previousElementSibling;\n",
       "    if (outputDiv.id !== \"altair-viz-a754f87307864cd3a50490d72dcf5392\") {\n",
       "      outputDiv = document.getElementById(\"altair-viz-a754f87307864cd3a50490d72dcf5392\");\n",
       "    }\n",
       "    const paths = {\n",
       "      \"vega\": \"https://cdn.jsdelivr.net/npm//vega@5?noext\",\n",
       "      \"vega-lib\": \"https://cdn.jsdelivr.net/npm//vega-lib?noext\",\n",
       "      \"vega-lite\": \"https://cdn.jsdelivr.net/npm//vega-lite@4.8.1?noext\",\n",
       "      \"vega-embed\": \"https://cdn.jsdelivr.net/npm//vega-embed@6?noext\",\n",
       "    };\n",
       "\n",
       "    function loadScript(lib) {\n",
       "      return new Promise(function(resolve, reject) {\n",
       "        var s = document.createElement('script');\n",
       "        s.src = paths[lib];\n",
       "        s.async = true;\n",
       "        s.onload = () => resolve(paths[lib]);\n",
       "        s.onerror = () => reject(`Error loading script: ${paths[lib]}`);\n",
       "        document.getElementsByTagName(\"head\")[0].appendChild(s);\n",
       "      });\n",
       "    }\n",
       "\n",
       "    function showError(err) {\n",
       "      outputDiv.innerHTML = `<div class=\"error\" style=\"color:red;\">${err}</div>`;\n",
       "      throw err;\n",
       "    }\n",
       "\n",
       "    function displayChart(vegaEmbed) {\n",
       "      vegaEmbed(outputDiv, spec, embedOpt)\n",
       "        .catch(err => showError(`Javascript Error: ${err.message}<br>This usually means there's a typo in your chart specification. See the javascript console for the full traceback.`));\n",
       "    }\n",
       "\n",
       "    if(typeof define === \"function\" && define.amd) {\n",
       "      requirejs.config({paths});\n",
       "      require([\"vega-embed\"], displayChart, err => showError(`Error loading script: ${err.message}`));\n",
       "    } else if (typeof vegaEmbed === \"function\") {\n",
       "      displayChart(vegaEmbed);\n",
       "    } else {\n",
       "      loadScript(\"vega\")\n",
       "        .then(() => loadScript(\"vega-lite\"))\n",
       "        .then(() => loadScript(\"vega-embed\"))\n",
       "        .catch(showError)\n",
       "        .then(() => displayChart(vegaEmbed));\n",
       "    }\n",
       "  })({\"config\": {\"view\": {\"continuousWidth\": 400, \"continuousHeight\": 300, \"strokeOpacity\": 0}}, \"data\": {\"name\": \"data-d4903a47045a3c9a3676a3a842aba2d3\"}, \"mark\": \"geoshape\", \"encoding\": {\"color\": {\"type\": \"quantitative\", \"field\": \"share_pop_getting_shot\", \"legend\": {\"format\": \".1%\"}, \"scale\": {\"domain\": [0.005, 0.025]}, \"title\": \"Vaccini, %\"}, \"facet\": {\"type\": \"nominal\", \"field\": \"w_cohort\", \"header\": {\"labelFontSize\": 15, \"labelFontWeight\": \"bold\", \"title\": \"\"}}, \"shape\": {\"type\": \"geojson\", \"field\": \"geo\"}, \"tooltip\": [{\"type\": \"nominal\", \"field\": \"w_cohort\", \"title\": \"Settimana\"}, {\"type\": \"nominal\", \"field\": \"nome_area\", \"title\": \"Region\"}, {\"type\": \"quantitative\", \"field\": \"share_pop_getting_shot\", \"format\": \".1%\", \"title\": \"Ciclo completo\"}]}, \"height\": 300, \"title\": {\"text\": \"Percentuale popolazione ricevente 1a o 2a dose nelle ultime 2 settimane\", \"align\": \"left\", \"anchor\": \"start\", \"fontSize\": 18, \"subtitle\": [\"Grafico @RaffoRaffo85 | Dati aggiornati 2021-10-23\"], \"subtitleColor\": \"grey\", \"subtitleFontSize\": 16}, \"transform\": [{\"lookup\": \"reg_istat_code_num\", \"as\": \"geo\", \"from\": {\"data\": {\"url\": \"https://raw.githubusercontent.com/openpolis/geojson-italy/master/topojson/limits_IT_regions.topo.json\", \"format\": {\"feature\": \"regions\", \"type\": \"topojson\"}}, \"key\": \"properties.reg_istat_code_num\"}}], \"width\": 200, \"$schema\": \"https://vega.github.io/schema/vega-lite/v4.8.1.json\", \"datasets\": {\"data-d4903a47045a3c9a3676a3a842aba2d3\": [{\"reg_istat_code_num\": 1, \"nome_area\": \"Piemonte\", \"area\": \"PIE\", \"w_cohort\": \"Ott-09 - Ott-15\", \"share_pop_getting_shot\": 0.01988292718199041, \"lat\": 45.0732745, \"long\": 7.680687483}, {\"reg_istat_code_num\": 1, \"nome_area\": \"Piemonte\", \"area\": \"PIE\", \"w_cohort\": \"Ott-16 - Ott-22\", \"share_pop_getting_shot\": 0.016728107278643847, \"lat\": 45.0732745, \"long\": 7.680687483}, {\"reg_istat_code_num\": 2, \"nome_area\": \"Valle d'Aosta\", \"area\": \"VDA\", \"w_cohort\": \"Ott-09 - Ott-15\", \"share_pop_getting_shot\": 0.011623271910275226, \"lat\": 45.73750286, \"long\": 7.320149366}, {\"reg_istat_code_num\": 2, \"nome_area\": \"Valle d'Aosta\", \"area\": \"VDA\", \"w_cohort\": \"Ott-16 - Ott-22\", \"share_pop_getting_shot\": 0.01596274754941929, \"lat\": 45.73750286, \"long\": 7.320149366}, {\"reg_istat_code_num\": 3, \"nome_area\": \"Lombardia\", \"area\": \"LOM\", \"w_cohort\": \"Ott-09 - Ott-15\", \"share_pop_getting_shot\": 0.014291856948627871, \"lat\": 45.46679409, \"long\": 9.190347404}, {\"reg_istat_code_num\": 3, \"nome_area\": \"Lombardia\", \"area\": \"LOM\", \"w_cohort\": \"Ott-16 - Ott-22\", \"share_pop_getting_shot\": 0.012324041906803692, \"lat\": 45.46679409, \"long\": 9.190347404}, {\"reg_istat_code_num\": 4, \"nome_area\": \"Trentino-Alto Adige/S\\u00fcdtirol\", \"area\": \"TAA\", \"w_cohort\": \"Ott-09 - Ott-15\", \"share_pop_getting_shot\": 0.02036047076721533, \"lat\": 46.49933453, \"long\": 11.35662422}, {\"reg_istat_code_num\": 4, \"nome_area\": \"Trentino-Alto Adige/S\\u00fcdtirol\", \"area\": \"TAA\", \"w_cohort\": \"Ott-16 - Ott-22\", \"share_pop_getting_shot\": 0.017149829906818518, \"lat\": 46.49933453, \"long\": 11.35662422}, {\"reg_istat_code_num\": 5, \"nome_area\": \"Veneto\", \"area\": \"VEN\", \"w_cohort\": \"Ott-09 - Ott-15\", \"share_pop_getting_shot\": 0.016648741615809325, \"lat\": 45.43490485, \"long\": 12.33845213}, {\"reg_istat_code_num\": 5, \"nome_area\": \"Veneto\", \"area\": \"VEN\", \"w_cohort\": \"Ott-16 - Ott-22\", \"share_pop_getting_shot\": 0.013946868096336789, \"lat\": 45.43490485, \"long\": 12.33845213}, {\"reg_istat_code_num\": 6, \"nome_area\": \"Friuli-Venezia Giulia\", \"area\": \"FVG\", \"w_cohort\": \"Ott-09 - Ott-15\", \"share_pop_getting_shot\": 0.01904880935751623, \"lat\": 45.6494354, \"long\": 13.76813649}, {\"reg_istat_code_num\": 6, \"nome_area\": \"Friuli-Venezia Giulia\", \"area\": \"FVG\", \"w_cohort\": \"Ott-16 - Ott-22\", \"share_pop_getting_shot\": 0.017249428388680994, \"lat\": 45.6494354, \"long\": 13.76813649}, {\"reg_istat_code_num\": 7, \"nome_area\": \"Liguria\", \"area\": \"LIG\", \"w_cohort\": \"Ott-09 - Ott-15\", \"share_pop_getting_shot\": 0.018501342654984116, \"lat\": 44.41149315, \"long\": 8.9326992}, {\"reg_istat_code_num\": 7, \"nome_area\": \"Liguria\", \"area\": \"LIG\", \"w_cohort\": \"Ott-16 - Ott-22\", \"share_pop_getting_shot\": 0.015956086107129435, \"lat\": 44.41149315, \"long\": 8.9326992}, {\"reg_istat_code_num\": 8, \"nome_area\": \"Emilia-Romagna\", \"area\": \"EMR\", \"w_cohort\": \"Ott-09 - Ott-15\", \"share_pop_getting_shot\": 0.019032362945178072, \"lat\": 44.49436681, \"long\": 11.3417208}, {\"reg_istat_code_num\": 8, \"nome_area\": \"Emilia-Romagna\", \"area\": \"EMR\", \"w_cohort\": \"Ott-16 - Ott-22\", \"share_pop_getting_shot\": 0.014358493397358944, \"lat\": 44.49436681, \"long\": 11.3417208}, {\"reg_istat_code_num\": 9, \"nome_area\": \"Toscana\", \"area\": \"TOS\", \"w_cohort\": \"Ott-09 - Ott-15\", \"share_pop_getting_shot\": 0.023690446577028318, \"lat\": 43.76923077, \"long\": 11.25588885}, {\"reg_istat_code_num\": 9, \"nome_area\": \"Toscana\", \"area\": \"TOS\", \"w_cohort\": \"Ott-16 - Ott-22\", \"share_pop_getting_shot\": 0.017012798280391005, \"lat\": 43.76923077, \"long\": 11.25588885}, {\"reg_istat_code_num\": 10, \"nome_area\": \"Umbria\", \"area\": \"UMB\", \"w_cohort\": \"Ott-09 - Ott-15\", \"share_pop_getting_shot\": 0.011512953970956993, \"lat\": 43.10675841, \"long\": 12.38824698}, {\"reg_istat_code_num\": 10, \"nome_area\": \"Umbria\", \"area\": \"UMB\", \"w_cohort\": \"Ott-16 - Ott-22\", \"share_pop_getting_shot\": 0.010621016328152082, \"lat\": 43.10675841, \"long\": 12.38824698}, {\"reg_istat_code_num\": 11, \"nome_area\": \"Marche\", \"area\": \"MAR\", \"w_cohort\": \"Ott-09 - Ott-15\", \"share_pop_getting_shot\": 0.016060277633652083, \"lat\": 43.61675973, \"long\": 13.5188753}, {\"reg_istat_code_num\": 11, \"nome_area\": \"Marche\", \"area\": \"MAR\", \"w_cohort\": \"Ott-16 - Ott-22\", \"share_pop_getting_shot\": 0.014052194072787174, \"lat\": 43.61675973, \"long\": 13.5188753}, {\"reg_istat_code_num\": 12, \"nome_area\": \"Lazio\", \"area\": \"LAZ\", \"w_cohort\": \"Ott-09 - Ott-15\", \"share_pop_getting_shot\": 0.01514919865496734, \"lat\": 41.89277044, \"long\": 12.48366722}, {\"reg_istat_code_num\": 12, \"nome_area\": \"Lazio\", \"area\": \"LAZ\", \"w_cohort\": \"Ott-16 - Ott-22\", \"share_pop_getting_shot\": 0.012810214135586891, \"lat\": 41.89277044, \"long\": 12.48366722}, {\"reg_istat_code_num\": 13, \"nome_area\": \"Abruzzo\", \"area\": \"ABR\", \"w_cohort\": \"Ott-09 - Ott-15\", \"share_pop_getting_shot\": 0.013424766300901152, \"lat\": 42.35122196, \"long\": 13.39843823}, {\"reg_istat_code_num\": 13, \"nome_area\": \"Abruzzo\", \"area\": \"ABR\", \"w_cohort\": \"Ott-16 - Ott-22\", \"share_pop_getting_shot\": 0.011252209985179852, \"lat\": 42.35122196, \"long\": 13.39843823}, {\"reg_istat_code_num\": 14, \"nome_area\": \"Molise\", \"area\": \"MOL\", \"w_cohort\": \"Ott-09 - Ott-15\", \"share_pop_getting_shot\": 0.011301894869327558, \"lat\": 41.55774754, \"long\": 14.65916051}, {\"reg_istat_code_num\": 14, \"nome_area\": \"Molise\", \"area\": \"MOL\", \"w_cohort\": \"Ott-16 - Ott-22\", \"share_pop_getting_shot\": 0.008554169700384535, \"lat\": 41.55774754, \"long\": 14.65916051}, {\"reg_istat_code_num\": 15, \"nome_area\": \"Campania\", \"area\": \"CAM\", \"w_cohort\": \"Ott-09 - Ott-15\", \"share_pop_getting_shot\": 0.018296757645982924, \"lat\": 40.83956555, \"long\": 14.25084984}, {\"reg_istat_code_num\": 15, \"nome_area\": \"Campania\", \"area\": \"CAM\", \"w_cohort\": \"Ott-16 - Ott-22\", \"share_pop_getting_shot\": 0.015361808278316501, \"lat\": 40.83956555, \"long\": 14.25084984}, {\"reg_istat_code_num\": 16, \"nome_area\": \"Puglia\", \"area\": \"PUG\", \"w_cohort\": \"Ott-09 - Ott-15\", \"share_pop_getting_shot\": 0.013013804666392128, \"lat\": 41.12559576, \"long\": 16.86736689}, {\"reg_istat_code_num\": 16, \"nome_area\": \"Puglia\", \"area\": \"PUG\", \"w_cohort\": \"Ott-16 - Ott-22\", \"share_pop_getting_shot\": 0.01149563010403261, \"lat\": 41.12559576, \"long\": 16.86736689}, {\"reg_istat_code_num\": 17, \"nome_area\": \"Basilicata\", \"area\": \"BAS\", \"w_cohort\": \"Ott-09 - Ott-15\", \"share_pop_getting_shot\": 0.015547171946387111, \"lat\": 40.63947052, \"long\": 15.80514834}, {\"reg_istat_code_num\": 17, \"nome_area\": \"Basilicata\", \"area\": \"BAS\", \"w_cohort\": \"Ott-16 - Ott-22\", \"share_pop_getting_shot\": 0.010988500265720446, \"lat\": 40.63947052, \"long\": 15.80514834}, {\"reg_istat_code_num\": 18, \"nome_area\": \"Calabria\", \"area\": \"CAL\", \"w_cohort\": \"Ott-09 - Ott-15\", \"share_pop_getting_shot\": 0.02043065225162098, \"lat\": 38.90597598, \"long\": 16.59440194}, {\"reg_istat_code_num\": 18, \"nome_area\": \"Calabria\", \"area\": \"CAL\", \"w_cohort\": \"Ott-16 - Ott-22\", \"share_pop_getting_shot\": 0.016138214942629413, \"lat\": 38.90597598, \"long\": 16.59440194}, {\"reg_istat_code_num\": 19, \"nome_area\": \"Sicilia\", \"area\": \"SIC\", \"w_cohort\": \"Ott-09 - Ott-15\", \"share_pop_getting_shot\": 0.022467975925155596, \"lat\": 38.11569725, \"long\": 13.362356699999998}, {\"reg_istat_code_num\": 19, \"nome_area\": \"Sicilia\", \"area\": \"SIC\", \"w_cohort\": \"Ott-16 - Ott-22\", \"share_pop_getting_shot\": 0.01639876131115237, \"lat\": 38.11569725, \"long\": 13.362356699999998}, {\"reg_istat_code_num\": 20, \"nome_area\": \"Sardegna\", \"area\": \"SAR\", \"w_cohort\": \"Ott-09 - Ott-15\", \"share_pop_getting_shot\": 0.015424299568965518, \"lat\": 39.21531192, \"long\": 9.110616306}, {\"reg_istat_code_num\": 20, \"nome_area\": \"Sardegna\", \"area\": \"SAR\", \"w_cohort\": \"Ott-16 - Ott-22\", \"share_pop_getting_shot\": 0.012404364224137931, \"lat\": 39.21531192, \"long\": 9.110616306}]}}, {\"mode\": \"vega-lite\"});\n",
       "</script>"
      ],
      "text/plain": [
       "alt.Chart(...)"
      ]
     },
     "execution_count": 24,
     "metadata": {},
     "output_type": "execute_result"
    }
   ],
   "source": [
    "# The scale is fixed 1% to 5% so make sure it makes sense\n",
    "assert regional_wow_df.share_pop_getting_shot.max() <= 0.025, 'Change scale! max={:.2}'.format(regional_wow_df.share_pop_getting_shot.max())\n",
    "assert regional_wow_df.share_pop_getting_shot.min() >= 0.0074, 'Change scale! min={:.2}'.format(regional_wow_df.share_pop_getting_shot.min())\n",
    "assert regional_wow_df.share_pop_getting_shot.max() > 0.018, 'Change scale! max={:.2}'.format(regional_wow_df.share_pop_getting_shot.max())\n",
    "assert regional_wow_df.share_pop_getting_shot.min() < 0.0087, 'Change scale! min={:.2}'.format(regional_wow_df.share_pop_getting_shot.min())\n",
    "\n",
    "\n",
    "plot_title = alt.TitleParams(\n",
    "    \"Percentuale popolazione ricevente 1a o 2a dose nelle ultime 2 settimane\",\n",
    "    fontSize=18,\n",
    "    subtitle=[FOOTNOTE],\n",
    "    subtitleColor='grey', subtitleFontSize=16,\n",
    "    align='left', anchor='start'\n",
    ")\n",
    "(\n",
    "    alt.Chart(regional_wow_df, title=plot_title)\n",
    "    .mark_geoshape()\n",
    "    .encode(\n",
    "        shape='geo:G',\n",
    "        color=alt.Color(\n",
    "            field='share_pop_getting_shot',\n",
    "            type='quantitative',\n",
    "            title='Vaccini, %',\n",
    "            scale=alt.Scale(domain=[.005, .025]),\n",
    "            legend=alt.Legend(format=\".1%\")\n",
    "        ),\n",
    "        facet=alt.Facet('w_cohort:N', header=alt.Header(labelFontSize=15, labelFontWeight='bold', title='')),\n",
    "        tooltip=[\n",
    "            alt.Tooltip(field='w_cohort', type='nominal', title='Settimana'),\n",
    "            alt.Tooltip(field='nome_area', type='nominal', title='Region'),\n",
    "            alt.Tooltip(field='share_pop_getting_shot', type='quantitative', format='.1%', title='Ciclo completo')\n",
    "        ],\n",
    "    )\n",
    "    .transform_lookup(\n",
    "        lookup='reg_istat_code_num',\n",
    "        from_=alt.LookupData(data=regions, key='properties.reg_istat_code_num'),\n",
    "        as_='geo'\n",
    "    )\n",
    "    .properties(width=200, height=300)\n",
    "    .configure_view(strokeOpacity=0)\n",
    ")"
   ]
  },
  {
   "cell_type": "markdown",
   "metadata": {},
   "source": [
    "## Italy per age"
   ]
  },
  {
   "cell_type": "code",
   "execution_count": 25,
   "metadata": {},
   "outputs": [
    {
     "data": {
      "text/html": [
       "\n",
       "<div id=\"altair-viz-a71a07a6570d499080067541e50d6586\"></div>\n",
       "<script type=\"text/javascript\">\n",
       "  (function(spec, embedOpt){\n",
       "    let outputDiv = document.currentScript.previousElementSibling;\n",
       "    if (outputDiv.id !== \"altair-viz-a71a07a6570d499080067541e50d6586\") {\n",
       "      outputDiv = document.getElementById(\"altair-viz-a71a07a6570d499080067541e50d6586\");\n",
       "    }\n",
       "    const paths = {\n",
       "      \"vega\": \"https://cdn.jsdelivr.net/npm//vega@5?noext\",\n",
       "      \"vega-lib\": \"https://cdn.jsdelivr.net/npm//vega-lib?noext\",\n",
       "      \"vega-lite\": \"https://cdn.jsdelivr.net/npm//vega-lite@4.8.1?noext\",\n",
       "      \"vega-embed\": \"https://cdn.jsdelivr.net/npm//vega-embed@6?noext\",\n",
       "    };\n",
       "\n",
       "    function loadScript(lib) {\n",
       "      return new Promise(function(resolve, reject) {\n",
       "        var s = document.createElement('script');\n",
       "        s.src = paths[lib];\n",
       "        s.async = true;\n",
       "        s.onload = () => resolve(paths[lib]);\n",
       "        s.onerror = () => reject(`Error loading script: ${paths[lib]}`);\n",
       "        document.getElementsByTagName(\"head\")[0].appendChild(s);\n",
       "      });\n",
       "    }\n",
       "\n",
       "    function showError(err) {\n",
       "      outputDiv.innerHTML = `<div class=\"error\" style=\"color:red;\">${err}</div>`;\n",
       "      throw err;\n",
       "    }\n",
       "\n",
       "    function displayChart(vegaEmbed) {\n",
       "      vegaEmbed(outputDiv, spec, embedOpt)\n",
       "        .catch(err => showError(`Javascript Error: ${err.message}<br>This usually means there's a typo in your chart specification. See the javascript console for the full traceback.`));\n",
       "    }\n",
       "\n",
       "    if(typeof define === \"function\" && define.amd) {\n",
       "      requirejs.config({paths});\n",
       "      require([\"vega-embed\"], displayChart, err => showError(`Error loading script: ${err.message}`));\n",
       "    } else if (typeof vegaEmbed === \"function\") {\n",
       "      displayChart(vegaEmbed);\n",
       "    } else {\n",
       "      loadScript(\"vega\")\n",
       "        .then(() => loadScript(\"vega-lite\"))\n",
       "        .then(() => loadScript(\"vega-embed\"))\n",
       "        .catch(showError)\n",
       "        .then(() => displayChart(vegaEmbed));\n",
       "    }\n",
       "  })({\"config\": {\"view\": {\"continuousWidth\": 400, \"continuousHeight\": 300, \"strokeOpacity\": 0}, \"legend\": {\"gradientLength\": 150, \"gradientThickness\": 10}}, \"data\": {\"name\": \"data-d302a121bfee8c51e878d96696a10041\"}, \"mark\": \"geoshape\", \"encoding\": {\"color\": {\"type\": \"quantitative\", \"field\": \"share_ciclo_completo\", \"legend\": {\"clipHeight\": 0.2, \"format\": \".0%\"}, \"title\": \"Ciclo completo\"}, \"facet\": {\"type\": \"nominal\", \"columns\": 4, \"field\": \"cohort\", \"header\": {\"labelFontSize\": 15, \"labelFontWeight\": \"bold\", \"title\": \"\"}}, \"shape\": {\"type\": \"geojson\", \"field\": \"geo\"}, \"tooltip\": [{\"type\": \"nominal\", \"field\": \"nome_area\", \"title\": \"Region\"}, {\"type\": \"nominal\", \"field\": \"fascia_anagrafica\", \"title\": \"Fascia anagrafica\"}, {\"type\": \"quantitative\", \"field\": \"share_ciclo_completo\", \"format\": \".0%\", \"title\": \"Ciclo completo\"}]}, \"height\": 200, \"resolve\": {\"scale\": {\"color\": \"independent\"}}, \"title\": {\"text\": \"Percentuale di popolazione con ciclo vaccinale completo per fascia anagrafica (media Italia: 79%)\", \"align\": \"left\", \"anchor\": \"start\", \"fontSize\": 18, \"subtitle\": [\"Grafico @RaffoRaffo85 | Dati aggiornati 2021-10-23\"], \"subtitleColor\": \"grey\", \"subtitleFontSize\": 16}, \"transform\": [{\"lookup\": \"reg_istat_code_num\", \"as\": \"geo\", \"from\": {\"data\": {\"url\": \"https://raw.githubusercontent.com/openpolis/geojson-italy/master/topojson/limits_IT_regions.topo.json\", \"format\": {\"feature\": \"regions\", \"type\": \"topojson\"}}, \"key\": \"properties.reg_istat_code_num\"}}], \"width\": 130, \"$schema\": \"https://vega.github.io/schema/vega-lite/v4.8.1.json\", \"datasets\": {\"data-d302a121bfee8c51e878d96696a10041\": [{\"fascia_anagrafica\": \"12-19\", \"area\": \"ABR\", \"reg_istat_code_num\": 13, \"nome_area\": \"Abruzzo\", \"ciclo_completo\": 60943, \"solo_prima\": 66753, \"in_attesa_seconda\": 5904, \"totale_popolazione\": 94727, \"share_ciclo_completo\": 0.6433540595606322, \"share_solo_prima\": 0.06232647502823904, \"share_missing\": 0.29431946541112874, \"lat\": 42.35122196, \"long\": 13.39843823, \"cohort\": \"12-19 | Media Italia: 64%\"}, {\"fascia_anagrafica\": \"12-19\", \"area\": \"BAS\", \"reg_istat_code_num\": 17, \"nome_area\": \"Basilicata\", \"ciclo_completo\": 28654, \"solo_prima\": 29249, \"in_attesa_seconda\": 2174, \"totale_popolazione\": 40947, \"share_ciclo_completo\": 0.6997826458592815, \"share_solo_prima\": 0.0530930226878648, \"share_missing\": 0.24712433145285367, \"lat\": 40.63947052, \"long\": 15.80514834, \"cohort\": \"12-19 | Media Italia: 64%\"}, {\"fascia_anagrafica\": \"12-19\", \"area\": \"CAL\", \"reg_istat_code_num\": 18, \"nome_area\": \"Calabria\", \"ciclo_completo\": 87728, \"solo_prima\": 95279, \"in_attesa_seconda\": 8139, \"totale_popolazione\": 147409, \"share_ciclo_completo\": 0.5951332686606652, \"share_solo_prima\": 0.05521372507784464, \"share_missing\": 0.3496530062614902, \"lat\": 38.90597598, \"long\": 16.59440194, \"cohort\": \"12-19 | Media Italia: 64%\"}, {\"fascia_anagrafica\": \"12-19\", \"area\": \"CAM\", \"reg_istat_code_num\": 15, \"nome_area\": \"Campania\", \"ciclo_completo\": 311391, \"solo_prima\": 317862, \"in_attesa_seconda\": 27233, \"totale_popolazione\": 506070, \"share_ciclo_completo\": 0.6153121109727904, \"share_solo_prima\": 0.05381271365621357, \"share_missing\": 0.3308751753709961, \"lat\": 40.83956555, \"long\": 14.25084984, \"cohort\": \"12-19 | Media Italia: 64%\"}, {\"fascia_anagrafica\": \"12-19\", \"area\": \"EMR\", \"reg_istat_code_num\": 8, \"nome_area\": \"Emilia-Romagna\", \"ciclo_completo\": 215223, \"solo_prima\": 231805, \"in_attesa_seconda\": 17604, \"totale_popolazione\": 327410, \"share_ciclo_completo\": 0.6573501114810176, \"share_solo_prima\": 0.0537674475428362, \"share_missing\": 0.2888824409761462, \"lat\": 44.49436681, \"long\": 11.3417208, \"cohort\": \"12-19 | Media Italia: 64%\"}, {\"fascia_anagrafica\": \"12-19\", \"area\": \"FVG\", \"reg_istat_code_num\": 6, \"nome_area\": \"Friuli-Venezia Giulia\", \"ciclo_completo\": 49915, \"solo_prima\": 55093, \"in_attesa_seconda\": 5188, \"totale_popolazione\": 85565, \"share_ciclo_completo\": 0.5833576812949219, \"share_solo_prima\": 0.060632267866534216, \"share_missing\": 0.35601005083854387, \"lat\": 45.6494354, \"long\": 13.76813649, \"cohort\": \"12-19 | Media Italia: 64%\"}, {\"fascia_anagrafica\": \"12-19\", \"area\": \"LAZ\", \"reg_istat_code_num\": 12, \"nome_area\": \"Lazio\", \"ciclo_completo\": 277914, \"solo_prima\": 295787, \"in_attesa_seconda\": 20706, \"totale_popolazione\": 431221, \"share_ciclo_completo\": 0.6444815999220818, \"share_solo_prima\": 0.04801714202230411, \"share_missing\": 0.3075012580556141, \"lat\": 41.89277044, \"long\": 12.48366722, \"cohort\": \"12-19 | Media Italia: 64%\"}, {\"fascia_anagrafica\": \"12-19\", \"area\": \"LIG\", \"reg_istat_code_num\": 7, \"nome_area\": \"Liguria\", \"ciclo_completo\": 60714, \"solo_prima\": 63323, \"in_attesa_seconda\": 4591, \"totale_popolazione\": 104067, \"share_ciclo_completo\": 0.5834126091844677, \"share_solo_prima\": 0.044115810007014714, \"share_missing\": 0.3724715808085176, \"lat\": 44.41149315, \"long\": 8.9326992, \"cohort\": \"12-19 | Media Italia: 64%\"}, {\"fascia_anagrafica\": \"12-19\", \"area\": \"LOM\", \"reg_istat_code_num\": 3, \"nome_area\": \"Lombardia\", \"ciclo_completo\": 553879, \"solo_prima\": 591098, \"in_attesa_seconda\": 37373, \"totale_popolazione\": 794486, \"share_ciclo_completo\": 0.6971538831395393, \"share_solo_prima\": 0.04704047648416712, \"share_missing\": 0.2558056403762936, \"lat\": 45.46679409, \"long\": 9.190347404, \"cohort\": \"12-19 | Media Italia: 64%\"}, {\"fascia_anagrafica\": \"12-19\", \"area\": \"MAR\", \"reg_istat_code_num\": 11, \"nome_area\": \"Marche\", \"ciclo_completo\": 64207, \"solo_prima\": 69215, \"in_attesa_seconda\": 5036, \"totale_popolazione\": 113059, \"share_ciclo_completo\": 0.5679070219973642, \"share_solo_prima\": 0.044543114656949025, \"share_missing\": 0.38754986334568675, \"lat\": 43.61675973, \"long\": 13.5188753, \"cohort\": \"12-19 | Media Italia: 64%\"}, {\"fascia_anagrafica\": \"12-19\", \"area\": \"MOL\", \"reg_istat_code_num\": 14, \"nome_area\": \"Molise\", \"ciclo_completo\": 14467, \"solo_prima\": 15857, \"in_attesa_seconda\": 1408, \"totale_popolazione\": 20497, \"share_ciclo_completo\": 0.7058106064302093, \"share_solo_prima\": 0.06869297946040884, \"share_missing\": 0.22549641410938184, \"lat\": 41.55774754, \"long\": 14.65916051, \"cohort\": \"12-19 | Media Italia: 64%\"}, {\"fascia_anagrafica\": \"12-19\", \"area\": \"PIE\", \"reg_istat_code_num\": 1, \"nome_area\": \"Piemonte\", \"ciclo_completo\": 185879, \"solo_prima\": 207689, \"in_attesa_seconda\": 22124, \"totale_popolazione\": 310481, \"share_ciclo_completo\": 0.5986807566324509, \"share_solo_prima\": 0.071257178378065, \"share_missing\": 0.3300620649894841, \"lat\": 45.0732745, \"long\": 7.680687483, \"cohort\": \"12-19 | Media Italia: 64%\"}, {\"fascia_anagrafica\": \"12-19\", \"area\": \"PUG\", \"reg_istat_code_num\": 16, \"nome_area\": \"Puglia\", \"ciclo_completo\": 225113, \"solo_prima\": 240741, \"in_attesa_seconda\": 16538, \"totale_popolazione\": 321188, \"share_ciclo_completo\": 0.7008761223956063, \"share_solo_prima\": 0.05149009302962751, \"share_missing\": 0.24763378457476623, \"lat\": 41.12559576, \"long\": 16.86736689, \"cohort\": \"12-19 | Media Italia: 64%\"}, {\"fascia_anagrafica\": \"12-19\", \"area\": \"SAR\", \"reg_istat_code_num\": 20, \"nome_area\": \"Sardegna\", \"ciclo_completo\": 78846, \"solo_prima\": 85180, \"in_attesa_seconda\": 6337, \"totale_popolazione\": 109403, \"share_ciclo_completo\": 0.7206932168222078, \"share_solo_prima\": 0.057923457309214554, \"share_missing\": 0.22138332586857767, \"lat\": 39.21531192, \"long\": 9.110616306, \"cohort\": \"12-19 | Media Italia: 64%\"}, {\"fascia_anagrafica\": \"12-19\", \"area\": \"SIC\", \"reg_istat_code_num\": 19, \"nome_area\": \"Sicilia\", \"ciclo_completo\": 231569, \"solo_prima\": 247134, \"in_attesa_seconda\": 24608, \"totale_popolazione\": 406593, \"share_ciclo_completo\": 0.5695351371027046, \"share_solo_prima\": 0.06052243890081728, \"share_missing\": 0.3699424239964781, \"lat\": 38.11569725, \"long\": 13.362356699999998, \"cohort\": \"12-19 | Media Italia: 64%\"}, {\"fascia_anagrafica\": \"12-19\", \"area\": \"TAA\", \"reg_istat_code_num\": 4, \"nome_area\": \"Trentino-Alto Adige/S\\u00fcdtirol\", \"ciclo_completo\": 47793, \"solo_prima\": 54690, \"in_attesa_seconda\": 7189, \"totale_popolazione\": 89804, \"share_ciclo_completo\": 0.5321923299630306, \"share_solo_prima\": 0.08005211349160393, \"share_missing\": 0.38775555654536553, \"lat\": 46.49933453, \"long\": 11.35662422, \"cohort\": \"12-19 | Media Italia: 64%\"}, {\"fascia_anagrafica\": \"12-19\", \"area\": \"TOS\", \"reg_istat_code_num\": 9, \"nome_area\": \"Toscana\", \"ciclo_completo\": 180819, \"solo_prima\": 197843, \"in_attesa_seconda\": 17051, \"totale_popolazione\": 270353, \"share_ciclo_completo\": 0.6688255724922602, \"share_solo_prima\": 0.0630693944583563, \"share_missing\": 0.26810503304938355, \"lat\": 43.76923077, \"long\": 11.25588885, \"cohort\": \"12-19 | Media Italia: 64%\"}, {\"fascia_anagrafica\": \"12-19\", \"area\": \"UMB\", \"reg_istat_code_num\": 10, \"nome_area\": \"Umbria\", \"ciclo_completo\": 39214, \"solo_prima\": 43812, \"in_attesa_seconda\": 4613, \"totale_popolazione\": 63610, \"share_ciclo_completo\": 0.6164753969501651, \"share_solo_prima\": 0.07252004401823613, \"share_missing\": 0.3110045590315988, \"lat\": 43.10675841, \"long\": 12.38824698, \"cohort\": \"12-19 | Media Italia: 64%\"}, {\"fascia_anagrafica\": \"12-19\", \"area\": \"VDA\", \"reg_istat_code_num\": 2, \"nome_area\": \"Valle d'Aosta\", \"ciclo_completo\": 5518, \"solo_prima\": 5806, \"in_attesa_seconda\": 463, \"totale_popolazione\": 9350, \"share_ciclo_completo\": 0.5901604278074867, \"share_solo_prima\": 0.04951871657754011, \"share_missing\": 0.36032085561497323, \"lat\": 45.73750286, \"long\": 7.320149366, \"cohort\": \"12-19 | Media Italia: 64%\"}, {\"fascia_anagrafica\": \"12-19\", \"area\": \"VEN\", \"reg_istat_code_num\": 5, \"nome_area\": \"Veneto\", \"ciclo_completo\": 229045, \"solo_prima\": 250551, \"in_attesa_seconda\": 21627, \"totale_popolazione\": 381274, \"share_ciclo_completo\": 0.6007359536711132, \"share_solo_prima\": 0.05672298661854729, \"share_missing\": 0.3425410597103395, \"lat\": 45.43490485, \"long\": 12.33845213, \"cohort\": \"12-19 | Media Italia: 64%\"}, {\"fascia_anagrafica\": \"20-29\", \"area\": \"ABR\", \"reg_istat_code_num\": 13, \"nome_area\": \"Abruzzo\", \"ciclo_completo\": 99506, \"solo_prima\": 105942, \"in_attesa_seconda\": 7788, \"totale_popolazione\": 125230, \"share_ciclo_completo\": 0.7945859618302323, \"share_solo_prima\": 0.062189571189012215, \"share_missing\": 0.14322446698075544, \"lat\": 42.35122196, \"long\": 13.39843823, \"cohort\": \"20-29 | Media Italia: 78%\"}, {\"fascia_anagrafica\": \"20-29\", \"area\": \"BAS\", \"reg_istat_code_num\": 17, \"nome_area\": \"Basilicata\", \"ciclo_completo\": 42770, \"solo_prima\": 44928, \"in_attesa_seconda\": 3024, \"totale_popolazione\": 56285, \"share_ciclo_completo\": 0.7598827396286755, \"share_solo_prima\": 0.05372657013413876, \"share_missing\": 0.18639069023718577, \"lat\": 40.63947052, \"long\": 15.80514834, \"cohort\": \"20-29 | Media Italia: 78%\"}, {\"fascia_anagrafica\": \"20-29\", \"area\": \"CAL\", \"reg_istat_code_num\": 18, \"nome_area\": \"Calabria\", \"ciclo_completo\": 144381, \"solo_prima\": 150638, \"in_attesa_seconda\": 11715, \"totale_popolazione\": 199746, \"share_ciclo_completo\": 0.7228229851911928, \"share_solo_prima\": 0.05864948484575411, \"share_missing\": 0.21852752996305308, \"lat\": 38.90597598, \"long\": 16.59440194, \"cohort\": \"20-29 | Media Italia: 78%\"}, {\"fascia_anagrafica\": \"20-29\", \"area\": \"CAM\", \"reg_istat_code_num\": 15, \"nome_area\": \"Campania\", \"ciclo_completo\": 490885, \"solo_prima\": 511786, \"in_attesa_seconda\": 44693, \"totale_popolazione\": 683538, \"share_ciclo_completo\": 0.7181531970424468, \"share_solo_prima\": 0.06538480669692102, \"share_missing\": 0.21646199626063212, \"lat\": 40.83956555, \"long\": 14.25084984, \"cohort\": \"20-29 | Media Italia: 78%\"}, {\"fascia_anagrafica\": \"20-29\", \"area\": \"EMR\", \"reg_istat_code_num\": 8, \"nome_area\": \"Emilia-Romagna\", \"ciclo_completo\": 342970, \"solo_prima\": 362740, \"in_attesa_seconda\": 28697, \"totale_popolazione\": 419909, \"share_ciclo_completo\": 0.8167722054064095, \"share_solo_prima\": 0.06834099769235716, \"share_missing\": 0.11488679690123335, \"lat\": 44.49436681, \"long\": 11.3417208, \"cohort\": \"20-29 | Media Italia: 78%\"}, {\"fascia_anagrafica\": \"20-29\", \"area\": \"FVG\", \"reg_istat_code_num\": 6, \"nome_area\": \"Friuli-Venezia Giulia\", \"ciclo_completo\": 86508, \"solo_prima\": 95109, \"in_attesa_seconda\": 8804, \"totale_popolazione\": 108149, \"share_ciclo_completo\": 0.7998964391718832, \"share_solo_prima\": 0.0814062081017855, \"share_missing\": 0.11869735272633125, \"lat\": 45.6494354, \"long\": 13.76813649, \"cohort\": \"20-29 | Media Italia: 78%\"}, {\"fascia_anagrafica\": \"20-29\", \"area\": \"LAZ\", \"reg_istat_code_num\": 12, \"nome_area\": \"Lazio\", \"ciclo_completo\": 450491, \"solo_prima\": 439886, \"in_attesa_seconda\": 31376, \"totale_popolazione\": 558855, \"share_ciclo_completo\": 0.8060963935188913, \"share_solo_prima\": 0.056143364557890686, \"share_missing\": 0.13776024192321804, \"lat\": 41.89277044, \"long\": 12.48366722, \"cohort\": \"20-29 | Media Italia: 78%\"}, {\"fascia_anagrafica\": \"20-29\", \"area\": \"LIG\", \"reg_istat_code_num\": 7, \"nome_area\": \"Liguria\", \"ciclo_completo\": 107428, \"solo_prima\": 105537, \"in_attesa_seconda\": 9006, \"totale_popolazione\": 135690, \"share_ciclo_completo\": 0.791716412410642, \"share_solo_prima\": 0.06637187707273934, \"share_missing\": 0.14191171051661872, \"lat\": 44.41149315, \"long\": 8.9326992, \"cohort\": \"20-29 | Media Italia: 78%\"}, {\"fascia_anagrafica\": \"20-29\", \"area\": \"LOM\", \"reg_istat_code_num\": 3, \"nome_area\": \"Lombardia\", \"ciclo_completo\": 849161, \"solo_prima\": 900010, \"in_attesa_seconda\": 52554, \"totale_popolazione\": 997448, \"share_ciclo_completo\": 0.8513336033557639, \"share_solo_prima\": 0.0526884609523504, \"share_missing\": 0.09597793569188569, \"lat\": 45.46679409, \"long\": 9.190347404, \"cohort\": \"20-29 | Media Italia: 78%\"}, {\"fascia_anagrafica\": \"20-29\", \"area\": \"MAR\", \"reg_istat_code_num\": 11, \"nome_area\": \"Marche\", \"ciclo_completo\": 109098, \"solo_prima\": 116685, \"in_attesa_seconda\": 7945, \"totale_popolazione\": 143083, \"share_ciclo_completo\": 0.7624805183005668, \"share_solo_prima\": 0.05552721147865225, \"share_missing\": 0.1819922702207809, \"lat\": 43.61675973, \"long\": 13.5188753, \"cohort\": \"20-29 | Media Italia: 78%\"}, {\"fascia_anagrafica\": \"20-29\", \"area\": \"MOL\", \"reg_istat_code_num\": 14, \"nome_area\": \"Molise\", \"ciclo_completo\": 22768, \"solo_prima\": 23909, \"in_attesa_seconda\": 2241, \"totale_popolazione\": 32122, \"share_ciclo_completo\": 0.7087977087354461, \"share_solo_prima\": 0.06976526990847394, \"share_missing\": 0.22143702135607995, \"lat\": 41.55774754, \"long\": 14.65916051, \"cohort\": \"20-29 | Media Italia: 78%\"}, {\"fascia_anagrafica\": \"20-29\", \"area\": \"PIE\", \"reg_istat_code_num\": 1, \"nome_area\": \"Piemonte\", \"ciclo_completo\": 311907, \"solo_prima\": 345570, \"in_attesa_seconda\": 36256, \"totale_popolazione\": 410270, \"share_ciclo_completo\": 0.7602481292807176, \"share_solo_prima\": 0.08837107270821654, \"share_missing\": 0.15138079801106585, \"lat\": 45.0732745, \"long\": 7.680687483, \"cohort\": \"20-29 | Media Italia: 78%\"}, {\"fascia_anagrafica\": \"20-29\", \"area\": \"PUG\", \"reg_istat_code_num\": 16, \"nome_area\": \"Puglia\", \"ciclo_completo\": 323492, \"solo_prima\": 344589, \"in_attesa_seconda\": 25858, \"totale_popolazione\": 429227, \"share_ciclo_completo\": 0.7536618153098477, \"share_solo_prima\": 0.060243181346932975, \"share_missing\": 0.18609500334321938, \"lat\": 41.12559576, \"long\": 16.86736689, \"cohort\": \"20-29 | Media Italia: 78%\"}, {\"fascia_anagrafica\": \"20-29\", \"area\": \"SAR\", \"reg_istat_code_num\": 20, \"nome_area\": \"Sardegna\", \"ciclo_completo\": 113126, \"solo_prima\": 120399, \"in_attesa_seconda\": 7368, \"totale_popolazione\": 144932, \"share_ciclo_completo\": 0.7805453592029366, \"share_solo_prima\": 0.050837634200866615, \"share_missing\": 0.16861700659619683, \"lat\": 39.21531192, \"long\": 9.110616306, \"cohort\": \"20-29 | Media Italia: 78%\"}, {\"fascia_anagrafica\": \"20-29\", \"area\": \"SIC\", \"reg_istat_code_num\": 19, \"nome_area\": \"Sicilia\", \"ciclo_completo\": 372334, \"solo_prima\": 394204, \"in_attesa_seconda\": 37713, \"totale_popolazione\": 544052, \"share_ciclo_completo\": 0.6843720820803894, \"share_solo_prima\": 0.06931874159087734, \"share_missing\": 0.2463091763287333, \"lat\": 38.11569725, \"long\": 13.362356699999998, \"cohort\": \"20-29 | Media Italia: 78%\"}, {\"fascia_anagrafica\": \"20-29\", \"area\": \"TAA\", \"reg_istat_code_num\": 4, \"nome_area\": \"Trentino-Alto Adige/S\\u00fcdtirol\", \"ciclo_completo\": 85782, \"solo_prima\": 94842, \"in_attesa_seconda\": 11332, \"totale_popolazione\": 116868, \"share_ciclo_completo\": 0.7340075983160489, \"share_solo_prima\": 0.09696409624533663, \"share_missing\": 0.16902830543861447, \"lat\": 46.49933453, \"long\": 11.35662422, \"cohort\": \"20-29 | Media Italia: 78%\"}, {\"fascia_anagrafica\": \"20-29\", \"area\": \"TOS\", \"reg_istat_code_num\": 9, \"nome_area\": \"Toscana\", \"ciclo_completo\": 274800, \"solo_prima\": 300023, \"in_attesa_seconda\": 25632, \"totale_popolazione\": 339137, \"share_ciclo_completo\": 0.8102920058855271, \"share_solo_prima\": 0.07558007530879851, \"share_missing\": 0.11412791880567441, \"lat\": 43.76923077, \"long\": 11.25588885, \"cohort\": \"20-29 | Media Italia: 78%\"}, {\"fascia_anagrafica\": \"20-29\", \"area\": \"UMB\", \"reg_istat_code_num\": 10, \"nome_area\": \"Umbria\", \"ciclo_completo\": 59566, \"solo_prima\": 64711, \"in_attesa_seconda\": 5449, \"totale_popolazione\": 78331, \"share_ciclo_completo\": 0.7604396726711008, \"share_solo_prima\": 0.06956377424008375, \"share_missing\": 0.16999655308881545, \"lat\": 43.10675841, \"long\": 12.38824698, \"cohort\": \"20-29 | Media Italia: 78%\"}, {\"fascia_anagrafica\": \"20-29\", \"area\": \"VDA\", \"reg_istat_code_num\": 2, \"nome_area\": \"Valle d'Aosta\", \"ciclo_completo\": 8519, \"solo_prima\": 9211, \"in_attesa_seconda\": 832, \"totale_popolazione\": 11482, \"share_ciclo_completo\": 0.7419439122104163, \"share_solo_prima\": 0.07246124368576903, \"share_missing\": 0.18559484410381463, \"lat\": 45.73750286, \"long\": 7.320149366, \"cohort\": \"20-29 | Media Italia: 78%\"}, {\"fascia_anagrafica\": \"20-29\", \"area\": \"VEN\", \"reg_istat_code_num\": 5, \"nome_area\": \"Veneto\", \"ciclo_completo\": 365941, \"solo_prima\": 402366, \"in_attesa_seconda\": 37087, \"totale_popolazione\": 479355, \"share_ciclo_completo\": 0.763402905988255, \"share_solo_prima\": 0.07736854731879296, \"share_missing\": 0.15922854669295206, \"lat\": 45.43490485, \"long\": 12.33845213, \"cohort\": \"20-29 | Media Italia: 78%\"}, {\"fascia_anagrafica\": \"30-39\", \"area\": \"ABR\", \"reg_istat_code_num\": 13, \"nome_area\": \"Abruzzo\", \"ciclo_completo\": 105702, \"solo_prima\": 112536, \"in_attesa_seconda\": 9096, \"totale_popolazione\": 146965, \"share_ciclo_completo\": 0.7192324703160616, \"share_solo_prima\": 0.06189228727928418, \"share_missing\": 0.21887524240465417, \"lat\": 42.35122196, \"long\": 13.39843823, \"cohort\": \"30-39 | Media Italia: 73%\"}, {\"fascia_anagrafica\": \"30-39\", \"area\": \"BAS\", \"reg_istat_code_num\": 17, \"nome_area\": \"Basilicata\", \"ciclo_completo\": 44725, \"solo_prima\": 47529, \"in_attesa_seconda\": 3406, \"totale_popolazione\": 61028, \"share_ciclo_completo\": 0.7328603264075506, \"share_solo_prima\": 0.05581044766336764, \"share_missing\": 0.21132922592908177, \"lat\": 40.63947052, \"long\": 15.80514834, \"cohort\": \"30-39 | Media Italia: 73%\"}, {\"fascia_anagrafica\": \"30-39\", \"area\": \"CAL\", \"reg_istat_code_num\": 18, \"nome_area\": \"Calabria\", \"ciclo_completo\": 152459, \"solo_prima\": 159089, \"in_attesa_seconda\": 13689, \"totale_popolazione\": 223632, \"share_ciclo_completo\": 0.6817405380267583, \"share_solo_prima\": 0.06121216999356085, \"share_missing\": 0.2570472919796809, \"lat\": 38.90597598, \"long\": 16.59440194, \"cohort\": \"30-39 | Media Italia: 73%\"}, {\"fascia_anagrafica\": \"30-39\", \"area\": \"CAM\", \"reg_istat_code_num\": 15, \"nome_area\": \"Campania\", \"ciclo_completo\": 493549, \"solo_prima\": 515410, \"in_attesa_seconda\": 46248, \"totale_popolazione\": 712913, \"share_ciclo_completo\": 0.6922990603341501, \"share_solo_prima\": 0.06487187076122893, \"share_missing\": 0.24282906890462097, \"lat\": 40.83956555, \"long\": 14.25084984, \"cohort\": \"30-39 | Media Italia: 73%\"}, {\"fascia_anagrafica\": \"30-39\", \"area\": \"EMR\", \"reg_istat_code_num\": 8, \"nome_area\": \"Emilia-Romagna\", \"ciclo_completo\": 374531, \"solo_prima\": 398490, \"in_attesa_seconda\": 32367, \"totale_popolazione\": 488934, \"share_ciclo_completo\": 0.7660154540285601, \"share_solo_prima\": 0.06619911889948336, \"share_missing\": 0.16778542707195654, \"lat\": 44.49436681, \"long\": 11.3417208, \"cohort\": \"30-39 | Media Italia: 73%\"}, {\"fascia_anagrafica\": \"30-39\", \"area\": \"FVG\", \"reg_istat_code_num\": 6, \"nome_area\": \"Friuli-Venezia Giulia\", \"ciclo_completo\": 87151, \"solo_prima\": 96621, \"in_attesa_seconda\": 9746, \"totale_popolazione\": 121714, \"share_ciclo_completo\": 0.7160310235470037, \"share_solo_prima\": 0.08007295791774159, \"share_missing\": 0.20389601853525474, \"lat\": 45.6494354, \"long\": 13.76813649, \"cohort\": \"30-39 | Media Italia: 73%\"}, {\"fascia_anagrafica\": \"30-39\", \"area\": \"LAZ\", \"reg_istat_code_num\": 12, \"nome_area\": \"Lazio\", \"ciclo_completo\": 520105, \"solo_prima\": 496770, \"in_attesa_seconda\": 30092, \"totale_popolazione\": 665641, \"share_ciclo_completo\": 0.7813596217781056, \"share_solo_prima\": 0.04520755181847272, \"share_missing\": 0.1734328264034217, \"lat\": 41.89277044, \"long\": 12.48366722, \"cohort\": \"30-39 | Media Italia: 73%\"}, {\"fascia_anagrafica\": \"30-39\", \"area\": \"LIG\", \"reg_istat_code_num\": 7, \"nome_area\": \"Liguria\", \"ciclo_completo\": 107944, \"solo_prima\": 110633, \"in_attesa_seconda\": 10063, \"totale_popolazione\": 149277, \"share_ciclo_completo\": 0.7231120668287814, \"share_solo_prima\": 0.0674115905330359, \"share_missing\": 0.2094763426381827, \"lat\": 44.41149315, \"long\": 8.9326992, \"cohort\": \"30-39 | Media Italia: 73%\"}, {\"fascia_anagrafica\": \"30-39\", \"area\": \"LOM\", \"reg_istat_code_num\": 3, \"nome_area\": \"Lombardia\", \"ciclo_completo\": 931797, \"solo_prima\": 981377, \"in_attesa_seconda\": 52952, \"totale_popolazione\": 1198955, \"share_ciclo_completo\": 0.777174289276912, \"share_solo_prima\": 0.04416512713154372, \"share_missing\": 0.17866058359154427, \"lat\": 45.46679409, \"long\": 9.190347404, \"cohort\": \"30-39 | Media Italia: 73%\"}, {\"fascia_anagrafica\": \"30-39\", \"area\": \"MAR\", \"reg_istat_code_num\": 11, \"nome_area\": \"Marche\", \"ciclo_completo\": 113963, \"solo_prima\": 122695, \"in_attesa_seconda\": 9225, \"totale_popolazione\": 162308, \"share_ciclo_completo\": 0.7021403750893364, \"share_solo_prima\": 0.056836385144293566, \"share_missing\": 0.24102323976637008, \"lat\": 43.61675973, \"long\": 13.5188753, \"cohort\": \"30-39 | Media Italia: 73%\"}, {\"fascia_anagrafica\": \"30-39\", \"area\": \"MOL\", \"reg_istat_code_num\": 14, \"nome_area\": \"Molise\", \"ciclo_completo\": 23902, \"solo_prima\": 25320, \"in_attesa_seconda\": 2520, \"totale_popolazione\": 34661, \"share_ciclo_completo\": 0.689593491243761, \"share_solo_prima\": 0.07270419203138975, \"share_missing\": 0.23770231672484923, \"lat\": 41.55774754, \"long\": 14.65916051, \"cohort\": \"30-39 | Media Italia: 73%\"}, {\"fascia_anagrafica\": \"30-39\", \"area\": \"PIE\", \"reg_istat_code_num\": 1, \"nome_area\": \"Piemonte\", \"ciclo_completo\": 319837, \"solo_prima\": 351903, \"in_attesa_seconda\": 39043, \"totale_popolazione\": 456855, \"share_ciclo_completo\": 0.7000842718149084, \"share_solo_prima\": 0.08546037583040571, \"share_missing\": 0.21445535235468588, \"lat\": 45.0732745, \"long\": 7.680687483, \"cohort\": \"30-39 | Media Italia: 73%\"}, {\"fascia_anagrafica\": \"30-39\", \"area\": \"PUG\", \"reg_istat_code_num\": 16, \"nome_area\": \"Puglia\", \"ciclo_completo\": 336590, \"solo_prima\": 356913, \"in_attesa_seconda\": 26932, \"totale_popolazione\": 457889, \"share_ciclo_completo\": 0.7350908189539386, \"share_solo_prima\": 0.058817748406273136, \"share_missing\": 0.2060914326397883, \"lat\": 41.12559576, \"long\": 16.86736689, \"cohort\": \"30-39 | Media Italia: 73%\"}, {\"fascia_anagrafica\": \"30-39\", \"area\": \"SAR\", \"reg_istat_code_num\": 20, \"nome_area\": \"Sardegna\", \"ciclo_completo\": 131990, \"solo_prima\": 141030, \"in_attesa_seconda\": 9328, \"totale_popolazione\": 180233, \"share_ciclo_completo\": 0.7323298175139957, \"share_solo_prima\": 0.051755227954925015, \"share_missing\": 0.21591495453107926, \"lat\": 39.21531192, \"long\": 9.110616306, \"cohort\": \"30-39 | Media Italia: 73%\"}, {\"fascia_anagrafica\": \"30-39\", \"area\": \"SIC\", \"reg_istat_code_num\": 19, \"nome_area\": \"Sicilia\", \"ciclo_completo\": 386489, \"solo_prima\": 412326, \"in_attesa_seconda\": 40861, \"totale_popolazione\": 583826, \"share_ciclo_completo\": 0.6619934706573534, \"share_solo_prima\": 0.06998831843734263, \"share_missing\": 0.268018210905304, \"lat\": 38.11569725, \"long\": 13.362356699999998, \"cohort\": \"30-39 | Media Italia: 73%\"}, {\"fascia_anagrafica\": \"30-39\", \"area\": \"TAA\", \"reg_istat_code_num\": 4, \"nome_area\": \"Trentino-Alto Adige/S\\u00fcdtirol\", \"ciclo_completo\": 84337, \"solo_prima\": 92227, \"in_attesa_seconda\": 10715, \"totale_popolazione\": 121590, \"share_ciclo_completo\": 0.6936178962085697, \"share_solo_prima\": 0.08812402335718397, \"share_missing\": 0.2182580804342463, \"lat\": 46.49933453, \"long\": 11.35662422, \"cohort\": \"30-39 | Media Italia: 73%\"}, {\"fascia_anagrafica\": \"30-39\", \"area\": \"TOS\", \"reg_istat_code_num\": 9, \"nome_area\": \"Toscana\", \"ciclo_completo\": 306215, \"solo_prima\": 334365, \"in_attesa_seconda\": 28663, \"totale_popolazione\": 398063, \"share_ciclo_completo\": 0.7692626544039511, \"share_solo_prima\": 0.07200618997495371, \"share_missing\": 0.15873115562109513, \"lat\": 43.76923077, \"long\": 11.25588885, \"cohort\": \"30-39 | Media Italia: 73%\"}, {\"fascia_anagrafica\": \"30-39\", \"area\": \"UMB\", \"reg_istat_code_num\": 10, \"nome_area\": \"Umbria\", \"ciclo_completo\": 68179, \"solo_prima\": 73935, \"in_attesa_seconda\": 5953, \"totale_popolazione\": 92145, \"share_ciclo_completo\": 0.7399099245753975, \"share_solo_prima\": 0.06460469911552444, \"share_missing\": 0.19548537630907806, \"lat\": 43.10675841, \"long\": 12.38824698, \"cohort\": \"30-39 | Media Italia: 73%\"}, {\"fascia_anagrafica\": \"30-39\", \"area\": \"VDA\", \"reg_istat_code_num\": 2, \"nome_area\": \"Valle d'Aosta\", \"ciclo_completo\": 8605, \"solo_prima\": 9516, \"in_attesa_seconda\": 963, \"totale_popolazione\": 12482, \"share_ciclo_completo\": 0.6893927255247556, \"share_solo_prima\": 0.07715109758051594, \"share_missing\": 0.23345617689472845, \"lat\": 45.73750286, \"long\": 7.320149366, \"cohort\": \"30-39 | Media Italia: 73%\"}, {\"fascia_anagrafica\": \"30-39\", \"area\": \"VEN\", \"reg_istat_code_num\": 5, \"nome_area\": \"Veneto\", \"ciclo_completo\": 372923, \"solo_prima\": 412553, \"in_attesa_seconda\": 40533, \"totale_popolazione\": 525221, \"share_ciclo_completo\": 0.7100306347232879, \"share_solo_prima\": 0.07717322803162859, \"share_missing\": 0.21279613724508356, \"lat\": 45.43490485, \"long\": 12.33845213, \"cohort\": \"30-39 | Media Italia: 73%\"}, {\"fascia_anagrafica\": \"40-49\", \"area\": \"ABR\", \"reg_istat_code_num\": 13, \"nome_area\": \"Abruzzo\", \"ciclo_completo\": 139069, \"solo_prima\": 142806, \"in_attesa_seconda\": 8600, \"totale_popolazione\": 187162, \"share_ciclo_completo\": 0.7430407881941847, \"share_solo_prima\": 0.04594949829559419, \"share_missing\": 0.21100971351022108, \"lat\": 42.35122196, \"long\": 13.39843823, \"cohort\": \"40-49 | Media Italia: 75%\"}, {\"fascia_anagrafica\": \"40-49\", \"area\": \"BAS\", \"reg_istat_code_num\": 17, \"nome_area\": \"Basilicata\", \"ciclo_completo\": 58899, \"solo_prima\": 59010, \"in_attesa_seconda\": 2957, \"totale_popolazione\": 74989, \"share_ciclo_completo\": 0.7854351971622504, \"share_solo_prima\": 0.03943245009268026, \"share_missing\": 0.17513235274506933, \"lat\": 40.63947052, \"long\": 15.80514834, \"cohort\": \"40-49 | Media Italia: 75%\"}, {\"fascia_anagrafica\": \"40-49\", \"area\": \"CAL\", \"reg_istat_code_num\": 18, \"nome_area\": \"Calabria\", \"ciclo_completo\": 188853, \"solo_prima\": 186073, \"in_attesa_seconda\": 12046, \"totale_popolazione\": 260182, \"share_ciclo_completo\": 0.7258495975893797, \"share_solo_prima\": 0.04629836037850428, \"share_missing\": 0.227852042032116, \"lat\": 38.90597598, \"long\": 16.59440194, \"cohort\": \"40-49 | Media Italia: 75%\"}, {\"fascia_anagrafica\": \"40-49\", \"area\": \"CAM\", \"reg_istat_code_num\": 15, \"nome_area\": \"Campania\", \"ciclo_completo\": 610406, \"solo_prima\": 633027, \"in_attesa_seconda\": 40678, \"totale_popolazione\": 828348, \"share_ciclo_completo\": 0.7368956042629426, \"share_solo_prima\": 0.04910737999005249, \"share_missing\": 0.21399701574700486, \"lat\": 40.83956555, \"long\": 14.25084984, \"cohort\": \"40-49 | Media Italia: 75%\"}, {\"fascia_anagrafica\": \"40-49\", \"area\": \"EMR\", \"reg_istat_code_num\": 8, \"nome_area\": \"Emilia-Romagna\", \"ciclo_completo\": 504634, \"solo_prima\": 527336, \"in_attesa_seconda\": 32269, \"totale_popolazione\": 667770, \"share_ciclo_completo\": 0.755700315977058, \"share_solo_prima\": 0.04832352456684188, \"share_missing\": 0.1959761594561001, \"lat\": 44.49436681, \"long\": 11.3417208, \"cohort\": \"40-49 | Media Italia: 75%\"}, {\"fascia_anagrafica\": \"40-49\", \"area\": \"FVG\", \"reg_istat_code_num\": 6, \"nome_area\": \"Friuli-Venezia Giulia\", \"ciclo_completo\": 117996, \"solo_prima\": 127288, \"in_attesa_seconda\": 9824, \"totale_popolazione\": 170017, \"share_ciclo_completo\": 0.6940247151755413, \"share_solo_prima\": 0.057782457048412804, \"share_missing\": 0.24819282777604587, \"lat\": 45.6494354, \"long\": 13.76813649, \"cohort\": \"40-49 | Media Italia: 75%\"}, {\"fascia_anagrafica\": \"40-49\", \"area\": \"LAZ\", \"reg_istat_code_num\": 12, \"nome_area\": \"Lazio\", \"ciclo_completo\": 695374, \"solo_prima\": 650150, \"in_attesa_seconda\": 34209, \"totale_popolazione\": 879906, \"share_ciclo_completo\": 0.7902821437744486, \"share_solo_prima\": 0.03887801651540051, \"share_missing\": 0.17083983971015088, \"lat\": 41.89277044, \"long\": 12.48366722, \"cohort\": \"40-49 | Media Italia: 75%\"}, {\"fascia_anagrafica\": \"40-49\", \"area\": \"LIG\", \"reg_istat_code_num\": 7, \"nome_area\": \"Liguria\", \"ciclo_completo\": 147813, \"solo_prima\": 155500, \"in_attesa_seconda\": 10293, \"totale_popolazione\": 205625, \"share_ciclo_completo\": 0.7188474164133739, \"share_solo_prima\": 0.050057142857142856, \"share_missing\": 0.23109544072948324, \"lat\": 44.41149315, \"long\": 8.9326992, \"cohort\": \"40-49 | Media Italia: 75%\"}, {\"fascia_anagrafica\": \"40-49\", \"area\": \"LOM\", \"reg_istat_code_num\": 3, \"nome_area\": \"Lombardia\", \"ciclo_completo\": 1198309, \"solo_prima\": 1237794, \"in_attesa_seconda\": 49964, \"totale_popolazione\": 1565547, \"share_ciclo_completo\": 0.7654251197824147, \"share_solo_prima\": 0.0319147237355378, \"share_missing\": 0.20266015648204752, \"lat\": 45.46679409, \"long\": 9.190347404, \"cohort\": \"40-49 | Media Italia: 75%\"}, {\"fascia_anagrafica\": \"40-49\", \"area\": \"MAR\", \"reg_istat_code_num\": 11, \"nome_area\": \"Marche\", \"ciclo_completo\": 157831, \"solo_prima\": 165571, \"in_attesa_seconda\": 8876, \"totale_popolazione\": 221299, \"share_ciclo_completo\": 0.7132024997853583, \"share_solo_prima\": 0.04010863130877229, \"share_missing\": 0.24668886890586939, \"lat\": 43.61675973, \"long\": 13.5188753, \"cohort\": \"40-49 | Media Italia: 75%\"}, {\"fascia_anagrafica\": \"40-49\", \"area\": \"MOL\", \"reg_istat_code_num\": 14, \"nome_area\": \"Molise\", \"ciclo_completo\": 32525, \"solo_prima\": 33701, \"in_attesa_seconda\": 1792, \"totale_popolazione\": 40266, \"share_ciclo_completo\": 0.8077534396264838, \"share_solo_prima\": 0.04450404808026623, \"share_missing\": 0.14774251229324994, \"lat\": 41.55774754, \"long\": 14.65916051, \"cohort\": \"40-49 | Media Italia: 75%\"}, {\"fascia_anagrafica\": \"40-49\", \"area\": \"PIE\", \"reg_istat_code_num\": 1, \"nome_area\": \"Piemonte\", \"ciclo_completo\": 431793, \"solo_prima\": 469449, \"in_attesa_seconda\": 42557, \"totale_popolazione\": 613820, \"share_ciclo_completo\": 0.7034521520967059, \"share_solo_prima\": 0.06933140008471539, \"share_missing\": 0.22721644781857875, \"lat\": 45.0732745, \"long\": 7.680687483, \"cohort\": \"40-49 | Media Italia: 75%\"}, {\"fascia_anagrafica\": \"40-49\", \"area\": \"PUG\", \"reg_istat_code_num\": 16, \"nome_area\": \"Puglia\", \"ciclo_completo\": 453306, \"solo_prima\": 455783, \"in_attesa_seconda\": 24256, \"totale_popolazione\": 574973, \"share_ciclo_completo\": 0.7883952811697245, \"share_solo_prima\": 0.042186328749349966, \"share_missing\": 0.16941839008092557, \"lat\": 41.12559576, \"long\": 16.86736689, \"cohort\": \"40-49 | Media Italia: 75%\"}, {\"fascia_anagrafica\": \"40-49\", \"area\": \"SAR\", \"reg_istat_code_num\": 20, \"nome_area\": \"Sardegna\", \"ciclo_completo\": 188128, \"solo_prima\": 197845, \"in_attesa_seconda\": 10244, \"totale_popolazione\": 248433, \"share_ciclo_completo\": 0.7572584962545234, \"share_solo_prima\": 0.04123445758011214, \"share_missing\": 0.20150704616536452, \"lat\": 39.21531192, \"long\": 9.110616306, \"cohort\": \"40-49 | Media Italia: 75%\"}, {\"fascia_anagrafica\": \"40-49\", \"area\": \"SIC\", \"reg_istat_code_num\": 19, \"nome_area\": \"Sicilia\", \"ciclo_completo\": 490965, \"solo_prima\": 506967, \"in_attesa_seconda\": 38556, \"totale_popolazione\": 694418, \"share_ciclo_completo\": 0.707016523189203, \"share_solo_prima\": 0.05552275430648399, \"share_missing\": 0.23746072250431297, \"lat\": 38.11569725, \"long\": 13.362356699999998, \"cohort\": \"40-49 | Media Italia: 75%\"}, {\"fascia_anagrafica\": \"40-49\", \"area\": \"TAA\", \"reg_istat_code_num\": 4, \"nome_area\": \"Trentino-Alto Adige/S\\u00fcdtirol\", \"ciclo_completo\": 104457, \"solo_prima\": 111021, \"in_attesa_seconda\": 9603, \"totale_popolazione\": 149300, \"share_ciclo_completo\": 0.6996450100468855, \"share_solo_prima\": 0.06432016075016744, \"share_missing\": 0.23603482920294705, \"lat\": 46.49933453, \"long\": 11.35662422, \"cohort\": \"40-49 | Media Italia: 75%\"}, {\"fascia_anagrafica\": \"40-49\", \"area\": \"TOS\", \"reg_istat_code_num\": 9, \"nome_area\": \"Toscana\", \"ciclo_completo\": 420631, \"solo_prima\": 449588, \"in_attesa_seconda\": 29694, \"totale_popolazione\": 546649, \"share_ciclo_completo\": 0.7694718182965669, \"share_solo_prima\": 0.05432004814789746, \"share_missing\": 0.1762081335555357, \"lat\": 43.76923077, \"long\": 11.25588885, \"cohort\": \"40-49 | Media Italia: 75%\"}, {\"fascia_anagrafica\": \"40-49\", \"area\": \"UMB\", \"reg_istat_code_num\": 10, \"nome_area\": \"Umbria\", \"ciclo_completo\": 93960, \"solo_prima\": 100204, \"in_attesa_seconda\": 6352, \"totale_popolazione\": 123691, \"share_ciclo_completo\": 0.7596348966375889, \"share_solo_prima\": 0.05135377675012733, \"share_missing\": 0.1890113266122838, \"lat\": 43.10675841, \"long\": 12.38824698, \"cohort\": \"40-49 | Media Italia: 75%\"}, {\"fascia_anagrafica\": \"40-49\", \"area\": \"VDA\", \"reg_istat_code_num\": 2, \"nome_area\": \"Valle d'Aosta\", \"ciclo_completo\": 11994, \"solo_prima\": 12814, \"in_attesa_seconda\": 886, \"totale_popolazione\": 17249, \"share_ciclo_completo\": 0.6953446576613137, \"share_solo_prima\": 0.051365296538929794, \"share_missing\": 0.2532900457997565, \"lat\": 45.73750286, \"long\": 7.320149366, \"cohort\": \"40-49 | Media Italia: 75%\"}, {\"fascia_anagrafica\": \"40-49\", \"area\": \"VEN\", \"reg_istat_code_num\": 5, \"nome_area\": \"Veneto\", \"ciclo_completo\": 515734, \"solo_prima\": 550730, \"in_attesa_seconda\": 36915, \"totale_popolazione\": 717331, \"share_ciclo_completo\": 0.7189623758069845, \"share_solo_prima\": 0.05146159862044161, \"share_missing\": 0.22957602557257387, \"lat\": 45.43490485, \"long\": 12.33845213, \"cohort\": \"40-49 | Media Italia: 75%\"}, {\"fascia_anagrafica\": \"50-59\", \"area\": \"ABR\", \"reg_istat_code_num\": 13, \"nome_area\": \"Abruzzo\", \"ciclo_completo\": 164668, \"solo_prima\": 164924, \"in_attesa_seconda\": 7603, \"totale_popolazione\": 208686, \"share_ciclo_completo\": 0.7890706611847464, \"share_solo_prima\": 0.036432726680275626, \"share_missing\": 0.1744966121349779, \"lat\": 42.35122196, \"long\": 13.39843823, \"cohort\": \"50-59 | Media Italia: 79%\"}, {\"fascia_anagrafica\": \"50-59\", \"area\": \"BAS\", \"reg_istat_code_num\": 17, \"nome_area\": \"Basilicata\", \"ciclo_completo\": 72622, \"solo_prima\": 72632, \"in_attesa_seconda\": 3029, \"totale_popolazione\": 88137, \"share_ciclo_completo\": 0.8239672328307067, \"share_solo_prima\": 0.03436695145058261, \"share_missing\": 0.14166581571871067, \"lat\": 40.63947052, \"long\": 15.80514834, \"cohort\": \"50-59 | Media Italia: 79%\"}, {\"fascia_anagrafica\": \"50-59\", \"area\": \"CAL\", \"reg_istat_code_num\": 18, \"nome_area\": \"Calabria\", \"ciclo_completo\": 220614, \"solo_prima\": 216194, \"in_attesa_seconda\": 10793, \"totale_popolazione\": 287366, \"share_ciclo_completo\": 0.7677108634981173, \"share_solo_prima\": 0.03755837503392886, \"share_missing\": 0.1947307614679538, \"lat\": 38.90597598, \"long\": 16.59440194, \"cohort\": \"50-59 | Media Italia: 79%\"}, {\"fascia_anagrafica\": \"50-59\", \"area\": \"CAM\", \"reg_istat_code_num\": 15, \"nome_area\": \"Campania\", \"ciclo_completo\": 695386, \"solo_prima\": 713477, \"in_attesa_seconda\": 30448, \"totale_popolazione\": 891415, \"share_ciclo_completo\": 0.7800923251235395, \"share_solo_prima\": 0.034156930273778204, \"share_missing\": 0.18575074460268226, \"lat\": 40.83956555, \"long\": 14.25084984, \"cohort\": \"50-59 | Media Italia: 79%\"}, {\"fascia_anagrafica\": \"50-59\", \"area\": \"EMR\", \"reg_istat_code_num\": 8, \"nome_area\": \"Emilia-Romagna\", \"ciclo_completo\": 581192, \"solo_prima\": 596711, \"in_attesa_seconda\": 22265, \"totale_popolazione\": 716729, \"share_ciclo_completo\": 0.8108950523838159, \"share_solo_prima\": 0.031064739950525232, \"share_missing\": 0.1580402076656589, \"lat\": 44.49436681, \"long\": 11.3417208, \"cohort\": \"50-59 | Media Italia: 79%\"}, {\"fascia_anagrafica\": \"50-59\", \"area\": \"FVG\", \"reg_istat_code_num\": 6, \"nome_area\": \"Friuli-Venezia Giulia\", \"ciclo_completo\": 144934, \"solo_prima\": 153566, \"in_attesa_seconda\": 9202, \"totale_popolazione\": 199155, \"share_ciclo_completo\": 0.7277447214481183, \"share_solo_prima\": 0.046205217042002464, \"share_missing\": 0.22605006150987922, \"lat\": 45.6494354, \"long\": 13.76813649, \"cohort\": \"50-59 | Media Italia: 79%\"}, {\"fascia_anagrafica\": \"50-59\", \"area\": \"LAZ\", \"reg_istat_code_num\": 12, \"nome_area\": \"Lazio\", \"ciclo_completo\": 793642, \"solo_prima\": 733353, \"in_attesa_seconda\": 28821, \"totale_popolazione\": 940470, \"share_ciclo_completo\": 0.8438780609695152, \"share_solo_prima\": 0.030645315640052313, \"share_missing\": 0.12547662339043245, \"lat\": 41.89277044, \"long\": 12.48366722, \"cohort\": \"50-59 | Media Italia: 79%\"}, {\"fascia_anagrafica\": \"50-59\", \"area\": \"LIG\", \"reg_istat_code_num\": 7, \"nome_area\": \"Liguria\", \"ciclo_completo\": 199306, \"solo_prima\": 208502, \"in_attesa_seconda\": 10136, \"totale_popolazione\": 258629, \"share_ciclo_completo\": 0.7706251039133276, \"share_solo_prima\": 0.03919127398706255, \"share_missing\": 0.19018362209960984, \"lat\": 44.41149315, \"long\": 8.9326992, \"cohort\": \"50-59 | Media Italia: 79%\"}, {\"fascia_anagrafica\": \"50-59\", \"area\": \"LOM\", \"reg_istat_code_num\": 3, \"nome_area\": \"Lombardia\", \"ciclo_completo\": 1370566, \"solo_prima\": 1239947, \"in_attesa_seconda\": 36718, \"totale_popolazione\": 1677629, \"share_ciclo_completo\": 0.8169660872576714, \"share_solo_prima\": 0.021886841488791622, \"share_missing\": 0.161147071253537, \"lat\": 45.46679409, \"long\": 9.190347404, \"cohort\": \"50-59 | Media Italia: 79%\"}, {\"fascia_anagrafica\": \"50-59\", \"area\": \"MAR\", \"reg_istat_code_num\": 11, \"nome_area\": \"Marche\", \"ciclo_completo\": 184752, \"solo_prima\": 190057, \"in_attesa_seconda\": 7208, \"totale_popolazione\": 240946, \"share_ciclo_completo\": 0.7667776182215102, \"share_solo_prima\": 0.02991541673237987, \"share_missing\": 0.20330696504610987, \"lat\": 43.61675973, \"long\": 13.5188753, \"cohort\": \"50-59 | Media Italia: 79%\"}, {\"fascia_anagrafica\": \"50-59\", \"area\": \"MOL\", \"reg_istat_code_num\": 14, \"nome_area\": \"Molise\", \"ciclo_completo\": 39874, \"solo_prima\": 40625, \"in_attesa_seconda\": 1895, \"totale_popolazione\": 46723, \"share_ciclo_completo\": 0.8534126661387326, \"share_solo_prima\": 0.04055818333583032, \"share_missing\": 0.10602915052543711, \"lat\": 41.55774754, \"long\": 14.65916051, \"cohort\": \"50-59 | Media Italia: 79%\"}, {\"fascia_anagrafica\": \"50-59\", \"area\": \"PIE\", \"reg_istat_code_num\": 1, \"nome_area\": \"Piemonte\", \"ciclo_completo\": 534613, \"solo_prima\": 563592, \"in_attesa_seconda\": 37388, \"totale_popolazione\": 704089, \"share_ciclo_completo\": 0.7592974751771437, \"share_solo_prima\": 0.05310124146237195, \"share_missing\": 0.18760128336048432, \"lat\": 45.0732745, \"long\": 7.680687483, \"cohort\": \"50-59 | Media Italia: 79%\"}, {\"fascia_anagrafica\": \"50-59\", \"area\": \"PUG\", \"reg_istat_code_num\": 16, \"nome_area\": \"Puglia\", \"ciclo_completo\": 512965, \"solo_prima\": 501136, \"in_attesa_seconda\": 21098, \"totale_popolazione\": 626206, \"share_ciclo_completo\": 0.8191633424144771, \"share_solo_prima\": 0.0336917883252476, \"share_missing\": 0.1471448692602753, \"lat\": 41.12559576, \"long\": 16.86736689, \"cohort\": \"50-59 | Media Italia: 79%\"}, {\"fascia_anagrafica\": \"50-59\", \"area\": \"SAR\", \"reg_istat_code_num\": 20, \"nome_area\": \"Sardegna\", \"ciclo_completo\": 218332, \"solo_prima\": 226999, \"in_attesa_seconda\": 9503, \"totale_popolazione\": 271249, \"share_ciclo_completo\": 0.8049135665016277, \"share_solo_prima\": 0.03503423054094209, \"share_missing\": 0.1600522029574302, \"lat\": 39.21531192, \"long\": 9.110616306, \"cohort\": \"50-59 | Media Italia: 79%\"}, {\"fascia_anagrafica\": \"50-59\", \"area\": \"SIC\", \"reg_istat_code_num\": 19, \"nome_area\": \"Sicilia\", \"ciclo_completo\": 568560, \"solo_prima\": 581236, \"in_attesa_seconda\": 34361, \"totale_popolazione\": 755875, \"share_ciclo_completo\": 0.7521878617496279, \"share_solo_prima\": 0.04545857449975194, \"share_missing\": 0.20235356375062014, \"lat\": 38.11569725, \"long\": 13.362356699999998, \"cohort\": \"50-59 | Media Italia: 79%\"}, {\"fascia_anagrafica\": \"50-59\", \"area\": \"TAA\", \"reg_istat_code_num\": 4, \"nome_area\": \"Trentino-Alto Adige/S\\u00fcdtirol\", \"ciclo_completo\": 125373, \"solo_prima\": 131739, \"in_attesa_seconda\": 8204, \"totale_popolazione\": 170538, \"share_ciclo_completo\": 0.73516166484889, \"share_solo_prima\": 0.048106580351593195, \"share_missing\": 0.21673175479951678, \"lat\": 46.49933453, \"long\": 11.35662422, \"cohort\": \"50-59 | Media Italia: 79%\"}, {\"fascia_anagrafica\": \"50-59\", \"area\": \"TOS\", \"reg_istat_code_num\": 9, \"nome_area\": \"Toscana\", \"ciclo_completo\": 490497, \"solo_prima\": 513812, \"in_attesa_seconda\": 24481, \"totale_popolazione\": 603627, \"share_ciclo_completo\": 0.8125829361509674, \"share_solo_prima\": 0.040556502608398895, \"share_missing\": 0.14686056124063368, \"lat\": 43.76923077, \"long\": 11.25588885, \"cohort\": \"50-59 | Media Italia: 79%\"}, {\"fascia_anagrafica\": \"50-59\", \"area\": \"UMB\", \"reg_istat_code_num\": 10, \"nome_area\": \"Umbria\", \"ciclo_completo\": 110149, \"solo_prima\": 115084, \"in_attesa_seconda\": 5019, \"totale_popolazione\": 136346, \"share_ciclo_completo\": 0.8078638170536723, \"share_solo_prima\": 0.03681076085840435, \"share_missing\": 0.15532542208792338, \"lat\": 43.10675841, \"long\": 12.38824698, \"cohort\": \"50-59 | Media Italia: 79%\"}, {\"fascia_anagrafica\": \"50-59\", \"area\": \"VDA\", \"reg_istat_code_num\": 2, \"nome_area\": \"Valle d'Aosta\", \"ciclo_completo\": 15692, \"solo_prima\": 16496, \"in_attesa_seconda\": 848, \"totale_popolazione\": 20841, \"share_ciclo_completo\": 0.7529389184780001, \"share_solo_prima\": 0.040689026438270715, \"share_missing\": 0.2063720550837292, \"lat\": 45.73750286, \"long\": 7.320149366, \"cohort\": \"50-59 | Media Italia: 79%\"}, {\"fascia_anagrafica\": \"50-59\", \"area\": \"VEN\", \"reg_istat_code_num\": 5, \"nome_area\": \"Veneto\", \"ciclo_completo\": 626238, \"solo_prima\": 652329, \"in_attesa_seconda\": 30207, \"totale_popolazione\": 806474, \"share_ciclo_completo\": 0.7765135639834638, \"share_solo_prima\": 0.037455640231427174, \"share_missing\": 0.186030795785109, \"lat\": 45.43490485, \"long\": 12.33845213, \"cohort\": \"50-59 | Media Italia: 79%\"}, {\"fascia_anagrafica\": \"60-69\", \"area\": \"ABR\", \"reg_istat_code_num\": 13, \"nome_area\": \"Abruzzo\", \"ciclo_completo\": 145276, \"solo_prima\": 143058, \"in_attesa_seconda\": 3478, \"totale_popolazione\": 171793, \"share_ciclo_completo\": 0.8456456316613599, \"share_solo_prima\": 0.020245295209932884, \"share_missing\": 0.13410907312870726, \"lat\": 42.35122196, \"long\": 13.39843823, \"cohort\": \"60-69 | Media Italia: 84%\"}, {\"fascia_anagrafica\": \"60-69\", \"area\": \"BAS\", \"reg_istat_code_num\": 17, \"nome_area\": \"Basilicata\", \"ciclo_completo\": 65544, \"solo_prima\": 65365, \"in_attesa_seconda\": 1916, \"totale_popolazione\": 75455, \"share_ciclo_completo\": 0.868650188854284, \"share_solo_prima\": 0.025392618116758334, \"share_missing\": 0.10595719302895765, \"lat\": 40.63947052, \"long\": 15.80514834, \"cohort\": \"60-69 | Media Italia: 84%\"}, {\"fascia_anagrafica\": \"60-69\", \"area\": \"CAL\", \"reg_istat_code_num\": 18, \"nome_area\": \"Calabria\", \"ciclo_completo\": 205957, \"solo_prima\": 204013, \"in_attesa_seconda\": 4836, \"totale_popolazione\": 246965, \"share_ciclo_completo\": 0.8339521794586278, \"share_solo_prima\": 0.01958172210637135, \"share_missing\": 0.14646609843500089, \"lat\": 38.90597598, \"long\": 16.59440194, \"cohort\": \"60-69 | Media Italia: 84%\"}, {\"fascia_anagrafica\": \"60-69\", \"area\": \"CAM\", \"reg_istat_code_num\": 15, \"nome_area\": \"Campania\", \"ciclo_completo\": 573482, \"solo_prima\": 579901, \"in_attesa_seconda\": 20288, \"totale_popolazione\": 700326, \"share_ciclo_completo\": 0.818878636520706, \"share_solo_prima\": 0.02896936569540471, \"share_missing\": 0.15215199778388927, \"lat\": 40.83956555, \"long\": 14.25084984, \"cohort\": \"60-69 | Media Italia: 84%\"}, {\"fascia_anagrafica\": \"60-69\", \"area\": \"EMR\", \"reg_istat_code_num\": 8, \"nome_area\": \"Emilia-Romagna\", \"ciclo_completo\": 475892, \"solo_prima\": 433257, \"in_attesa_seconda\": 8638, \"totale_popolazione\": 551239, \"share_ciclo_completo\": 0.8633133722396275, \"share_solo_prima\": 0.015670153962255937, \"share_missing\": 0.12101647379811661, \"lat\": 44.49436681, \"long\": 11.3417208, \"cohort\": \"60-69 | Media Italia: 84%\"}, {\"fascia_anagrafica\": \"60-69\", \"area\": \"FVG\", \"reg_istat_code_num\": 6, \"nome_area\": \"Friuli-Venezia Giulia\", \"ciclo_completo\": 123674, \"solo_prima\": 111250, \"in_attesa_seconda\": 4035, \"totale_popolazione\": 157635, \"share_ciclo_completo\": 0.7845592666603229, \"share_solo_prima\": 0.025597107241412124, \"share_missing\": 0.18984362609826494, \"lat\": 45.6494354, \"long\": 13.76813649, \"cohort\": \"60-69 | Media Italia: 84%\"}, {\"fascia_anagrafica\": \"60-69\", \"area\": \"LAZ\", \"reg_istat_code_num\": 12, \"nome_area\": \"Lazio\", \"ciclo_completo\": 628008, \"solo_prima\": 620494, \"in_attesa_seconda\": 14620, \"totale_popolazione\": 707706, \"share_ciclo_completo\": 0.8873854397164924, \"share_solo_prima\": 0.020658295959056446, \"share_missing\": 0.09195626432445114, \"lat\": 41.89277044, \"long\": 12.48366722, \"cohort\": \"60-69 | Media Italia: 84%\"}, {\"fascia_anagrafica\": \"60-69\", \"area\": \"LIG\", \"reg_istat_code_num\": 7, \"nome_area\": \"Liguria\", \"ciclo_completo\": 169521, \"solo_prima\": 168497, \"in_attesa_seconda\": 5350, \"totale_popolazione\": 207406, \"share_ciclo_completo\": 0.8173389390856581, \"share_solo_prima\": 0.025794817893407134, \"share_missing\": 0.15686624302093474, \"lat\": 44.41149315, \"long\": 8.9326992, \"cohort\": \"60-69 | Media Italia: 84%\"}, {\"fascia_anagrafica\": \"60-69\", \"area\": \"LOM\", \"reg_istat_code_num\": 3, \"nome_area\": \"Lombardia\", \"ciclo_completo\": 1049390, \"solo_prima\": 986359, \"in_attesa_seconda\": 15547, \"totale_popolazione\": 1240919, \"share_ciclo_completo\": 0.8456555182086825, \"share_solo_prima\": 0.012528617903344214, \"share_missing\": 0.14181586388797332, \"lat\": 45.46679409, \"long\": 9.190347404, \"cohort\": \"60-69 | Media Italia: 84%\"}, {\"fascia_anagrafica\": \"60-69\", \"area\": \"MAR\", \"reg_istat_code_num\": 11, \"nome_area\": \"Marche\", \"ciclo_completo\": 164769, \"solo_prima\": 149404, \"in_attesa_seconda\": 2014, \"totale_popolazione\": 196477, \"share_ciclo_completo\": 0.8386172427307013, \"share_solo_prima\": 0.010250563679209271, \"share_missing\": 0.15113219359008948, \"lat\": 43.61675973, \"long\": 13.5188753, \"cohort\": \"60-69 | Media Italia: 84%\"}, {\"fascia_anagrafica\": \"60-69\", \"area\": \"MOL\", \"reg_istat_code_num\": 14, \"nome_area\": \"Molise\", \"ciclo_completo\": 36727, \"solo_prima\": 35694, \"in_attesa_seconda\": 450, \"totale_popolazione\": 40925, \"share_ciclo_completo\": 0.8974221136224801, \"share_solo_prima\": 0.010995723885155772, \"share_missing\": 0.09158216249236409, \"lat\": 41.55774754, \"long\": 14.65916051, \"cohort\": \"60-69 | Media Italia: 84%\"}, {\"fascia_anagrafica\": \"60-69\", \"area\": \"PIE\", \"reg_istat_code_num\": 1, \"nome_area\": \"Piemonte\", \"ciclo_completo\": 457098, \"solo_prima\": 439036, \"in_attesa_seconda\": 16865, \"totale_popolazione\": 567486, \"share_ciclo_completo\": 0.8054789016821561, \"share_solo_prima\": 0.029718794824894357, \"share_missing\": 0.16480230349294955, \"lat\": 45.0732745, \"long\": 7.680687483, \"cohort\": \"60-69 | Media Italia: 84%\"}, {\"fascia_anagrafica\": \"60-69\", \"area\": \"PUG\", \"reg_istat_code_num\": 16, \"nome_area\": \"Puglia\", \"ciclo_completo\": 442085, \"solo_prima\": 426717, \"in_attesa_seconda\": 11127, \"totale_popolazione\": 494337, \"share_ciclo_completo\": 0.8942988285319529, \"share_solo_prima\": 0.02250893621153181, \"share_missing\": 0.08319223525651533, \"lat\": 41.12559576, \"long\": 16.86736689, \"cohort\": \"60-69 | Media Italia: 84%\"}, {\"fascia_anagrafica\": \"60-69\", \"area\": \"SAR\", \"reg_istat_code_num\": 20, \"nome_area\": \"Sardegna\", \"ciclo_completo\": 197201, \"solo_prima\": 188386, \"in_attesa_seconda\": 5108, \"totale_popolazione\": 230031, \"share_ciclo_completo\": 0.8572801057248806, \"share_solo_prima\": 0.02220570270963479, \"share_missing\": 0.12051419156548465, \"lat\": 39.21531192, \"long\": 9.110616306, \"cohort\": \"60-69 | Media Italia: 84%\"}, {\"fascia_anagrafica\": \"60-69\", \"area\": \"SIC\", \"reg_istat_code_num\": 19, \"nome_area\": \"Sicilia\", \"ciclo_completo\": 502241, \"solo_prima\": 505914, \"in_attesa_seconda\": 18928, \"totale_popolazione\": 631055, \"share_ciclo_completo\": 0.795875161436008, \"share_solo_prima\": 0.029994216035052413, \"share_missing\": 0.17413062252893957, \"lat\": 38.11569725, \"long\": 13.362356699999998, \"cohort\": \"60-69 | Media Italia: 84%\"}, {\"fascia_anagrafica\": \"60-69\", \"area\": \"TAA\", \"reg_istat_code_num\": 4, \"nome_area\": \"Trentino-Alto Adige/S\\u00fcdtirol\", \"ciclo_completo\": 101942, \"solo_prima\": 101095, \"in_attesa_seconda\": 3212, \"totale_popolazione\": 126972, \"share_ciclo_completo\": 0.8028699240777494, \"share_solo_prima\": 0.025296915855464196, \"share_missing\": 0.17183316006678642, \"lat\": 46.49933453, \"long\": 11.35662422, \"cohort\": \"60-69 | Media Italia: 84%\"}, {\"fascia_anagrafica\": \"60-69\", \"area\": \"TOS\", \"reg_istat_code_num\": 9, \"nome_area\": \"Toscana\", \"ciclo_completo\": 407576, \"solo_prima\": 360591, \"in_attesa_seconda\": 9761, \"totale_popolazione\": 467270, \"share_ciclo_completo\": 0.8722494489267447, \"share_solo_prima\": 0.020889421533588717, \"share_missing\": 0.10686112953966656, \"lat\": 43.76923077, \"long\": 11.25588885, \"cohort\": \"60-69 | Media Italia: 84%\"}, {\"fascia_anagrafica\": \"60-69\", \"area\": \"UMB\", \"reg_istat_code_num\": 10, \"nome_area\": \"Umbria\", \"ciclo_completo\": 98210, \"solo_prima\": 82586, \"in_attesa_seconda\": 2068, \"totale_popolazione\": 112657, \"share_ciclo_completo\": 0.8717611866106856, \"share_solo_prima\": 0.018356604560746337, \"share_missing\": 0.10988220882856808, \"lat\": 43.10675841, \"long\": 12.38824698, \"cohort\": \"60-69 | Media Italia: 84%\"}, {\"fascia_anagrafica\": \"60-69\", \"area\": \"VDA\", \"reg_istat_code_num\": 2, \"nome_area\": \"Valle d'Aosta\", \"ciclo_completo\": 12747, \"solo_prima\": 12665, \"in_attesa_seconda\": 373, \"totale_popolazione\": 16197, \"share_ciclo_completo\": 0.7869975921466938, \"share_solo_prima\": 0.023028955979502375, \"share_missing\": 0.18997345187380377, \"lat\": 45.73750286, \"long\": 7.320149366, \"cohort\": \"60-69 | Media Italia: 84%\"}, {\"fascia_anagrafica\": \"60-69\", \"area\": \"VEN\", \"reg_istat_code_num\": 5, \"nome_area\": \"Veneto\", \"ciclo_completo\": 513390, \"solo_prima\": 474737, \"in_attesa_seconda\": 10248, \"totale_popolazione\": 610635, \"share_ciclo_completo\": 0.8407477461986292, \"share_solo_prima\": 0.01678252966174556, \"share_missing\": 0.1424697241396252, \"lat\": 45.43490485, \"long\": 12.33845213, \"cohort\": \"60-69 | Media Italia: 84%\"}, {\"fascia_anagrafica\": \"70-79\", \"area\": \"ABR\", \"reg_istat_code_num\": 13, \"nome_area\": \"Abruzzo\", \"ciclo_completo\": 119590, \"solo_prima\": 118409, \"in_attesa_seconda\": 1290, \"totale_popolazione\": 137406, \"share_ciclo_completo\": 0.8703404509264515, \"share_solo_prima\": 0.00938823632155801, \"share_missing\": 0.12027131275199048, \"lat\": 42.35122196, \"long\": 13.39843823, \"cohort\": \"70-79 | Media Italia: 88%\"}, {\"fascia_anagrafica\": \"70-79\", \"area\": \"BAS\", \"reg_istat_code_num\": 17, \"nome_area\": \"Basilicata\", \"ciclo_completo\": 48456, \"solo_prima\": 49238, \"in_attesa_seconda\": 916, \"totale_popolazione\": 51805, \"share_ciclo_completo\": 0.9353537303349098, \"share_solo_prima\": 0.017681690956471385, \"share_missing\": 0.04696457870861885, \"lat\": 40.63947052, \"long\": 15.80514834, \"cohort\": \"70-79 | Media Italia: 88%\"}, {\"fascia_anagrafica\": \"70-79\", \"area\": \"CAL\", \"reg_istat_code_num\": 18, \"nome_area\": \"Calabria\", \"ciclo_completo\": 156311, \"solo_prima\": 156123, \"in_attesa_seconda\": 1996, \"totale_popolazione\": 185899, \"share_ciclo_completo\": 0.8408383046708159, \"share_solo_prima\": 0.010737013109269012, \"share_missing\": 0.14842468221991512, \"lat\": 38.90597598, \"long\": 16.59440194, \"cohort\": \"70-79 | Media Italia: 88%\"}, {\"fascia_anagrafica\": \"70-79\", \"area\": \"CAM\", \"reg_istat_code_num\": 15, \"nome_area\": \"Campania\", \"ciclo_completo\": 426867, \"solo_prima\": 435200, \"in_attesa_seconda\": 10867, \"totale_popolazione\": 477420, \"share_ciclo_completo\": 0.8941121025512128, \"share_solo_prima\": 0.02276192870009635, \"share_missing\": 0.08312596874869088, \"lat\": 40.83956555, \"long\": 14.25084984, \"cohort\": \"70-79 | Media Italia: 88%\"}, {\"fascia_anagrafica\": \"70-79\", \"area\": \"EMR\", \"reg_istat_code_num\": 8, \"nome_area\": \"Emilia-Romagna\", \"ciclo_completo\": 408494, \"solo_prima\": 396537, \"in_attesa_seconda\": 5046, \"totale_popolazione\": 455912, \"share_ciclo_completo\": 0.8959930863850919, \"share_solo_prima\": 0.011067925389110179, \"share_missing\": 0.09293898822579792, \"lat\": 44.49436681, \"long\": 11.3417208, \"cohort\": \"70-79 | Media Italia: 88%\"}, {\"fascia_anagrafica\": \"70-79\", \"area\": \"FVG\", \"reg_istat_code_num\": 6, \"nome_area\": \"Friuli-Venezia Giulia\", \"ciclo_completo\": 116442, \"solo_prima\": 112820, \"in_attesa_seconda\": 2337, \"totale_popolazione\": 140238, \"share_ciclo_completo\": 0.8303170324733667, \"share_solo_prima\": 0.016664527446198604, \"share_missing\": 0.15301844008043464, \"lat\": 45.6494354, \"long\": 13.76813649, \"cohort\": \"70-79 | Media Italia: 88%\"}, {\"fascia_anagrafica\": \"70-79\", \"area\": \"LAZ\", \"reg_istat_code_num\": 12, \"nome_area\": \"Lazio\", \"ciclo_completo\": 503425, \"solo_prima\": 505616, \"in_attesa_seconda\": 7941, \"totale_popolazione\": 551447, \"share_ciclo_completo\": 0.912916381810038, \"share_solo_prima\": 0.014400295948658711, \"share_missing\": 0.0726833222413033, \"lat\": 41.89277044, \"long\": 12.48366722, \"cohort\": \"70-79 | Media Italia: 88%\"}, {\"fascia_anagrafica\": \"70-79\", \"area\": \"LIG\", \"reg_istat_code_num\": 7, \"nome_area\": \"Liguria\", \"ciclo_completo\": 158826, \"solo_prima\": 159454, \"in_attesa_seconda\": 2772, \"totale_popolazione\": 182496, \"share_ciclo_completo\": 0.8702985270910047, \"share_solo_prima\": 0.015189374013677013, \"share_missing\": 0.11451209889531824, \"lat\": 44.41149315, \"long\": 8.9326992, \"cohort\": \"70-79 | Media Italia: 88%\"}, {\"fascia_anagrafica\": \"70-79\", \"area\": \"LOM\", \"reg_istat_code_num\": 3, \"nome_area\": \"Lombardia\", \"ciclo_completo\": 884401, \"solo_prima\": 865312, \"in_attesa_seconda\": 10795, \"totale_popolazione\": 1006561, \"share_ciclo_completo\": 0.8786362674492654, \"share_solo_prima\": 0.010724635665399315, \"share_missing\": 0.11063909688533531, \"lat\": 45.46679409, \"long\": 9.190347404, \"cohort\": \"70-79 | Media Italia: 88%\"}, {\"fascia_anagrafica\": \"70-79\", \"area\": \"MAR\", \"reg_istat_code_num\": 11, \"nome_area\": \"Marche\", \"ciclo_completo\": 141208, \"solo_prima\": 135038, \"in_attesa_seconda\": 472, \"totale_popolazione\": 155940, \"share_ciclo_completo\": 0.9055277670899063, \"share_solo_prima\": 0.0030268051814800563, \"share_missing\": 0.0914454277286136, \"lat\": 43.61675973, \"long\": 13.5188753, \"cohort\": \"70-79 | Media Italia: 88%\"}, {\"fascia_anagrafica\": \"70-79\", \"area\": \"MOL\", \"reg_istat_code_num\": 14, \"nome_area\": \"Molise\", \"ciclo_completo\": 28624, \"solo_prima\": 28027, \"in_attesa_seconda\": -56, \"totale_popolazione\": 30901, \"share_ciclo_completo\": 0.9263130643021261, \"share_solo_prima\": -0.001812239086113718, \"share_missing\": 0.0754991747839876, \"lat\": 41.55774754, \"long\": 14.65916051, \"cohort\": \"70-79 | Media Italia: 88%\"}, {\"fascia_anagrafica\": \"70-79\", \"area\": \"PIE\", \"reg_istat_code_num\": 1, \"nome_area\": \"Piemonte\", \"ciclo_completo\": 409261, \"solo_prima\": 408981, \"in_attesa_seconda\": 9856, \"totale_popolazione\": 484838, \"share_ciclo_completo\": 0.8441190665748147, \"share_solo_prima\": 0.020328439602506403, \"share_missing\": 0.13555249382267887, \"lat\": 45.0732745, \"long\": 7.680687483, \"cohort\": \"70-79 | Media Italia: 88%\"}, {\"fascia_anagrafica\": \"70-79\", \"area\": \"PUG\", \"reg_istat_code_num\": 16, \"nome_area\": \"Puglia\", \"ciclo_completo\": 365795, \"solo_prima\": 359616, \"in_attesa_seconda\": 7417, \"totale_popolazione\": 395276, \"share_ciclo_completo\": 0.9254166708831297, \"share_solo_prima\": 0.018764104069055546, \"share_missing\": 0.055819225047814724, \"lat\": 41.12559576, \"long\": 16.86736689, \"cohort\": \"70-79 | Media Italia: 88%\"}, {\"fascia_anagrafica\": \"70-79\", \"area\": \"SAR\", \"reg_istat_code_num\": 20, \"nome_area\": \"Sardegna\", \"ciclo_completo\": 156783, \"solo_prima\": 152459, \"in_attesa_seconda\": 1540, \"totale_popolazione\": 175751, \"share_ciclo_completo\": 0.8920745827904251, \"share_solo_prima\": 0.008762396800018208, \"share_missing\": 0.09916302040955673, \"lat\": 39.21531192, \"long\": 9.110616306, \"cohort\": \"70-79 | Media Italia: 88%\"}, {\"fascia_anagrafica\": \"70-79\", \"area\": \"SIC\", \"reg_istat_code_num\": 19, \"nome_area\": \"Sicilia\", \"ciclo_completo\": 393029, \"solo_prima\": 398845, \"in_attesa_seconda\": 10712, \"totale_popolazione\": 476607, \"share_ciclo_completo\": 0.8246395877525928, \"share_solo_prima\": 0.02247554064459817, \"share_missing\": 0.152884871602809, \"lat\": 38.11569725, \"long\": 13.362356699999998, \"cohort\": \"70-79 | Media Italia: 88%\"}, {\"fascia_anagrafica\": \"70-79\", \"area\": \"TAA\", \"reg_istat_code_num\": 4, \"nome_area\": \"Trentino-Alto Adige/S\\u00fcdtirol\", \"ciclo_completo\": 83498, \"solo_prima\": 83355, \"in_attesa_seconda\": 1742, \"totale_popolazione\": 98917, \"share_ciclo_completo\": 0.8441218395220235, \"share_solo_prima\": 0.017610724142462873, \"share_missing\": 0.13826743633551367, \"lat\": 46.49933453, \"long\": 11.35662422, \"cohort\": \"70-79 | Media Italia: 88%\"}, {\"fascia_anagrafica\": \"70-79\", \"area\": \"TOS\", \"reg_istat_code_num\": 9, \"nome_area\": \"Toscana\", \"ciclo_completo\": 366523, \"solo_prima\": 351813, \"in_attesa_seconda\": 4695, \"totale_popolazione\": 406475, \"share_ciclo_completo\": 0.9017110523402423, \"share_solo_prima\": 0.011550525862599175, \"share_missing\": 0.08673842179715853, \"lat\": 43.76923077, \"long\": 11.25588885, \"cohort\": \"70-79 | Media Italia: 88%\"}, {\"fascia_anagrafica\": \"70-79\", \"area\": \"UMB\", \"reg_istat_code_num\": 10, \"nome_area\": \"Umbria\", \"ciclo_completo\": 87171, \"solo_prima\": 86200, \"in_attesa_seconda\": 1485, \"totale_popolazione\": 97653, \"share_ciclo_completo\": 0.8926607477496851, \"share_solo_prima\": 0.015206906085834537, \"share_missing\": 0.09213234616448039, \"lat\": 43.10675841, \"long\": 12.38824698, \"cohort\": \"70-79 | Media Italia: 88%\"}, {\"fascia_anagrafica\": \"70-79\", \"area\": \"VDA\", \"reg_istat_code_num\": 2, \"nome_area\": \"Valle d'Aosta\", \"ciclo_completo\": 11033, \"solo_prima\": 11077, \"in_attesa_seconda\": 124, \"totale_popolazione\": 13030, \"share_ciclo_completo\": 0.8467382962394474, \"share_solo_prima\": 0.009516500383729854, \"share_missing\": 0.14374520337682273, \"lat\": 45.73750286, \"long\": 7.320149366, \"cohort\": \"70-79 | Media Italia: 88%\"}, {\"fascia_anagrafica\": \"70-79\", \"area\": \"VEN\", \"reg_istat_code_num\": 5, \"nome_area\": \"Veneto\", \"ciclo_completo\": 435477, \"solo_prima\": 423896, \"in_attesa_seconda\": 6238, \"totale_popolazione\": 494721, \"share_ciclo_completo\": 0.8802476547387316, \"share_solo_prima\": 0.012609127164603887, \"share_missing\": 0.10714321809666455, \"lat\": 45.43490485, \"long\": 12.33845213, \"cohort\": \"70-79 | Media Italia: 88%\"}, {\"fascia_anagrafica\": \"80+\", \"area\": \"ABR\", \"reg_istat_code_num\": 13, \"nome_area\": \"Abruzzo\", \"ciclo_completo\": 95001, \"solo_prima\": 95861, \"in_attesa_seconda\": 1104, \"totale_popolazione\": 116953, \"share_ciclo_completo\": 0.8123006677896248, \"share_solo_prima\": 0.009439689447897873, \"share_missing\": 0.1782596427624773, \"lat\": 42.35122196, \"long\": 13.39843823, \"cohort\": \"80+ | Media Italia: 91%\"}, {\"fascia_anagrafica\": \"80+\", \"area\": \"BAS\", \"reg_istat_code_num\": 17, \"nome_area\": \"Basilicata\", \"ciclo_completo\": 39986, \"solo_prima\": 40964, \"in_attesa_seconda\": 983, \"totale_popolazione\": 46235, \"share_ciclo_completo\": 0.8648426516708122, \"share_solo_prima\": 0.021260949497134207, \"share_missing\": 0.11389639883205359, \"lat\": 40.63947052, \"long\": 15.80514834, \"cohort\": \"80+ | Media Italia: 91%\"}, {\"fascia_anagrafica\": \"80+\", \"area\": \"CAL\", \"reg_istat_code_num\": 18, \"nome_area\": \"Calabria\", \"ciclo_completo\": 110007, \"solo_prima\": 112657, \"in_attesa_seconda\": 2742, \"totale_popolazione\": 138517, \"share_ciclo_completo\": 0.7941768880354036, \"share_solo_prima\": 0.019795404174216883, \"share_missing\": 0.18602770779037947, \"lat\": 38.90597598, \"long\": 16.59440194, \"cohort\": \"80+ | Media Italia: 91%\"}, {\"fascia_anagrafica\": \"80+\", \"area\": \"CAM\", \"reg_istat_code_num\": 15, \"nome_area\": \"Campania\", \"ciclo_completo\": 266957, \"solo_prima\": 272919, \"in_attesa_seconda\": 6064, \"totale_popolazione\": 304317, \"share_ciclo_completo\": 0.8772332797707654, \"share_solo_prima\": 0.019926589707443227, \"share_missing\": 0.1028401305217914, \"lat\": 40.83956555, \"long\": 14.25084984, \"cohort\": \"80+ | Media Italia: 91%\"}, {\"fascia_anagrafica\": \"80+\", \"area\": \"EMR\", \"reg_istat_code_num\": 8, \"nome_area\": \"Emilia-Romagna\", \"ciclo_completo\": 354737, \"solo_prima\": 358951, \"in_attesa_seconda\": 5963, \"totale_popolazione\": 370497, \"share_ciclo_completo\": 0.9574625435563581, \"share_solo_prima\": 0.016094597257197765, \"share_missing\": 0.026442859186444165, \"lat\": 44.49436681, \"long\": 11.3417208, \"cohort\": \"80+ | Media Italia: 91%\"}, {\"fascia_anagrafica\": \"80+\", \"area\": \"FVG\", \"reg_istat_code_num\": 6, \"nome_area\": \"Friuli-Venezia Giulia\", \"ciclo_completo\": 98762, \"solo_prima\": 100891, \"in_attesa_seconda\": 2193, \"totale_popolazione\": 105679, \"share_ciclo_completo\": 0.9345470717928822, \"share_solo_prima\": 0.020751521115831905, \"share_missing\": 0.04470140709128588, \"lat\": 45.6494354, \"long\": 13.76813649, \"cohort\": \"80+ | Media Italia: 91%\"}, {\"fascia_anagrafica\": \"80+\", \"area\": \"LAZ\", \"reg_istat_code_num\": 12, \"nome_area\": \"Lazio\", \"ciclo_completo\": 390659, \"solo_prima\": 399087, \"in_attesa_seconda\": 8841, \"totale_popolazione\": 412287, \"share_ciclo_completo\": 0.9475413971335501, \"share_solo_prima\": 0.021443800071309548, \"share_missing\": 0.03101480279514033, \"lat\": 41.89277044, \"long\": 12.48366722, \"cohort\": \"80+ | Media Italia: 91%\"}, {\"fascia_anagrafica\": \"80+\", \"area\": \"LIG\", \"reg_istat_code_num\": 7, \"nome_area\": \"Liguria\", \"ciclo_completo\": 145158, \"solo_prima\": 148359, \"in_attesa_seconda\": 3505, \"totale_popolazione\": 156276, \"share_ciclo_completo\": 0.9288566382553943, \"share_solo_prima\": 0.022428267936215412, \"share_missing\": 0.04871509380839026, \"lat\": 44.41149315, \"long\": 8.9326992, \"cohort\": \"80+ | Media Italia: 91%\"}, {\"fascia_anagrafica\": \"80+\", \"area\": \"LOM\", \"reg_istat_code_num\": 3, \"nome_area\": \"Lombardia\", \"ciclo_completo\": 719892, \"solo_prima\": 725077, \"in_attesa_seconda\": 7595, \"totale_popolazione\": 765259, \"share_ciclo_completo\": 0.9407168030692876, \"share_solo_prima\": 0.00992474443293055, \"share_missing\": 0.04935845249778183, \"lat\": 45.46679409, \"long\": 9.190347404, \"cohort\": \"80+ | Media Italia: 91%\"}, {\"fascia_anagrafica\": \"80+\", \"area\": \"MAR\", \"reg_istat_code_num\": 11, \"nome_area\": \"Marche\", \"ciclo_completo\": 123576, \"solo_prima\": 124757, \"in_attesa_seconda\": 1893, \"totale_popolazione\": 133365, \"share_ciclo_completo\": 0.9265999325160275, \"share_solo_prima\": 0.014194128894387583, \"share_missing\": 0.05920593858958496, \"lat\": 43.61675973, \"long\": 13.5188753, \"cohort\": \"80+ | Media Italia: 91%\"}, {\"fascia_anagrafica\": \"80+\", \"area\": \"MOL\", \"reg_istat_code_num\": 14, \"nome_area\": \"Molise\", \"ciclo_completo\": 24009, \"solo_prima\": 24609, \"in_attesa_seconda\": 630, \"totale_popolazione\": 27222, \"share_ciclo_completo\": 0.881970465065021, \"share_solo_prima\": 0.02314304606568217, \"share_missing\": 0.09488648886929686, \"lat\": 41.55774754, \"long\": 14.65916051, \"cohort\": \"80+ | Media Italia: 91%\"}, {\"fascia_anagrafica\": \"80+\", \"area\": \"PIE\", \"reg_istat_code_num\": 1, \"nome_area\": \"Piemonte\", \"ciclo_completo\": 348899, \"solo_prima\": 352565, \"in_attesa_seconda\": 7935, \"totale_popolazione\": 379802, \"share_ciclo_completo\": 0.9186339197792533, \"share_solo_prima\": 0.020892465021247912, \"share_missing\": 0.06047361519949874, \"lat\": 45.0732745, \"long\": 7.680687483, \"cohort\": \"80+ | Media Italia: 91%\"}, {\"fascia_anagrafica\": \"80+\", \"area\": \"PUG\", \"reg_istat_code_num\": 16, \"nome_area\": \"Puglia\", \"ciclo_completo\": 256760, \"solo_prima\": 263242, \"in_attesa_seconda\": 6623, \"totale_popolazione\": 272957, \"share_ciclo_completo\": 0.940660983231791, \"share_solo_prima\": 0.024263895045739805, \"share_missing\": 0.035075121722469155, \"lat\": 41.12559576, \"long\": 16.86736689, \"cohort\": \"80+ | Media Italia: 91%\"}, {\"fascia_anagrafica\": \"80+\", \"area\": \"SAR\", \"reg_istat_code_num\": 20, \"nome_area\": \"Sardegna\", \"ciclo_completo\": 108655, \"solo_prima\": 111259, \"in_attesa_seconda\": 2812, \"totale_popolazione\": 124768, \"share_ciclo_completo\": 0.8708563093100795, \"share_solo_prima\": 0.022537830212875098, \"share_missing\": 0.10660586047704539, \"lat\": 39.21531192, \"long\": 9.110616306, \"cohort\": \"80+ | Media Italia: 91%\"}, {\"fascia_anagrafica\": \"80+\", \"area\": \"SIC\", \"reg_istat_code_num\": 19, \"nome_area\": \"Sicilia\", \"ciclo_completo\": 270165, \"solo_prima\": 278161, \"in_attesa_seconda\": 8122, \"totale_popolazione\": 342909, \"share_ciclo_completo\": 0.7878620858595138, \"share_solo_prima\": 0.02368558422205308, \"share_missing\": 0.18845232991843314, \"lat\": 38.11569725, \"long\": 13.362356699999998, \"cohort\": \"80+ | Media Italia: 91%\"}, {\"fascia_anagrafica\": \"80+\", \"area\": \"TAA\", \"reg_istat_code_num\": 4, \"nome_area\": \"Trentino-Alto Adige/S\\u00fcdtirol\", \"ciclo_completo\": 65742, \"solo_prima\": 66779, \"in_attesa_seconda\": 1701, \"totale_popolazione\": 72551, \"share_ciclo_completo\": 0.9061487781009221, \"share_solo_prima\": 0.023445576215351958, \"share_missing\": 0.07040564568372595, \"lat\": 46.49933453, \"long\": 11.35662422, \"cohort\": \"80+ | Media Italia: 91%\"}, {\"fascia_anagrafica\": \"80+\", \"area\": \"TOS\", \"reg_istat_code_num\": 9, \"nome_area\": \"Toscana\", \"ciclo_completo\": 313854, \"solo_prima\": 316868, \"in_attesa_seconda\": 3937, \"totale_popolazione\": 329190, \"share_ciclo_completo\": 0.9534129226282694, \"share_solo_prima\": 0.011959658555849205, \"share_missing\": 0.03462741881588142, \"lat\": 43.76923077, \"long\": 11.25588885, \"cohort\": \"80+ | Media Italia: 91%\"}, {\"fascia_anagrafica\": \"80+\", \"area\": \"UMB\", \"reg_istat_code_num\": 10, \"nome_area\": \"Umbria\", \"ciclo_completo\": 76177, \"solo_prima\": 77284, \"in_attesa_seconda\": 1158, \"totale_popolazione\": 85981, \"share_ciclo_completo\": 0.8859748083878997, \"share_solo_prima\": 0.013468091787720543, \"share_missing\": 0.1005570998243798, \"lat\": 43.10675841, \"long\": 12.38824698, \"cohort\": \"80+ | Media Italia: 91%\"}, {\"fascia_anagrafica\": \"80+\", \"area\": \"VDA\", \"reg_istat_code_num\": 2, \"nome_area\": \"Valle d'Aosta\", \"ciclo_completo\": 8681, \"solo_prima\": 8857, \"in_attesa_seconda\": 178, \"totale_popolazione\": 9751, \"share_ciclo_completo\": 0.8902676648548867, \"share_solo_prima\": 0.018254537996102965, \"share_missing\": 0.0914777971490103, \"lat\": 45.73750286, \"long\": 7.320149366, \"cohort\": \"80+ | Media Italia: 91%\"}, {\"fascia_anagrafica\": \"80+\", \"area\": \"VEN\", \"reg_istat_code_num\": 5, \"nome_area\": \"Veneto\", \"ciclo_completo\": 346901, \"solo_prima\": 352025, \"in_attesa_seconda\": 6637, \"totale_popolazione\": 368984, \"share_ciclo_completo\": 0.9401518765041302, \"share_solo_prima\": 0.01798722979858205, \"share_missing\": 0.04186089369728771, \"lat\": 45.43490485, \"long\": 12.33845213, \"cohort\": \"80+ | Media Italia: 91%\"}]}}, {\"mode\": \"vega-lite\"});\n",
       "</script>"
      ],
      "text/plain": [
       "alt.Chart(...)"
      ]
     },
     "execution_count": 25,
     "metadata": {},
     "output_type": "execute_result"
    }
   ],
   "source": [
    "plot_title = alt.TitleParams(\n",
    "    f\"Percentuale di popolazione con ciclo vaccinale completo per fascia anagrafica (media Italia: {share_vax_italy:.0%})\",\n",
    "    fontSize=18,\n",
    "    subtitle=[FOOTNOTE],\n",
    "    subtitleColor='grey', subtitleFontSize=16,\n",
    "    align='left', anchor='start'\n",
    ")\n",
    "(\n",
    "    alt.Chart(regional_age_df.merge(italy_avg_per_age_df), title=plot_title)\n",
    "    .mark_geoshape()\n",
    "    .encode(\n",
    "        shape='geo:G',\n",
    "        color=alt.Color(\n",
    "            field='share_ciclo_completo',\n",
    "            type='quantitative',\n",
    "            title='Ciclo completo',\n",
    "            legend=alt.Legend(format=\".0%\", clipHeight=.2)\n",
    "        ),\n",
    "        facet=alt.Facet(\n",
    "            'cohort:N', columns=4,\n",
    "            header=alt.Header(title='', labelFontSize=15, labelFontWeight='bold')\n",
    "        ),\n",
    "        tooltip=[\n",
    "            alt.Tooltip(field='nome_area', type='nominal', title='Region'),\n",
    "            alt.Tooltip(field='fascia_anagrafica', type='nominal', title='Fascia anagrafica'),\n",
    "            alt.Tooltip(field='share_ciclo_completo', type='quantitative', format='.0%', title='Ciclo completo')\n",
    "        ],\n",
    "    )\n",
    "    .transform_lookup(\n",
    "        lookup='reg_istat_code_num',\n",
    "        from_=alt.LookupData(data=regions, key='properties.reg_istat_code_num'),\n",
    "        as_='geo'\n",
    "    )\n",
    "    .properties(width=130, height=200)\n",
    "    .configure_view(strokeOpacity=0)\n",
    "    .resolve_scale(color='independent')\n",
    "    .configure_legend(\n",
    "        gradientLength=150,\n",
    "        gradientThickness=10\n",
    "    ) \n",
    ")"
   ]
  }
 ],
 "metadata": {
  "hide_input": true,
  "kernelspec": {
   "display_name": "Python 3",
   "language": "python",
   "name": "python3"
  },
  "language_info": {
   "codemirror_mode": {
    "name": "ipython",
    "version": 3
   },
   "file_extension": ".py",
   "mimetype": "text/x-python",
   "name": "python",
   "nbconvert_exporter": "python",
   "pygments_lexer": "ipython3",
   "version": "3.7.4"
  },
  "toc": {
   "base_numbering": 1,
   "nav_menu": {},
   "number_sections": true,
   "sideBar": true,
   "skip_h1_title": false,
   "title_cell": "Table of Contents",
   "title_sidebar": "Contents",
   "toc_cell": false,
   "toc_position": {},
   "toc_section_display": true,
   "toc_window_display": false
  }
 },
 "nbformat": 4,
 "nbformat_minor": 2
}
