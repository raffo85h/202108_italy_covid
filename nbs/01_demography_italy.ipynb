{
 "cells": [
  {
   "cell_type": "code",
   "execution_count": 1,
   "metadata": {},
   "outputs": [
    {
     "data": {
      "text/html": [
       "<style>.container { width:100% !important; }</style>"
      ],
      "text/plain": [
       "<IPython.core.display.HTML object>"
      ]
     },
     "metadata": {},
     "output_type": "display_data"
    }
   ],
   "source": [
    "from IPython.core.display import display, HTML\n",
    "display(HTML(\"<style>.container { width:100% !important; }</style>\"))"
   ]
  },
  {
   "cell_type": "code",
   "execution_count": 2,
   "metadata": {},
   "outputs": [],
   "source": [
    "import os\n",
    "import pandas as pd\n",
    "from datetime import datetime\n",
    "import altair as alt\n",
    "%config Completer.use_jedi = False"
   ]
  },
  {
   "cell_type": "code",
   "execution_count": 3,
   "metadata": {},
   "outputs": [],
   "source": [
    "BASE_PATH = '../../covid19-opendata-vaccini/dati'\n",
    "AGE_ORDER = ['12-19', '20-29', '30-39', '40-49', '50-59', '60-69', '70-79', '80+']\n",
    "FOOTNOTE = 'Grafico @RaffoRaffo85 | Dati aggiornati {}'.format(datetime.today().strftime('%Y-%m-%d'))"
   ]
  },
  {
   "cell_type": "code",
   "execution_count": 4,
   "metadata": {},
   "outputs": [],
   "source": [
    "def get_tot_per_region(df):\n",
    "    tt_df = (\n",
    "        df\n",
    "        .groupby('area', as_index=False)\n",
    "        .totale_popolazione\n",
    "        .sum()\n",
    "        .rename(columns={'totale_popolazione': 'tot_reg'})\n",
    "    )\n",
    "    return df.merge(tt_df, on='area', how='left')"
   ]
  },
  {
   "cell_type": "code",
   "execution_count": 5,
   "metadata": {},
   "outputs": [],
   "source": [
    "demography_region_df = (\n",
    "    pd.read_csv(os.path.join(BASE_PATH, 'platea.csv'))\n",
    "    .pipe(get_tot_per_region)\n",
    "    .assign(share=lambda x: x.totale_popolazione/x.tot_reg)\n",
    ")\n",
    "demography_all_df = (\n",
    "    demography_region_df\n",
    "    .groupby('fascia_anagrafica', as_index=False)\n",
    "    .totale_popolazione\n",
    "    .sum()\n",
    "    .assign(share=lambda x: x.totale_popolazione/x.totale_popolazione.sum())\n",
    ")"
   ]
  },
  {
   "cell_type": "code",
   "execution_count": 6,
   "metadata": {},
   "outputs": [
    {
     "data": {
      "text/html": [
       "\n",
       "<div id=\"altair-viz-e2ff82e76b6e4ca69d7b97236483b1b2\"></div>\n",
       "<script type=\"text/javascript\">\n",
       "  (function(spec, embedOpt){\n",
       "    let outputDiv = document.currentScript.previousElementSibling;\n",
       "    if (outputDiv.id !== \"altair-viz-e2ff82e76b6e4ca69d7b97236483b1b2\") {\n",
       "      outputDiv = document.getElementById(\"altair-viz-e2ff82e76b6e4ca69d7b97236483b1b2\");\n",
       "    }\n",
       "    const paths = {\n",
       "      \"vega\": \"https://cdn.jsdelivr.net/npm//vega@5?noext\",\n",
       "      \"vega-lib\": \"https://cdn.jsdelivr.net/npm//vega-lib?noext\",\n",
       "      \"vega-lite\": \"https://cdn.jsdelivr.net/npm//vega-lite@4.8.1?noext\",\n",
       "      \"vega-embed\": \"https://cdn.jsdelivr.net/npm//vega-embed@6?noext\",\n",
       "    };\n",
       "\n",
       "    function loadScript(lib) {\n",
       "      return new Promise(function(resolve, reject) {\n",
       "        var s = document.createElement('script');\n",
       "        s.src = paths[lib];\n",
       "        s.async = true;\n",
       "        s.onload = () => resolve(paths[lib]);\n",
       "        s.onerror = () => reject(`Error loading script: ${paths[lib]}`);\n",
       "        document.getElementsByTagName(\"head\")[0].appendChild(s);\n",
       "      });\n",
       "    }\n",
       "\n",
       "    function showError(err) {\n",
       "      outputDiv.innerHTML = `<div class=\"error\" style=\"color:red;\">${err}</div>`;\n",
       "      throw err;\n",
       "    }\n",
       "\n",
       "    function displayChart(vegaEmbed) {\n",
       "      vegaEmbed(outputDiv, spec, embedOpt)\n",
       "        .catch(err => showError(`Javascript Error: ${err.message}<br>This usually means there's a typo in your chart specification. See the javascript console for the full traceback.`));\n",
       "    }\n",
       "\n",
       "    if(typeof define === \"function\" && define.amd) {\n",
       "      requirejs.config({paths});\n",
       "      require([\"vega-embed\"], displayChart, err => showError(`Error loading script: ${err.message}`));\n",
       "    } else if (typeof vegaEmbed === \"function\") {\n",
       "      displayChart(vegaEmbed);\n",
       "    } else {\n",
       "      loadScript(\"vega\")\n",
       "        .then(() => loadScript(\"vega-lite\"))\n",
       "        .then(() => loadScript(\"vega-embed\"))\n",
       "        .catch(showError)\n",
       "        .then(() => displayChart(vegaEmbed));\n",
       "    }\n",
       "  })({\"config\": {\"view\": {\"continuousWidth\": 400, \"continuousHeight\": 300}}, \"data\": {\"name\": \"data-b186de817886436d3160f24a36cdf768\"}, \"mark\": \"bar\", \"encoding\": {\"x\": {\"type\": \"quantitative\", \"axis\": {\"format\": \".0%\"}, \"field\": \"share\", \"title\": \"Percentuale popolazione\"}, \"y\": {\"type\": \"nominal\", \"field\": \"fascia_anagrafica\", \"title\": \"Fascia d'et\\u00e1\"}}, \"$schema\": \"https://vega.github.io/schema/vega-lite/v4.8.1.json\", \"datasets\": {\"data-b186de817886436d3160f24a36cdf768\": [{\"fascia_anagrafica\": \"12-19\", \"totale_popolazione\": 4627514, \"share\": 0.08567893401990326}, {\"fascia_anagrafica\": \"20-29\", \"totale_popolazione\": 6013709, \"share\": 0.11134448790990117}, {\"fascia_anagrafica\": \"30-39\", \"totale_popolazione\": 6794332, \"share\": 0.12579780917730715}, {\"fascia_anagrafica\": \"40-49\", \"totale_popolazione\": 8786975, \"share\": 0.16269181492687856}, {\"fascia_anagrafica\": \"50-59\", \"totale_popolazione\": 9651130, \"share\": 0.17869174042207306}, {\"fascia_anagrafica\": \"60-69\", \"totale_popolazione\": 7553486, \"share\": 0.13985362953289024}, {\"fascia_anagrafica\": \"70-79\", \"totale_popolazione\": 6019293, \"share\": 0.1114478762881032}, {\"fascia_anagrafica\": \"80+\", \"totale_popolazione\": 4563500, \"share\": 0.08449370772294336}]}}, {\"mode\": \"vega-lite\"});\n",
       "</script>"
      ],
      "text/plain": [
       "alt.Chart(...)"
      ]
     },
     "execution_count": 6,
     "metadata": {},
     "output_type": "execute_result"
    }
   ],
   "source": [
    "(\n",
    "    alt.Chart(demography_all_df)\n",
    "    .mark_bar()\n",
    "    .encode(\n",
    "        x=alt.X('share:Q', axis=alt.Axis(format='.0%'), title='Percentuale popolazione'),\n",
    "        y=alt.Y('fascia_anagrafica:N', title='Fascia d\\'etá')\n",
    "    )\n",
    ")"
   ]
  },
  {
   "cell_type": "code",
   "execution_count": 7,
   "metadata": {},
   "outputs": [
    {
     "data": {
      "text/html": [
       "\n",
       "<div id=\"altair-viz-a425041a71ab4cfd88ef1eb4a460d045\"></div>\n",
       "<script type=\"text/javascript\">\n",
       "  (function(spec, embedOpt){\n",
       "    let outputDiv = document.currentScript.previousElementSibling;\n",
       "    if (outputDiv.id !== \"altair-viz-a425041a71ab4cfd88ef1eb4a460d045\") {\n",
       "      outputDiv = document.getElementById(\"altair-viz-a425041a71ab4cfd88ef1eb4a460d045\");\n",
       "    }\n",
       "    const paths = {\n",
       "      \"vega\": \"https://cdn.jsdelivr.net/npm//vega@5?noext\",\n",
       "      \"vega-lib\": \"https://cdn.jsdelivr.net/npm//vega-lib?noext\",\n",
       "      \"vega-lite\": \"https://cdn.jsdelivr.net/npm//vega-lite@4.8.1?noext\",\n",
       "      \"vega-embed\": \"https://cdn.jsdelivr.net/npm//vega-embed@6?noext\",\n",
       "    };\n",
       "\n",
       "    function loadScript(lib) {\n",
       "      return new Promise(function(resolve, reject) {\n",
       "        var s = document.createElement('script');\n",
       "        s.src = paths[lib];\n",
       "        s.async = true;\n",
       "        s.onload = () => resolve(paths[lib]);\n",
       "        s.onerror = () => reject(`Error loading script: ${paths[lib]}`);\n",
       "        document.getElementsByTagName(\"head\")[0].appendChild(s);\n",
       "      });\n",
       "    }\n",
       "\n",
       "    function showError(err) {\n",
       "      outputDiv.innerHTML = `<div class=\"error\" style=\"color:red;\">${err}</div>`;\n",
       "      throw err;\n",
       "    }\n",
       "\n",
       "    function displayChart(vegaEmbed) {\n",
       "      vegaEmbed(outputDiv, spec, embedOpt)\n",
       "        .catch(err => showError(`Javascript Error: ${err.message}<br>This usually means there's a typo in your chart specification. See the javascript console for the full traceback.`));\n",
       "    }\n",
       "\n",
       "    if(typeof define === \"function\" && define.amd) {\n",
       "      requirejs.config({paths});\n",
       "      require([\"vega-embed\"], displayChart, err => showError(`Error loading script: ${err.message}`));\n",
       "    } else if (typeof vegaEmbed === \"function\") {\n",
       "      displayChart(vegaEmbed);\n",
       "    } else {\n",
       "      loadScript(\"vega\")\n",
       "        .then(() => loadScript(\"vega-lite\"))\n",
       "        .then(() => loadScript(\"vega-embed\"))\n",
       "        .catch(showError)\n",
       "        .then(() => displayChart(vegaEmbed));\n",
       "    }\n",
       "  })({\"config\": {\"view\": {\"continuousWidth\": 400, \"continuousHeight\": 300, \"stroke\": null}, \"facet\": {\"spacing\": 3}}, \"data\": {\"name\": \"data-2d0894de47b1e4a080141a4f411dcc9e\"}, \"mark\": {\"type\": \"circle\", \"size\": 30}, \"encoding\": {\"row\": {\"type\": \"nominal\", \"field\": \"fascia_anagrafica\", \"header\": {\"labelAngle\": 0, \"labelFontWeight\": \"bold\", \"labelPadding\": -16}, \"title\": \"\"}, \"tooltip\": [{\"type\": \"nominal\", \"field\": \"nome_area\"}, {\"type\": \"nominal\", \"field\": \"fascia_anagrafica\"}, {\"type\": \"quantitative\", \"field\": \"share\", \"format\": \".0%\"}], \"x\": {\"type\": \"quantitative\", \"axis\": {\"format\": \".0%\"}, \"field\": \"share\", \"title\": \"Percentuale popolazione, per regione\"}, \"y\": {\"type\": \"quantitative\", \"axis\": {\"grid\": false, \"labels\": false, \"ticks\": true}, \"field\": \"jitter\", \"title\": null}}, \"height\": 20, \"transform\": [{\"calculate\": \"sqrt(-2*log(random()))*cos(2*PI*random())\", \"as\": \"jitter\"}], \"width\": 480, \"$schema\": \"https://vega.github.io/schema/vega-lite/v4.8.1.json\", \"datasets\": {\"data-2d0894de47b1e4a080141a4f411dcc9e\": [{\"area\": \"ABR\", \"nome_area\": \"Abruzzo\", \"fascia_anagrafica\": \"12-19\", \"totale_popolazione\": 94727, \"tot_reg\": 1188922, \"share\": 0.07967469691031034}, {\"area\": \"ABR\", \"nome_area\": \"Abruzzo\", \"fascia_anagrafica\": \"20-29\", \"totale_popolazione\": 125230, \"tot_reg\": 1188922, \"share\": 0.10533071135028202}, {\"area\": \"ABR\", \"nome_area\": \"Abruzzo\", \"fascia_anagrafica\": \"30-39\", \"totale_popolazione\": 146965, \"tot_reg\": 1188922, \"share\": 0.12361197790940028}, {\"area\": \"ABR\", \"nome_area\": \"Abruzzo\", \"fascia_anagrafica\": \"40-49\", \"totale_popolazione\": 187162, \"tot_reg\": 1188922, \"share\": 0.15742159704337205}, {\"area\": \"ABR\", \"nome_area\": \"Abruzzo\", \"fascia_anagrafica\": \"50-59\", \"totale_popolazione\": 208686, \"tot_reg\": 1188922, \"share\": 0.1755253919096459}, {\"area\": \"ABR\", \"nome_area\": \"Abruzzo\", \"fascia_anagrafica\": \"60-69\", \"totale_popolazione\": 171793, \"tot_reg\": 1188922, \"share\": 0.14449476080011978}, {\"area\": \"ABR\", \"nome_area\": \"Abruzzo\", \"fascia_anagrafica\": \"70-79\", \"totale_popolazione\": 137406, \"tot_reg\": 1188922, \"share\": 0.1155719214548978}, {\"area\": \"ABR\", \"nome_area\": \"Abruzzo\", \"fascia_anagrafica\": \"80+\", \"totale_popolazione\": 116953, \"tot_reg\": 1188922, \"share\": 0.09836894262197184}, {\"area\": \"BAS\", \"nome_area\": \"Basilicata\", \"fascia_anagrafica\": \"12-19\", \"totale_popolazione\": 40947, \"tot_reg\": 494881, \"share\": 0.08274110341678101}, {\"area\": \"BAS\", \"nome_area\": \"Basilicata\", \"fascia_anagrafica\": \"20-29\", \"totale_popolazione\": 56285, \"tot_reg\": 494881, \"share\": 0.11373441291946954}, {\"area\": \"BAS\", \"nome_area\": \"Basilicata\", \"fascia_anagrafica\": \"30-39\", \"totale_popolazione\": 61028, \"tot_reg\": 494881, \"share\": 0.12331853516299879}, {\"area\": \"BAS\", \"nome_area\": \"Basilicata\", \"fascia_anagrafica\": \"40-49\", \"totale_popolazione\": 74989, \"tot_reg\": 494881, \"share\": 0.1515293575627272}, {\"area\": \"BAS\", \"nome_area\": \"Basilicata\", \"fascia_anagrafica\": \"50-59\", \"totale_popolazione\": 88137, \"tot_reg\": 494881, \"share\": 0.17809736077966218}, {\"area\": \"BAS\", \"nome_area\": \"Basilicata\", \"fascia_anagrafica\": \"60-69\", \"totale_popolazione\": 75455, \"tot_reg\": 494881, \"share\": 0.1524709980783259}, {\"area\": \"BAS\", \"nome_area\": \"Basilicata\", \"fascia_anagrafica\": \"70-79\", \"totale_popolazione\": 51805, \"tot_reg\": 494881, \"share\": 0.10468173156779105}, {\"area\": \"BAS\", \"nome_area\": \"Basilicata\", \"fascia_anagrafica\": \"80+\", \"totale_popolazione\": 46235, \"tot_reg\": 494881, \"share\": 0.09342650051224435}, {\"area\": \"CAL\", \"nome_area\": \"Calabria\", \"fascia_anagrafica\": \"12-19\", \"totale_popolazione\": 147409, \"tot_reg\": 1689716, \"share\": 0.08723892062334736}, {\"area\": \"CAL\", \"nome_area\": \"Calabria\", \"fascia_anagrafica\": \"20-29\", \"totale_popolazione\": 199746, \"tot_reg\": 1689716, \"share\": 0.11821276474863232}, {\"area\": \"CAL\", \"nome_area\": \"Calabria\", \"fascia_anagrafica\": \"30-39\", \"totale_popolazione\": 223632, \"tot_reg\": 1689716, \"share\": 0.13234886809380986}, {\"area\": \"CAL\", \"nome_area\": \"Calabria\", \"fascia_anagrafica\": \"40-49\", \"totale_popolazione\": 260182, \"tot_reg\": 1689716, \"share\": 0.15397972203612914}, {\"area\": \"CAL\", \"nome_area\": \"Calabria\", \"fascia_anagrafica\": \"50-59\", \"totale_popolazione\": 287366, \"tot_reg\": 1689716, \"share\": 0.1700676326672648}, {\"area\": \"CAL\", \"nome_area\": \"Calabria\", \"fascia_anagrafica\": \"60-69\", \"totale_popolazione\": 246965, \"tot_reg\": 1689716, \"share\": 0.14615769750656324}, {\"area\": \"CAL\", \"nome_area\": \"Calabria\", \"fascia_anagrafica\": \"70-79\", \"totale_popolazione\": 185899, \"tot_reg\": 1689716, \"share\": 0.11001789649858319}, {\"area\": \"CAL\", \"nome_area\": \"Calabria\", \"fascia_anagrafica\": \"80+\", \"totale_popolazione\": 138517, \"tot_reg\": 1689716, \"share\": 0.08197649782567011}, {\"area\": \"CAM\", \"nome_area\": \"Campania\", \"fascia_anagrafica\": \"12-19\", \"totale_popolazione\": 506070, \"tot_reg\": 5104347, \"share\": 0.09914490531305964}, {\"area\": \"CAM\", \"nome_area\": \"Campania\", \"fascia_anagrafica\": \"20-29\", \"totale_popolazione\": 683538, \"tot_reg\": 5104347, \"share\": 0.13391291775422007}, {\"area\": \"CAM\", \"nome_area\": \"Campania\", \"fascia_anagrafica\": \"30-39\", \"totale_popolazione\": 712913, \"tot_reg\": 5104347, \"share\": 0.13966781647094134}, {\"area\": \"CAM\", \"nome_area\": \"Campania\", \"fascia_anagrafica\": \"40-49\", \"totale_popolazione\": 828348, \"tot_reg\": 5104347, \"share\": 0.1622828542025062}, {\"area\": \"CAM\", \"nome_area\": \"Campania\", \"fascia_anagrafica\": \"50-59\", \"totale_popolazione\": 891415, \"tot_reg\": 5104347, \"share\": 0.17463840134693037}, {\"area\": \"CAM\", \"nome_area\": \"Campania\", \"fascia_anagrafica\": \"60-69\", \"totale_popolazione\": 700326, \"tot_reg\": 5104347, \"share\": 0.13720187910422235}, {\"area\": \"CAM\", \"nome_area\": \"Campania\", \"fascia_anagrafica\": \"70-79\", \"totale_popolazione\": 477420, \"tot_reg\": 5104347, \"share\": 0.0935320423944532}, {\"area\": \"CAM\", \"nome_area\": \"Campania\", \"fascia_anagrafica\": \"80+\", \"totale_popolazione\": 304317, \"tot_reg\": 5104347, \"share\": 0.05961918341366682}, {\"area\": \"EMR\", \"nome_area\": \"Emilia-Romagna\", \"fascia_anagrafica\": \"12-19\", \"totale_popolazione\": 327410, \"tot_reg\": 3998400, \"share\": 0.08188525410164066}, {\"area\": \"EMR\", \"nome_area\": \"Emilia-Romagna\", \"fascia_anagrafica\": \"20-29\", \"totale_popolazione\": 419909, \"tot_reg\": 3998400, \"share\": 0.10501925770308124}, {\"area\": \"EMR\", \"nome_area\": \"Emilia-Romagna\", \"fascia_anagrafica\": \"30-39\", \"totale_popolazione\": 488934, \"tot_reg\": 3998400, \"share\": 0.12228241296518608}, {\"area\": \"EMR\", \"nome_area\": \"Emilia-Romagna\", \"fascia_anagrafica\": \"40-49\", \"totale_popolazione\": 667770, \"tot_reg\": 3998400, \"share\": 0.1670093037214886}, {\"area\": \"EMR\", \"nome_area\": \"Emilia-Romagna\", \"fascia_anagrafica\": \"50-59\", \"totale_popolazione\": 716729, \"tot_reg\": 3998400, \"share\": 0.17925395158063226}, {\"area\": \"EMR\", \"nome_area\": \"Emilia-Romagna\", \"fascia_anagrafica\": \"60-69\", \"totale_popolazione\": 551239, \"tot_reg\": 3998400, \"share\": 0.13786489595838336}, {\"area\": \"EMR\", \"nome_area\": \"Emilia-Romagna\", \"fascia_anagrafica\": \"70-79\", \"totale_popolazione\": 455912, \"tot_reg\": 3998400, \"share\": 0.11402360944377751}, {\"area\": \"EMR\", \"nome_area\": \"Emilia-Romagna\", \"fascia_anagrafica\": \"80+\", \"totale_popolazione\": 370497, \"tot_reg\": 3998400, \"share\": 0.09266131452581032}, {\"area\": \"FVG\", \"nome_area\": \"Friuli-Venezia Giulia\", \"fascia_anagrafica\": \"12-19\", \"totale_popolazione\": 85565, \"tot_reg\": 1088152, \"share\": 0.07863331593380336}, {\"area\": \"FVG\", \"nome_area\": \"Friuli-Venezia Giulia\", \"fascia_anagrafica\": \"20-29\", \"totale_popolazione\": 108149, \"tot_reg\": 1088152, \"share\": 0.09938776935575178}, {\"area\": \"FVG\", \"nome_area\": \"Friuli-Venezia Giulia\", \"fascia_anagrafica\": \"30-39\", \"totale_popolazione\": 121714, \"tot_reg\": 1088152, \"share\": 0.11185385865210007}, {\"area\": \"FVG\", \"nome_area\": \"Friuli-Venezia Giulia\", \"fascia_anagrafica\": \"40-49\", \"totale_popolazione\": 170017, \"tot_reg\": 1088152, \"share\": 0.15624379682250275}, {\"area\": \"FVG\", \"nome_area\": \"Friuli-Venezia Giulia\", \"fascia_anagrafica\": \"50-59\", \"totale_popolazione\": 199155, \"tot_reg\": 1088152, \"share\": 0.18302130584697726}, {\"area\": \"FVG\", \"nome_area\": \"Friuli-Venezia Giulia\", \"fascia_anagrafica\": \"60-69\", \"totale_popolazione\": 157635, \"tot_reg\": 1088152, \"share\": 0.14486487181937818}, {\"area\": \"FVG\", \"nome_area\": \"Friuli-Venezia Giulia\", \"fascia_anagrafica\": \"70-79\", \"totale_popolazione\": 140238, \"tot_reg\": 1088152, \"share\": 0.1288772156831031}, {\"area\": \"FVG\", \"nome_area\": \"Friuli-Venezia Giulia\", \"fascia_anagrafica\": \"80+\", \"totale_popolazione\": 105679, \"tot_reg\": 1088152, \"share\": 0.09711786588638352}, {\"area\": \"LAZ\", \"nome_area\": \"Lazio\", \"fascia_anagrafica\": \"12-19\", \"totale_popolazione\": 431221, \"tot_reg\": 5147533, \"share\": 0.08377236241127546}, {\"area\": \"LAZ\", \"nome_area\": \"Lazio\", \"fascia_anagrafica\": \"20-29\", \"totale_popolazione\": 558855, \"tot_reg\": 5147533, \"share\": 0.10856754099488046}, {\"area\": \"LAZ\", \"nome_area\": \"Lazio\", \"fascia_anagrafica\": \"30-39\", \"totale_popolazione\": 665641, \"tot_reg\": 5147533, \"share\": 0.12931262412499347}, {\"area\": \"LAZ\", \"nome_area\": \"Lazio\", \"fascia_anagrafica\": \"40-49\", \"totale_popolazione\": 879906, \"tot_reg\": 5147533, \"share\": 0.1709374179825559}, {\"area\": \"LAZ\", \"nome_area\": \"Lazio\", \"fascia_anagrafica\": \"50-59\", \"totale_popolazione\": 940470, \"tot_reg\": 5147533, \"share\": 0.1827030540649278}, {\"area\": \"LAZ\", \"nome_area\": \"Lazio\", \"fascia_anagrafica\": \"60-69\", \"totale_popolazione\": 707706, \"tot_reg\": 5147533, \"share\": 0.13748449985653322}, {\"area\": \"LAZ\", \"nome_area\": \"Lazio\", \"fascia_anagrafica\": \"70-79\", \"totale_popolazione\": 551447, \"tot_reg\": 5147533, \"share\": 0.10712840500488292}, {\"area\": \"LAZ\", \"nome_area\": \"Lazio\", \"fascia_anagrafica\": \"80+\", \"totale_popolazione\": 412287, \"tot_reg\": 5147533, \"share\": 0.08009409555995076}, {\"area\": \"LIG\", \"nome_area\": \"Liguria\", \"fascia_anagrafica\": \"12-19\", \"totale_popolazione\": 104067, \"tot_reg\": 1399466, \"share\": 0.07436193519528163}, {\"area\": \"LIG\", \"nome_area\": \"Liguria\", \"fascia_anagrafica\": \"20-29\", \"totale_popolazione\": 135690, \"tot_reg\": 1399466, \"share\": 0.09695841127973098}, {\"area\": \"LIG\", \"nome_area\": \"Liguria\", \"fascia_anagrafica\": \"30-39\", \"totale_popolazione\": 149277, \"tot_reg\": 1399466, \"share\": 0.10666711445651413}, {\"area\": \"LIG\", \"nome_area\": \"Liguria\", \"fascia_anagrafica\": \"40-49\", \"totale_popolazione\": 205625, \"tot_reg\": 1399466, \"share\": 0.1469310436980963}, {\"area\": \"LIG\", \"nome_area\": \"Liguria\", \"fascia_anagrafica\": \"50-59\", \"totale_popolazione\": 258629, \"tot_reg\": 1399466, \"share\": 0.18480549009407873}, {\"area\": \"LIG\", \"nome_area\": \"Liguria\", \"fascia_anagrafica\": \"60-69\", \"totale_popolazione\": 207406, \"tot_reg\": 1399466, \"share\": 0.1482036719720236}, {\"area\": \"LIG\", \"nome_area\": \"Liguria\", \"fascia_anagrafica\": \"70-79\", \"totale_popolazione\": 182496, \"tot_reg\": 1399466, \"share\": 0.13040402553545424}, {\"area\": \"LIG\", \"nome_area\": \"Liguria\", \"fascia_anagrafica\": \"80+\", \"totale_popolazione\": 156276, \"tot_reg\": 1399466, \"share\": 0.11166830776882039}, {\"area\": \"LOM\", \"nome_area\": \"Lombardia\", \"fascia_anagrafica\": \"12-19\", \"totale_popolazione\": 794486, \"tot_reg\": 9246804, \"share\": 0.08592006492189085}, {\"area\": \"LOM\", \"nome_area\": \"Lombardia\", \"fascia_anagrafica\": \"20-29\", \"totale_popolazione\": 997448, \"tot_reg\": 9246804, \"share\": 0.1078694865815259}, {\"area\": \"LOM\", \"nome_area\": \"Lombardia\", \"fascia_anagrafica\": \"30-39\", \"totale_popolazione\": 1198955, \"tot_reg\": 9246804, \"share\": 0.12966155657673722}, {\"area\": \"LOM\", \"nome_area\": \"Lombardia\", \"fascia_anagrafica\": \"40-49\", \"totale_popolazione\": 1565547, \"tot_reg\": 9246804, \"share\": 0.16930682211929657}, {\"area\": \"LOM\", \"nome_area\": \"Lombardia\", \"fascia_anagrafica\": \"50-59\", \"totale_popolazione\": 1677629, \"tot_reg\": 9246804, \"share\": 0.1814279831171938}, {\"area\": \"LOM\", \"nome_area\": \"Lombardia\", \"fascia_anagrafica\": \"60-69\", \"totale_popolazione\": 1240919, \"tot_reg\": 9246804, \"share\": 0.13419977324057047}, {\"area\": \"LOM\", \"nome_area\": \"Lombardia\", \"fascia_anagrafica\": \"70-79\", \"totale_popolazione\": 1006561, \"tot_reg\": 9246804, \"share\": 0.10885501628454546}, {\"area\": \"LOM\", \"nome_area\": \"Lombardia\", \"fascia_anagrafica\": \"80+\", \"totale_popolazione\": 765259, \"tot_reg\": 9246804, \"share\": 0.08275929715823975}, {\"area\": \"MAR\", \"nome_area\": \"Marche\", \"fascia_anagrafica\": \"12-19\", \"totale_popolazione\": 113059, \"tot_reg\": 1366477, \"share\": 0.08273757992267708}, {\"area\": \"MAR\", \"nome_area\": \"Marche\", \"fascia_anagrafica\": \"20-29\", \"totale_popolazione\": 143083, \"tot_reg\": 1366477, \"share\": 0.10470940967173249}, {\"area\": \"MAR\", \"nome_area\": \"Marche\", \"fascia_anagrafica\": \"30-39\", \"totale_popolazione\": 162308, \"tot_reg\": 1366477, \"share\": 0.11877843534871059}, {\"area\": \"MAR\", \"nome_area\": \"Marche\", \"fascia_anagrafica\": \"40-49\", \"totale_popolazione\": 221299, \"tot_reg\": 1366477, \"share\": 0.16194857286291683}, {\"area\": \"MAR\", \"nome_area\": \"Marche\", \"fascia_anagrafica\": \"50-59\", \"totale_popolazione\": 240946, \"tot_reg\": 1366477, \"share\": 0.17632642188635447}, {\"area\": \"MAR\", \"nome_area\": \"Marche\", \"fascia_anagrafica\": \"60-69\", \"totale_popolazione\": 196477, \"tot_reg\": 1366477, \"share\": 0.1437836128965215}, {\"area\": \"MAR\", \"nome_area\": \"Marche\", \"fascia_anagrafica\": \"70-79\", \"totale_popolazione\": 155940, \"tot_reg\": 1366477, \"share\": 0.1141182764144585}, {\"area\": \"MAR\", \"nome_area\": \"Marche\", \"fascia_anagrafica\": \"80+\", \"totale_popolazione\": 133365, \"tot_reg\": 1366477, \"share\": 0.09759769099662856}, {\"area\": \"MOL\", \"nome_area\": \"Molise\", \"fascia_anagrafica\": \"12-19\", \"totale_popolazione\": 20497, \"tot_reg\": 273317, \"share\": 0.07499350570948751}, {\"area\": \"MOL\", \"nome_area\": \"Molise\", \"fascia_anagrafica\": \"20-29\", \"totale_popolazione\": 32122, \"tot_reg\": 273317, \"share\": 0.11752653512222072}, {\"area\": \"MOL\", \"nome_area\": \"Molise\", \"fascia_anagrafica\": \"30-39\", \"totale_popolazione\": 34661, \"tot_reg\": 273317, \"share\": 0.12681611462148348}, {\"area\": \"MOL\", \"nome_area\": \"Molise\", \"fascia_anagrafica\": \"40-49\", \"totale_popolazione\": 40266, \"tot_reg\": 273317, \"share\": 0.1473234376200529}, {\"area\": \"MOL\", \"nome_area\": \"Molise\", \"fascia_anagrafica\": \"50-59\", \"totale_popolazione\": 46723, \"tot_reg\": 273317, \"share\": 0.17094802006461363}, {\"area\": \"MOL\", \"nome_area\": \"Molise\", \"fascia_anagrafica\": \"60-69\", \"totale_popolazione\": 40925, \"tot_reg\": 273317, \"share\": 0.14973455730891236}, {\"area\": \"MOL\", \"nome_area\": \"Molise\", \"fascia_anagrafica\": \"70-79\", \"totale_popolazione\": 30901, \"tot_reg\": 273317, \"share\": 0.11305919500067688}, {\"area\": \"MOL\", \"nome_area\": \"Molise\", \"fascia_anagrafica\": \"80+\", \"totale_popolazione\": 27222, \"tot_reg\": 273317, \"share\": 0.09959863455255254}, {\"area\": \"PAB\", \"nome_area\": \"P.A. Bolzano\", \"fascia_anagrafica\": \"12-19\", \"totale_popolazione\": 45547, \"tot_reg\": 465181, \"share\": 0.09791242548599362}, {\"area\": \"PAB\", \"nome_area\": \"P.A. Bolzano\", \"fascia_anagrafica\": \"20-29\", \"totale_popolazione\": 59568, \"tot_reg\": 465181, \"share\": 0.12805338137198208}, {\"area\": \"PAB\", \"nome_area\": \"P.A. Bolzano\", \"fascia_anagrafica\": \"30-39\", \"totale_popolazione\": 61738, \"tot_reg\": 465181, \"share\": 0.1327182322579813}, {\"area\": \"PAB\", \"nome_area\": \"P.A. Bolzano\", \"fascia_anagrafica\": \"40-49\", \"totale_popolazione\": 74448, \"tot_reg\": 465181, \"share\": 0.16004093030454813}, {\"area\": \"PAB\", \"nome_area\": \"P.A. Bolzano\", \"fascia_anagrafica\": \"50-59\", \"totale_popolazione\": 84804, \"tot_reg\": 465181, \"share\": 0.1823032325051969}, {\"area\": \"PAB\", \"nome_area\": \"P.A. Bolzano\", \"fascia_anagrafica\": \"60-69\", \"totale_popolazione\": 58927, \"tot_reg\": 465181, \"share\": 0.12667542311487356}, {\"area\": \"PAB\", \"nome_area\": \"P.A. Bolzano\", \"fascia_anagrafica\": \"70-79\", \"totale_popolazione\": 46417, \"tot_reg\": 465181, \"share\": 0.09978266524213156}, {\"area\": \"PAB\", \"nome_area\": \"P.A. Bolzano\", \"fascia_anagrafica\": \"80+\", \"totale_popolazione\": 33732, \"tot_reg\": 465181, \"share\": 0.07251370971729283}, {\"area\": \"PAT\", \"nome_area\": \"P.A. Trento\", \"fascia_anagrafica\": \"12-19\", \"totale_popolazione\": 44257, \"tot_reg\": 481359, \"share\": 0.09194177318799482}, {\"area\": \"PAT\", \"nome_area\": \"P.A. Trento\", \"fascia_anagrafica\": \"20-29\", \"totale_popolazione\": 57300, \"tot_reg\": 481359, \"share\": 0.11903797373685752}, {\"area\": \"PAT\", \"nome_area\": \"P.A. Trento\", \"fascia_anagrafica\": \"30-39\", \"totale_popolazione\": 59852, \"tot_reg\": 481359, \"share\": 0.12433963008897725}, {\"area\": \"PAT\", \"nome_area\": \"P.A. Trento\", \"fascia_anagrafica\": \"40-49\", \"totale_popolazione\": 74852, \"tot_reg\": 481359, \"share\": 0.1555014033185211}, {\"area\": \"PAT\", \"nome_area\": \"P.A. Trento\", \"fascia_anagrafica\": \"50-59\", \"totale_popolazione\": 85734, \"tot_reg\": 481359, \"share\": 0.17810823107078086}, {\"area\": \"PAT\", \"nome_area\": \"P.A. Trento\", \"fascia_anagrafica\": \"60-69\", \"totale_popolazione\": 68045, \"tot_reg\": 481359, \"share\": 0.1413601906269541}, {\"area\": \"PAT\", \"nome_area\": \"P.A. Trento\", \"fascia_anagrafica\": \"70-79\", \"totale_popolazione\": 52500, \"tot_reg\": 481359, \"share\": 0.1090662063034035}, {\"area\": \"PAT\", \"nome_area\": \"P.A. Trento\", \"fascia_anagrafica\": \"80+\", \"totale_popolazione\": 38819, \"tot_reg\": 481359, \"share\": 0.08064459166651086}, {\"area\": \"PIE\", \"nome_area\": \"Piemonte\", \"fascia_anagrafica\": \"12-19\", \"totale_popolazione\": 310481, \"tot_reg\": 3927641, \"share\": 0.07905024924630331}, {\"area\": \"PIE\", \"nome_area\": \"Piemonte\", \"fascia_anagrafica\": \"20-29\", \"totale_popolazione\": 410270, \"tot_reg\": 3927641, \"share\": 0.10445710287676496}, {\"area\": \"PIE\", \"nome_area\": \"Piemonte\", \"fascia_anagrafica\": \"30-39\", \"totale_popolazione\": 456855, \"tot_reg\": 3927641, \"share\": 0.11631791194765509}, {\"area\": \"PIE\", \"nome_area\": \"Piemonte\", \"fascia_anagrafica\": \"40-49\", \"totale_popolazione\": 613820, \"tot_reg\": 3927641, \"share\": 0.15628210419434974}, {\"area\": \"PIE\", \"nome_area\": \"Piemonte\", \"fascia_anagrafica\": \"50-59\", \"totale_popolazione\": 704089, \"tot_reg\": 3927641, \"share\": 0.17926511104248072}, {\"area\": \"PIE\", \"nome_area\": \"Piemonte\", \"fascia_anagrafica\": \"60-69\", \"totale_popolazione\": 567486, \"tot_reg\": 3927641, \"share\": 0.14448520116782568}, {\"area\": \"PIE\", \"nome_area\": \"Piemonte\", \"fascia_anagrafica\": \"70-79\", \"totale_popolazione\": 484838, \"tot_reg\": 3927641, \"share\": 0.12344254477433146}, {\"area\": \"PIE\", \"nome_area\": \"Piemonte\", \"fascia_anagrafica\": \"80+\", \"totale_popolazione\": 379802, \"tot_reg\": 3927641, \"share\": 0.09669977475028904}, {\"area\": \"PUG\", \"nome_area\": \"Puglia\", \"fascia_anagrafica\": \"12-19\", \"totale_popolazione\": 321188, \"tot_reg\": 3572053, \"share\": 0.089916918925895}, {\"area\": \"PUG\", \"nome_area\": \"Puglia\", \"fascia_anagrafica\": \"20-29\", \"totale_popolazione\": 429227, \"tot_reg\": 3572053, \"share\": 0.1201625507796217}, {\"area\": \"PUG\", \"nome_area\": \"Puglia\", \"fascia_anagrafica\": \"30-39\", \"totale_popolazione\": 457889, \"tot_reg\": 3572053, \"share\": 0.12818650787096383}, {\"area\": \"PUG\", \"nome_area\": \"Puglia\", \"fascia_anagrafica\": \"40-49\", \"totale_popolazione\": 574973, \"tot_reg\": 3572053, \"share\": 0.16096429700231213}, {\"area\": \"PUG\", \"nome_area\": \"Puglia\", \"fascia_anagrafica\": \"50-59\", \"totale_popolazione\": 626206, \"tot_reg\": 3572053, \"share\": 0.17530702931899386}, {\"area\": \"PUG\", \"nome_area\": \"Puglia\", \"fascia_anagrafica\": \"60-69\", \"totale_popolazione\": 494337, \"tot_reg\": 3572053, \"share\": 0.13839016386375005}, {\"area\": \"PUG\", \"nome_area\": \"Puglia\", \"fascia_anagrafica\": \"70-79\", \"totale_popolazione\": 395276, \"tot_reg\": 3572053, \"share\": 0.11065793256706997}, {\"area\": \"PUG\", \"nome_area\": \"Puglia\", \"fascia_anagrafica\": \"80+\", \"totale_popolazione\": 272957, \"tot_reg\": 3572053, \"share\": 0.07641459967139345}, {\"area\": \"SAR\", \"nome_area\": \"Sardegna\", \"fascia_anagrafica\": \"12-19\", \"totale_popolazione\": 109403, \"tot_reg\": 1484800, \"share\": 0.07368197737068966}, {\"area\": \"SAR\", \"nome_area\": \"Sardegna\", \"fascia_anagrafica\": \"20-29\", \"totale_popolazione\": 144932, \"tot_reg\": 1484800, \"share\": 0.0976104525862069}, {\"area\": \"SAR\", \"nome_area\": \"Sardegna\", \"fascia_anagrafica\": \"30-39\", \"totale_popolazione\": 180233, \"tot_reg\": 1484800, \"share\": 0.12138537176724137}, {\"area\": \"SAR\", \"nome_area\": \"Sardegna\", \"fascia_anagrafica\": \"40-49\", \"totale_popolazione\": 248433, \"tot_reg\": 1484800, \"share\": 0.1673174838362069}, {\"area\": \"SAR\", \"nome_area\": \"Sardegna\", \"fascia_anagrafica\": \"50-59\", \"totale_popolazione\": 271249, \"tot_reg\": 1484800, \"share\": 0.18268386314655172}, {\"area\": \"SAR\", \"nome_area\": \"Sardegna\", \"fascia_anagrafica\": \"60-69\", \"totale_popolazione\": 230031, \"tot_reg\": 1484800, \"share\": 0.15492389547413793}, {\"area\": \"SAR\", \"nome_area\": \"Sardegna\", \"fascia_anagrafica\": \"70-79\", \"totale_popolazione\": 175751, \"tot_reg\": 1484800, \"share\": 0.11836678340517241}, {\"area\": \"SAR\", \"nome_area\": \"Sardegna\", \"fascia_anagrafica\": \"80+\", \"totale_popolazione\": 124768, \"tot_reg\": 1484800, \"share\": 0.0840301724137931}, {\"area\": \"SIC\", \"nome_area\": \"Sicilia\", \"fascia_anagrafica\": \"12-19\", \"totale_popolazione\": 406593, \"tot_reg\": 4435335, \"share\": 0.09167131682274282}, {\"area\": \"SIC\", \"nome_area\": \"Sicilia\", \"fascia_anagrafica\": \"20-29\", \"totale_popolazione\": 544052, \"tot_reg\": 4435335, \"share\": 0.1226631133837692}, {\"area\": \"SIC\", \"nome_area\": \"Sicilia\", \"fascia_anagrafica\": \"30-39\", \"totale_popolazione\": 583826, \"tot_reg\": 4435335, \"share\": 0.13163064345759679}, {\"area\": \"SIC\", \"nome_area\": \"Sicilia\", \"fascia_anagrafica\": \"40-49\", \"totale_popolazione\": 694418, \"tot_reg\": 4435335, \"share\": 0.15656494943448465}, {\"area\": \"SIC\", \"nome_area\": \"Sicilia\", \"fascia_anagrafica\": \"50-59\", \"totale_popolazione\": 755875, \"tot_reg\": 4435335, \"share\": 0.1704211744997841}, {\"area\": \"SIC\", \"nome_area\": \"Sicilia\", \"fascia_anagrafica\": \"60-69\", \"totale_popolazione\": 631055, \"tot_reg\": 4435335, \"share\": 0.14227899358222096}, {\"area\": \"SIC\", \"nome_area\": \"Sicilia\", \"fascia_anagrafica\": \"70-79\", \"totale_popolazione\": 476607, \"tot_reg\": 4435335, \"share\": 0.10745682118712566}, {\"area\": \"SIC\", \"nome_area\": \"Sicilia\", \"fascia_anagrafica\": \"80+\", \"totale_popolazione\": 342909, \"tot_reg\": 4435335, \"share\": 0.0773129876322758}, {\"area\": \"TOS\", \"nome_area\": \"Toscana\", \"fascia_anagrafica\": \"12-19\", \"totale_popolazione\": 270353, \"tot_reg\": 3360764, \"share\": 0.08044391096786326}, {\"area\": \"TOS\", \"nome_area\": \"Toscana\", \"fascia_anagrafica\": \"20-29\", \"totale_popolazione\": 339137, \"tot_reg\": 3360764, \"share\": 0.10091068578454185}, {\"area\": \"TOS\", \"nome_area\": \"Toscana\", \"fascia_anagrafica\": \"30-39\", \"totale_popolazione\": 398063, \"tot_reg\": 3360764, \"share\": 0.11844419899760887}, {\"area\": \"TOS\", \"nome_area\": \"Toscana\", \"fascia_anagrafica\": \"40-49\", \"totale_popolazione\": 546649, \"tot_reg\": 3360764, \"share\": 0.1626561698470943}, {\"area\": \"TOS\", \"nome_area\": \"Toscana\", \"fascia_anagrafica\": \"50-59\", \"totale_popolazione\": 603627, \"tot_reg\": 3360764, \"share\": 0.17961005295224539}, {\"area\": \"TOS\", \"nome_area\": \"Toscana\", \"fascia_anagrafica\": \"60-69\", \"totale_popolazione\": 467270, \"tot_reg\": 3360764, \"share\": 0.13903683805230002}, {\"area\": \"TOS\", \"nome_area\": \"Toscana\", \"fascia_anagrafica\": \"70-79\", \"totale_popolazione\": 406475, \"tot_reg\": 3360764, \"share\": 0.120947201291135}, {\"area\": \"TOS\", \"nome_area\": \"Toscana\", \"fascia_anagrafica\": \"80+\", \"totale_popolazione\": 329190, \"tot_reg\": 3360764, \"share\": 0.09795094210721134}, {\"area\": \"UMB\", \"nome_area\": \"Umbria\", \"fascia_anagrafica\": \"12-19\", \"totale_popolazione\": 63610, \"tot_reg\": 790414, \"share\": 0.08047681341676641}, {\"area\": \"UMB\", \"nome_area\": \"Umbria\", \"fascia_anagrafica\": \"20-29\", \"totale_popolazione\": 78331, \"tot_reg\": 790414, \"share\": 0.09910123049439913}, {\"area\": \"UMB\", \"nome_area\": \"Umbria\", \"fascia_anagrafica\": \"30-39\", \"totale_popolazione\": 92145, \"tot_reg\": 790414, \"share\": 0.11657814765426726}, {\"area\": \"UMB\", \"nome_area\": \"Umbria\", \"fascia_anagrafica\": \"40-49\", \"totale_popolazione\": 123691, \"tot_reg\": 790414, \"share\": 0.15648887798040015}, {\"area\": \"UMB\", \"nome_area\": \"Umbria\", \"fascia_anagrafica\": \"50-59\", \"totale_popolazione\": 136346, \"tot_reg\": 790414, \"share\": 0.17249947495869253}, {\"area\": \"UMB\", \"nome_area\": \"Umbria\", \"fascia_anagrafica\": \"60-69\", \"totale_popolazione\": 112657, \"tot_reg\": 790414, \"share\": 0.14252910500067054}, {\"area\": \"UMB\", \"nome_area\": \"Umbria\", \"fascia_anagrafica\": \"70-79\", \"totale_popolazione\": 97653, \"tot_reg\": 790414, \"share\": 0.12354664770613881}, {\"area\": \"UMB\", \"nome_area\": \"Umbria\", \"fascia_anagrafica\": \"80+\", \"totale_popolazione\": 85981, \"tot_reg\": 790414, \"share\": 0.10877970278866518}, {\"area\": \"VDA\", \"nome_area\": \"Valle d'Aosta\", \"fascia_anagrafica\": \"12-19\", \"totale_popolazione\": 9350, \"tot_reg\": 110382, \"share\": 0.08470583972024424}, {\"area\": \"VDA\", \"nome_area\": \"Valle d'Aosta\", \"fascia_anagrafica\": \"20-29\", \"totale_popolazione\": 11482, \"tot_reg\": 110382, \"share\": 0.10402058306607961}, {\"area\": \"VDA\", \"nome_area\": \"Valle d'Aosta\", \"fascia_anagrafica\": \"30-39\", \"totale_popolazione\": 12482, \"tot_reg\": 110382, \"share\": 0.11308003116450145}, {\"area\": \"VDA\", \"nome_area\": \"Valle d'Aosta\", \"fascia_anagrafica\": \"40-49\", \"totale_popolazione\": 17249, \"tot_reg\": 110382, \"share\": 0.15626642024967838}, {\"area\": \"VDA\", \"nome_area\": \"Valle d'Aosta\", \"fascia_anagrafica\": \"50-59\", \"totale_popolazione\": 20841, \"tot_reg\": 110382, \"share\": 0.18880795781920964}, {\"area\": \"VDA\", \"nome_area\": \"Valle d'Aosta\", \"fascia_anagrafica\": \"60-69\", \"totale_popolazione\": 16197, \"tot_reg\": 110382, \"share\": 0.1467358808501386}, {\"area\": \"VDA\", \"nome_area\": \"Valle d'Aosta\", \"fascia_anagrafica\": \"70-79\", \"totale_popolazione\": 13030, \"tot_reg\": 110382, \"share\": 0.11804460872243663}, {\"area\": \"VDA\", \"nome_area\": \"Valle d'Aosta\", \"fascia_anagrafica\": \"80+\", \"totale_popolazione\": 9751, \"tot_reg\": 110382, \"share\": 0.0883386784077114}, {\"area\": \"VEN\", \"nome_area\": \"Veneto\", \"fascia_anagrafica\": \"12-19\", \"totale_popolazione\": 381274, \"tot_reg\": 4383995, \"share\": 0.08696953349627452}, {\"area\": \"VEN\", \"nome_area\": \"Veneto\", \"fascia_anagrafica\": \"20-29\", \"totale_popolazione\": 479355, \"tot_reg\": 4383995, \"share\": 0.10934204988828683}, {\"area\": \"VEN\", \"nome_area\": \"Veneto\", \"fascia_anagrafica\": \"30-39\", \"totale_popolazione\": 525221, \"tot_reg\": 4383995, \"share\": 0.11980419685697634}, {\"area\": \"VEN\", \"nome_area\": \"Veneto\", \"fascia_anagrafica\": \"40-49\", \"totale_popolazione\": 717331, \"tot_reg\": 4383995, \"share\": 0.1636249585138669}, {\"area\": \"VEN\", \"nome_area\": \"Veneto\", \"fascia_anagrafica\": \"50-59\", \"totale_popolazione\": 806474, \"tot_reg\": 4383995, \"share\": 0.18395869520836589}, {\"area\": \"VEN\", \"nome_area\": \"Veneto\", \"fascia_anagrafica\": \"60-69\", \"totale_popolazione\": 610635, \"tot_reg\": 4383995, \"share\": 0.13928733951567007}, {\"area\": \"VEN\", \"nome_area\": \"Veneto\", \"fascia_anagrafica\": \"70-79\", \"totale_popolazione\": 494721, \"tot_reg\": 4383995, \"share\": 0.11284707213397825}, {\"area\": \"VEN\", \"nome_area\": \"Veneto\", \"fascia_anagrafica\": \"80+\", \"totale_popolazione\": 368984, \"tot_reg\": 4383995, \"share\": 0.08416615438658119}]}}, {\"mode\": \"vega-lite\"});\n",
       "</script>"
      ],
      "text/plain": [
       "alt.Chart(...)"
      ]
     },
     "execution_count": 7,
     "metadata": {},
     "output_type": "execute_result"
    }
   ],
   "source": [
    "(\n",
    "    alt.Chart(demography_region_df, height=20, width=480)\n",
    "    .mark_circle(size=30)\n",
    "    .encode(\n",
    "        y=alt.Y('jitter:Q', title=None, axis=alt.Axis(ticks=True, grid=False, labels=False)),\n",
    "        x=alt.X('share:Q', axis=alt.Axis(format='.0%'), title='Percentuale popolazione, per regione'),\n",
    "        #color=alt.Color('fascia_anagrafica:N', legend=None),\n",
    "        row=alt.Row(\n",
    "            'fascia_anagrafica:N', title='',\n",
    "            header=alt.Header(labelAngle=0, labelPadding=-16, labelFontWeight='bold'),\n",
    "        ),\n",
    "        tooltip=[alt.Tooltip('nome_area:N'), alt.Tooltip('fascia_anagrafica:N'), alt.Tooltip('share:Q', format='.0%')]\n",
    "    )\n",
    "    .transform_calculate(jitter='sqrt(-2*log(random()))*cos(2*PI*random())')\n",
    "    .configure_facet(spacing=3)\n",
    "    .configure_view(stroke=None)\n",
    ")"
   ]
  },
  {
   "cell_type": "code",
   "execution_count": 8,
   "metadata": {},
   "outputs": [
    {
     "data": {
      "text/html": [
       "\n",
       "<div id=\"altair-viz-d653a7f0e7614d73acd5fd5e8296f05e\"></div>\n",
       "<script type=\"text/javascript\">\n",
       "  (function(spec, embedOpt){\n",
       "    let outputDiv = document.currentScript.previousElementSibling;\n",
       "    if (outputDiv.id !== \"altair-viz-d653a7f0e7614d73acd5fd5e8296f05e\") {\n",
       "      outputDiv = document.getElementById(\"altair-viz-d653a7f0e7614d73acd5fd5e8296f05e\");\n",
       "    }\n",
       "    const paths = {\n",
       "      \"vega\": \"https://cdn.jsdelivr.net/npm//vega@5?noext\",\n",
       "      \"vega-lib\": \"https://cdn.jsdelivr.net/npm//vega-lib?noext\",\n",
       "      \"vega-lite\": \"https://cdn.jsdelivr.net/npm//vega-lite@4.8.1?noext\",\n",
       "      \"vega-embed\": \"https://cdn.jsdelivr.net/npm//vega-embed@6?noext\",\n",
       "    };\n",
       "\n",
       "    function loadScript(lib) {\n",
       "      return new Promise(function(resolve, reject) {\n",
       "        var s = document.createElement('script');\n",
       "        s.src = paths[lib];\n",
       "        s.async = true;\n",
       "        s.onload = () => resolve(paths[lib]);\n",
       "        s.onerror = () => reject(`Error loading script: ${paths[lib]}`);\n",
       "        document.getElementsByTagName(\"head\")[0].appendChild(s);\n",
       "      });\n",
       "    }\n",
       "\n",
       "    function showError(err) {\n",
       "      outputDiv.innerHTML = `<div class=\"error\" style=\"color:red;\">${err}</div>`;\n",
       "      throw err;\n",
       "    }\n",
       "\n",
       "    function displayChart(vegaEmbed) {\n",
       "      vegaEmbed(outputDiv, spec, embedOpt)\n",
       "        .catch(err => showError(`Javascript Error: ${err.message}<br>This usually means there's a typo in your chart specification. See the javascript console for the full traceback.`));\n",
       "    }\n",
       "\n",
       "    if(typeof define === \"function\" && define.amd) {\n",
       "      requirejs.config({paths});\n",
       "      require([\"vega-embed\"], displayChart, err => showError(`Error loading script: ${err.message}`));\n",
       "    } else if (typeof vegaEmbed === \"function\") {\n",
       "      displayChart(vegaEmbed);\n",
       "    } else {\n",
       "      loadScript(\"vega\")\n",
       "        .then(() => loadScript(\"vega-lite\"))\n",
       "        .then(() => loadScript(\"vega-embed\"))\n",
       "        .catch(showError)\n",
       "        .then(() => displayChart(vegaEmbed));\n",
       "    }\n",
       "  })({\"config\": {\"view\": {\"continuousWidth\": 400, \"continuousHeight\": 300}}, \"data\": {\"name\": \"data-2d0894de47b1e4a080141a4f411dcc9e\"}, \"mark\": \"bar\", \"encoding\": {\"color\": {\"type\": \"nominal\", \"field\": \"fascia_anagrafica\", \"title\": \"Fascia d'et\\u00e1\"}, \"x\": {\"type\": \"quantitative\", \"axis\": {\"format\": \".0%\"}, \"field\": \"share\", \"scale\": {\"domain\": [0, 1]}, \"title\": \"Percentuale popolazione\"}, \"y\": {\"type\": \"nominal\", \"field\": \"nome_area\", \"title\": \"Regione\"}}, \"$schema\": \"https://vega.github.io/schema/vega-lite/v4.8.1.json\", \"datasets\": {\"data-2d0894de47b1e4a080141a4f411dcc9e\": [{\"area\": \"ABR\", \"nome_area\": \"Abruzzo\", \"fascia_anagrafica\": \"12-19\", \"totale_popolazione\": 94727, \"tot_reg\": 1188922, \"share\": 0.07967469691031034}, {\"area\": \"ABR\", \"nome_area\": \"Abruzzo\", \"fascia_anagrafica\": \"20-29\", \"totale_popolazione\": 125230, \"tot_reg\": 1188922, \"share\": 0.10533071135028202}, {\"area\": \"ABR\", \"nome_area\": \"Abruzzo\", \"fascia_anagrafica\": \"30-39\", \"totale_popolazione\": 146965, \"tot_reg\": 1188922, \"share\": 0.12361197790940028}, {\"area\": \"ABR\", \"nome_area\": \"Abruzzo\", \"fascia_anagrafica\": \"40-49\", \"totale_popolazione\": 187162, \"tot_reg\": 1188922, \"share\": 0.15742159704337205}, {\"area\": \"ABR\", \"nome_area\": \"Abruzzo\", \"fascia_anagrafica\": \"50-59\", \"totale_popolazione\": 208686, \"tot_reg\": 1188922, \"share\": 0.1755253919096459}, {\"area\": \"ABR\", \"nome_area\": \"Abruzzo\", \"fascia_anagrafica\": \"60-69\", \"totale_popolazione\": 171793, \"tot_reg\": 1188922, \"share\": 0.14449476080011978}, {\"area\": \"ABR\", \"nome_area\": \"Abruzzo\", \"fascia_anagrafica\": \"70-79\", \"totale_popolazione\": 137406, \"tot_reg\": 1188922, \"share\": 0.1155719214548978}, {\"area\": \"ABR\", \"nome_area\": \"Abruzzo\", \"fascia_anagrafica\": \"80+\", \"totale_popolazione\": 116953, \"tot_reg\": 1188922, \"share\": 0.09836894262197184}, {\"area\": \"BAS\", \"nome_area\": \"Basilicata\", \"fascia_anagrafica\": \"12-19\", \"totale_popolazione\": 40947, \"tot_reg\": 494881, \"share\": 0.08274110341678101}, {\"area\": \"BAS\", \"nome_area\": \"Basilicata\", \"fascia_anagrafica\": \"20-29\", \"totale_popolazione\": 56285, \"tot_reg\": 494881, \"share\": 0.11373441291946954}, {\"area\": \"BAS\", \"nome_area\": \"Basilicata\", \"fascia_anagrafica\": \"30-39\", \"totale_popolazione\": 61028, \"tot_reg\": 494881, \"share\": 0.12331853516299879}, {\"area\": \"BAS\", \"nome_area\": \"Basilicata\", \"fascia_anagrafica\": \"40-49\", \"totale_popolazione\": 74989, \"tot_reg\": 494881, \"share\": 0.1515293575627272}, {\"area\": \"BAS\", \"nome_area\": \"Basilicata\", \"fascia_anagrafica\": \"50-59\", \"totale_popolazione\": 88137, \"tot_reg\": 494881, \"share\": 0.17809736077966218}, {\"area\": \"BAS\", \"nome_area\": \"Basilicata\", \"fascia_anagrafica\": \"60-69\", \"totale_popolazione\": 75455, \"tot_reg\": 494881, \"share\": 0.1524709980783259}, {\"area\": \"BAS\", \"nome_area\": \"Basilicata\", \"fascia_anagrafica\": \"70-79\", \"totale_popolazione\": 51805, \"tot_reg\": 494881, \"share\": 0.10468173156779105}, {\"area\": \"BAS\", \"nome_area\": \"Basilicata\", \"fascia_anagrafica\": \"80+\", \"totale_popolazione\": 46235, \"tot_reg\": 494881, \"share\": 0.09342650051224435}, {\"area\": \"CAL\", \"nome_area\": \"Calabria\", \"fascia_anagrafica\": \"12-19\", \"totale_popolazione\": 147409, \"tot_reg\": 1689716, \"share\": 0.08723892062334736}, {\"area\": \"CAL\", \"nome_area\": \"Calabria\", \"fascia_anagrafica\": \"20-29\", \"totale_popolazione\": 199746, \"tot_reg\": 1689716, \"share\": 0.11821276474863232}, {\"area\": \"CAL\", \"nome_area\": \"Calabria\", \"fascia_anagrafica\": \"30-39\", \"totale_popolazione\": 223632, \"tot_reg\": 1689716, \"share\": 0.13234886809380986}, {\"area\": \"CAL\", \"nome_area\": \"Calabria\", \"fascia_anagrafica\": \"40-49\", \"totale_popolazione\": 260182, \"tot_reg\": 1689716, \"share\": 0.15397972203612914}, {\"area\": \"CAL\", \"nome_area\": \"Calabria\", \"fascia_anagrafica\": \"50-59\", \"totale_popolazione\": 287366, \"tot_reg\": 1689716, \"share\": 0.1700676326672648}, {\"area\": \"CAL\", \"nome_area\": \"Calabria\", \"fascia_anagrafica\": \"60-69\", \"totale_popolazione\": 246965, \"tot_reg\": 1689716, \"share\": 0.14615769750656324}, {\"area\": \"CAL\", \"nome_area\": \"Calabria\", \"fascia_anagrafica\": \"70-79\", \"totale_popolazione\": 185899, \"tot_reg\": 1689716, \"share\": 0.11001789649858319}, {\"area\": \"CAL\", \"nome_area\": \"Calabria\", \"fascia_anagrafica\": \"80+\", \"totale_popolazione\": 138517, \"tot_reg\": 1689716, \"share\": 0.08197649782567011}, {\"area\": \"CAM\", \"nome_area\": \"Campania\", \"fascia_anagrafica\": \"12-19\", \"totale_popolazione\": 506070, \"tot_reg\": 5104347, \"share\": 0.09914490531305964}, {\"area\": \"CAM\", \"nome_area\": \"Campania\", \"fascia_anagrafica\": \"20-29\", \"totale_popolazione\": 683538, \"tot_reg\": 5104347, \"share\": 0.13391291775422007}, {\"area\": \"CAM\", \"nome_area\": \"Campania\", \"fascia_anagrafica\": \"30-39\", \"totale_popolazione\": 712913, \"tot_reg\": 5104347, \"share\": 0.13966781647094134}, {\"area\": \"CAM\", \"nome_area\": \"Campania\", \"fascia_anagrafica\": \"40-49\", \"totale_popolazione\": 828348, \"tot_reg\": 5104347, \"share\": 0.1622828542025062}, {\"area\": \"CAM\", \"nome_area\": \"Campania\", \"fascia_anagrafica\": \"50-59\", \"totale_popolazione\": 891415, \"tot_reg\": 5104347, \"share\": 0.17463840134693037}, {\"area\": \"CAM\", \"nome_area\": \"Campania\", \"fascia_anagrafica\": \"60-69\", \"totale_popolazione\": 700326, \"tot_reg\": 5104347, \"share\": 0.13720187910422235}, {\"area\": \"CAM\", \"nome_area\": \"Campania\", \"fascia_anagrafica\": \"70-79\", \"totale_popolazione\": 477420, \"tot_reg\": 5104347, \"share\": 0.0935320423944532}, {\"area\": \"CAM\", \"nome_area\": \"Campania\", \"fascia_anagrafica\": \"80+\", \"totale_popolazione\": 304317, \"tot_reg\": 5104347, \"share\": 0.05961918341366682}, {\"area\": \"EMR\", \"nome_area\": \"Emilia-Romagna\", \"fascia_anagrafica\": \"12-19\", \"totale_popolazione\": 327410, \"tot_reg\": 3998400, \"share\": 0.08188525410164066}, {\"area\": \"EMR\", \"nome_area\": \"Emilia-Romagna\", \"fascia_anagrafica\": \"20-29\", \"totale_popolazione\": 419909, \"tot_reg\": 3998400, \"share\": 0.10501925770308124}, {\"area\": \"EMR\", \"nome_area\": \"Emilia-Romagna\", \"fascia_anagrafica\": \"30-39\", \"totale_popolazione\": 488934, \"tot_reg\": 3998400, \"share\": 0.12228241296518608}, {\"area\": \"EMR\", \"nome_area\": \"Emilia-Romagna\", \"fascia_anagrafica\": \"40-49\", \"totale_popolazione\": 667770, \"tot_reg\": 3998400, \"share\": 0.1670093037214886}, {\"area\": \"EMR\", \"nome_area\": \"Emilia-Romagna\", \"fascia_anagrafica\": \"50-59\", \"totale_popolazione\": 716729, \"tot_reg\": 3998400, \"share\": 0.17925395158063226}, {\"area\": \"EMR\", \"nome_area\": \"Emilia-Romagna\", \"fascia_anagrafica\": \"60-69\", \"totale_popolazione\": 551239, \"tot_reg\": 3998400, \"share\": 0.13786489595838336}, {\"area\": \"EMR\", \"nome_area\": \"Emilia-Romagna\", \"fascia_anagrafica\": \"70-79\", \"totale_popolazione\": 455912, \"tot_reg\": 3998400, \"share\": 0.11402360944377751}, {\"area\": \"EMR\", \"nome_area\": \"Emilia-Romagna\", \"fascia_anagrafica\": \"80+\", \"totale_popolazione\": 370497, \"tot_reg\": 3998400, \"share\": 0.09266131452581032}, {\"area\": \"FVG\", \"nome_area\": \"Friuli-Venezia Giulia\", \"fascia_anagrafica\": \"12-19\", \"totale_popolazione\": 85565, \"tot_reg\": 1088152, \"share\": 0.07863331593380336}, {\"area\": \"FVG\", \"nome_area\": \"Friuli-Venezia Giulia\", \"fascia_anagrafica\": \"20-29\", \"totale_popolazione\": 108149, \"tot_reg\": 1088152, \"share\": 0.09938776935575178}, {\"area\": \"FVG\", \"nome_area\": \"Friuli-Venezia Giulia\", \"fascia_anagrafica\": \"30-39\", \"totale_popolazione\": 121714, \"tot_reg\": 1088152, \"share\": 0.11185385865210007}, {\"area\": \"FVG\", \"nome_area\": \"Friuli-Venezia Giulia\", \"fascia_anagrafica\": \"40-49\", \"totale_popolazione\": 170017, \"tot_reg\": 1088152, \"share\": 0.15624379682250275}, {\"area\": \"FVG\", \"nome_area\": \"Friuli-Venezia Giulia\", \"fascia_anagrafica\": \"50-59\", \"totale_popolazione\": 199155, \"tot_reg\": 1088152, \"share\": 0.18302130584697726}, {\"area\": \"FVG\", \"nome_area\": \"Friuli-Venezia Giulia\", \"fascia_anagrafica\": \"60-69\", \"totale_popolazione\": 157635, \"tot_reg\": 1088152, \"share\": 0.14486487181937818}, {\"area\": \"FVG\", \"nome_area\": \"Friuli-Venezia Giulia\", \"fascia_anagrafica\": \"70-79\", \"totale_popolazione\": 140238, \"tot_reg\": 1088152, \"share\": 0.1288772156831031}, {\"area\": \"FVG\", \"nome_area\": \"Friuli-Venezia Giulia\", \"fascia_anagrafica\": \"80+\", \"totale_popolazione\": 105679, \"tot_reg\": 1088152, \"share\": 0.09711786588638352}, {\"area\": \"LAZ\", \"nome_area\": \"Lazio\", \"fascia_anagrafica\": \"12-19\", \"totale_popolazione\": 431221, \"tot_reg\": 5147533, \"share\": 0.08377236241127546}, {\"area\": \"LAZ\", \"nome_area\": \"Lazio\", \"fascia_anagrafica\": \"20-29\", \"totale_popolazione\": 558855, \"tot_reg\": 5147533, \"share\": 0.10856754099488046}, {\"area\": \"LAZ\", \"nome_area\": \"Lazio\", \"fascia_anagrafica\": \"30-39\", \"totale_popolazione\": 665641, \"tot_reg\": 5147533, \"share\": 0.12931262412499347}, {\"area\": \"LAZ\", \"nome_area\": \"Lazio\", \"fascia_anagrafica\": \"40-49\", \"totale_popolazione\": 879906, \"tot_reg\": 5147533, \"share\": 0.1709374179825559}, {\"area\": \"LAZ\", \"nome_area\": \"Lazio\", \"fascia_anagrafica\": \"50-59\", \"totale_popolazione\": 940470, \"tot_reg\": 5147533, \"share\": 0.1827030540649278}, {\"area\": \"LAZ\", \"nome_area\": \"Lazio\", \"fascia_anagrafica\": \"60-69\", \"totale_popolazione\": 707706, \"tot_reg\": 5147533, \"share\": 0.13748449985653322}, {\"area\": \"LAZ\", \"nome_area\": \"Lazio\", \"fascia_anagrafica\": \"70-79\", \"totale_popolazione\": 551447, \"tot_reg\": 5147533, \"share\": 0.10712840500488292}, {\"area\": \"LAZ\", \"nome_area\": \"Lazio\", \"fascia_anagrafica\": \"80+\", \"totale_popolazione\": 412287, \"tot_reg\": 5147533, \"share\": 0.08009409555995076}, {\"area\": \"LIG\", \"nome_area\": \"Liguria\", \"fascia_anagrafica\": \"12-19\", \"totale_popolazione\": 104067, \"tot_reg\": 1399466, \"share\": 0.07436193519528163}, {\"area\": \"LIG\", \"nome_area\": \"Liguria\", \"fascia_anagrafica\": \"20-29\", \"totale_popolazione\": 135690, \"tot_reg\": 1399466, \"share\": 0.09695841127973098}, {\"area\": \"LIG\", \"nome_area\": \"Liguria\", \"fascia_anagrafica\": \"30-39\", \"totale_popolazione\": 149277, \"tot_reg\": 1399466, \"share\": 0.10666711445651413}, {\"area\": \"LIG\", \"nome_area\": \"Liguria\", \"fascia_anagrafica\": \"40-49\", \"totale_popolazione\": 205625, \"tot_reg\": 1399466, \"share\": 0.1469310436980963}, {\"area\": \"LIG\", \"nome_area\": \"Liguria\", \"fascia_anagrafica\": \"50-59\", \"totale_popolazione\": 258629, \"tot_reg\": 1399466, \"share\": 0.18480549009407873}, {\"area\": \"LIG\", \"nome_area\": \"Liguria\", \"fascia_anagrafica\": \"60-69\", \"totale_popolazione\": 207406, \"tot_reg\": 1399466, \"share\": 0.1482036719720236}, {\"area\": \"LIG\", \"nome_area\": \"Liguria\", \"fascia_anagrafica\": \"70-79\", \"totale_popolazione\": 182496, \"tot_reg\": 1399466, \"share\": 0.13040402553545424}, {\"area\": \"LIG\", \"nome_area\": \"Liguria\", \"fascia_anagrafica\": \"80+\", \"totale_popolazione\": 156276, \"tot_reg\": 1399466, \"share\": 0.11166830776882039}, {\"area\": \"LOM\", \"nome_area\": \"Lombardia\", \"fascia_anagrafica\": \"12-19\", \"totale_popolazione\": 794486, \"tot_reg\": 9246804, \"share\": 0.08592006492189085}, {\"area\": \"LOM\", \"nome_area\": \"Lombardia\", \"fascia_anagrafica\": \"20-29\", \"totale_popolazione\": 997448, \"tot_reg\": 9246804, \"share\": 0.1078694865815259}, {\"area\": \"LOM\", \"nome_area\": \"Lombardia\", \"fascia_anagrafica\": \"30-39\", \"totale_popolazione\": 1198955, \"tot_reg\": 9246804, \"share\": 0.12966155657673722}, {\"area\": \"LOM\", \"nome_area\": \"Lombardia\", \"fascia_anagrafica\": \"40-49\", \"totale_popolazione\": 1565547, \"tot_reg\": 9246804, \"share\": 0.16930682211929657}, {\"area\": \"LOM\", \"nome_area\": \"Lombardia\", \"fascia_anagrafica\": \"50-59\", \"totale_popolazione\": 1677629, \"tot_reg\": 9246804, \"share\": 0.1814279831171938}, {\"area\": \"LOM\", \"nome_area\": \"Lombardia\", \"fascia_anagrafica\": \"60-69\", \"totale_popolazione\": 1240919, \"tot_reg\": 9246804, \"share\": 0.13419977324057047}, {\"area\": \"LOM\", \"nome_area\": \"Lombardia\", \"fascia_anagrafica\": \"70-79\", \"totale_popolazione\": 1006561, \"tot_reg\": 9246804, \"share\": 0.10885501628454546}, {\"area\": \"LOM\", \"nome_area\": \"Lombardia\", \"fascia_anagrafica\": \"80+\", \"totale_popolazione\": 765259, \"tot_reg\": 9246804, \"share\": 0.08275929715823975}, {\"area\": \"MAR\", \"nome_area\": \"Marche\", \"fascia_anagrafica\": \"12-19\", \"totale_popolazione\": 113059, \"tot_reg\": 1366477, \"share\": 0.08273757992267708}, {\"area\": \"MAR\", \"nome_area\": \"Marche\", \"fascia_anagrafica\": \"20-29\", \"totale_popolazione\": 143083, \"tot_reg\": 1366477, \"share\": 0.10470940967173249}, {\"area\": \"MAR\", \"nome_area\": \"Marche\", \"fascia_anagrafica\": \"30-39\", \"totale_popolazione\": 162308, \"tot_reg\": 1366477, \"share\": 0.11877843534871059}, {\"area\": \"MAR\", \"nome_area\": \"Marche\", \"fascia_anagrafica\": \"40-49\", \"totale_popolazione\": 221299, \"tot_reg\": 1366477, \"share\": 0.16194857286291683}, {\"area\": \"MAR\", \"nome_area\": \"Marche\", \"fascia_anagrafica\": \"50-59\", \"totale_popolazione\": 240946, \"tot_reg\": 1366477, \"share\": 0.17632642188635447}, {\"area\": \"MAR\", \"nome_area\": \"Marche\", \"fascia_anagrafica\": \"60-69\", \"totale_popolazione\": 196477, \"tot_reg\": 1366477, \"share\": 0.1437836128965215}, {\"area\": \"MAR\", \"nome_area\": \"Marche\", \"fascia_anagrafica\": \"70-79\", \"totale_popolazione\": 155940, \"tot_reg\": 1366477, \"share\": 0.1141182764144585}, {\"area\": \"MAR\", \"nome_area\": \"Marche\", \"fascia_anagrafica\": \"80+\", \"totale_popolazione\": 133365, \"tot_reg\": 1366477, \"share\": 0.09759769099662856}, {\"area\": \"MOL\", \"nome_area\": \"Molise\", \"fascia_anagrafica\": \"12-19\", \"totale_popolazione\": 20497, \"tot_reg\": 273317, \"share\": 0.07499350570948751}, {\"area\": \"MOL\", \"nome_area\": \"Molise\", \"fascia_anagrafica\": \"20-29\", \"totale_popolazione\": 32122, \"tot_reg\": 273317, \"share\": 0.11752653512222072}, {\"area\": \"MOL\", \"nome_area\": \"Molise\", \"fascia_anagrafica\": \"30-39\", \"totale_popolazione\": 34661, \"tot_reg\": 273317, \"share\": 0.12681611462148348}, {\"area\": \"MOL\", \"nome_area\": \"Molise\", \"fascia_anagrafica\": \"40-49\", \"totale_popolazione\": 40266, \"tot_reg\": 273317, \"share\": 0.1473234376200529}, {\"area\": \"MOL\", \"nome_area\": \"Molise\", \"fascia_anagrafica\": \"50-59\", \"totale_popolazione\": 46723, \"tot_reg\": 273317, \"share\": 0.17094802006461363}, {\"area\": \"MOL\", \"nome_area\": \"Molise\", \"fascia_anagrafica\": \"60-69\", \"totale_popolazione\": 40925, \"tot_reg\": 273317, \"share\": 0.14973455730891236}, {\"area\": \"MOL\", \"nome_area\": \"Molise\", \"fascia_anagrafica\": \"70-79\", \"totale_popolazione\": 30901, \"tot_reg\": 273317, \"share\": 0.11305919500067688}, {\"area\": \"MOL\", \"nome_area\": \"Molise\", \"fascia_anagrafica\": \"80+\", \"totale_popolazione\": 27222, \"tot_reg\": 273317, \"share\": 0.09959863455255254}, {\"area\": \"PAB\", \"nome_area\": \"P.A. Bolzano\", \"fascia_anagrafica\": \"12-19\", \"totale_popolazione\": 45547, \"tot_reg\": 465181, \"share\": 0.09791242548599362}, {\"area\": \"PAB\", \"nome_area\": \"P.A. Bolzano\", \"fascia_anagrafica\": \"20-29\", \"totale_popolazione\": 59568, \"tot_reg\": 465181, \"share\": 0.12805338137198208}, {\"area\": \"PAB\", \"nome_area\": \"P.A. Bolzano\", \"fascia_anagrafica\": \"30-39\", \"totale_popolazione\": 61738, \"tot_reg\": 465181, \"share\": 0.1327182322579813}, {\"area\": \"PAB\", \"nome_area\": \"P.A. Bolzano\", \"fascia_anagrafica\": \"40-49\", \"totale_popolazione\": 74448, \"tot_reg\": 465181, \"share\": 0.16004093030454813}, {\"area\": \"PAB\", \"nome_area\": \"P.A. Bolzano\", \"fascia_anagrafica\": \"50-59\", \"totale_popolazione\": 84804, \"tot_reg\": 465181, \"share\": 0.1823032325051969}, {\"area\": \"PAB\", \"nome_area\": \"P.A. Bolzano\", \"fascia_anagrafica\": \"60-69\", \"totale_popolazione\": 58927, \"tot_reg\": 465181, \"share\": 0.12667542311487356}, {\"area\": \"PAB\", \"nome_area\": \"P.A. Bolzano\", \"fascia_anagrafica\": \"70-79\", \"totale_popolazione\": 46417, \"tot_reg\": 465181, \"share\": 0.09978266524213156}, {\"area\": \"PAB\", \"nome_area\": \"P.A. Bolzano\", \"fascia_anagrafica\": \"80+\", \"totale_popolazione\": 33732, \"tot_reg\": 465181, \"share\": 0.07251370971729283}, {\"area\": \"PAT\", \"nome_area\": \"P.A. Trento\", \"fascia_anagrafica\": \"12-19\", \"totale_popolazione\": 44257, \"tot_reg\": 481359, \"share\": 0.09194177318799482}, {\"area\": \"PAT\", \"nome_area\": \"P.A. Trento\", \"fascia_anagrafica\": \"20-29\", \"totale_popolazione\": 57300, \"tot_reg\": 481359, \"share\": 0.11903797373685752}, {\"area\": \"PAT\", \"nome_area\": \"P.A. Trento\", \"fascia_anagrafica\": \"30-39\", \"totale_popolazione\": 59852, \"tot_reg\": 481359, \"share\": 0.12433963008897725}, {\"area\": \"PAT\", \"nome_area\": \"P.A. Trento\", \"fascia_anagrafica\": \"40-49\", \"totale_popolazione\": 74852, \"tot_reg\": 481359, \"share\": 0.1555014033185211}, {\"area\": \"PAT\", \"nome_area\": \"P.A. Trento\", \"fascia_anagrafica\": \"50-59\", \"totale_popolazione\": 85734, \"tot_reg\": 481359, \"share\": 0.17810823107078086}, {\"area\": \"PAT\", \"nome_area\": \"P.A. Trento\", \"fascia_anagrafica\": \"60-69\", \"totale_popolazione\": 68045, \"tot_reg\": 481359, \"share\": 0.1413601906269541}, {\"area\": \"PAT\", \"nome_area\": \"P.A. Trento\", \"fascia_anagrafica\": \"70-79\", \"totale_popolazione\": 52500, \"tot_reg\": 481359, \"share\": 0.1090662063034035}, {\"area\": \"PAT\", \"nome_area\": \"P.A. Trento\", \"fascia_anagrafica\": \"80+\", \"totale_popolazione\": 38819, \"tot_reg\": 481359, \"share\": 0.08064459166651086}, {\"area\": \"PIE\", \"nome_area\": \"Piemonte\", \"fascia_anagrafica\": \"12-19\", \"totale_popolazione\": 310481, \"tot_reg\": 3927641, \"share\": 0.07905024924630331}, {\"area\": \"PIE\", \"nome_area\": \"Piemonte\", \"fascia_anagrafica\": \"20-29\", \"totale_popolazione\": 410270, \"tot_reg\": 3927641, \"share\": 0.10445710287676496}, {\"area\": \"PIE\", \"nome_area\": \"Piemonte\", \"fascia_anagrafica\": \"30-39\", \"totale_popolazione\": 456855, \"tot_reg\": 3927641, \"share\": 0.11631791194765509}, {\"area\": \"PIE\", \"nome_area\": \"Piemonte\", \"fascia_anagrafica\": \"40-49\", \"totale_popolazione\": 613820, \"tot_reg\": 3927641, \"share\": 0.15628210419434974}, {\"area\": \"PIE\", \"nome_area\": \"Piemonte\", \"fascia_anagrafica\": \"50-59\", \"totale_popolazione\": 704089, \"tot_reg\": 3927641, \"share\": 0.17926511104248072}, {\"area\": \"PIE\", \"nome_area\": \"Piemonte\", \"fascia_anagrafica\": \"60-69\", \"totale_popolazione\": 567486, \"tot_reg\": 3927641, \"share\": 0.14448520116782568}, {\"area\": \"PIE\", \"nome_area\": \"Piemonte\", \"fascia_anagrafica\": \"70-79\", \"totale_popolazione\": 484838, \"tot_reg\": 3927641, \"share\": 0.12344254477433146}, {\"area\": \"PIE\", \"nome_area\": \"Piemonte\", \"fascia_anagrafica\": \"80+\", \"totale_popolazione\": 379802, \"tot_reg\": 3927641, \"share\": 0.09669977475028904}, {\"area\": \"PUG\", \"nome_area\": \"Puglia\", \"fascia_anagrafica\": \"12-19\", \"totale_popolazione\": 321188, \"tot_reg\": 3572053, \"share\": 0.089916918925895}, {\"area\": \"PUG\", \"nome_area\": \"Puglia\", \"fascia_anagrafica\": \"20-29\", \"totale_popolazione\": 429227, \"tot_reg\": 3572053, \"share\": 0.1201625507796217}, {\"area\": \"PUG\", \"nome_area\": \"Puglia\", \"fascia_anagrafica\": \"30-39\", \"totale_popolazione\": 457889, \"tot_reg\": 3572053, \"share\": 0.12818650787096383}, {\"area\": \"PUG\", \"nome_area\": \"Puglia\", \"fascia_anagrafica\": \"40-49\", \"totale_popolazione\": 574973, \"tot_reg\": 3572053, \"share\": 0.16096429700231213}, {\"area\": \"PUG\", \"nome_area\": \"Puglia\", \"fascia_anagrafica\": \"50-59\", \"totale_popolazione\": 626206, \"tot_reg\": 3572053, \"share\": 0.17530702931899386}, {\"area\": \"PUG\", \"nome_area\": \"Puglia\", \"fascia_anagrafica\": \"60-69\", \"totale_popolazione\": 494337, \"tot_reg\": 3572053, \"share\": 0.13839016386375005}, {\"area\": \"PUG\", \"nome_area\": \"Puglia\", \"fascia_anagrafica\": \"70-79\", \"totale_popolazione\": 395276, \"tot_reg\": 3572053, \"share\": 0.11065793256706997}, {\"area\": \"PUG\", \"nome_area\": \"Puglia\", \"fascia_anagrafica\": \"80+\", \"totale_popolazione\": 272957, \"tot_reg\": 3572053, \"share\": 0.07641459967139345}, {\"area\": \"SAR\", \"nome_area\": \"Sardegna\", \"fascia_anagrafica\": \"12-19\", \"totale_popolazione\": 109403, \"tot_reg\": 1484800, \"share\": 0.07368197737068966}, {\"area\": \"SAR\", \"nome_area\": \"Sardegna\", \"fascia_anagrafica\": \"20-29\", \"totale_popolazione\": 144932, \"tot_reg\": 1484800, \"share\": 0.0976104525862069}, {\"area\": \"SAR\", \"nome_area\": \"Sardegna\", \"fascia_anagrafica\": \"30-39\", \"totale_popolazione\": 180233, \"tot_reg\": 1484800, \"share\": 0.12138537176724137}, {\"area\": \"SAR\", \"nome_area\": \"Sardegna\", \"fascia_anagrafica\": \"40-49\", \"totale_popolazione\": 248433, \"tot_reg\": 1484800, \"share\": 0.1673174838362069}, {\"area\": \"SAR\", \"nome_area\": \"Sardegna\", \"fascia_anagrafica\": \"50-59\", \"totale_popolazione\": 271249, \"tot_reg\": 1484800, \"share\": 0.18268386314655172}, {\"area\": \"SAR\", \"nome_area\": \"Sardegna\", \"fascia_anagrafica\": \"60-69\", \"totale_popolazione\": 230031, \"tot_reg\": 1484800, \"share\": 0.15492389547413793}, {\"area\": \"SAR\", \"nome_area\": \"Sardegna\", \"fascia_anagrafica\": \"70-79\", \"totale_popolazione\": 175751, \"tot_reg\": 1484800, \"share\": 0.11836678340517241}, {\"area\": \"SAR\", \"nome_area\": \"Sardegna\", \"fascia_anagrafica\": \"80+\", \"totale_popolazione\": 124768, \"tot_reg\": 1484800, \"share\": 0.0840301724137931}, {\"area\": \"SIC\", \"nome_area\": \"Sicilia\", \"fascia_anagrafica\": \"12-19\", \"totale_popolazione\": 406593, \"tot_reg\": 4435335, \"share\": 0.09167131682274282}, {\"area\": \"SIC\", \"nome_area\": \"Sicilia\", \"fascia_anagrafica\": \"20-29\", \"totale_popolazione\": 544052, \"tot_reg\": 4435335, \"share\": 0.1226631133837692}, {\"area\": \"SIC\", \"nome_area\": \"Sicilia\", \"fascia_anagrafica\": \"30-39\", \"totale_popolazione\": 583826, \"tot_reg\": 4435335, \"share\": 0.13163064345759679}, {\"area\": \"SIC\", \"nome_area\": \"Sicilia\", \"fascia_anagrafica\": \"40-49\", \"totale_popolazione\": 694418, \"tot_reg\": 4435335, \"share\": 0.15656494943448465}, {\"area\": \"SIC\", \"nome_area\": \"Sicilia\", \"fascia_anagrafica\": \"50-59\", \"totale_popolazione\": 755875, \"tot_reg\": 4435335, \"share\": 0.1704211744997841}, {\"area\": \"SIC\", \"nome_area\": \"Sicilia\", \"fascia_anagrafica\": \"60-69\", \"totale_popolazione\": 631055, \"tot_reg\": 4435335, \"share\": 0.14227899358222096}, {\"area\": \"SIC\", \"nome_area\": \"Sicilia\", \"fascia_anagrafica\": \"70-79\", \"totale_popolazione\": 476607, \"tot_reg\": 4435335, \"share\": 0.10745682118712566}, {\"area\": \"SIC\", \"nome_area\": \"Sicilia\", \"fascia_anagrafica\": \"80+\", \"totale_popolazione\": 342909, \"tot_reg\": 4435335, \"share\": 0.0773129876322758}, {\"area\": \"TOS\", \"nome_area\": \"Toscana\", \"fascia_anagrafica\": \"12-19\", \"totale_popolazione\": 270353, \"tot_reg\": 3360764, \"share\": 0.08044391096786326}, {\"area\": \"TOS\", \"nome_area\": \"Toscana\", \"fascia_anagrafica\": \"20-29\", \"totale_popolazione\": 339137, \"tot_reg\": 3360764, \"share\": 0.10091068578454185}, {\"area\": \"TOS\", \"nome_area\": \"Toscana\", \"fascia_anagrafica\": \"30-39\", \"totale_popolazione\": 398063, \"tot_reg\": 3360764, \"share\": 0.11844419899760887}, {\"area\": \"TOS\", \"nome_area\": \"Toscana\", \"fascia_anagrafica\": \"40-49\", \"totale_popolazione\": 546649, \"tot_reg\": 3360764, \"share\": 0.1626561698470943}, {\"area\": \"TOS\", \"nome_area\": \"Toscana\", \"fascia_anagrafica\": \"50-59\", \"totale_popolazione\": 603627, \"tot_reg\": 3360764, \"share\": 0.17961005295224539}, {\"area\": \"TOS\", \"nome_area\": \"Toscana\", \"fascia_anagrafica\": \"60-69\", \"totale_popolazione\": 467270, \"tot_reg\": 3360764, \"share\": 0.13903683805230002}, {\"area\": \"TOS\", \"nome_area\": \"Toscana\", \"fascia_anagrafica\": \"70-79\", \"totale_popolazione\": 406475, \"tot_reg\": 3360764, \"share\": 0.120947201291135}, {\"area\": \"TOS\", \"nome_area\": \"Toscana\", \"fascia_anagrafica\": \"80+\", \"totale_popolazione\": 329190, \"tot_reg\": 3360764, \"share\": 0.09795094210721134}, {\"area\": \"UMB\", \"nome_area\": \"Umbria\", \"fascia_anagrafica\": \"12-19\", \"totale_popolazione\": 63610, \"tot_reg\": 790414, \"share\": 0.08047681341676641}, {\"area\": \"UMB\", \"nome_area\": \"Umbria\", \"fascia_anagrafica\": \"20-29\", \"totale_popolazione\": 78331, \"tot_reg\": 790414, \"share\": 0.09910123049439913}, {\"area\": \"UMB\", \"nome_area\": \"Umbria\", \"fascia_anagrafica\": \"30-39\", \"totale_popolazione\": 92145, \"tot_reg\": 790414, \"share\": 0.11657814765426726}, {\"area\": \"UMB\", \"nome_area\": \"Umbria\", \"fascia_anagrafica\": \"40-49\", \"totale_popolazione\": 123691, \"tot_reg\": 790414, \"share\": 0.15648887798040015}, {\"area\": \"UMB\", \"nome_area\": \"Umbria\", \"fascia_anagrafica\": \"50-59\", \"totale_popolazione\": 136346, \"tot_reg\": 790414, \"share\": 0.17249947495869253}, {\"area\": \"UMB\", \"nome_area\": \"Umbria\", \"fascia_anagrafica\": \"60-69\", \"totale_popolazione\": 112657, \"tot_reg\": 790414, \"share\": 0.14252910500067054}, {\"area\": \"UMB\", \"nome_area\": \"Umbria\", \"fascia_anagrafica\": \"70-79\", \"totale_popolazione\": 97653, \"tot_reg\": 790414, \"share\": 0.12354664770613881}, {\"area\": \"UMB\", \"nome_area\": \"Umbria\", \"fascia_anagrafica\": \"80+\", \"totale_popolazione\": 85981, \"tot_reg\": 790414, \"share\": 0.10877970278866518}, {\"area\": \"VDA\", \"nome_area\": \"Valle d'Aosta\", \"fascia_anagrafica\": \"12-19\", \"totale_popolazione\": 9350, \"tot_reg\": 110382, \"share\": 0.08470583972024424}, {\"area\": \"VDA\", \"nome_area\": \"Valle d'Aosta\", \"fascia_anagrafica\": \"20-29\", \"totale_popolazione\": 11482, \"tot_reg\": 110382, \"share\": 0.10402058306607961}, {\"area\": \"VDA\", \"nome_area\": \"Valle d'Aosta\", \"fascia_anagrafica\": \"30-39\", \"totale_popolazione\": 12482, \"tot_reg\": 110382, \"share\": 0.11308003116450145}, {\"area\": \"VDA\", \"nome_area\": \"Valle d'Aosta\", \"fascia_anagrafica\": \"40-49\", \"totale_popolazione\": 17249, \"tot_reg\": 110382, \"share\": 0.15626642024967838}, {\"area\": \"VDA\", \"nome_area\": \"Valle d'Aosta\", \"fascia_anagrafica\": \"50-59\", \"totale_popolazione\": 20841, \"tot_reg\": 110382, \"share\": 0.18880795781920964}, {\"area\": \"VDA\", \"nome_area\": \"Valle d'Aosta\", \"fascia_anagrafica\": \"60-69\", \"totale_popolazione\": 16197, \"tot_reg\": 110382, \"share\": 0.1467358808501386}, {\"area\": \"VDA\", \"nome_area\": \"Valle d'Aosta\", \"fascia_anagrafica\": \"70-79\", \"totale_popolazione\": 13030, \"tot_reg\": 110382, \"share\": 0.11804460872243663}, {\"area\": \"VDA\", \"nome_area\": \"Valle d'Aosta\", \"fascia_anagrafica\": \"80+\", \"totale_popolazione\": 9751, \"tot_reg\": 110382, \"share\": 0.0883386784077114}, {\"area\": \"VEN\", \"nome_area\": \"Veneto\", \"fascia_anagrafica\": \"12-19\", \"totale_popolazione\": 381274, \"tot_reg\": 4383995, \"share\": 0.08696953349627452}, {\"area\": \"VEN\", \"nome_area\": \"Veneto\", \"fascia_anagrafica\": \"20-29\", \"totale_popolazione\": 479355, \"tot_reg\": 4383995, \"share\": 0.10934204988828683}, {\"area\": \"VEN\", \"nome_area\": \"Veneto\", \"fascia_anagrafica\": \"30-39\", \"totale_popolazione\": 525221, \"tot_reg\": 4383995, \"share\": 0.11980419685697634}, {\"area\": \"VEN\", \"nome_area\": \"Veneto\", \"fascia_anagrafica\": \"40-49\", \"totale_popolazione\": 717331, \"tot_reg\": 4383995, \"share\": 0.1636249585138669}, {\"area\": \"VEN\", \"nome_area\": \"Veneto\", \"fascia_anagrafica\": \"50-59\", \"totale_popolazione\": 806474, \"tot_reg\": 4383995, \"share\": 0.18395869520836589}, {\"area\": \"VEN\", \"nome_area\": \"Veneto\", \"fascia_anagrafica\": \"60-69\", \"totale_popolazione\": 610635, \"tot_reg\": 4383995, \"share\": 0.13928733951567007}, {\"area\": \"VEN\", \"nome_area\": \"Veneto\", \"fascia_anagrafica\": \"70-79\", \"totale_popolazione\": 494721, \"tot_reg\": 4383995, \"share\": 0.11284707213397825}, {\"area\": \"VEN\", \"nome_area\": \"Veneto\", \"fascia_anagrafica\": \"80+\", \"totale_popolazione\": 368984, \"tot_reg\": 4383995, \"share\": 0.08416615438658119}]}}, {\"mode\": \"vega-lite\"});\n",
       "</script>"
      ],
      "text/plain": [
       "alt.Chart(...)"
      ]
     },
     "execution_count": 8,
     "metadata": {},
     "output_type": "execute_result"
    }
   ],
   "source": [
    "(\n",
    "    alt.Chart(demography_region_df)\n",
    "    .mark_bar()\n",
    "    .encode(\n",
    "        x=alt.X('share:Q', axis=alt.Axis(format='.0%'), scale=alt.Scale(domain=[0, 1]), title='Percentuale popolazione'),\n",
    "        y=alt.Y('nome_area:N', title='Regione'),\n",
    "        color=alt.Color('fascia_anagrafica:N', title='Fascia d\\'etá')\n",
    "    )\n",
    ")"
   ]
  }
 ],
 "metadata": {
  "hide_input": false,
  "kernelspec": {
   "display_name": "Python 3",
   "language": "python",
   "name": "python3"
  },
  "language_info": {
   "codemirror_mode": {
    "name": "ipython",
    "version": 3
   },
   "file_extension": ".py",
   "mimetype": "text/x-python",
   "name": "python",
   "nbconvert_exporter": "python",
   "pygments_lexer": "ipython3",
   "version": "3.7.4"
  },
  "toc": {
   "base_numbering": 1,
   "nav_menu": {},
   "number_sections": true,
   "sideBar": true,
   "skip_h1_title": false,
   "title_cell": "Table of Contents",
   "title_sidebar": "Contents",
   "toc_cell": false,
   "toc_position": {},
   "toc_section_display": true,
   "toc_window_display": false
  }
 },
 "nbformat": 4,
 "nbformat_minor": 2
}
